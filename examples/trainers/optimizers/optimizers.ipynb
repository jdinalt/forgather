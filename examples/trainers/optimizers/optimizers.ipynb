{
 "cells": [
  {
   "cell_type": "markdown",
   "id": "2e422f35-7a08-4a50-a075-51a68b5c3994",
   "metadata": {},
   "source": [
    "# Project Index"
   ]
  },
  {
   "cell_type": "code",
   "execution_count": 4,
   "id": "ab05402d-95b8-4a0a-9e0c-8f3130692fec",
   "metadata": {},
   "outputs": [
    {
     "data": {
      "text/markdown": [
       "## Optimizers\n",
       "\n",
       "Test harness for optimizer implementations.\n",
       "\n",
       "#### Project Directory: \"/home/dinalt/ai_assets/forgather/examples/trainers/optimizers\"\n",
       "\n",
       "## Meta Config\n",
       "Meta Config: [/home/dinalt/ai_assets/forgather/examples/trainers/optimizers/meta.yaml](meta.yaml)\n",
       "\n",
       "- [meta.yaml](meta.yaml)\n",
       "    - [meta_defaults.yaml](../../../forgather_workspace/meta_defaults.yaml)\n",
       "        - [base_directories.yaml](../../../forgather_workspace/base_directories.yaml)\n",
       "\n",
       "Template Search Paths:\n",
       "- [/home/dinalt/ai_assets/forgather/examples/trainers/optimizers/templates](templates)\n",
       "- [/home/dinalt/ai_assets/forgather/forgather_workspace](../../../forgather_workspace)\n",
       "- [/home/dinalt/ai_assets/forgather/templates/tiny_experiments](../../../templates/tiny_experiments)\n",
       "- [/home/dinalt/ai_assets/forgather/templates/modellib](../../../templates/modellib)\n",
       "- [/home/dinalt/ai_assets/forgather/templates/base](../../../templates/base)\n",
       "\n",
       "## Available Configurations\n",
       "- [hfadafactor.yaml](templates/experiments/hfadafactor.yaml)\n",
       "- [my_sgd.yaml](templates/experiments/my_sgd.yaml)\n",
       "- [my_adam.yaml](templates/experiments/my_adam.yaml)\n",
       "- [adafactor.yaml](templates/experiments/adafactor.yaml)\n",
       "- [multiopt.yaml](templates/experiments/multiopt.yaml)\n",
       "- [adamw.yaml](templates/experiments/adamw.yaml)\n",
       "- [my_adafactor.yaml](templates/experiments/my_adafactor.yaml)\n",
       "- [apollo_official.yaml](templates/experiments/apollo_official.yaml)\n",
       "- [sgd.yaml](templates/experiments/sgd.yaml)\n",
       "- [my_adafactor_decay.yaml](templates/experiments/my_adafactor_decay.yaml)\n",
       "- [my_apollo.yaml](templates/experiments/my_apollo.yaml)\n",
       "\n",
       "Default Configuration: adamw.yaml\n",
       "\n"
      ],
      "text/plain": [
       "<IPython.core.display.Markdown object>"
      ]
     },
     "metadata": {},
     "output_type": "display_data"
    }
   ],
   "source": [
    "import forgather.nb.notebooks as nb\n",
    "nb.display_project_index()"
   ]
  },
  {
   "cell_type": "code",
   "execution_count": null,
   "id": "04206e67-3fd1-417d-8709-c54b1e66fa0f",
   "metadata": {},
   "outputs": [],
   "source": [
    "nb.display_config(config_template=\"\", show_pp_config=False, show_generated_code=False)"
   ]
  },
  {
   "cell_type": "code",
   "execution_count": null,
   "id": "0cd1b052-8595-4c46-b88a-5e8eae9b0113",
   "metadata": {},
   "outputs": [],
   "source": [
    "import forgather.nb.notebooks as nb\n",
    "from forgather import Project\n",
    "\n",
    "# Pass config name\n",
    "proj = Project(\"\")"
   ]
  },
  {
   "cell_type": "code",
   "execution_count": null,
   "id": "e613b680-4204-465f-9a32-fe3efa51a659",
   "metadata": {},
   "outputs": [],
   "source": [
    "# Use default config and default output target (training script, in this example).\n",
    "training_script = proj()\n",
    "training_script.run()"
   ]
  },
  {
   "cell_type": "code",
   "execution_count": null,
   "id": "fc303e7b-0b66-4895-b652-83bf1f3a4584",
   "metadata": {},
   "outputs": [],
   "source": [
    "# Show command to run tensorboard; local_host should be false if tensorboard should run on all network interfaces.\n",
    "nb.display_tb_command(proj, local_host=False)"
   ]
  },
  {
   "cell_type": "code",
   "execution_count": null,
   "id": "c476a1ec-4c81-4c9a-9ed4-2554a61b9c49",
   "metadata": {},
   "outputs": [],
   "source": [
    "nb.generate_trainingscript(proj, \"0\")"
   ]
  }
 ],
 "metadata": {
  "kernelspec": {
   "display_name": "Python 3 (ipykernel)",
   "language": "python",
   "name": "python3"
  },
  "language_info": {
   "codemirror_mode": {
    "name": "ipython",
    "version": 3
   },
   "file_extension": ".py",
   "mimetype": "text/x-python",
   "name": "python",
   "nbconvert_exporter": "python",
   "pygments_lexer": "ipython3",
   "version": "3.10.13"
  }
 },
 "nbformat": 4,
 "nbformat_minor": 5
}
