{
 "cells": [
  {
   "cell_type": "markdown",
   "id": "2e422f35-7a08-4a50-a075-51a68b5c3994",
   "metadata": {},
   "source": [
    "# Project Index\n",
    "\n",
    "[Custom Model Notebook](../../../notebooks/custom_model.ipynb)  \n",
    "[Training Notebook](../../../notebooks/train.ipynb)  \n",
    "[Project Config Notebook](../../../notebooks/project_config.ipynb)  \n",
    "[Forgather Notebook](../../../notebooks/forgather.ipynb)  "
   ]
  },
  {
   "cell_type": "code",
   "execution_count": null,
   "id": "26bffdcc-00ac-4adc-b3fd-974df44d09fd",
   "metadata": {},
   "outputs": [],
   "source": [
    "import forgather.nb.notebooks as nb\n",
    "\n",
    "nb.display_project_index(\n",
    "    config_template=\"\",\n",
    "    show_available_templates=True,\n",
    "    show_pp_config=True,\n",
    "    show_loaded_config=False,\n",
    "    show_generated_code=False,\n",
    "    materialize=False,\n",
    "    pp_first=True,\n",
    ")"
   ]
  },
  {
   "cell_type": "markdown",
   "id": "546c0dab-e03d-4ba9-a3cb-86a0319a6f08",
   "metadata": {},
   "source": [
    "## Constuct Project"
   ]
  },
  {
   "cell_type": "code",
   "execution_count": null,
   "id": "adf6c458-ec39-4c4b-a978-f54ed6a544d0",
   "metadata": {},
   "outputs": [],
   "source": [
    "import forgather.nb.notebooks as nb\n",
    "from forgather import Project\n",
    "from pprint import pp\n",
    "\n",
    "# Pass config name\n",
    "proj = Project(\"\")"
   ]
  },
  {
   "cell_type": "code",
   "execution_count": null,
   "id": "ef885be2-63ab-46dc-9c05-45fa1a82bf0c",
   "metadata": {},
   "outputs": [],
   "source": [
    "from forgather.ml.utils import count_parameters\n",
    "\n",
    "# Note: Any combination of the \"output targets\" may be constructed.\n",
    "model = proj(\"model\")\n",
    "\n",
    "print(count_parameters(model))\n",
    "print(model)"
   ]
  },
  {
   "cell_type": "markdown",
   "id": "507440e9-ef48-464e-807d-d57314d28205",
   "metadata": {},
   "source": [
    "## Test Model\n",
    "This simply performs a forward and backward pass on the model with a small sample of random input-ids. While hardly exhaustive, this can quickly expose bugs without having to run a real training session."
   ]
  },
  {
   "cell_type": "code",
   "execution_count": null,
   "id": "113582c9-e27a-46ea-93b8-2a127c7387f1",
   "metadata": {},
   "outputs": [],
   "source": [
    "from forgather.ml.model_test import kick_test\n",
    "model = proj(\"model\")\n",
    "\n",
    "kick_test(model, batch_size=2, seq_len=7, pad_probability=0.9, device=\"cpu\", dtype=None)"
   ]
  },
  {
   "cell_type": "markdown",
   "id": "ea68e2a0-4aa7-479a-bec8-09d2e5399e04",
   "metadata": {},
   "source": [
    "## Train Model in Notebook\n",
    "This only works for a single GPU."
   ]
  },
  {
   "cell_type": "code",
   "execution_count": null,
   "id": "c3f419ac-aec8-4edb-93ef-2850487ec34b",
   "metadata": {},
   "outputs": [],
   "source": [
    "# Use default config and default output target (training script, in this example).\n",
    "proj = Project(\"\")\n",
    "training_script = proj()\n",
    "training_script.run()"
   ]
  },
  {
   "cell_type": "markdown",
   "id": "58df0d78-9884-4c26-9aa2-55feb6c8d2ec",
   "metadata": {},
   "source": [
    "## Train Model with Notebook Launcher"
   ]
  },
  {
   "cell_type": "code",
   "execution_count": null,
   "id": "33fe9a7f-18a7-4bd2-9423-e89bc7f2e671",
   "metadata": {},
   "outputs": [],
   "source": [
    "from accelerate import notebook_launcher\n",
    "from forgather.ml.training_script import training_loop\n",
    "\n",
    "notebook_launcher(\n",
    "    training_loop,\n",
    "    args=(proj.project_dir, proj.config_name),\n",
    "    num_processes=1\n",
    ")"
   ]
  },
  {
   "cell_type": "markdown",
   "id": "9e30fa78-b4e4-44f2-a12d-ce0138fd8c48",
   "metadata": {},
   "source": [
    "## Start Tensorboard"
   ]
  },
  {
   "cell_type": "code",
   "execution_count": null,
   "id": "4bc0f013-5494-49c6-b6d4-432ea0555af7",
   "metadata": {},
   "outputs": [],
   "source": [
    "# Show command to run tensorboard; local_host should be false if tensorboard should run on all network interfaces.\n",
    "nb.display_tb_command(proj, local_host=False)"
   ]
  },
  {
   "cell_type": "markdown",
   "id": "232926b8-13ba-4742-846a-08d07fbe0935",
   "metadata": {},
   "source": [
    "## Generate Trainingscript\n",
    "The preferred way of running training is via the command-line. This generates a simple bash script to train the model."
   ]
  },
  {
   "cell_type": "code",
   "execution_count": null,
   "id": "59f0188b-8ade-43e7-ba5d-11785e5b528a",
   "metadata": {},
   "outputs": [],
   "source": [
    "# The second arg specifies which GPUs may be used. For example, \"0,2\" only allows the first and third GPU.\n",
    "# Note that multi-GPU training requires a trainer implementation which supports this. e.g. \"accel_trainer\"\n",
    "nb.generate_trainingscript(proj, \"0,2\")"
   ]
  },
  {
   "cell_type": "code",
   "execution_count": null,
   "id": "1721a415-7577-498f-9440-445b919d3354",
   "metadata": {},
   "outputs": [],
   "source": [
    "import transformers"
   ]
  },
  {
   "cell_type": "code",
   "execution_count": null,
   "id": "e2af6500-955e-4eec-97f0-62a8b1f2e540",
   "metadata": {},
   "outputs": [],
   "source": [
    "transformers.Adafactor"
   ]
  }
 ],
 "metadata": {
  "kernelspec": {
   "display_name": "Python 3 (ipykernel)",
   "language": "python",
   "name": "python3"
  },
  "language_info": {
   "codemirror_mode": {
    "name": "ipython",
    "version": 3
   },
   "file_extension": ".py",
   "mimetype": "text/x-python",
   "name": "python",
   "nbconvert_exporter": "python",
   "pygments_lexer": "ipython3",
   "version": "3.10.13"
  }
 },
 "nbformat": 4,
 "nbformat_minor": 5
}
