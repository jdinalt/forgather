{
 "cells": [
  {
   "cell_type": "markdown",
   "id": "2e422f35-7a08-4a50-a075-51a68b5c3994",
   "metadata": {},
   "source": [
    "# Project Index\n",
    "\n",
    "Debug config files in: [Project Config Notebook](../../../../notebooks/project_config.ipynb)  \n",
    "Load and test listed models in: [Custom Model Notebook](../../../../notebooks/custom_model.ipynb)  "
   ]
  },
  {
   "cell_type": "code",
   "execution_count": 1,
   "id": "93076a8c-f8ae-47ce-85a7-f66f62225d92",
   "metadata": {},
   "outputs": [
    {
     "data": {
      "text/markdown": [
       "## Model Test Harness\n",
       "\n",
       "A front-end for assembling and debugging models.\n",
       "\n",
       "#### Project Directory: \"/home/dinalt/ai_assets/forgather/examples/trainers/dynamic_models/model_test\"\n",
       "\n",
       "## Meta Config\n",
       "Meta Config: [/home/dinalt/ai_assets/forgather/examples/trainers/dynamic_models/model_test/meta.yaml](meta.yaml)\n",
       "\n",
       "- [meta.yaml](meta.yaml)\n",
       "\n",
       "Template Search Paths:\n",
       "- [/home/dinalt/ai_assets/forgather/examples/trainers/dynamic_models/model_test/templates](templates)\n",
       "- [/home/dinalt/ai_assets/forgather/examples/trainers/dynamic_models/templates](../templates)\n",
       "- [/home/dinalt/ai_assets/forgather/templates/tiny_experiments](../../../../templates/tiny_experiments)\n",
       "- [/home/dinalt/ai_assets/forgather/templates/modellib](../../../../templates/modellib)\n",
       "- [/home/dinalt/ai_assets/forgather/templates/base](../../../../templates/base)\n",
       "\n",
       "## Available Models\n",
       "- [pre_ln.yaml](../templates/models/pre_ln.yaml) /home/dinalt/ai_assets/forgather/examples/trainers/dynamic_models/templates/models/pre_ln.yaml\n",
       "- [walsh_pe.yaml](../templates/models/walsh_pe.yaml) /home/dinalt/ai_assets/forgather/examples/trainers/dynamic_models/templates/models/walsh_pe.yaml\n",
       "- [relu-glu.yaml](../templates/models/relu-glu.yaml) /home/dinalt/ai_assets/forgather/examples/trainers/dynamic_models/templates/models/relu-glu.yaml\n",
       "- [swish.yaml](../templates/models/swish.yaml) /home/dinalt/ai_assets/forgather/examples/trainers/dynamic_models/templates/models/swish.yaml\n",
       "- [swi-glu.yaml](../templates/models/swi-glu.yaml) /home/dinalt/ai_assets/forgather/examples/trainers/dynamic_models/templates/models/swi-glu.yaml\n",
       "- [control.yaml](../templates/models/control.yaml) /home/dinalt/ai_assets/forgather/examples/trainers/dynamic_models/templates/models/control.yaml\n",
       "- [tiny/tiny_causal.yaml](../../../../templates/tiny_experiments/models/tiny/tiny_causal.yaml) /home/dinalt/ai_assets/forgather/templates/tiny_experiments/models/tiny/tiny_causal.yaml\n",
       "- [tiny/tiny_gpt2.yaml](../../../../templates/tiny_experiments/models/tiny/tiny_gpt2.yaml) /home/dinalt/ai_assets/forgather/templates/tiny_experiments/models/tiny/tiny_gpt2.yaml\n",
       "- [tiny/tiny_llama.yaml](../../../../templates/tiny_experiments/models/tiny/tiny_llama.yaml) /home/dinalt/ai_assets/forgather/templates/tiny_experiments/models/tiny/tiny_llama.yaml\n",
       "- [tiny/tiny_d128_l2.yaml](../../../../templates/tiny_experiments/models/tiny/tiny_d128_l2.yaml) /home/dinalt/ai_assets/forgather/templates/tiny_experiments/models/tiny/tiny_d128_l2.yaml\n",
       "- [dynamic_causal_transformer.yaml](../../../../templates/modellib/models/dynamic_causal_transformer.yaml) /home/dinalt/ai_assets/forgather/templates/modellib/models/dynamic_causal_transformer.yaml\n",
       "- [causal_transformer.yaml](../../../../templates/modellib/models/causal_transformer.yaml) /home/dinalt/ai_assets/forgather/templates/modellib/models/causal_transformer.yaml\n",
       "- [gpt2.yaml](../../../../templates/modellib/models/gpt2.yaml) /home/dinalt/ai_assets/forgather/templates/modellib/models/gpt2.yaml\n",
       "- [llama.yaml](../../../../templates/modellib/models/llama.yaml) /home/dinalt/ai_assets/forgather/templates/modellib/models/llama.yaml\n",
       "\n"
      ],
      "text/plain": [
       "<IPython.core.display.Markdown object>"
      ]
     },
     "metadata": {},
     "output_type": "display_data"
    }
   ],
   "source": [
    "import forgather.ml.notebooks as nb\n",
    "nb.display_model_project_index()"
   ]
  },
  {
   "cell_type": "markdown",
   "id": "cc6a0e52-326d-4cef-8c03-65c88867f835",
   "metadata": {},
   "source": [
    "## Load a Model Config"
   ]
  },
  {
   "cell_type": "code",
   "execution_count": null,
   "id": "08c3053d-3752-486d-878e-ae81a0fd2009",
   "metadata": {},
   "outputs": [],
   "source": [
    "import forgather.ml.notebooks as nb\n",
    "nb.display_project_index(materialize=True, pp_first=True, test_model=\"models/walsh_pe.yaml\")"
   ]
  },
  {
   "cell_type": "code",
   "execution_count": null,
   "id": "6a3137d2-07a5-4430-9029-93a10ade68a8",
   "metadata": {},
   "outputs": [],
   "source": []
  }
 ],
 "metadata": {
  "kernelspec": {
   "display_name": "Python 3 (ipykernel)",
   "language": "python",
   "name": "python3"
  },
  "language_info": {
   "codemirror_mode": {
    "name": "ipython",
    "version": 3
   },
   "file_extension": ".py",
   "mimetype": "text/x-python",
   "name": "python",
   "nbconvert_exporter": "python",
   "pygments_lexer": "ipython3",
   "version": "3.10.13"
  }
 },
 "nbformat": 4,
 "nbformat_minor": 5
}
