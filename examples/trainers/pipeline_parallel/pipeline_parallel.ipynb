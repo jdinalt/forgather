{
 "cells": [
  {
   "cell_type": "markdown",
   "id": "2e422f35-7a08-4a50-a075-51a68b5c3994",
   "metadata": {},
   "source": [
    "# Project Index\n",
    "\n",
    "[Custom Model Notebook](../../../notebooks/custom_model.ipynb)  \n",
    "[Training Notebook](../../../notebooks/train.ipynb)  \n",
    "[Project Config Notebook](../../../notebooks/project_config.ipynb)  \n",
    "[Forgather Notebook](../../../notebooks/forgather.ipynb)  "
   ]
  },
  {
   "cell_type": "code",
   "execution_count": null,
   "id": "26bffdcc-00ac-4adc-b3fd-974df44d09fd",
   "metadata": {},
   "outputs": [],
   "source": [
    "import forgather.nb.notebooks as nb\n",
    "\n",
    "nb.display_project_index(config_template=\"1f1b_4gpu.yaml\", show_pp_config=True, show_generated_code=False)"
   ]
  },
  {
   "cell_type": "code",
   "execution_count": 31,
   "id": "0cd1b052-8595-4c46-b88a-5e8eae9b0113",
   "metadata": {},
   "outputs": [],
   "source": [
    "from forgather.project import Project\n",
    "import forgather.nb.notebooks as nb\n",
    "\n",
    "# Load default baseline config\n",
    "proj = Project(\"control.yaml\")"
   ]
  },
  {
   "cell_type": "code",
   "execution_count": null,
   "id": "0165e7bd-df76-43f1-a62d-7889a28685d0",
   "metadata": {},
   "outputs": [],
   "source": [
    "# Match to the correct number of gpus for the config\n",
    "# TODO: Automate this from meta-data.\n",
    "nb.generate_trainingscript(proj, \"0,1,2,3\")"
   ]
  },
  {
   "cell_type": "code",
   "execution_count": null,
   "id": "0e1ce13d-3db8-4329-a34c-5690f423befb",
   "metadata": {},
   "outputs": [],
   "source": [
    "nb.display_tb_command(proj, local_host=False)"
   ]
  }
 ],
 "metadata": {
  "kernelspec": {
   "display_name": "Python 3 (ipykernel)",
   "language": "python",
   "name": "python3"
  },
  "language_info": {
   "codemirror_mode": {
    "name": "ipython",
    "version": 3
   },
   "file_extension": ".py",
   "mimetype": "text/x-python",
   "name": "python",
   "nbconvert_exporter": "python",
   "pygments_lexer": "ipython3",
   "version": "3.10.13"
  }
 },
 "nbformat": 4,
 "nbformat_minor": 5
}
