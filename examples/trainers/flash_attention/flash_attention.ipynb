{
 "cells": [
  {
   "cell_type": "code",
   "execution_count": null,
   "id": "44ab1856-49cf-4bc0-8825-169c9f5f1b5a",
   "metadata": {},
   "outputs": [],
   "source": [
    "https://github.com/pytorch/ao/tree/main/torchao/optim\n",
    "https://pytorch.org/blog/pytorch-native-architecture-optimization/\n",
    "\n",
    "https://arxiv.org/pdf/2502.10940"
   ]
  },
  {
   "cell_type": "markdown",
   "id": "2e422f35-7a08-4a50-a075-51a68b5c3994",
   "metadata": {},
   "source": [
    "# Project Index\n",
    "\n",
    "[Custom Model Notebook](../../../notebooks/custom_model.ipynb)  \n",
    "[Training Notebook](../../../notebooks/train.ipynb)  \n",
    "[Project Config Notebook](../../../notebooks/project_config.ipynb)  \n",
    "[Forgather Notebook](../../../notebooks/forgather.ipynb)  "
   ]
  },
  {
   "cell_type": "code",
   "execution_count": null,
   "id": "26bffdcc-00ac-4adc-b3fd-974df44d09fd",
   "metadata": {},
   "outputs": [],
   "source": [
    "import forgather.nb.notebooks as nb\n",
    "\n",
    "nb.display_project_index(config_template=\"flash2.yaml\", show_pp_config=True, show_generated_code=False)"
   ]
  },
  {
   "cell_type": "code",
   "execution_count": null,
   "id": "0cd1b052-8595-4c46-b88a-5e8eae9b0113",
   "metadata": {},
   "outputs": [],
   "source": [
    "from forgather.ml.trainer import Trainer\n",
    "from forgather.ml.trainer_types import TrainingArguments\n",
    "from forgather.ml.training_script import TrainingScript\n",
    "from pprint import pp\n",
    "import torch\n",
    "from forgather.project import Project\n",
    "import forgather.nb.notebooks as nb\n",
    "\n",
    "# Load default baseline config\n",
    "proj = Project(\"torch_flash.yaml\")"
   ]
  },
  {
   "cell_type": "code",
   "execution_count": null,
   "id": "6113cc97-fb24-41db-9326-ed7e80405b81",
   "metadata": {},
   "outputs": [],
   "source": [
    "for name, param in outputs[\"model\"].named_parameters():\n",
    "    print(name, param.dtype)"
   ]
  },
  {
   "cell_type": "code",
   "execution_count": null,
   "id": "ad2c71de-0017-4758-830e-d3a008b5febe",
   "metadata": {},
   "outputs": [],
   "source": [
    "torch.manual_seed(42)\n",
    "outputs = proj([\n",
    "    \"meta\",\n",
    "    \"distributed_env\",\n",
    "    \"train_dataset\",\n",
    "    \"eval_dataset\",\n",
    "    \"trainer_args\",\n",
    "    \"model\",\n",
    "    \"data_collator\",\n",
    "    \"trainer_callbacks\",\n",
    "    \"tokenizer\",\n",
    "    \"optimizer\",\n",
    "    \"trainer\",\n",
    "    \"main\",\n",
    "])\n",
    "\n",
    "training_args = outputs[\"trainer_args\"] | dict(\n",
    "    #num_train_epochs = 1,\n",
    "    #learning_rate = 1.0e-3,\n",
    "    #lr_scheduler_type=None,\n",
    ")\n",
    "\n",
    "training_args = TrainingArguments(**training_args)\n",
    "pp(training_args)\n",
    "model = outputs[\"model\"]\n",
    "print(model)"
   ]
  },
  {
   "cell_type": "code",
   "execution_count": null,
   "id": "133c8429-4273-464b-89fd-2c87d2b01fec",
   "metadata": {},
   "outputs": [],
   "source": [
    "model.causal_lm.input_encoder.embedding.weight.dtype"
   ]
  },
  {
   "cell_type": "code",
   "execution_count": null,
   "id": "d28073e4-6819-4e23-a8eb-ec1aa81598db",
   "metadata": {},
   "outputs": [],
   "source": [
    "outputs[\"main\"].run()"
   ]
  },
  {
   "cell_type": "code",
   "execution_count": null,
   "id": "0165e7bd-df76-43f1-a62d-7889a28685d0",
   "metadata": {},
   "outputs": [],
   "source": [
    "nb.generate_trainingscript(proj, \"0\")"
   ]
  },
  {
   "cell_type": "code",
   "execution_count": null,
   "id": "0e1ce13d-3db8-4329-a34c-5690f423befb",
   "metadata": {},
   "outputs": [],
   "source": [
    "nb.display_tb_command(proj, local_host=False)"
   ]
  },
  {
   "cell_type": "code",
   "execution_count": null,
   "id": "bea93abb-107d-4bcf-8fdb-bb145f7e0e89",
   "metadata": {},
   "outputs": [],
   "source": [
    "from forgather.ml.model_test import kick_test\n",
    "\n",
    "# Note: Any combination of the \"output targets\" may be constructed.\n",
    "model = proj(\"model\")\n",
    "\n",
    "kick_test(model, batch_size=2, seq_len=7, pad_probability=0.9, device=\"cuda:0\", dtype=None)"
   ]
  }
 ],
 "metadata": {
  "kernelspec": {
   "display_name": "Python 3 (ipykernel)",
   "language": "python",
   "name": "python3"
  },
  "language_info": {
   "codemirror_mode": {
    "name": "ipython",
    "version": 3
   },
   "file_extension": ".py",
   "mimetype": "text/x-python",
   "name": "python",
   "nbconvert_exporter": "python",
   "pygments_lexer": "ipython3",
   "version": "3.10.13"
  }
 },
 "nbformat": 4,
 "nbformat_minor": 5
}
