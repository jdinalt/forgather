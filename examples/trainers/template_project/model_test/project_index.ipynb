{
 "cells": [
  {
   "cell_type": "markdown",
   "id": "2e422f35-7a08-4a50-a075-51a68b5c3994",
   "metadata": {},
   "source": [
    "# Project Index\n",
    "\n",
    "Debug config files in: [Project Config Notebook](../../../../notebooks/project_config.ipynb)  \n",
    "Load and test listed models in: [Custom Model Notebook](../../../../notebooks/custom_model.ipynb)  "
   ]
  },
  {
   "cell_type": "code",
   "execution_count": null,
   "id": "93076a8c-f8ae-47ce-85a7-f66f62225d92",
   "metadata": {},
   "outputs": [],
   "source": [
    "import forgather.ml.notebooks as nb\n",
    "nb.display_model_project_index()"
   ]
  },
  {
   "cell_type": "markdown",
   "id": "cc6a0e52-326d-4cef-8c03-65c88867f835",
   "metadata": {},
   "source": [
    "## Load a Model Config"
   ]
  },
  {
   "cell_type": "code",
   "execution_count": null,
   "id": "08c3053d-3752-486d-878e-ae81a0fd2009",
   "metadata": {},
   "outputs": [],
   "source": [
    "import forgather.ml.notebooks as nb\n",
    "nb.display_project_index(materialize=True, pp_first=True, test_model=\"models/dynamic_causal_transformer.yaml\")"
   ]
  },
  {
   "cell_type": "code",
   "execution_count": null,
   "id": "6a3137d2-07a5-4430-9029-93a10ade68a8",
   "metadata": {},
   "outputs": [],
   "source": []
  }
 ],
 "metadata": {
  "kernelspec": {
   "display_name": "Python 3 (ipykernel)",
   "language": "python",
   "name": "python3"
  },
  "language_info": {
   "codemirror_mode": {
    "name": "ipython",
    "version": 3
   },
   "file_extension": ".py",
   "mimetype": "text/x-python",
   "name": "python",
   "nbconvert_exporter": "python",
   "pygments_lexer": "ipython3",
   "version": "3.10.13"
  }
 },
 "nbformat": 4,
 "nbformat_minor": 5
}
