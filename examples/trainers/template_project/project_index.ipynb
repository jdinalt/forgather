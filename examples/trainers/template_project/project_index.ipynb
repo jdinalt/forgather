{
 "cells": [
  {
   "cell_type": "markdown",
   "id": "2e422f35-7a08-4a50-a075-51a68b5c3994",
   "metadata": {},
   "source": [
    "# Project Index\n",
    "\n",
    "[Custom Model Notebook](../../../notebooks/custom_model.ipynb)  \n",
    "[Training Notebook](../../../notebooks/train.ipynb)  \n",
    "[Project Config Notebook](../../../notebooks/project_config.ipynb)  \n",
    "[Forgather Notebook](../../../notebooks/forgather.ipynb)  "
   ]
  },
  {
   "cell_type": "code",
   "execution_count": 1,
   "id": "26bffdcc-00ac-4adc-b3fd-974df44d09fd",
   "metadata": {},
   "outputs": [
    {
     "data": {
      "text/markdown": [
       "## Train Custom Model\n",
       "\n",
       "This example project demonstrates how to train a custom model.\n",
       "\n",
       "#### Project Directory: \"/home/dinalt/ai_assets/forgather/examples/trainers/template_project\"\n",
       "\n",
       "## Meta Config\n",
       "Meta Config: [/home/dinalt/ai_assets/forgather/examples/trainers/template_project/meta.yaml](meta.yaml)\n",
       "\n",
       "- [meta.yaml](meta.yaml)\n",
       "    - [meta_defaults.yaml](../../../forgather_workspace/meta_defaults.yaml)\n",
       "        - [base_directories.yaml](../../../forgather_workspace/base_directories.yaml)\n",
       "\n",
       "Template Search Paths:\n",
       "- [/home/dinalt/ai_assets/forgather/examples/trainers/template_project/templates](templates)\n",
       "- [/home/dinalt/ai_assets/forgather/forgather_workspace](../../../forgather_workspace)\n",
       "- [/home/dinalt/ai_assets/forgather/templates/tiny_experiments](../../../templates/tiny_experiments)\n",
       "- [/home/dinalt/ai_assets/forgather/templates/modellib](../../../templates/modellib)\n",
       "- [/home/dinalt/ai_assets/forgather/templates/base](../../../templates/base)\n",
       "\n",
       "## Available Configurations\n",
       "- [custom_model.yaml](templates/configs/custom_model.yaml)\n",
       "\n",
       "Default Configuration: custom_model.yaml\n",
       "\n",
       "Active Configuration: custom_model.yaml\n",
       "\n",
       "## Included Templates\n",
       "- [configs/custom_model.yaml](templates/configs/custom_model.yaml)\n",
       "    - [project.yaml](templates/project.yaml)\n",
       "        - [datasets/tiny/tiny_stories_abridged.yaml](../../../templates/tiny_experiments/datasets/tiny/tiny_stories_abridged.yaml)\n",
       "            - [datasets/tiny/tiny_stories.yaml](../../../templates/tiny_experiments/datasets/tiny/tiny_stories.yaml)\n",
       "                - [datasets/abstract/base_datasets.yaml](../../../templates/base/datasets/abstract/base_datasets.yaml)\n",
       "                    - [inc/formatting.jinja](../../../templates/base/inc/formatting.jinja)\n",
       "        - [types/training_script/causal_lm/causal_lm.yaml](../../../templates/base/types/training_script/causal_lm/causal_lm.yaml)\n",
       "            - [trainers/trainer.yaml](../../../templates/base/trainers/trainer.yaml)\n",
       "                - [trainers/base_trainer.yaml](../../../templates/base/trainers/base_trainer.yaml)\n",
       "            - [callbacks/loggers.yaml](../../../templates/base/callbacks/loggers.yaml)\n",
       "                - [callbacks/base_callbacks.yaml](../../../templates/base/callbacks/base_callbacks.yaml)\n",
       "            - [models/abstract/load_model.yaml](../../../templates/base/models/abstract/load_model.yaml)\n",
       "                - [models/abstract/causal_lm_from_pretrained.yaml](../../../templates/base/models/abstract/causal_lm_from_pretrained.yaml)\n",
       "                    - [models/abstract/base_language_model.yaml](../../../templates/base/models/abstract/base_language_model.yaml)\n",
       "            - [types/training_script/training_script.yaml](../../../templates/base/types/training_script/training_script.yaml)\n",
       "                - [types/type.yaml](../../../templates/base/types/type.yaml)\n",
       "                    - [base_directories.yaml](../../../forgather_workspace/base_directories.yaml)\n",
       "        - [project.callbacks](templates/project.yaml)\n",
       "        - [project.model_config](templates/project.yaml)\n",
       "            - [models/causal_transformer.yaml](../../../templates/modellib/models/causal_transformer.yaml)\n",
       "                - [tokenizers/tiny_8k.yaml](../../../templates/tiny_experiments/tokenizers/tiny_8k.yaml)\n",
       "                - [models/abstract/custom_causal_lm.yaml](../../../templates/base/models/abstract/custom_causal_lm.yaml)\n",
       "        - [project.trainer_config](templates/project.yaml)\n",
       "            - [trainers/accel_trainer.yaml](../../../templates/base/trainers/accel_trainer.yaml)\n",
       "    - [experiment.model_config](templates/configs/custom_model.yaml)\n",
       "    - [experiment.trainer_config](templates/configs/custom_model.yaml)\n",
       "### Config Metadata:\n",
       "\n",
       "```python\n",
       "{'config_class': 'type.training_script.causal_lm',\n",
       " 'config_description': \"It's not supid, it's advanced!\",\n",
       " 'config_name': 'My ML Science Project',\n",
       " 'create_new_model': 'True',\n",
       " 'datasets_dir': '/home/dinalt/ai_assets/forgather/datasets',\n",
       " 'eval': 'False',\n",
       " 'forgather_dir': '/home/dinalt/ai_assets/forgather',\n",
       " 'logging_dir': './output_models/my_custom_model/runs/my_custom_model_2024-08-15T07-08-58',\n",
       " 'model_src_dir': '/home/dinalt/ai_assets/forgather/model_src',\n",
       " 'models_dir': './output_models',\n",
       " 'output_dir': './output_models/my_custom_model',\n",
       " 'project_dir': '.',\n",
       " 'save_model': 'True',\n",
       " 'tokenizers_dir': '/home/dinalt/ai_assets/forgather/tokenizers',\n",
       " 'train': 'True',\n",
       " 'workspace_root': '/home/dinalt/ai_assets/forgather'}\n",
       "\n",
       "```\n",
       "\n",
       "## Modules\n",
       "- [/home/dinalt/ai_assets/forgather/model_src/causal_transformer.py](../../../model_src/causal_transformer.py) : CausalTransformer\n",
       "    - [/home/dinalt/ai_assets/forgather/model_src/causal_transformer.py](../../../model_src/causal_transformer.py) : causal_transformer\n",
       "- [/home/dinalt/ai_assets/forgather/model_src/causal_transformer.py](../../../model_src/causal_transformer.py) : CausalTransformerConfig\n",
       "## Output Targets\n",
       "- meta\n",
       "- main\n",
       "- model_code_writer\n",
       "- distributed_env\n",
       "- tokenizer\n",
       "- model\n",
       "- trainer\n",
       "- train_dataset\n",
       "- eval_dataset\n",
       "- data_collator\n",
       "- trainer_callbacks\n",
       "- model_constructor_args\n",
       "\n"
      ],
      "text/plain": [
       "<IPython.core.display.Markdown object>"
      ]
     },
     "metadata": {},
     "output_type": "display_data"
    }
   ],
   "source": [
    "import forgather.nb.notebooks as nb\n",
    "\n",
    "nb.display_project_index(config_template=\"\", show_pp_config=False, show_generated_code=False)"
   ]
  },
  {
   "cell_type": "code",
   "execution_count": null,
   "id": "01f0a06f-f425-41ef-878b-017a2d2c2718",
   "metadata": {},
   "outputs": [],
   "source": [
    "from forgather.project import Project\n",
    "\n",
    "proj = Project()\n",
    "\n",
    "training_script = proj()\n",
    "training_script.run()"
   ]
  }
 ],
 "metadata": {
  "kernelspec": {
   "display_name": "Python 3 (ipykernel)",
   "language": "python",
   "name": "python3"
  },
  "language_info": {
   "codemirror_mode": {
    "name": "ipython",
    "version": 3
   },
   "file_extension": ".py",
   "mimetype": "text/x-python",
   "name": "python",
   "nbconvert_exporter": "python",
   "pygments_lexer": "ipython3",
   "version": "3.10.13"
  }
 },
 "nbformat": 4,
 "nbformat_minor": 5
}
