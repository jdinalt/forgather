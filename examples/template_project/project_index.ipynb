{
 "cells": [
  {
   "cell_type": "markdown",
   "id": "2e422f35-7a08-4a50-a075-51a68b5c3994",
   "metadata": {},
   "source": [
    "# Project Index"
   ]
  },
  {
   "cell_type": "code",
   "execution_count": null,
   "id": "26bffdcc-00ac-4adc-b3fd-974df44d09fd",
   "metadata": {},
   "outputs": [],
   "source": [
    "import forgather.nb.notebooks as nb\n",
    "nb.display_project_index(show_available_templates=False)"
   ]
  },
  {
   "cell_type": "markdown",
   "id": "2eb052b0-8aa4-4a83-8f8d-7929fa50a782",
   "metadata": {},
   "source": [
    "## Show Configuration"
   ]
  },
  {
   "cell_type": "code",
   "execution_count": null,
   "id": "9acffb19-6a6b-4c6c-9d85-aff003577be9",
   "metadata": {},
   "outputs": [],
   "source": [
    "nb.display_config(config_template=\"\", show_pp_config=True, show_generated_code=False)"
   ]
  },
  {
   "cell_type": "markdown",
   "id": "546c0dab-e03d-4ba9-a3cb-86a0319a6f08",
   "metadata": {},
   "source": [
    "## Constuct Project"
   ]
  },
  {
   "cell_type": "code",
   "execution_count": null,
   "id": "adf6c458-ec39-4c4b-a978-f54ed6a544d0",
   "metadata": {},
   "outputs": [],
   "source": [
    "import forgather.nb.notebooks as nb\n",
    "from forgather import Project\n",
    "\n",
    "# Pass config name\n",
    "proj = Project(\"\")"
   ]
  },
  {
   "cell_type": "markdown",
   "id": "ea68e2a0-4aa7-479a-bec8-09d2e5399e04",
   "metadata": {},
   "source": [
    "## Train Model in Notebook\n",
    "This only works for a single GPU."
   ]
  },
  {
   "cell_type": "code",
   "execution_count": null,
   "id": "c3f419ac-aec8-4edb-93ef-2850487ec34b",
   "metadata": {},
   "outputs": [],
   "source": [
    "# Use default config and default output target (training script, in this example).\n",
    "training_script = proj()\n",
    "training_script.run()"
   ]
  },
  {
   "cell_type": "markdown",
   "id": "58df0d78-9884-4c26-9aa2-55feb6c8d2ec",
   "metadata": {},
   "source": [
    "## Train Model with Notebook Launcher"
   ]
  },
  {
   "cell_type": "code",
   "execution_count": null,
   "id": "33fe9a7f-18a7-4bd2-9423-e89bc7f2e671",
   "metadata": {},
   "outputs": [],
   "source": [
    "from accelerate import notebook_launcher\n",
    "from forgather.ml.training_script import training_loop\n",
    "\n",
    "notebook_launcher(\n",
    "    training_loop,\n",
    "    args=(proj.project_dir, proj.config_name),\n",
    "    num_processes=1\n",
    ")"
   ]
  },
  {
   "cell_type": "markdown",
   "id": "d24b98d0-d41e-42f6-8f13-387b4958c044",
   "metadata": {},
   "source": [
    "## CLI Quick Reference\n",
    "\n",
    "```bash\n",
    "cd PROJECT_DIRECTORY\n",
    "\n",
    "# Show project summary\n",
    "forgather index\n",
    "\n",
    "# Preprocess default configuration\n",
    "forgather pp | less\n",
    "\n",
    "# Start Tensorboard\n",
    "forgather tb [-- --bind_all]\n",
    "\n",
    "# Train with default config\n",
    "forgather train\n",
    "```"
   ]
  },
  {
   "cell_type": "markdown",
   "id": "620341ea-5bc6-44bb-8dff-bdc6ff57aa4d",
   "metadata": {},
   "source": [
    "## Materialize Project Assets\n",
    "\n",
    "Example of materializing individual configuration assets and using them in the notebook."
   ]
  },
  {
   "cell_type": "code",
   "execution_count": null,
   "id": "489da3e7-a028-476f-861e-916bbd76a75a",
   "metadata": {},
   "outputs": [],
   "source": [
    "from torch.utils.data import DataLoader\n",
    "tokenizer, model_factory, train_dataset, data_collator, optimizer_factory, lr_scheduler_factory = proj(\"tokenizer\", \"model\", \"train_dataset\", \"data_collator\", \"optimizer\", \"lr_scheduler\")\n",
    "\n",
    "model = model_factory()\n",
    "optimizer = optimizer_factory(model.named_parameters())\n",
    "lr_scheduler = lr_scheduler_factory(optimizer)\n",
    "\n",
    "for batch in DataLoader(train_dataset, collate_fn=data_collator):\n",
    "    loss, logits = model(**batch)\n",
    "    loss.backward()\n",
    "    optimizer.step()\n",
    "    lr_scheduler.step()\n",
    "    optimizer.zero_grad()\n",
    "    print(loss.item())\n",
    "    break"
   ]
  },
  {
   "cell_type": "code",
   "execution_count": null,
   "id": "dafa82eb-3881-45b4-b6de-3cd7b9d59fc2",
   "metadata": {},
   "outputs": [],
   "source": []
  }
 ],
 "metadata": {
  "kernelspec": {
   "display_name": "Python 3 (ipykernel)",
   "language": "python",
   "name": "python3"
  },
  "language_info": {
   "codemirror_mode": {
    "name": "ipython",
    "version": 3
   },
   "file_extension": ".py",
   "mimetype": "text/x-python",
   "name": "python",
   "nbconvert_exporter": "python",
   "pygments_lexer": "ipython3",
   "version": "3.10.13"
  }
 },
 "nbformat": 4,
 "nbformat_minor": 5
}
