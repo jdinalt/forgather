{
 "cells": [
  {
   "cell_type": "markdown",
   "id": "2e422f35-7a08-4a50-a075-51a68b5c3994",
   "metadata": {},
   "source": [
    "# Project Index"
   ]
  },
  {
   "cell_type": "code",
   "execution_count": 4,
   "id": "26bffdcc-00ac-4adc-b3fd-974df44d09fd",
   "metadata": {},
   "outputs": [
    {
     "data": {
      "text/markdown": [
       "## Finetune Pretrained Model\n",
       "\n",
       "A work-in-progress to create templates for model finetuning.\n",
       "\n",
       "#### Project Directory: \"/home/dinalt/ai_assets/forgather/examples/trainers/finetune\"\n",
       "\n",
       "## Meta Config\n",
       "Meta Config: [/home/dinalt/ai_assets/forgather/examples/trainers/finetune/meta.yaml](meta.yaml)\n",
       "\n",
       "- [meta.yaml](meta.yaml)\n",
       "    - [meta_defaults.yaml](../../../forgather_workspace/meta_defaults.yaml)\n",
       "        - [base_directories.yaml](../../../forgather_workspace/base_directories.yaml)\n",
       "\n",
       "Template Search Paths:\n",
       "- [/home/dinalt/ai_assets/forgather/examples/trainers/finetune/templates](templates)\n",
       "- [/home/dinalt/ai_assets/forgather/forgather_workspace](../../../forgather_workspace)\n",
       "- [/home/dinalt/ai_assets/forgather/templates/tiny_experiments](../../../templates/tiny_experiments)\n",
       "- [/home/dinalt/ai_assets/forgather/templates/modellib](../../../templates/modellib)\n",
       "- [/home/dinalt/ai_assets/forgather/templates/base](../../../templates/base)\n",
       "\n",
       "## Available Configurations\n",
       "- [adafactor.yaml](templates/configs/adafactor.yaml)\n",
       "- [default.yaml](templates/configs/default.yaml)\n",
       "\n",
       "Default Configuration: default.yaml\n",
       "\n"
      ],
      "text/plain": [
       "<IPython.core.display.Markdown object>"
      ]
     },
     "metadata": {},
     "output_type": "display_data"
    }
   ],
   "source": [
    "import forgather.nb.notebooks as nb\n",
    "nb.display_project_index(show_available_templates=False)"
   ]
  },
  {
   "cell_type": "code",
   "execution_count": null,
   "id": "a676940b-fba1-4d32-96c2-69f46f219390",
   "metadata": {},
   "outputs": [],
   "source": [
    "nb.display_config(config_template=\"\", show_pp_config=True, show_generated_code=False)"
   ]
  },
  {
   "cell_type": "markdown",
   "id": "546c0dab-e03d-4ba9-a3cb-86a0319a6f08",
   "metadata": {},
   "source": [
    "## Constuct Project"
   ]
  },
  {
   "cell_type": "code",
   "execution_count": null,
   "id": "adf6c458-ec39-4c4b-a978-f54ed6a544d0",
   "metadata": {},
   "outputs": [],
   "source": [
    "import forgather.nb.notebooks as nb\n",
    "from forgather import Project\n",
    "from pprint import pp\n",
    "from forgather.ml.utils import count_parameters\n",
    "\n",
    "# Pass config name\n",
    "proj = Project(\"adafactor.yaml\")"
   ]
  },
  {
   "cell_type": "markdown",
   "id": "780a0e1c-d69f-4485-b360-3ffaf57a8607",
   "metadata": {},
   "source": [
    "## Construct Model Instance\n",
    "And get model info."
   ]
  },
  {
   "cell_type": "code",
   "execution_count": null,
   "id": "419cc0fd-6003-4348-92c6-e9cf88dbe026",
   "metadata": {},
   "outputs": [],
   "source": [
    "# Get model constructor\n",
    "model_f = proj(\"model\")\n",
    "\n",
    "# Construct model instance and show info.\n",
    "model = model_f()\n",
    "print(count_parameters(model))\n",
    "print(model)"
   ]
  },
  {
   "cell_type": "markdown",
   "id": "ea68e2a0-4aa7-479a-bec8-09d2e5399e04",
   "metadata": {},
   "source": [
    "## Train Model in Notebook\n",
    "This only works for a single GPU."
   ]
  },
  {
   "cell_type": "code",
   "execution_count": null,
   "id": "c3f419ac-aec8-4edb-93ef-2850487ec34b",
   "metadata": {},
   "outputs": [],
   "source": [
    "training_script = proj(\"main\")\n",
    "training_script.run()"
   ]
  },
  {
   "cell_type": "markdown",
   "id": "58df0d78-9884-4c26-9aa2-55feb6c8d2ec",
   "metadata": {},
   "source": [
    "## Train Model with Notebook Launcher"
   ]
  },
  {
   "cell_type": "code",
   "execution_count": null,
   "id": "33fe9a7f-18a7-4bd2-9423-e89bc7f2e671",
   "metadata": {},
   "outputs": [],
   "source": [
    "from accelerate import notebook_launcher\n",
    "from forgather.ml.training_script import training_loop\n",
    "\n",
    "notebook_launcher(\n",
    "    training_loop,\n",
    "    args=(proj.project_dir, proj.config_name),\n",
    "    num_processes=1\n",
    ")"
   ]
  },
  {
   "cell_type": "markdown",
   "id": "9e30fa78-b4e4-44f2-a12d-ce0138fd8c48",
   "metadata": {},
   "source": [
    "## Start Tensorboard"
   ]
  },
  {
   "cell_type": "code",
   "execution_count": null,
   "id": "4bc0f013-5494-49c6-b6d4-432ea0555af7",
   "metadata": {},
   "outputs": [],
   "source": [
    "# Show command to run tensorboard; local_host should be false if tensorboard should run on all network interfaces.\n",
    "nb.display_tb_command(proj, local_host=False)"
   ]
  },
  {
   "cell_type": "markdown",
   "id": "232926b8-13ba-4742-846a-08d07fbe0935",
   "metadata": {},
   "source": [
    "## Generate Trainingscript\n",
    "The preferred way of running training is via the command-line. This generates a simple bash script to train the model."
   ]
  },
  {
   "cell_type": "code",
   "execution_count": null,
   "id": "59f0188b-8ade-43e7-ba5d-11785e5b528a",
   "metadata": {},
   "outputs": [],
   "source": [
    "# The second arg specifies which GPUs may be used. For example, \"0,2\" only allows the first and third GPU.\n",
    "# Note that multi-GPU training requires a trainer implementation which supports this. e.g. \"accel_trainer\"\n",
    "nb.generate_trainingscript(proj, \"0\")"
   ]
  },
  {
   "cell_type": "code",
   "execution_count": null,
   "id": "dc7f906f-0dcb-4eaf-9e2b-cace92ce16e9",
   "metadata": {},
   "outputs": [],
   "source": []
  }
 ],
 "metadata": {
  "kernelspec": {
   "display_name": "Python 3 (ipykernel)",
   "language": "python",
   "name": "python3"
  },
  "language_info": {
   "codemirror_mode": {
    "name": "ipython",
    "version": 3
   },
   "file_extension": ".py",
   "mimetype": "text/x-python",
   "name": "python",
   "nbconvert_exporter": "python",
   "pygments_lexer": "ipython3",
   "version": "3.10.13"
  }
 },
 "nbformat": 4,
 "nbformat_minor": 5
}
