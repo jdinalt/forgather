{
 "cells": [
  {
   "cell_type": "markdown",
   "id": "2e422f35-7a08-4a50-a075-51a68b5c3994",
   "metadata": {},
   "source": [
    "# Project Index"
   ]
  },
  {
   "cell_type": "code",
   "execution_count": 2,
   "id": "26bffdcc-00ac-4adc-b3fd-974df44d09fd",
   "metadata": {},
   "outputs": [
    {
     "data": {
      "text/markdown": [
       "## Tiny Stories BPE Tokenizer\n",
       "\n",
       "An example BPE tokenizer trained on the Tiny Stories dataset.\n",
       "\n",
       "### 2k:\n",
       "- vocabulary_size: 2000\n",
       "- model_max_length: 2048\n",
       "\n",
       "### 8k\n",
       "- vocabulary_size: 8000\n",
       "- model_max_length: 2048\n",
       "\n",
       "#### Project Directory: \"/home/dinalt/ai_assets/forgather/examples/tokenizers/tiny_stories_bpe\"\n",
       "\n",
       "## Meta Config\n",
       "Meta Config: [/home/dinalt/ai_assets/forgather/examples/tokenizers/tiny_stories_bpe/meta.yaml](meta.yaml)\n",
       "\n",
       "- [meta.yaml](meta.yaml)\n",
       "    - [meta_defaults.yaml](../../../forgather_workspace/meta_defaults.yaml)\n",
       "        - [base_directories.yaml](../../../forgather_workspace/base_directories.yaml)\n",
       "\n",
       "Template Search Paths:\n",
       "- [/home/dinalt/ai_assets/forgather/examples/tokenizers/tiny_stories_bpe/templates](templates)\n",
       "- [/home/dinalt/ai_assets/forgather/forgather_workspace](../../../forgather_workspace)\n",
       "- [/home/dinalt/ai_assets/forgather/templatelib/modellib](../../../templatelib/modellib)\n",
       "- [/home/dinalt/ai_assets/forgather/templatelib/base](../../../templatelib/base)\n",
       "\n",
       "## Available Configurations\n",
       "- [256.yaml](templates/configs/256.yaml)\n",
       "- [2k.yaml](templates/configs/2k.yaml)\n",
       "- [8k.yaml](templates/configs/8k.yaml)\n",
       "\n",
       "Default Configuration: 2k.yaml\n",
       "\n"
      ],
      "text/plain": [
       "<IPython.core.display.Markdown object>"
      ]
     },
     "metadata": {},
     "output_type": "display_data"
    }
   ],
   "source": [
    "import forgather.nb.notebooks as nb\n",
    "nb.display_project_index()"
   ]
  },
  {
   "cell_type": "code",
   "execution_count": 3,
   "id": "01f0a06f-f425-41ef-878b-017a2d2c2718",
   "metadata": {},
   "outputs": [
    {
     "data": {
      "text/markdown": [
       "## Included Templates\n",
       "- [configs/2k.yaml](templates/configs/2k.yaml)\n",
       "    - [project.yaml](templates/project.yaml)\n",
       "        - [types/tokenizer/bpe/bpe.yaml](../../../templatelib/base/types/tokenizer/bpe/bpe.yaml)\n",
       "            - [types/tokenizer/tokenizer.yaml](../../../templatelib/base/types/tokenizer/tokenizer.yaml)\n",
       "                - [types/type.yaml](../../../templatelib/base/types/type.yaml)\n",
       "                    - [base_directories.yaml](../../../forgather_workspace/base_directories.yaml)\n",
       "                - [inc/formatting.jinja](../../../templatelib/base/inc/formatting.jinja)\n",
       "### Config Metadata:\n",
       "\n",
       "```python\n",
       "{'config_class': 'type.tokenizer.bpe',\n",
       " 'config_description': 'BPE tokenizer trained on Tiny Stories dataset w/ 2K '\n",
       "                       'tokens',\n",
       " 'config_name': 'Tiny Stories 2K',\n",
       " 'datasets_dir': '/home/dinalt/ai_assets/forgather/datasets',\n",
       " 'forgather_dir': '/home/dinalt/ai_assets/forgather',\n",
       " 'model_max_length': '2048',\n",
       " 'models_dir': './output_models',\n",
       " 'output_dir': '/home/dinalt/ai_assets/forgather/tokenizers/tiny_stories_2k',\n",
       " 'project_dir': '.',\n",
       " 'tokenizer_name': 'tiny_stories_2k',\n",
       " 'tokenizers_dir': '/home/dinalt/ai_assets/forgather/tokenizers',\n",
       " 'vocab_size': '2000',\n",
       " 'workspace_root': '/home/dinalt/ai_assets/forgather'}\n",
       "\n",
       "```\n",
       "\n",
       "## Modules\n",
       "## Output Targets\n",
       "- special_tokens_map\n",
       "- tokenizer_args\n",
       "- tokenizer_dataset\n",
       "- tokenizer_trainer\n",
       "- meta\n",
       "- main\n",
       "\n"
      ],
      "text/plain": [
       "<IPython.core.display.Markdown object>"
      ]
     },
     "metadata": {},
     "output_type": "display_data"
    }
   ],
   "source": [
    "nb.display_config()"
   ]
  },
  {
   "cell_type": "code",
   "execution_count": 4,
   "id": "2c3a181f-342e-48ef-bfa6-9a7d0973d7f6",
   "metadata": {},
   "outputs": [],
   "source": [
    "from forgather import Project\n",
    "\n",
    "# Get the tokenizer -- or build it, if it does not exist.\n",
    "proj = Project()\n",
    "tokenizer = proj()"
   ]
  },
  {
   "cell_type": "code",
   "execution_count": null,
   "id": "3b658e74-1116-48e5-a2c0-467da31bfbc0",
   "metadata": {},
   "outputs": [],
   "source": []
  }
 ],
 "metadata": {
  "kernelspec": {
   "display_name": "Python 3 (ipykernel)",
   "language": "python",
   "name": "python3"
  },
  "language_info": {
   "codemirror_mode": {
    "name": "ipython",
    "version": 3
   },
   "file_extension": ".py",
   "mimetype": "text/x-python",
   "name": "python",
   "nbconvert_exporter": "python",
   "pygments_lexer": "ipython3",
   "version": "3.10.13"
  }
 },
 "nbformat": 4,
 "nbformat_minor": 5
}
