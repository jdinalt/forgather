{
 "cells": [
  {
   "cell_type": "markdown",
   "id": "2e422f35-7a08-4a50-a075-51a68b5c3994",
   "metadata": {},
   "source": [
    "# Project Index"
   ]
  },
  {
   "cell_type": "code",
   "execution_count": 4,
   "id": "26bffdcc-00ac-4adc-b3fd-974df44d09fd",
   "metadata": {},
   "outputs": [
    {
     "data": {
      "text/markdown": [
       "## Tiny Stories BPE Tokenizer\n",
       "\n",
       "An example BPE tokenizer trained on the Tiny Stories dataset.\n",
       "\n",
       "### 2k:\n",
       "- vocabulary_size: 2000\n",
       "- model_max_length: 2048\n",
       "\n",
       "### 8k\n",
       "- vocabulary_size: 8000\n",
       "- model_max_length: 2048"
      ],
      "text/plain": [
       "<IPython.core.display.Markdown object>"
      ]
     },
     "metadata": {},
     "output_type": "display_data"
    },
    {
     "data": {
      "text/markdown": [
       "### Meta Config\n",
       "Project Directory: /home/dinalt/ai_assets/forgather/examples/tokenizers/tiny_stories_bpe\n",
       "\n",
       "Meta Config: [/home/dinalt/ai_assets/forgather/examples/tokenizers/tiny_stories_bpe/meta.yaml](meta.yaml)\n",
       "\n",
       "Template Search Paths:\n",
       "- [/home/dinalt/ai_assets/forgather/examples/tokenizers/tiny_stories_bpe/templates](templates)\n",
       "- [/home/dinalt/ai_assets/forgather/templates](../../../templates)\n"
      ],
      "text/plain": [
       "<IPython.core.display.Markdown object>"
      ]
     },
     "metadata": {},
     "output_type": "display_data"
    },
    {
     "data": {
      "text/markdown": [
       "### Available Configurations\n",
       "- [256.yaml](templates/configs/256.yaml)\n",
       "- [2k.yaml](templates/configs/2k.yaml)\n",
       "- [8k.yaml](templates/configs/8k.yaml)\n"
      ],
      "text/plain": [
       "<IPython.core.display.Markdown object>"
      ]
     },
     "metadata": {},
     "output_type": "display_data"
    },
    {
     "data": {
      "text/markdown": [
       "Default Configuration: 2k.yaml\n",
       "\n"
      ],
      "text/plain": [
       "<IPython.core.display.Markdown object>"
      ]
     },
     "metadata": {},
     "output_type": "display_data"
    },
    {
     "data": {
      "text/markdown": [
       "### Available Templates\n",
       "- [project.yaml](templates/project.yaml)\n",
       "- [configs/256.yaml](templates/configs/256.yaml)\n",
       "- [configs/2k.yaml](templates/configs/2k.yaml)\n",
       "- [configs/8k.yaml](templates/configs/8k.yaml)\n",
       "- [trainers/accel_trainer.yaml](../../../templates/trainers/accel_trainer.yaml)\n",
       "- [trainers/trainer.yaml](../../../templates/trainers/trainer.yaml)\n",
       "- [trainers/hf_trainer.yaml](../../../templates/trainers/hf_trainer.yaml)\n",
       "- [trainers/base_trainer.yaml](../../../templates/trainers/base_trainer.yaml)\n",
       "- [model_ctor/args.yaml](../../../templates/model_ctor/args.yaml)\n",
       "- [projects/tiny.yaml](../../../templates/projects/tiny.yaml)\n",
       "- [datasets/abstract/pretokenized_dataset.yaml](../../../templates/datasets/abstract/pretokenized_dataset.yaml)\n",
       "- [datasets/abstract/base_datasets.yaml](../../../templates/datasets/abstract/base_datasets.yaml)\n",
       "- [datasets/tiny/tiny_stories.yaml](../../../templates/datasets/tiny/tiny_stories.yaml)\n",
       "- [datasets/tiny/tiny_stories_abridged.yaml](../../../templates/datasets/tiny/tiny_stories_abridged.yaml)\n",
       "- [models/dynamic_lm.yaml](../../../templates/models/dynamic_lm.yaml)\n",
       "- [models/causal_transformer.yaml](../../../templates/models/causal_transformer.yaml)\n",
       "- [models/gpt2.yaml](../../../templates/models/gpt2.yaml)\n",
       "- [models/llama.yaml](../../../templates/models/llama.yaml)\n",
       "- [models/abstract/causal_lm_from_config.yaml](../../../templates/models/abstract/causal_lm_from_config.yaml)\n",
       "- [models/abstract/base_language_model.yaml](../../../templates/models/abstract/base_language_model.yaml)\n",
       "- [models/abstract/custom_causal_lm.yaml](../../../templates/models/abstract/custom_causal_lm.yaml)\n",
       "- [models/abstract/causal_lm_from_pretrained.yaml](../../../templates/models/abstract/causal_lm_from_pretrained.yaml)\n",
       "- [models/abstract/load_model.yaml](../../../templates/models/abstract/load_model.yaml)\n",
       "- [models/tiny/tiny_causal.yaml](../../../templates/models/tiny/tiny_causal.yaml)\n",
       "- [models/tiny/tiny_gpt2.yaml](../../../templates/models/tiny/tiny_gpt2.yaml)\n",
       "- [models/tiny/tiny_llama.yaml](../../../templates/models/tiny/tiny_llama.yaml)\n",
       "- [models/tiny/tiny_d128_l2.yaml](../../../templates/models/tiny/tiny_d128_l2.yaml)\n",
       "- [prompts/tiny_stories.yaml](../../../templates/prompts/tiny_stories.yaml)\n",
       "- [callbacks/base_callbacks.yaml](../../../templates/callbacks/base_callbacks.yaml)\n",
       "- [callbacks/loggers.yaml](../../../templates/callbacks/loggers.yaml)\n",
       "- [types/meta_template.yaml](../../../templates/types/meta_template.yaml)\n",
       "- [types/type.yaml](../../../templates/types/type.yaml)\n",
       "- [types/tokenizer/tokenizer.yaml](../../../templates/types/tokenizer/tokenizer.yaml)\n",
       "- [types/tokenizer/bpe/bpe.yaml](../../../templates/types/tokenizer/bpe/bpe.yaml)\n",
       "- [types/model/model_type.yaml](../../../templates/types/model/model_type.yaml)\n",
       "- [types/training_script/training_script.yaml](../../../templates/types/training_script/training_script.yaml)\n",
       "- [types/training_script/causal_lm/causal_lm.yaml](../../../templates/types/training_script/causal_lm/causal_lm.yaml)\n",
       "- [paths/example_paths.yaml](../../../templates/paths/example_paths.yaml)\n",
       "- [tokenizers/tiny_2k.yaml](../../../templates/tokenizers/tiny_2k.yaml)\n",
       "- [tokenizers/tiny_8k.yaml](../../../templates/tokenizers/tiny_8k.yaml)\n"
      ],
      "text/plain": [
       "<IPython.core.display.Markdown object>"
      ]
     },
     "metadata": {},
     "output_type": "display_data"
    },
    {
     "data": {
      "text/markdown": [
       "### Included Templates\n",
       "- [configs/8k.yaml](templates/configs/8k.yaml)\n",
       "    - [project.yaml](templates/project.yaml)\n",
       "        - [types/tokenizer/bpe/bpe.yaml](../../../templates/types/tokenizer/bpe/bpe.yaml)\n",
       "            - [types/tokenizer/tokenizer.yaml](../../../templates/types/tokenizer/tokenizer.yaml)\n",
       "                - [types/type.yaml](../../../templates/types/type.yaml)\n",
       "                    - [inc/formatting.jinja](../../../templates/inc/formatting.jinja)\n",
       "                - [inc/formatting.jinja](../../../templates/inc/formatting.jinja)\n",
       "        - [paths/example_paths.yaml](../../../templates/paths/example_paths.yaml)\n"
      ],
      "text/plain": [
       "<IPython.core.display.Markdown object>"
      ]
     },
     "metadata": {},
     "output_type": "display_data"
    },
    {
     "data": {
      "text/markdown": [
       "### Modules\n"
      ],
      "text/plain": [
       "<IPython.core.display.Markdown object>"
      ]
     },
     "metadata": {},
     "output_type": "display_data"
    },
    {
     "data": {
      "text/markdown": [
       "#### Preprocessed Config\n",
       "```yaml\n",
       "#---------------------------------------\n",
       "#             Tiny Stories 8K            \n",
       "#---------------------------------------\n",
       "# 2024-08-06T18:04:10\n",
       "# Description: BPE tokenizer trained on Tiny Stories dataset w/ 8K tokens\n",
       "# Project Dir: .\n",
       "# Current Working Dir: \"/home/dinalt/ai_assets/forgather/examples/tokenizers/tiny_stories_bpe\"\n",
       "# Forgather Config Dir: \"/home/dinalt/.config/forgather\"\n",
       "\n",
       "############# Config Vars ##############\n",
       "\n",
       "# ns.models_dir: \"output_models\"\n",
       "# ns.tokenizers_dir: \"../../../tokenizers\"\n",
       "# ns.datasets_dir: \"../../../datasets\"\n",
       "# tokenizer_name: 'tiny_stories_8k'\n",
       "# output_dir: '../../../tokenizers/tiny_stories_8k'\n",
       "# model_max_length: '2048'\n",
       "# vocab_size: '8000'\n",
       "# dataset_id: 'roneneldan/TinyStories'\n",
       "# dataset_split: 'train'\n",
       "\n",
       "########## Special Tokens Map ##########\n",
       "\n",
       ".define: &special_tokens_map !dict:@special_tokens_map\n",
       "    bos: \"<|BOS|>\" # Beginning of Sequence; the first token in a sequence\n",
       "    pad: \"<|PAD|>\" # Padding, used to pad out samples in a batch.\n",
       "    eos: \"<|EOS|>\" # End of Sequence; typically is used to stop generation.\n",
       "    unk: \"<|UNK|>\" # Unknown; used when a symbol can't be represented.\n",
       "\n",
       "#### Pretrained Tokenizer Fast Args ####\n",
       "\n",
       ".define: &tokenizer_args !dict:@tokenizer_args\n",
       "    bos_token: \"<|BOS|>\"\n",
       "    eos_token: \"<|EOS|>\"\n",
       "    unk_token: \"<|UNK|>\"\n",
       "    pad_token: \"<|PAD|>\"\n",
       "    return_special_tokens_mask: True\n",
       "    model_max_length: 2048\n",
       "    padding_side: \"right\"\n",
       "    truncation_side: \"right\"\n",
       "\n",
       "###### Tokenizer Training Dataset ######\n",
       "\n",
       ".define: &tokenizer_dataset !singleton:operator:getitem@tokenizer_dataset\n",
       "    - !singleton:datasets:load_dataset [ \"roneneldan/TinyStories\" ]\n",
       "    - \"train\"\n",
       "\n",
       "########## Tokenizer Trainer ###########\n",
       "\n",
       ".define: &tokenizer_trainer !lambda:forgather.ml.tokenizer:train_tokenizer@tokenizer_trainer\n",
       "    output_dir: \"../../../tokenizers/tiny_stories_8k\"\n",
       "    dataset: *tokenizer_dataset\n",
       "    args: *tokenizer_args\n",
       "\n",
       "    model: !singleton:tokenizers:models.BPE\n",
       "        cache_capacity: 16\n",
       "        unk_token: \"<|UNK|>\"\n",
       "        byte_fallback: True\n",
       "    normalizer: !singleton:tokenizers:normalizers.NFC []\n",
       "    pre_tokenizer: !singleton:tokenizers:pre_tokenizers.ByteLevel []\n",
       "    decoder: !singleton:tokenizers:decoders.ByteLevel []\n",
       "    # Automatically add bos token to sequence start\n",
       "    post_processor: !singleton:tokenizers:processors.TemplateProcessing\n",
       "        single: \"<bos> $A\"\n",
       "        special_tokens: [ !tuple [ \"<bos>\", 0 ] ]\n",
       "    trainer: !singleton:tokenizers.trainers:BpeTrainer\n",
       "        vocab_size: 8000\n",
       "        initial_alphabet: !singleton:tokenizers:pre_tokenizers.ByteLevel.alphabet []\n",
       "        special_tokens: !singleton:list [!singleton:values [*special_tokens_map]]\n",
       "        show_progress: False\n",
       "\n",
       "#---------------------------------------\n",
       "#          Configuration Output          \n",
       "#---------------------------------------\n",
       "meta: &meta_output !dict:@meta\n",
       "    config_name: \"Tiny Stories 8K\"\n",
       "    config_description: \"BPE tokenizer trained on Tiny Stories dataset w/ 8K tokens\"\n",
       "    project_dir: \".\"\n",
       "    models_dir: \"output_models\"\n",
       "    tokenizers_dir: \"../../../tokenizers\"\n",
       "    datasets_dir: \"../../../datasets\"\n",
       "    tokenizer_name: \"tiny_stories_8k\"\n",
       "    output_dir: \"../../../tokenizers/tiny_stories_8k\"\n",
       "    vocab_size: \"8000\"\n",
       "    model_max_length: \"2048\"\n",
       "\n",
       "main: !singleton:forgather.ml.construct:build_rule\n",
       "    target: \"../../../tokenizers/tiny_stories_8k/tokenizer.json\"\n",
       "    recipe: *tokenizer_trainer\n",
       "    loader: !lambda:transformers:AutoTokenizer.from_pretrained\n",
       "        - \"../../../tokenizers/tiny_stories_8k\"\n",
       "```\n"
      ],
      "text/plain": [
       "<IPython.core.display.Markdown object>"
      ]
     },
     "metadata": {},
     "output_type": "display_data"
    },
    {
     "data": {
      "text/markdown": [
       "### Loaded Configuration to YAML\n",
       "```yaml\n",
       ".define: &meta !singleton:named_dict@meta\n",
       "    config_name: 'Tiny Stories 8K'\n",
       "    config_description: 'BPE tokenizer trained on Tiny Stories dataset w/ 8K tokens'\n",
       "    project_dir: '.'\n",
       "    models_dir: 'output_models'\n",
       "    tokenizers_dir: '../../../tokenizers'\n",
       "    datasets_dir: '../../../datasets'\n",
       "    tokenizer_name: 'tiny_stories_8k'\n",
       "    output_dir: '../../../tokenizers/tiny_stories_8k'\n",
       "    vocab_size: '8000'\n",
       "    model_max_length: '2048'\n",
       "\n",
       ".define: &tokenizer_dataset !singleton:operator:getitem@tokenizer_dataset\n",
       "    - !singleton:datasets:load_dataset\n",
       "        - 'roneneldan/TinyStories'\n",
       "    - 'train'\n",
       "\n",
       ".define: &tokenizer_args !singleton:named_dict@tokenizer_args\n",
       "    bos_token: '<|BOS|>'\n",
       "    eos_token: '<|EOS|>'\n",
       "    unk_token: '<|UNK|>'\n",
       "    pad_token: '<|PAD|>'\n",
       "    return_special_tokens_mask: True\n",
       "    model_max_length: 2048\n",
       "    padding_side: 'right'\n",
       "    truncation_side: 'right'\n",
       "\n",
       ".define: &special_tokens_map !singleton:named_dict@special_tokens_map\n",
       "    bos: '<|BOS|>'\n",
       "    pad: '<|PAD|>'\n",
       "    eos: '<|EOS|>'\n",
       "    unk: '<|UNK|>'\n",
       "\n",
       ".define: &tokenizer_trainer !lambda:forgather.ml.tokenizer:train_tokenizer@tokenizer_trainer\n",
       "    output_dir: '../../../tokenizers/tiny_stories_8k'\n",
       "    dataset: *tokenizer_dataset\n",
       "    args: *tokenizer_args\n",
       "    model: !singleton:tokenizers:models.BPE\n",
       "        cache_capacity: 16\n",
       "        unk_token: '<|UNK|>'\n",
       "        byte_fallback: True\n",
       "    normalizer: !singleton:tokenizers:normalizers.NFC []\n",
       "    pre_tokenizer: !singleton:tokenizers:pre_tokenizers.ByteLevel []\n",
       "    decoder: !singleton:tokenizers:decoders.ByteLevel []\n",
       "    post_processor: !singleton:tokenizers:processors.TemplateProcessing\n",
       "        single: '<bos> $A'\n",
       "        special_tokens: \n",
       "            - !singleton:named_tuple!tuple\n",
       "                - '<bos>'\n",
       "                - 0\n",
       "    trainer: !singleton:tokenizers.trainers:BpeTrainer\n",
       "        vocab_size: 8000\n",
       "        initial_alphabet: !singleton:tokenizers:pre_tokenizers.ByteLevel.alphabet []\n",
       "        special_tokens: !singleton:list\n",
       "            - !singleton:values\n",
       "                - *special_tokens_map\n",
       "        show_progress: False\n",
       "\n",
       "\n",
       "meta: *meta\n",
       "main: !singleton:forgather.ml.construct:build_rule\n",
       "    target: '../../../tokenizers/tiny_stories_8k/tokenizer.json'\n",
       "    recipe: *tokenizer_trainer\n",
       "    loader: !lambda:transformers:AutoTokenizer.from_pretrained\n",
       "        - '../../../tokenizers/tiny_stories_8k'\n",
       "```"
      ],
      "text/plain": [
       "<IPython.core.display.Markdown object>"
      ]
     },
     "metadata": {},
     "output_type": "display_data"
    },
    {
     "data": {
      "text/markdown": [
       "### Generated Source Code\n",
       "```python\n",
       "from tokenizers import pre_tokenizers.ByteLevel\n",
       "from forgather.ml.construct import build_rule\n",
       "from tokenizers import normalizers.NFC\n",
       "from tokenizers import decoders.ByteLevel\n",
       "from tokenizers.trainers import BpeTrainer\n",
       "from tokenizers import pre_tokenizers.ByteLevel.alphabet\n",
       "from forgather.ml.tokenizer import train_tokenizer\n",
       "from tokenizers import models.BPE\n",
       "from tokenizers import processors.TemplateProcessing\n",
       "from transformers import AutoTokenizer.from_pretrained\n",
       "from datasets import load_dataset\n",
       "\n",
       "def construct(\n",
       "):\n",
       "    meta = {\n",
       "        'config_name': 'Tiny Stories 8K',\n",
       "        'config_description': 'BPE tokenizer trained on Tiny Stories dataset w/ 8K tokens',\n",
       "        'project_dir': '.',\n",
       "        'models_dir': 'output_models',\n",
       "        'tokenizers_dir': '../../../tokenizers',\n",
       "        'datasets_dir': '../../../datasets',\n",
       "        'tokenizer_name': 'tiny_stories_8k',\n",
       "        'output_dir': '../../../tokenizers/tiny_stories_8k',\n",
       "        'vocab_size': '8000',\n",
       "        'model_max_length': '2048',\n",
       "    }\n",
       "\n",
       "    tokenizer_dataset = load_dataset(\n",
       "            'roneneldan/TinyStories',\n",
       "        )['train']\n",
       "\n",
       "    tokenizer_args = {\n",
       "        'bos_token': '<|BOS|>',\n",
       "        'eos_token': '<|EOS|>',\n",
       "        'unk_token': '<|UNK|>',\n",
       "        'pad_token': '<|PAD|>',\n",
       "        'return_special_tokens_mask': True,\n",
       "        'model_max_length': 2048,\n",
       "        'padding_side': 'right',\n",
       "        'truncation_side': 'right',\n",
       "    }\n",
       "\n",
       "    special_tokens_map = {\n",
       "        'bos': '<|BOS|>',\n",
       "        'pad': '<|PAD|>',\n",
       "        'eos': '<|EOS|>',\n",
       "        'unk': '<|UNK|>',\n",
       "    }\n",
       "\n",
       "    tokenizer_trainer = lambda: train_tokenizer(\n",
       "        output_dir='../../../tokenizers/tiny_stories_8k',\n",
       "        dataset=tokenizer_dataset,\n",
       "        args=tokenizer_args,\n",
       "        model=models.BPE(\n",
       "            cache_capacity=16,\n",
       "            unk_token='<|UNK|>',\n",
       "            byte_fallback=True,\n",
       "        ),\n",
       "        normalizer=normalizers.NFC(),\n",
       "        pre_tokenizer=pre_tokenizers.ByteLevel(),\n",
       "        decoder=decoders.ByteLevel(),\n",
       "        post_processor=processors.TemplateProcessing(\n",
       "            single='<bos> $A',\n",
       "            special_tokens=[\n",
       "                (\n",
       "                    '<bos>',\n",
       "                    0,\n",
       "                ),\n",
       "            ],\n",
       "        ),\n",
       "        trainer=BpeTrainer(\n",
       "            vocab_size=8000,\n",
       "            initial_alphabet=pre_tokenizers.ByteLevel.alphabet(),\n",
       "            special_tokens=list(\n",
       "                special_tokens_map.values(),\n",
       "            ),\n",
       "            show_progress=False,\n",
       "        ),\n",
       "    )\n",
       "    \n",
       "    return {\n",
       "        'meta': meta,\n",
       "        'main': build_rule(\n",
       "            target='../../../tokenizers/tiny_stories_8k/tokenizer.json',\n",
       "            recipe=tokenizer_trainer,\n",
       "            loader=lambda: AutoTokenizer.from_pretrained(\n",
       "                '../../../tokenizers/tiny_stories_8k',\n",
       "            ),\n",
       "        ),\n",
       "    }\n",
       "```"
      ],
      "text/plain": [
       "<IPython.core.display.Markdown object>"
      ]
     },
     "metadata": {},
     "output_type": "display_data"
    },
    {
     "name": "stdout",
     "output_type": "stream",
     "text": [
      "{'meta': {'config_name': 'Tiny Stories 8K',\n",
      "          'config_description': 'BPE tokenizer trained on Tiny Stories dataset '\n",
      "                                'w/ 8K tokens',\n",
      "          'project_dir': '.',\n",
      "          'models_dir': 'output_models',\n",
      "          'tokenizers_dir': '../../../tokenizers',\n",
      "          'datasets_dir': '../../../datasets',\n",
      "          'tokenizer_name': 'tiny_stories_8k',\n",
      "          'output_dir': '../../../tokenizers/tiny_stories_8k',\n",
      "          'vocab_size': '8000',\n",
      "          'model_max_length': '2048'},\n",
      " 'main': PreTrainedTokenizerFast(name_or_path='../../../tokenizers/tiny_stories_8k', vocab_size=8000, model_max_length=2048, is_fast=True, padding_side='right', truncation_side='right', special_tokens={'bos_token': '<|BOS|>', 'eos_token': '<|EOS|>', 'unk_token': '<|UNK|>', 'pad_token': '<|PAD|>'}, clean_up_tokenization_spaces=True),  added_tokens_decoder={\n",
      "\t0: AddedToken(\"<|BOS|>\", rstrip=False, lstrip=False, single_word=False, normalized=False, special=True),\n",
      "\t1: AddedToken(\"<|PAD|>\", rstrip=False, lstrip=False, single_word=False, normalized=False, special=True),\n",
      "\t2: AddedToken(\"<|EOS|>\", rstrip=False, lstrip=False, single_word=False, normalized=False, special=True),\n",
      "\t3: AddedToken(\"<|UNK|>\", rstrip=False, lstrip=False, single_word=False, normalized=False, special=True),\n",
      "}}\n"
     ]
    }
   ],
   "source": [
    "import forgather.ml.notebooks as nb\n",
    "from pprint import pp\n",
    "\n",
    "output = nb.display_project_index(config_template=\"8k.yaml\", materialize=True, pp_first=False)\n",
    "pp(output)"
   ]
  },
  {
   "cell_type": "code",
   "execution_count": null,
   "id": "3860a98b-712f-4a0f-83ae-9d54b569ea13",
   "metadata": {},
   "outputs": [],
   "source": []
  }
 ],
 "metadata": {
  "kernelspec": {
   "display_name": "Python 3 (ipykernel)",
   "language": "python",
   "name": "python3"
  },
  "language_info": {
   "codemirror_mode": {
    "name": "ipython",
    "version": 3
   },
   "file_extension": ".py",
   "mimetype": "text/x-python",
   "name": "python",
   "nbconvert_exporter": "python",
   "pygments_lexer": "ipython3",
   "version": "3.10.13"
  }
 },
 "nbformat": 4,
 "nbformat_minor": 5
}
