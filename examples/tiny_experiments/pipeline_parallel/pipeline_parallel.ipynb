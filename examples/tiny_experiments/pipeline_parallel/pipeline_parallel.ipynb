{
 "cells": [
  {
   "cell_type": "markdown",
   "id": "2e422f35-7a08-4a50-a075-51a68b5c3994",
   "metadata": {},
   "source": [
    "# Project Index"
   ]
  },
  {
   "cell_type": "code",
   "execution_count": 1,
   "id": "26bffdcc-00ac-4adc-b3fd-974df44d09fd",
   "metadata": {},
   "outputs": [
    {
     "data": {
      "text/markdown": [
       "## Pipeline Paraallel Training\n",
       "\n",
       "This is presenlty a test harness for the Pipleline Parallel Trainer class.\n",
       "\n",
       "### References\n",
       "\n",
       "- https://discuss.pytorch.org/t/distributed-w-torchtitan-training-with-zero-bubble-pipeline-parallelism/214420  \n",
       "- https://docs.pytorch.org/docs/stable/distributed.pipelining.html  \n",
       "- https://arxiv.org/abs/2410.06511  \n",
       "- https://github.com/pytorch/PiPPy\n",
       "\n",
       "### Description\n",
       "\n",
       "The pipeline trainer makes use of the new PyTorch Pipeline Parallelism support added to torch, which was originally in [PiPPy](https://github.com/pytorch/PiPPy).\n",
       "\n",
       "\n",
       "#### Project Directory: \"/home/dinalt/ai_assets/forgather/examples/trainers/pipeline_parallel\"\n",
       "\n",
       "## Meta Config\n",
       "Meta Config: [/home/dinalt/ai_assets/forgather/examples/trainers/pipeline_parallel/meta.yaml](meta.yaml)\n",
       "\n",
       "- [meta.yaml](meta.yaml)\n",
       "    - [meta_defaults.yaml](../../../forgather_workspace/meta_defaults.yaml)\n",
       "        - [base_directories.yaml](../../../forgather_workspace/base_directories.yaml)\n",
       "\n",
       "Template Search Paths:\n",
       "- [/home/dinalt/ai_assets/forgather/examples/trainers/pipeline_parallel/templates](templates)\n",
       "- [/home/dinalt/ai_assets/forgather/forgather_workspace](../../../forgather_workspace)\n",
       "- [/home/dinalt/ai_assets/forgather/templates/tiny_experiments](../../../templates/tiny_experiments)\n",
       "- [/home/dinalt/ai_assets/forgather/templates/modellib](../../../templates/modellib)\n",
       "- [/home/dinalt/ai_assets/forgather/templates/base](../../../templates/base)\n",
       "\n",
       "## Available Configurations\n",
       "- [looped_bfs_4gpu.yaml](templates/experiments/looped_bfs_4gpu.yaml)\n",
       "- [gpipe_4gpu_activation_checkpoint.yaml](templates/experiments/gpipe_4gpu_activation_checkpoint.yaml)\n",
       "- [1f1b_4gpu.yaml](templates/experiments/1f1b_4gpu.yaml)\n",
       "- [zbvz_4gpu.yaml](templates/experiments/zbvz_4gpu.yaml)\n",
       "- [zero_bubble_4gpu.yaml](templates/experiments/zero_bubble_4gpu.yaml)\n",
       "- [interleaved_1f1b_4gpu.yaml](templates/experiments/interleaved_1f1b_4gpu.yaml)\n",
       "- [gpipe_4gpu.yaml](templates/experiments/gpipe_4gpu.yaml)\n",
       "- [gpipe_2gpu.yaml](templates/experiments/gpipe_2gpu.yaml)\n",
       "- [control.yaml](templates/experiments/control.yaml)\n",
       "\n",
       "Default Configuration: control.yaml\n",
       "\n"
      ],
      "text/plain": [
       "<IPython.core.display.Markdown object>"
      ]
     },
     "metadata": {},
     "output_type": "display_data"
    }
   ],
   "source": [
    "import forgather.nb.notebooks as nb\n",
    "nb.display_project_index()"
   ]
  },
  {
   "cell_type": "code",
   "execution_count": null,
   "id": "33c8a88b-d9a2-4038-8097-efb318bd6bdb",
   "metadata": {},
   "outputs": [],
   "source": [
    "nb.display_config(config_template=\"\", show_pp_config=False, show_generated_code=False)"
   ]
  },
  {
   "cell_type": "code",
   "execution_count": 31,
   "id": "0cd1b052-8595-4c46-b88a-5e8eae9b0113",
   "metadata": {},
   "outputs": [],
   "source": [
    "from forgather.project import Project\n",
    "import forgather.nb.notebooks as nb\n",
    "\n",
    "# Load default baseline config\n",
    "proj = Project(\"control.yaml\")"
   ]
  },
  {
   "cell_type": "code",
   "execution_count": null,
   "id": "0165e7bd-df76-43f1-a62d-7889a28685d0",
   "metadata": {},
   "outputs": [],
   "source": [
    "# Match to the correct number of gpus for the config\n",
    "# TODO: Automate this from meta-data.\n",
    "nb.generate_trainingscript(proj, \"0,1,2,3\")"
   ]
  },
  {
   "cell_type": "code",
   "execution_count": null,
   "id": "0e1ce13d-3db8-4329-a34c-5690f423befb",
   "metadata": {},
   "outputs": [],
   "source": [
    "nb.display_tb_command(proj, local_host=False)"
   ]
  }
 ],
 "metadata": {
  "kernelspec": {
   "display_name": "Python 3 (ipykernel)",
   "language": "python",
   "name": "python3"
  },
  "language_info": {
   "codemirror_mode": {
    "name": "ipython",
    "version": 3
   },
   "file_extension": ".py",
   "mimetype": "text/x-python",
   "name": "python",
   "nbconvert_exporter": "python",
   "pygments_lexer": "ipython3",
   "version": "3.10.13"
  }
 },
 "nbformat": 4,
 "nbformat_minor": 5
}
