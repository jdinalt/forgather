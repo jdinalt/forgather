{
 "cells": [
  {
   "cell_type": "markdown",
   "id": "2e422f35-7a08-4a50-a075-51a68b5c3994",
   "metadata": {},
   "source": [
    "# Project Index"
   ]
  },
  {
   "cell_type": "code",
   "execution_count": 1,
   "id": "26bffdcc-00ac-4adc-b3fd-974df44d09fd",
   "metadata": {},
   "outputs": [
    {
     "data": {
      "text/markdown": [
       "#### Project Directory: \"/home/dinalt/ai_assets/forgather/examples/tiny_experiments/compare_trainers\"\n",
       "\n",
       "## Meta Config\n",
       "Meta Config: [/home/dinalt/ai_assets/forgather/examples/tiny_experiments/compare_trainers/meta.yaml](meta.yaml)\n",
       "\n",
       "- [meta.yaml](meta.yaml)\n",
       "    - [meta_defaults.yaml](../forgather_workspace/meta_defaults.yaml)\n",
       "        - [base_directories.yaml](../forgather_workspace/base_directories.yaml)\n",
       "\n",
       "Template Search Paths:\n",
       "- [/home/dinalt/ai_assets/forgather/examples/tiny_experiments/compare_trainers/templates](templates)\n",
       "- [/home/dinalt/ai_assets/forgather/examples/tiny_experiments/forgather_workspace](../forgather_workspace)\n",
       "- [/home/dinalt/ai_assets/forgather/examples/tiny_experiments/tiny_templates](../tiny_templates)\n",
       "- [/home/dinalt/ai_assets/forgather/templatelib/modellib](../../../templatelib/modellib)\n",
       "- [/home/dinalt/ai_assets/forgather/templatelib/base](../../../templatelib/base)\n",
       "\n",
       "## Available Configurations\n",
       "- [accel_trainer.yaml](templates/experiments/accel_trainer.yaml)\n",
       "- [trainer.yaml](templates/experiments/trainer.yaml)\n",
       "- [hf_trainer.yaml](templates/experiments/hf_trainer.yaml)\n",
       "\n",
       "Default Configuration: trainer.yaml\n",
       "\n"
      ],
      "text/plain": [
       "<IPython.core.display.Markdown object>"
      ]
     },
     "metadata": {},
     "output_type": "display_data"
    }
   ],
   "source": [
    "import forgather.nb.notebooks as nb\n",
    "nb.display_project_index()"
   ]
  },
  {
   "cell_type": "code",
   "execution_count": 8,
   "id": "69ceed9a-8974-48d7-bcaf-6efdb2379940",
   "metadata": {},
   "outputs": [
    {
     "data": {
      "text/markdown": [
       "## Included Templates\n",
       "- [experiments/trainer.yaml](templates/experiments/trainer.yaml)\n",
       "    - [project.yaml](templates/project.yaml)\n",
       "        - [callbacks/loggers.yaml](../../../templatelib/base/callbacks/loggers.yaml)\n",
       "            - [callbacks/base_callbacks.yaml](../../../templatelib/base/callbacks/base_callbacks.yaml)\n",
       "                - [inc/formatting.jinja](../../../templatelib/base/inc/formatting.jinja)\n",
       "        - [datasets/tiny/tiny_stories_abridged.yaml](../tiny_templates/datasets/tiny/tiny_stories_abridged.yaml)\n",
       "            - [datasets/tiny/tiny_stories.yaml](../tiny_templates/datasets/tiny/tiny_stories.yaml)\n",
       "                - [datasets/abstract/base_datasets.yaml](../../../templatelib/base/datasets/abstract/base_datasets.yaml)\n",
       "        - [projects/tiny.yaml](../tiny_templates/projects/tiny.yaml)\n",
       "            - [prompts/tiny_stories.yaml](../tiny_templates/prompts/tiny_stories.yaml)\n",
       "            - [types/training_script/causal_lm/causal_lm.yaml](../../../templatelib/base/types/training_script/causal_lm/causal_lm.yaml)\n",
       "                - [trainers/trainer.yaml](../../../templatelib/base/trainers/trainer.yaml)\n",
       "                    - [trainers/base_trainer.yaml](../../../templatelib/base/trainers/base_trainer.yaml)\n",
       "                        - [trainers/minimal_trainer.yaml](../../../templatelib/base/trainers/minimal_trainer.yaml)\n",
       "                - [models/abstract/load_model.yaml](../../../templatelib/base/models/abstract/load_model.yaml)\n",
       "                    - [models/abstract/causal_lm_from_pretrained.yaml](../../../templatelib/base/models/abstract/causal_lm_from_pretrained.yaml)\n",
       "                        - [models/abstract/base_language_model.yaml](../../../templatelib/base/models/abstract/base_language_model.yaml)\n",
       "                - [types/training_script/training_script.yaml](../../../templatelib/base/types/training_script/training_script.yaml)\n",
       "                    - [types/type.yaml](../../../templatelib/base/types/type.yaml)\n",
       "                        - [base_directories.yaml](../forgather_workspace/base_directories.yaml)\n",
       "            - [tiny.callbacks](../tiny_templates/projects/tiny.yaml)\n",
       "            - [tiny.model_config](../tiny_templates/projects/tiny.yaml)\n",
       "                - [models/tiny/tiny_causal.yaml](../tiny_templates/models/tiny/tiny_causal.yaml)\n",
       "                    - [tokenizers/tiny_2k.yaml](../tiny_templates/tokenizers/tiny_2k.yaml)\n",
       "                    - [models/dynamic_causal_transformer.yaml](../../../templatelib/modellib/models/dynamic_causal_transformer.yaml)\n",
       "                        - [models/abstract/dynamic_causal_lm.yaml](../../../templatelib/base/models/abstract/dynamic_causal_lm.yaml)\n",
       "                            - [models/abstract/custom_causal_lm.yaml](../../../templatelib/base/models/abstract/custom_causal_lm.yaml)\n",
       "            - [tiny.trainer_config](../tiny_templates/projects/tiny.yaml)\n",
       "            - [tiny.dataset_config](../tiny_templates/projects/tiny.yaml)\n",
       "        - [project.model_config](templates/project.yaml)\n",
       "        - [project.trainer_config](templates/project.yaml)\n",
       "### Config Metadata:\n",
       "\n",
       "```python\n",
       "{'config_class': 'type.training_script.causal_lm',\n",
       " 'config_description': 'Train with forgather.ml.trainer.Trainer implementation',\n",
       " 'config_name': 'Default Trainer',\n",
       " 'create_new_model': 'True',\n",
       " 'datasets_dir': '/home/dinalt/ai_assets/forgather/examples/tiny_experiments/../../datasets',\n",
       " 'eval': 'False',\n",
       " 'forgather_dir': '/home/dinalt/ai_assets/forgather/examples/tiny_experiments/../..',\n",
       " 'logging_dir': './output_models/default_model/runs/default_trainer_2025-06-20T23-45-32',\n",
       " 'model_src_dir': '/home/dinalt/ai_assets/forgather/examples/tiny_experiments/../../model_src',\n",
       " 'models_dir': './output_models',\n",
       " 'output_dir': './output_models/default_model',\n",
       " 'project_dir': '.',\n",
       " 'save_model': 'False',\n",
       " 'tokenizers_dir': '/home/dinalt/ai_assets/forgather/examples/tiny_experiments/../../tokenizers',\n",
       " 'train': 'True',\n",
       " 'workspace_root': '/home/dinalt/ai_assets/forgather/examples/tiny_experiments'}\n",
       "\n",
       "```\n",
       "\n",
       "## Modules\n",
       "- [./output_models/default_model/tiny_causal_transformer.py](output_models/default_model/tiny_causal_transformer.py) : DynamicCausalLMConfig\n",
       "- [./output_models/default_model/tiny_causal_transformer.py](output_models/default_model/tiny_causal_transformer.py) : DynamicCasualLM\n",
       "## Output Targets\n",
       "- distributed_env\n",
       "- testprompts\n",
       "- generation_config\n",
       "- model_constructor_args\n",
       "- tokenizer\n",
       "- model_submodule_searchpath\n",
       "- loss_fn\n",
       "- layer_norm_factory\n",
       "- feedforward_factory\n",
       "- attention_factory\n",
       "- layer_factory\n",
       "- layer_stack\n",
       "- output_decoder\n",
       "- positional_encoder\n",
       "- input_encoder\n",
       "- init_weights\n",
       "- model_factory\n",
       "- model_code_generator\n",
       "- model_code_writer\n",
       "- model_config\n",
       "- pretrained_model\n",
       "- model\n",
       "- train_source_dataset\n",
       "- eval_source_dataset\n",
       "- train_dataset_split\n",
       "- eval_dataset_split\n",
       "- preprocess_args\n",
       "- train_dataset\n",
       "- eval_dataset\n",
       "- data_collator\n",
       "- experiment_info\n",
       "- trainer_callbacks\n",
       "- optimizer\n",
       "- lr_scheduler\n",
       "- trainer_args\n",
       "- model_preprocessor\n",
       "- trainer\n",
       "- meta\n",
       "- main\n",
       "\n"
      ],
      "text/plain": [
       "<IPython.core.display.Markdown object>"
      ]
     },
     "metadata": {},
     "output_type": "display_data"
    }
   ],
   "source": [
    "nb.display_config(config_template=\"\", show_pp_config=False, show_generated_code=False)"
   ]
  },
  {
   "cell_type": "code",
   "execution_count": 6,
   "id": "0ffa3ddc-d4f9-42a1-9cfd-fac1cdbc38ae",
   "metadata": {},
   "outputs": [
    {
     "data": {
      "text/markdown": [
       "#### Tensorboard Command\n",
       "\n",
       "```bash\n",
       "tensorboard --bind_all --logdir \"/home/dinalt/ai_assets/forgather/examples/tiny_experiments/compare_trainers/output_models/default_model\"\n",
       "```"
      ],
      "text/plain": [
       "<IPython.core.display.Markdown object>"
      ]
     },
     "metadata": {},
     "output_type": "display_data"
    },
    {
     "data": {
      "text/markdown": [
       "#### Generated Shell Script\n",
       "[trainer.sh](trainer.sh)\n",
       "```bash\n",
       "#!/bin/bash\n",
       "CUDA_VISIBLE_DEVICES='0' torchrun --standalone --nproc-per-node 'gpu' '/home/dinalt/ai_assets/forgather/scripts/train_script.py' -p '/home/dinalt/ai_assets/forgather/examples/tiny_experiments/compare_trainers' \"trainer.yaml\"\n",
       "\n",
       "```"
      ],
      "text/plain": [
       "<IPython.core.display.Markdown object>"
      ]
     },
     "metadata": {},
     "output_type": "display_data"
    },
    {
     "data": {
      "text/markdown": [
       "#### Generated Shell Script\n",
       "[accel_trainer.sh](accel_trainer.sh)\n",
       "```bash\n",
       "#!/bin/bash\n",
       "CUDA_VISIBLE_DEVICES='0' torchrun --standalone --nproc-per-node 'gpu' '/home/dinalt/ai_assets/forgather/scripts/train_script.py' -p '/home/dinalt/ai_assets/forgather/examples/tiny_experiments/compare_trainers' \"accel_trainer.yaml\"\n",
       "\n",
       "```"
      ],
      "text/plain": [
       "<IPython.core.display.Markdown object>"
      ]
     },
     "metadata": {},
     "output_type": "display_data"
    },
    {
     "data": {
      "text/markdown": [
       "#### Generated Shell Script\n",
       "[hf_trainer.sh](hf_trainer.sh)\n",
       "```bash\n",
       "#!/bin/bash\n",
       "CUDA_VISIBLE_DEVICES='0' torchrun --standalone --nproc-per-node 'gpu' '/home/dinalt/ai_assets/forgather/scripts/train_script.py' -p '/home/dinalt/ai_assets/forgather/examples/tiny_experiments/compare_trainers' \"hf_trainer.yaml\"\n",
       "\n",
       "```"
      ],
      "text/plain": [
       "<IPython.core.display.Markdown object>"
      ]
     },
     "metadata": {},
     "output_type": "display_data"
    }
   ],
   "source": [
    "import forgather.nb.notebooks as nb\n",
    "from forgather.project import Project\n",
    "proj = Project(\"trainer.yaml\")\n",
    "nb.display_tb_command(proj, local_host=False)\n",
    "\n",
    "proj = Project(\"trainer.yaml\")\n",
    "nb.generate_trainingscript(proj, \"0\")\n",
    "proj = Project(\"accel_trainer.yaml\")\n",
    "nb.generate_trainingscript(proj, \"0\")\n",
    "proj = Project(\"hf_trainer.yaml\")\n",
    "nb.generate_trainingscript(proj, \"0\")"
   ]
  },
  {
   "cell_type": "markdown",
   "id": "8e18006b-d0f8-4009-a675-4dff8f187b63",
   "metadata": {},
   "source": [
    "---"
   ]
  },
  {
   "cell_type": "code",
   "execution_count": 10,
   "id": "467a13f2-e848-4850-83d5-426e4945b84f",
   "metadata": {},
   "outputs": [
    {
     "name": "stdout",
     "output_type": "stream",
     "text": [
      "**** Training Script Started *****\n",
      "config_name: HF Trainer\n",
      "config_description: Train with transformers.Trainer implementation\n",
      "output_dir: ./output_models/default_model\n",
      "logging_dir: ./output_models/default_model/runs/hf_trainer_2025-06-20T23-50-01\n"
     ]
    },
    {
     "data": {
      "text/html": [
       "\n",
       "    <div>\n",
       "      \n",
       "      <progress value='6625' max='6625' style='width:300px; height:20px; vertical-align: middle;'></progress>\n",
       "      [6625/6625 02:54, Epoch 1/1]\n",
       "    </div>\n",
       "    <table border=\"1\" class=\"dataframe\">\n",
       "  <thead>\n",
       " <tr style=\"text-align: left;\">\n",
       "      <th>Step</th>\n",
       "      <th>Training Loss</th>\n",
       "      <th>Validation Loss</th>\n",
       "    </tr>\n",
       "  </thead>\n",
       "  <tbody>\n",
       "    <tr>\n",
       "      <td>500</td>\n",
       "      <td>3.377500</td>\n",
       "      <td>3.046064</td>\n",
       "    </tr>\n",
       "    <tr>\n",
       "      <td>1000</td>\n",
       "      <td>2.688800</td>\n",
       "      <td>2.393058</td>\n",
       "    </tr>\n",
       "    <tr>\n",
       "      <td>1500</td>\n",
       "      <td>2.419100</td>\n",
       "      <td>2.134726</td>\n",
       "    </tr>\n",
       "    <tr>\n",
       "      <td>2000</td>\n",
       "      <td>2.279000</td>\n",
       "      <td>2.001480</td>\n",
       "    </tr>\n",
       "    <tr>\n",
       "      <td>2500</td>\n",
       "      <td>2.198500</td>\n",
       "      <td>1.914012</td>\n",
       "    </tr>\n",
       "    <tr>\n",
       "      <td>3000</td>\n",
       "      <td>2.124400</td>\n",
       "      <td>1.852121</td>\n",
       "    </tr>\n",
       "    <tr>\n",
       "      <td>3500</td>\n",
       "      <td>2.084100</td>\n",
       "      <td>1.805967</td>\n",
       "    </tr>\n",
       "    <tr>\n",
       "      <td>4000</td>\n",
       "      <td>2.043600</td>\n",
       "      <td>1.763117</td>\n",
       "    </tr>\n",
       "    <tr>\n",
       "      <td>4500</td>\n",
       "      <td>2.005100</td>\n",
       "      <td>1.727787</td>\n",
       "    </tr>\n",
       "    <tr>\n",
       "      <td>5000</td>\n",
       "      <td>1.978400</td>\n",
       "      <td>1.702447</td>\n",
       "    </tr>\n",
       "    <tr>\n",
       "      <td>5500</td>\n",
       "      <td>1.955500</td>\n",
       "      <td>1.679583</td>\n",
       "    </tr>\n",
       "    <tr>\n",
       "      <td>6000</td>\n",
       "      <td>1.927800</td>\n",
       "      <td>1.659614</td>\n",
       "    </tr>\n",
       "    <tr>\n",
       "      <td>6500</td>\n",
       "      <td>1.906500</td>\n",
       "      <td>1.647272</td>\n",
       "    </tr>\n",
       "  </tbody>\n",
       "</table><p>"
      ],
      "text/plain": [
       "<IPython.core.display.HTML object>"
      ]
     },
     "metadata": {},
     "output_type": "display_data"
    },
    {
     "name": "stdout",
     "output_type": "stream",
     "text": [
      "**** Training Completed *****\n",
      "{'train_runtime': 174.5397, 'train_samples_per_second': 1214.458, 'train_steps_per_second': 37.957, 'total_flos': 2337275942797312.0, 'train_loss': 2.3423608444501767, 'epoch': 1.0}\n",
      "Model saved to: ./output_models/default_model\n"
     ]
    }
   ],
   "source": [
    "proj = Project(\"hf_trainer.yaml\")\n",
    "train_script = proj()\n",
    "train_script.run()"
   ]
  },
  {
   "cell_type": "code",
   "execution_count": 11,
   "id": "1301621c-6ed1-4c04-bb5f-f4a396ca1c10",
   "metadata": {},
   "outputs": [
    {
     "data": {
      "text/plain": [
       "DynamicCasualLM(\n",
       "  (causal_lm): CasualLM(\n",
       "    loss_fn=CausalLoss()\n",
       "    (input_encoder): InputEncoder(\n",
       "      d_model=256, vocab_size=2000\n",
       "      (dropout): Dropout(p=0.1, inplace=False)\n",
       "      (embedding): Embedding(2000, 256)\n",
       "      (positional_encoder): SinusoidalPE(d_model=256, max_sequence_length=2048)\n",
       "    )\n",
       "    (output_decoder): Linear(in_features=256, out_features=2000, bias=True)\n",
       "    (layer_stack): LayerStack(\n",
       "      (layers): ModuleList(\n",
       "        (0-3): 4 x PostLNLayer(\n",
       "          (feedforward): FeedforwardLayer(\n",
       "            d_model=256, d_feedforward=1024\n",
       "            (linear1): Linear(in_features=256, out_features=1024, bias=True)\n",
       "            (dropout): Identity()\n",
       "            (activation): ReLU()\n",
       "            (linear2): Linear(in_features=1024, out_features=256, bias=True)\n",
       "          )\n",
       "          (attention): CausalMultiheadAttn(\n",
       "            d_model=256, num_heads=2\n",
       "            (query_linear): Linear(in_features=256, out_features=256, bias=True)\n",
       "            (key_linear): Linear(in_features=256, out_features=256, bias=True)\n",
       "            (value_linear): Linear(in_features=256, out_features=256, bias=True)\n",
       "            (output_linear): Linear(in_features=256, out_features=256, bias=True)\n",
       "            (dropout): Identity()\n",
       "          )\n",
       "          (norm1): LayerNorm((256,), eps=1e-05, elementwise_affine=True)\n",
       "          (norm2): LayerNorm((256,), eps=1e-05, elementwise_affine=True)\n",
       "          (dropout): Dropout(p=0.1, inplace=False)\n",
       "          (residual_dropout): Identity()\n",
       "        )\n",
       "      )\n",
       "    )\n",
       "  )\n",
       ")"
      ]
     },
     "execution_count": 11,
     "metadata": {},
     "output_type": "execute_result"
    }
   ],
   "source": [
    "trainer = proj(\"trainer\")\n",
    "model = trainer.model\n",
    "model"
   ]
  },
  {
   "cell_type": "code",
   "execution_count": 1,
   "id": "24aed0d0-7c0c-4787-8449-239e691a1284",
   "metadata": {},
   "outputs": [],
   "source": [
    "import forgather.nb.notebooks as nb\n",
    "from forgather.project import Project\n",
    "proj = Project(\"trainer.yaml\")\n",
    "\n",
    "# Gather required assets\n",
    "model_init, training_args, tokenizer, data_collator, eval_dataset = proj(\"model\", \"trainer_args\", \"tokenizer\", \"data_collator\", \"eval_dataset\")\n",
    "\n",
    "model = model_init()"
   ]
  },
  {
   "cell_type": "code",
   "execution_count": 2,
   "id": "6a1fd5f4-168e-41b7-aa08-fd918256f5a8",
   "metadata": {},
   "outputs": [
    {
     "name": "stderr",
     "output_type": "stream",
     "text": [
      "\u001b[32m2025-06-21 00:23:48.112\u001b[0m | \u001b[33m\u001b[1mWARNING \u001b[0m | \u001b[36mforgather.ml.base_trainer\u001b[0m:\u001b[36m_validate_dirs\u001b[0m:\u001b[36m209\u001b[0m - \u001b[33m\u001b[1mModel exists in output dir './output_models/default_model' and model may be overwritten!\u001b[0m\n"
     ]
    }
   ],
   "source": [
    "from forgather.ml.trainer import Trainer\n",
    "from forgather.ml.trainer_types import TrainingArguments\n",
    "\n",
    "args = TrainingArguments(**training_args)\n",
    "\n",
    "trainer = Trainer(\n",
    "    model=model,\n",
    "    args=args,\n",
    "    data_collator=data_collator,\n",
    "    processing_class=tokenizer,\n",
    ")"
   ]
  },
  {
   "cell_type": "code",
   "execution_count": 8,
   "id": "0f063cf4-7caa-47a8-99e5-73c8490b6dfd",
   "metadata": {},
   "outputs": [
    {
     "data": {
      "application/vnd.jupyter.widget-view+json": {
       "model_id": "6c0be8bdf5874e9699f733b7a830dbc5",
       "version_major": 2,
       "version_minor": 0
      },
      "text/plain": [
       "  0%|                                                                                                         …"
      ]
     },
     "metadata": {},
     "output_type": "display_data"
    },
    {
     "name": "stdout",
     "output_type": "stream",
     "text": [
      "2025-06-21 00:26:50            0  0.0   eval-loss:  1.89207   \n"
     ]
    },
    {
     "data": {
      "text/plain": [
       "{'eval_loss': 1.89206862449646}"
      ]
     },
     "execution_count": 8,
     "metadata": {},
     "output_type": "execute_result"
    }
   ],
   "source": [
    "trainer.evaluate(eval_dataset)"
   ]
  },
  {
   "cell_type": "code",
   "execution_count": 4,
   "id": "869e1e8c-196f-4053-9e20-cf63f6d8cdad",
   "metadata": {},
   "outputs": [],
   "source": [
    "hf_proj = Project(\"hf_trainer.yaml\")\n",
    "hf_training_args = proj(\"trainer_args\")"
   ]
  },
  {
   "cell_type": "code",
   "execution_count": 5,
   "id": "88e93ba9-1092-458c-96d9-bb9db4d6a429",
   "metadata": {},
   "outputs": [],
   "source": [
    "from transformers import Trainer as HFTrainer\n",
    "from transformers import TrainingArguments as HFTrainingArguments\n",
    "\n",
    "hf_args = HFTrainingArguments(**hf_training_args)\n",
    "hf_trainer = HFTrainer(\n",
    "    model=model,\n",
    "    args=hf_args,\n",
    "    data_collator=data_collator,\n",
    "    processing_class=tokenizer,\n",
    "    eval_dataset=eval_dataset,\n",
    ")"
   ]
  },
  {
   "cell_type": "code",
   "execution_count": 6,
   "id": "742f765f-16d3-43f9-a3aa-0c8f23fba3c2",
   "metadata": {},
   "outputs": [
    {
     "name": "stderr",
     "output_type": "stream",
     "text": [
      "/home/dinalt/.local/lib/python3.10/site-packages/torch/nn/parallel/_functions.py:71: UserWarning: Was asked to gather along dimension 0, but all input tensors were scalars; will instead unsqueeze and return a vector.\n",
      "  warnings.warn(\n"
     ]
    },
    {
     "data": {
      "text/html": [
       "\n",
       "    <div>\n",
       "      \n",
       "      <progress value='2' max='2' style='width:300px; height:20px; vertical-align: middle;'></progress>\n",
       "      [2/2 00:00]\n",
       "    </div>\n",
       "    "
      ],
      "text/plain": [
       "<IPython.core.display.HTML object>"
      ]
     },
     "metadata": {},
     "output_type": "display_data"
    },
    {
     "data": {
      "text/plain": [
       "{'eval_loss': 1.6462504863739014,\n",
       " 'eval_runtime': 1.5513,\n",
       " 'eval_samples_per_second': 322.303,\n",
       " 'eval_steps_per_second': 1.289}"
      ]
     },
     "execution_count": 6,
     "metadata": {},
     "output_type": "execute_result"
    }
   ],
   "source": [
    "hf_trainer.evaluate()"
   ]
  },
  {
   "cell_type": "code",
   "execution_count": 20,
   "id": "93beac97-0401-47f7-b94d-abb24396c144",
   "metadata": {},
   "outputs": [
    {
     "name": "stdout",
     "output_type": "stream",
     "text": [
      "0: 1.583 1.5829542875289917\n",
      "1: 1.576 1.5757547616958618\n",
      "2: 1.571 1.5705926418304443\n",
      "3: 1.658 1.657660722732544\n",
      "4: 1.595 1.5952423810958862\n",
      "5: 1.557 1.5572733879089355\n",
      "6: 1.645 1.6447153091430664\n",
      "7: 2.060 2.060286283493042\n",
      "mean loss=1.656\n"
     ]
    }
   ],
   "source": [
    "import torch\n",
    "from torch.utils.data import DataLoader\n",
    "\n",
    "dataloader = DataLoader(\n",
    "    eval_dataset,\n",
    "    batch_size=args.per_device_eval_batch_size,\n",
    "    collate_fn=data_collator,\n",
    "    drop_last=args.dataloader_drop_last,\n",
    "    num_workers=args.dataloader_num_workers,\n",
    "    pin_memory=args.dataloader_pin_memory,\n",
    "    prefetch_factor=args.dataloader_prefetch_factor,\n",
    "    persistent_workers=args.dataloader_persistent_workers,\n",
    ")\n",
    "\n",
    "with torch.no_grad():\n",
    "    model.to(args.device)\n",
    "    model.eval()\n",
    "    total_loss = 0\n",
    "    for step, batch in enumerate(dataloader):\n",
    "        input_ids, labels = batch[\"input_ids\"].to(args.device), batch[\"labels\"].to(args.device)\n",
    "        loss, logits = model(input_ids, labels=labels)\n",
    "        print(f\"{step}: {loss.item():.3f} {loss.mean().detach()}\")\n",
    "        total_loss += loss.item()\n",
    "\n",
    "    # Discrepency caused by not adding 1 to step.\n",
    "    # mean_loss = loss_sum / step \n",
    "    mean_loss = total_loss / (step + 1)\n",
    "    print(f\"mean loss={mean_loss:.3f}\")"
   ]
  },
  {
   "cell_type": "code",
   "execution_count": null,
   "id": "4dfc8591-68ee-48a4-8b8e-78fd006fda0f",
   "metadata": {},
   "outputs": [],
   "source": []
  }
 ],
 "metadata": {
  "kernelspec": {
   "display_name": "Python 3 (ipykernel)",
   "language": "python",
   "name": "python3"
  },
  "language_info": {
   "codemirror_mode": {
    "name": "ipython",
    "version": 3
   },
   "file_extension": ".py",
   "mimetype": "text/x-python",
   "name": "python",
   "nbconvert_exporter": "python",
   "pygments_lexer": "ipython3",
   "version": "3.10.13"
  }
 },
 "nbformat": 4,
 "nbformat_minor": 5
}
