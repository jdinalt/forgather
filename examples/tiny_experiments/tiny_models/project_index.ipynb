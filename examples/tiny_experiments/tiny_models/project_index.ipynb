{
 "cells": [
  {
   "cell_type": "markdown",
   "id": "2e422f35-7a08-4a50-a075-51a68b5c3994",
   "metadata": {},
   "source": [
    "# Project Index"
   ]
  },
  {
   "cell_type": "code",
   "execution_count": 1,
   "id": "26bffdcc-00ac-4adc-b3fd-974df44d09fd",
   "metadata": {},
   "outputs": [
    {
     "data": {
      "text/markdown": [
       "## Tiny Models\n",
       "\n",
       "A collection of tiny models to train on the Tiny Stories dataset with the tiny_stories_2k tokenizer.\n",
       "\n",
       "This allows for direct comparison of model archetectures.\n",
       "\n",
       "### Featuring\n",
       "- Tiny Causal Transformer -- an example custom transformer model\n",
       "- Tiny Llama\n",
       "- Tiny GPT2\n",
       "\n",
       "### Common Configuration\n",
       "- Tokenizer: tokenizers/tiny_2k_bpe.yaml\n",
       "    - Vocabulary Size: 2000\n",
       "    - Maximum Model Sequence: 2048\n",
       "- Dataset: datasets/tiny/tiny_stories_abridged.yaml\n",
       "    - Dataset ID: roneneldan/TinyStories\n",
       "    - Reference: https://arxiv.org/abs/2305.07759\n",
       "    - Train Select Range: 10% \n",
       "- Model:\n",
       "    - Model Dimension: 256\n",
       "    - MLP Dimension: 1024\n",
       "    - Layers: 4\n",
       "    - Heads: 2\n",
       "    - All Dropout Probabilities: 0.0\n",
       "- Trainer:\n",
       "    - Class: aiws.trainer.Trainer\n",
       "    - Epochs: 1\n",
       "    - Learning Rate: 1.0e-3\n",
       "    - Batch Size: 16\n",
       "\n",
       "#### Project Directory: \"/home/dinalt/ai_assets/forgather/examples/tiny_experiments/tiny_models\"\n",
       "\n",
       "## Meta Config\n",
       "Meta Config: [/home/dinalt/ai_assets/forgather/examples/tiny_experiments/tiny_models/meta.yaml](meta.yaml)\n",
       "\n",
       "- [meta.yaml](meta.yaml)\n",
       "    - [meta_defaults.yaml](../forgather_workspace/meta_defaults.yaml)\n",
       "        - [base_directories.yaml](../forgather_workspace/base_directories.yaml)\n",
       "\n",
       "Template Search Paths:\n",
       "- [/home/dinalt/ai_assets/forgather/examples/tiny_experiments/tiny_models/templates](templates)\n",
       "- [/home/dinalt/ai_assets/forgather/examples/tiny_experiments/forgather_workspace](../forgather_workspace)\n",
       "- [/home/dinalt/ai_assets/forgather/examples/tiny_experiments/tiny_templates](../tiny_templates)\n",
       "- [/home/dinalt/ai_assets/forgather/templatelib/modellib](../../../templatelib/modellib)\n",
       "- [/home/dinalt/ai_assets/forgather/templatelib/examples](../../../templatelib/examples)\n",
       "- [/home/dinalt/ai_assets/forgather/templatelib/base](../../../templatelib/base)\n",
       "\n",
       "## Available Configurations\n",
       "- [tiny_causal.yaml](templates/configs/tiny_causal.yaml)\n",
       "- [tiny_gpt2.yaml](templates/configs/tiny_gpt2.yaml)\n",
       "- [tiny_llama.yaml](templates/configs/tiny_llama.yaml)\n",
       "\n",
       "Default Configuration: tiny_causal.yaml\n",
       "\n"
      ],
      "text/plain": [
       "<IPython.core.display.Markdown object>"
      ]
     },
     "metadata": {},
     "output_type": "display_data"
    }
   ],
   "source": [
    "import forgather.nb.notebooks as nb\n",
    "nb.display_project_index()"
   ]
  },
  {
   "cell_type": "code",
   "execution_count": 6,
   "id": "74d9e625-31e4-4694-b77c-cbcc32813b63",
   "metadata": {},
   "outputs": [
    {
     "data": {
      "text/markdown": [
       "## Included Templates\n",
       "- [configs/tiny_llama.yaml](templates/configs/tiny_llama.yaml)\n",
       "    - [project.yaml](templates/project.yaml)\n",
       "        - [projects/tiny.yaml](../tiny_templates/projects/tiny.yaml)\n",
       "            - [prompts/tiny_stories.yaml](../tiny_templates/prompts/tiny_stories.yaml)\n",
       "            - [types/training_script/causal_lm/causal_lm.yaml](../../../templatelib/base/types/training_script/causal_lm/causal_lm.yaml)\n",
       "                - [trainers/trainer.yaml](../../../templatelib/base/trainers/trainer.yaml)\n",
       "                    - [trainers/base_trainer.yaml](../../../templatelib/base/trainers/base_trainer.yaml)\n",
       "                        - [trainers/minimal_trainer.yaml](../../../templatelib/base/trainers/minimal_trainer.yaml)\n",
       "                - [callbacks/loggers.yaml](../../../templatelib/base/callbacks/loggers.yaml)\n",
       "                    - [callbacks/base_callbacks.yaml](../../../templatelib/base/callbacks/base_callbacks.yaml)\n",
       "                - [models/causal_lm/load_model.yaml](../../../templatelib/base/models/causal_lm/load_model.yaml)\n",
       "                    - [models/causal_lm/from_pretrained.yaml](../../../templatelib/base/models/causal_lm/from_pretrained.yaml)\n",
       "                        - [models/base_language_model.yaml](../../../templatelib/base/models/base_language_model.yaml)\n",
       "                - [types/training_script/training_script.yaml](../../../templatelib/base/types/training_script/training_script.yaml)\n",
       "                    - [types/type.yaml](../../../templatelib/base/types/type.yaml)\n",
       "                        - [base_directories.yaml](../forgather_workspace/base_directories.yaml)\n",
       "                - [inc/formatting.jinja](../../../templatelib/base/inc/formatting.jinja)\n",
       "            - [tiny.callbacks](../tiny_templates/projects/tiny.yaml)\n",
       "            - [tiny.model_config](../tiny_templates/projects/tiny.yaml)\n",
       "                - [models/tiny/tiny_causal.yaml](../tiny_templates/models/tiny/tiny_causal.yaml)\n",
       "                    - [tokenizers/tiny_2k.yaml](../../../templatelib/examples/tokenizers/tiny_2k.yaml)\n",
       "                    - [models/dynamic_causal_transformer.yaml](../../../templatelib/examples/models/dynamic_causal_transformer.yaml)\n",
       "                        - [models/causal_lm/custom_dynamic.yaml](../../../templatelib/base/models/causal_lm/custom_dynamic.yaml)\n",
       "                            - [models/causal_lm/custom.yaml](../../../templatelib/base/models/causal_lm/custom.yaml)\n",
       "            - [tiny.trainer_config](../tiny_templates/projects/tiny.yaml)\n",
       "            - [tiny.dataset_config](../tiny_templates/projects/tiny.yaml)\n",
       "                - [datasets/tinystories/tinystories_abridged.yaml](../../../templatelib/examples/datasets/tinystories/tinystories_abridged.yaml)\n",
       "                    - [datasets/tinystories/tinystories.yaml](../../../templatelib/examples/datasets/tinystories/tinystories.yaml)\n",
       "                        - [datasets//base_datasets.yaml](../../../templatelib/base/datasets/base_datasets.yaml)\n",
       "        - [project.trainer_config](templates/project.yaml)\n",
       "    - [experiment.model_config](templates/configs/tiny_llama.yaml)\n",
       "        - [models/tiny/tiny_llama.yaml](../tiny_templates/models/tiny/tiny_llama.yaml)\n",
       "            - [models/llama.yaml](../../../templatelib/examples/models/llama.yaml)\n",
       "                - [models/causal_lm/from_config.yaml](../../../templatelib/base/models/causal_lm/from_config.yaml)\n",
       "### Config Metadata:\n",
       "\n",
       "```python\n",
       "{'config_class': 'type.training_script.causal_lm',\n",
       " 'config_description': 'A tiny llama model.',\n",
       " 'config_name': 'Tiny LLama',\n",
       " 'create_new_model': 'True',\n",
       " 'datasets_dir': '/home/dinalt/ai_assets/forgather/examples/tiny_experiments/../../datasets',\n",
       " 'eval': 'False',\n",
       " 'forgather_dir': '/home/dinalt/ai_assets/forgather/examples/tiny_experiments/../..',\n",
       " 'logging_dir': './output_models/tiny_llama/runs/log_2025-06-21T23-26-27',\n",
       " 'model_src_dir': '/home/dinalt/ai_assets/forgather/examples/tiny_experiments/../../model_src',\n",
       " 'models_dir': './output_models',\n",
       " 'output_dir': './output_models/tiny_llama',\n",
       " 'project_dir': '.',\n",
       " 'save_model': 'False',\n",
       " 'tokenizers_dir': '/home/dinalt/ai_assets/forgather/examples/tiny_experiments/../../tokenizers',\n",
       " 'train': 'True',\n",
       " 'workspace_root': '/home/dinalt/ai_assets/forgather/examples/tiny_experiments'}\n",
       "\n",
       "```\n",
       "\n",
       "## Modules\n",
       "## Output Targets\n",
       "- distributed_env\n",
       "- testprompts\n",
       "- generation_config\n",
       "- model_constructor_args\n",
       "- tokenizer\n",
       "- model_config\n",
       "- model\n",
       "- train_source_dataset\n",
       "- eval_source_dataset\n",
       "- train_dataset_split\n",
       "- eval_dataset_split\n",
       "- preprocess_args\n",
       "- train_dataset\n",
       "- eval_dataset\n",
       "- data_collator\n",
       "- experiment_info\n",
       "- text_gen_callback_args\n",
       "- trainer_callbacks\n",
       "- optimizer\n",
       "- lr_scheduler\n",
       "- trainer_args\n",
       "- model_preprocessor\n",
       "- trainer\n",
       "- meta\n",
       "- main\n",
       "\n"
      ],
      "text/plain": [
       "<IPython.core.display.Markdown object>"
      ]
     },
     "metadata": {},
     "output_type": "display_data"
    }
   ],
   "source": [
    "nb.display_config(config_template=\"tiny_llama.yaml\", show_pp_config=False, show_generated_code=False)"
   ]
  },
  {
   "cell_type": "code",
   "execution_count": 1,
   "id": "01f0a06f-f425-41ef-878b-017a2d2c2718",
   "metadata": {},
   "outputs": [],
   "source": [
    "from forgather.project import Project\n",
    "import forgather.nb.notebooks as nb\n",
    "\n",
    "proj = Project(\"tiny_llama.yaml\")"
   ]
  },
  {
   "cell_type": "code",
   "execution_count": null,
   "id": "6d7f6eb9-33ec-489c-b66e-faf3e3f0bdee",
   "metadata": {},
   "outputs": [],
   "source": [
    "training_script = proj()\n",
    "training_script.run()"
   ]
  },
  {
   "cell_type": "code",
   "execution_count": null,
   "id": "5b8f0679-604e-4d2b-80ae-0600e0f10148",
   "metadata": {},
   "outputs": [],
   "source": [
    "# Show command to run tensorboard; local_host should be false if tensorboard should run on all network interfaces.\n",
    "nb.display_tb_command(proj, local_host=False)"
   ]
  },
  {
   "cell_type": "code",
   "execution_count": null,
   "id": "d5e894d3-f471-4474-a297-1b794e38384e",
   "metadata": {},
   "outputs": [],
   "source": [
    "nb.generate_trainingscript(proj, \"0\")"
   ]
  }
 ],
 "metadata": {
  "kernelspec": {
   "display_name": "Python 3 (ipykernel)",
   "language": "python",
   "name": "python3"
  },
  "language_info": {
   "codemirror_mode": {
    "name": "ipython",
    "version": 3
   },
   "file_extension": ".py",
   "mimetype": "text/x-python",
   "name": "python",
   "nbconvert_exporter": "python",
   "pygments_lexer": "ipython3",
   "version": "3.10.13"
  }
 },
 "nbformat": 4,
 "nbformat_minor": 5
}
