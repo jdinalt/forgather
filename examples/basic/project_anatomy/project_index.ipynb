{
 "cells": [
  {
   "cell_type": "markdown",
   "id": "2e422f35-7a08-4a50-a075-51a68b5c3994",
   "metadata": {},
   "source": [
    "# Project Index\n",
    "\n",
    "The index file is a notebook with a call to nb.display_project_index(), which generates a project index as the output. This includes rendering the \"README.md\" file and generating a dynamic index of configurations, templates, and source files.\n",
    "\n",
    "If no options are given to display_project_index(), it displays the default project configuration.\n",
    "\n",
    "```python\n",
    "def render_project_index(\n",
    "\"\"\"\n",
    "Render the project index as Markdown and return the string.\n",
    "\"\"\"\n",
    "    project_dir: str = \".\",\n",
    "    /,\n",
    "    config_template: str = \"\",\n",
    "    show_available_templates: bool = False,\n",
    ") -> str:\n",
    "    ...\n",
    "\n",
    "\n",
    "def display_project_index(\n",
    "\"\"\"\n",
    "Render the project index as Markdown and display it.\n",
    "\"\"\"\n",
    "    # Same arguments as above.\n",
    ") -> None:\n",
    "```\n",
    "\n",
    "Likewise, the details of each configuration can be displayed.\n",
    "\n",
    "```python\n",
    "def render_config(\n",
    "    project_dir: str = \".\",\n",
    "    /,\n",
    "    config_template: str = \"\",\n",
    "    show_pp_config: bool = False,\n",
    "    show_loaded_config: bool = False,\n",
    "    show_generated_code: bool = False,\n",
    "    pp_first: bool = False,\n",
    "    **kwargs,\n",
    "):\n",
    "    \"\"\"\n",
    "    Render config information\n",
    "\n",
    "    project_dir: The location of the project directory\n",
    "    config_template: The configuration to display. If \"\", the default is shown.\n",
    "    show_pp_config: Show the preprocessed configuration.\n",
    "    show_loaded_config: After loading the preprocessed configuration, render the node-graph as YAML.\n",
    "    show_generated_code: After loading the preprocessed configuration, render the node-graph as Python code.\n",
    "    pp_first: Normally a config is preprocessed and loaded in a single step. This breaks the process down\n",
    "        into seperate steps, which can be useful for debugging YAML errors.\n",
    "    kwargs: These kwargs are passed in to the Jinja2 environment and are available to templates. Usually not\n",
    "        required.\n",
    "    \"\"\"\n",
    "\n",
    "def display_config(\n",
    "\"\"\"\n",
    "As above, but display in notebook.\n",
    "\"\"\"\n",
    "    project_dir=\".\",\n",
    "    /,\n",
    "    **kwargs,\n",
    ") -> None:\n",
    "```"
   ]
  },
  {
   "cell_type": "code",
   "execution_count": 8,
   "id": "26bffdcc-00ac-4adc-b3fd-974df44d09fd",
   "metadata": {},
   "outputs": [
    {
     "data": {
      "text/markdown": [
       "# Project Anatomy \n",
       "\n",
       "This is the project's README.md.\n",
       "\n",
       "Look at project_index.ipynb\n",
       "\n",
       "#### Project Directory: \"/home/dinalt/ai_assets/forgather/examples/basic/project_anatomy\"\n",
       "\n",
       "## Meta Config\n",
       "Meta Config: [/home/dinalt/ai_assets/forgather/examples/basic/project_anatomy/meta.yaml](meta.yaml)\n",
       "\n",
       "- [meta.yaml](meta.yaml)\n",
       "\n",
       "Template Search Paths:\n",
       "- [/home/dinalt/ai_assets/forgather/examples/basic/project_anatomy/templates](templates)\n",
       "\n",
       "## Available Configurations\n",
       "- [poems.yaml](templates/configs/poems.yaml)\n",
       "- [default.yaml](templates/configs/default.yaml)\n",
       "\n",
       "Default Configuration: default.yaml\n",
       "\n",
       "## Available Templates\n",
       "- [configs/default.yaml](templates/configs/default.yaml)\n",
       "- [configs/poems.yaml](templates/configs/poems.yaml)\n",
       "\n"
      ],
      "text/plain": [
       "<IPython.core.display.Markdown object>"
      ]
     },
     "metadata": {},
     "output_type": "display_data"
    }
   ],
   "source": [
    "import forgather.nb.notebooks as nb\n",
    "\n",
    "nb.display_project_index(show_available_templates=True)"
   ]
  },
  {
   "cell_type": "markdown",
   "id": "0af3e94a-fb34-4660-a23c-0ba4ed317ab3",
   "metadata": {},
   "source": [
    "---\n",
    "\n",
    "# Forgather Project Anatomy\n",
    "\n",
    "This is an absolutely minimalist exmpale project, which defines and constructs a simple list, which will be used to illustrate the structure of a Forgather project.\n",
    "\n",
    "A project in Forgather is defined simply by placing a file named \"meta.yaml\" in a directory. This file is the project's meta-configuration, which describes where to find configurations within the project and where to search for includable templates.\n",
    "\n",
    "A project directory may also (optional) include a 'README.md' and/or a project index ('project_index.ipynb') file.\n",
    "\n",
    "This project has both. If you are directly reading the README.md, the file you really want is the index, which includes this file.\n",
    "\n",
    "The project index can by dynamically regenerated by running the first cell in the notebook and has the following sections:\n",
    "\n",
    "### Project Directory\n",
    "\n",
    "This shows the absolute path of the project, which can be useful for opening the project with the notebooks linked at the top of this notebook.\n",
    "\n",
    "### Meta Config\n",
    "\n",
    "This includes a link to the meta-config file (meta.yaml). Clicking on the link will open this file.\n",
    "\n",
    "This is followed by a template include graph of the meta-config file. This example does not include any other templates, so there is only a single file listed.\n",
    "\n",
    "Project configurations are can be constructe from Jinja2 templates and the meta-config lists all of the directories which will be searched for templates. This is a simple project, which is entirely self-contained, but most projects will include multiple search paths here.\n",
    "\n",
    "### Available Configurations\n",
    "\n",
    "The meta-config defines where in the template namespace top-level configuration files may be found. This section lists all configurations within this namespace.\n",
    "\n",
    "This also shows which configuration is the default and which is presently selected. The active template can be specified by filling out the \"config_template\" argument to nb.display_project_index().\n",
    "\n",
    "### Available Templates\n",
    "\n",
    "This lists the names of all available configuration templates within the template searchpath."
   ]
  },
  {
   "cell_type": "code",
   "execution_count": 7,
   "id": "d42d273d-1b21-4a59-ad93-2fe2b09f6084",
   "metadata": {},
   "outputs": [
    {
     "data": {
      "text/markdown": [
       "## Included Templates\n",
       "- [configs/default.yaml](templates/configs/default.yaml)\n",
       "### Config Metadata:\n",
       "\n",
       "```python\n",
       "'A simple list'\n",
       "\n",
       "```\n",
       "\n",
       "## Modules\n",
       "## Output Targets\n",
       "- meta\n",
       "- main\n",
       "\n",
       "## Preprocessed Config\n",
       "\n",
       "```yaml\n",
       "meta: A simple list\n",
       "main:\n",
       "    - Alpha\n",
       "    - Beta\n",
       "    - Gamma\n",
       "    - Delta\n",
       "\n",
       "```\n",
       "\n",
       "## Loaded Configuration\n",
       "\n",
       "```yaml\n",
       "meta: 'A simple list'\n",
       "main: \n",
       "    - 'Alpha'\n",
       "    - 'Beta'\n",
       "    - 'Gamma'\n",
       "    - 'Delta'\n",
       "\n",
       "```\n",
       "\n",
       "## Generated Code\n",
       "\n",
       "```python\n",
       "def construct(\n",
       "):\n",
       "    \n",
       "    \n",
       "    return [\n",
       "        'Alpha',\n",
       "        'Beta',\n",
       "        'Gamma',\n",
       "        'Delta',\n",
       "    ]\n",
       "\n",
       "```\n",
       "\n"
      ],
      "text/plain": [
       "<IPython.core.display.Markdown object>"
      ]
     },
     "metadata": {},
     "output_type": "display_data"
    }
   ],
   "source": [
    "nb.display_config(\n",
    "    config_template=\"\",\n",
    "    show_available_templates=True,\n",
    "    show_pp_config=True,\n",
    "    show_loaded_config=True,\n",
    "    show_generated_code=True,\n",
    ")"
   ]
  },
  {
   "cell_type": "markdown",
   "id": "af095546-84ad-4152-9108-615eb688854c",
   "metadata": {},
   "source": [
    "---\n",
    "\n",
    "### Included Templates\n",
    "\n",
    "Starting with the active configuration, each configuration template is recursively parsed to identity all sub-templates which are directly and indirectly included in the present configuration. This will normally be a sub-set of \"Available Templates.\"\n",
    "\n",
    "### Modules\n",
    "\n",
    "This list all dynamically imported modules in the project. This project does not use dynamic imports, so the list is empty.\n",
    "\n",
    "### Output Targets\n",
    "\n",
    "These are available target objects which can be constructed from the project. See below.\n",
    "\n",
    "### Preprocessed Config\n",
    "\n",
    "All configuration templates use a combination of Jinja2 and YAML syntax. This section shows what the resulting configuration file looks like after being processed by Jinja.\n",
    "\n",
    "### Loaded Configuration\n",
    "\n",
    "After the configuration has been proprocessed and parsed into a graph, the generated graph is translated back into YAML for verification. While this may be identical to the input for trivial configurations, more complex configurations may be refactored and rendered differently than the input.\n",
    "\n",
    "### Generated Source Code\n",
    "\n",
    "A loaded configuration graph can be exported as Python code, which is exactly what this section shows.\n",
    "\n",
    "The output can itself use a template for formatting, but the project index uses the default code template, which defines a function named 'construct' which return the defined configuration when called."
   ]
  },
  {
   "cell_type": "code",
   "execution_count": 9,
   "id": "a0eb7c10-9832-4381-afb1-5fa2d3e1ae52",
   "metadata": {},
   "outputs": [
    {
     "name": "stdout",
     "output_type": "stream",
     "text": [
      "['Alpha', 'Beta', 'Gamma', 'Delta']\n"
     ]
    }
   ],
   "source": [
    "from forgather.project import Project\n",
    "import forgather.nb.notebooks as nb\n",
    "from pprint import pp\n",
    "\n",
    "# Load default config, \"default.yaml\"\n",
    "proj = Project()\n",
    "\n",
    "# Construct the default target, \"main\"\n",
    "main = proj()\n",
    "\n",
    "pp(main)"
   ]
  },
  {
   "cell_type": "code",
   "execution_count": 10,
   "id": "98db488a-8c8c-4d66-a1b1-b8603e42b18a",
   "metadata": {},
   "outputs": [
    {
     "name": "stdout",
     "output_type": "stream",
     "text": [
      "'A list of poems.'\n",
      "[{'name': 'The Raven', 'author': 'Edgar Allan Po', 'year': 1845},\n",
      " {'name': 'The Road Not Taken', 'author': 'Robert Frost', 'year': 1915}]\n"
     ]
    }
   ],
   "source": [
    "# Explicitly specify the configuration to load.\n",
    "proj = Project(\"poems.yaml\")\n",
    "\n",
    "# Explicitly construct one or more targets.\n",
    "meta, main = proj(\"meta\", \"main\")\n",
    "pp(meta)\n",
    "pp(main)"
   ]
  },
  {
   "cell_type": "code",
   "execution_count": null,
   "id": "c2180c8c-0fbc-4c11-9fcc-15e2ff825ade",
   "metadata": {},
   "outputs": [],
   "source": []
  }
 ],
 "metadata": {
  "kernelspec": {
   "display_name": "Python 3 (ipykernel)",
   "language": "python",
   "name": "python3"
  },
  "language_info": {
   "codemirror_mode": {
    "name": "ipython",
    "version": 3
   },
   "file_extension": ".py",
   "mimetype": "text/x-python",
   "name": "python",
   "nbconvert_exporter": "python",
   "pygments_lexer": "ipython3",
   "version": "3.10.13"
  }
 },
 "nbformat": 4,
 "nbformat_minor": 5
}
