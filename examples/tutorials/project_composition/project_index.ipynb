{
 "cells": [
  {
   "cell_type": "markdown",
   "id": "2e422f35-7a08-4a50-a075-51a68b5c3994",
   "metadata": {},
   "source": [
    "# Project Index"
   ]
  },
  {
   "cell_type": "code",
   "execution_count": 1,
   "id": "26bffdcc-00ac-4adc-b3fd-974df44d09fd",
   "metadata": {},
   "outputs": [
    {
     "data": {
      "text/markdown": [
       "# Project Composition\n",
       "\n",
       "This example demostrates the use of [Jinja2 template inheritance](https://jinja.palletsprojects.com/en/3.1.x/templates/#template-inheritance).\n",
       "\n",
       "---\n",
       "\n",
       "In addition to YAML, there is a Jinja2 preprocessing stage which allows for things like macros and template inheritance. This can help eliminate unnecessary repition by factoring out the common elements in a set of configurtions.\n",
       "\n",
       "In this example, we define a base-template (\"list_base.yaml\") for defining a list and extend the definition for the first configuration, \"list.yaml.\" In the second configuration, \"full_list.yaml,\" we extend the definition of \"list.yaml.\"\n",
       "\n",
       "We use a list to keep this example simple, but this pattern is used extensively in the main Forgather template library for much more complex use-cases.\n",
       "\n",
       "## Project Setup\n",
       "\n",
       "The project meta-config is much the same as the first example project, although we only specify the default config this time, as the other defaults will work.\n",
       "\n",
       "## Configurations\n",
       "\n",
       "Under \"Available Configurations,\" there are two configs listed:\n",
       "- list.yaml : A short list, derived from base_list.yaml\n",
       "- full_list.yaml : Alonger list, derived from list.yaml\n",
       "\n",
       "## Included Templates\n",
       "\n",
       "Note the hierarchical template listing for the selected configuration. You can examine the referenced templates by clicking on the links in the index.\n",
       "\n",
       "---\n",
       "\n",
       "\n",
       "\n",
       "#### Project Directory: \"/home/dinalt/ai_assets/forgather/examples/tutorials/project_composition\"\n",
       "\n",
       "## Meta Config\n",
       "Meta Config: [/home/dinalt/ai_assets/forgather/examples/tutorials/project_composition/meta.yaml](meta.yaml)\n",
       "\n",
       "- [meta.yaml](meta.yaml)\n",
       "\n",
       "Template Search Paths:\n",
       "- [/home/dinalt/ai_assets/forgather/examples/tutorials/project_composition/templates](templates)\n",
       "\n",
       "## Available Configurations\n",
       "- [full_list.yaml](templates/configs/full_list.yaml)\n",
       "- [list.yaml](templates/configs/list.yaml)\n",
       "\n",
       "Default Configuration: list.yaml\n",
       "\n",
       "## Available Templates\n",
       "- [configs/full_list.yaml](templates/configs/full_list.yaml)\n",
       "- [configs/list.yaml](templates/configs/list.yaml)\n",
       "- [formatting.yaml](templates/formatting.yaml)\n",
       "- [list_base.yaml](templates/list_base.yaml)\n",
       "\n"
      ],
      "text/plain": [
       "<IPython.core.display.Markdown object>"
      ]
     },
     "metadata": {},
     "output_type": "display_data"
    }
   ],
   "source": [
    "import forgather.nb.notebooks as nb\n",
    "nb.display_project_index(show_available_templates=True)"
   ]
  },
  {
   "cell_type": "code",
   "execution_count": 2,
   "id": "676161e5-7dc0-4509-9fca-32d02a5d4f06",
   "metadata": {},
   "outputs": [
    {
     "data": {
      "text/markdown": [
       "## Included Templates\n",
       "- [configs/list.yaml](templates/configs/list.yaml)\n",
       "    - [list_base.yaml](templates/list_base.yaml)\n",
       "        - [formatting.yaml](templates/formatting.yaml)\n",
       "### Config Metadata:\n",
       "\n",
       "```python\n",
       "{'description': 'Construct a list', 'name': 'A short list'}\n",
       "\n",
       "```\n",
       "\n",
       "## Modules\n",
       "## Output Targets\n",
       "- meta\n",
       "- main\n",
       "\n"
      ],
      "text/plain": [
       "<IPython.core.display.Markdown object>"
      ]
     },
     "metadata": {},
     "output_type": "display_data"
    }
   ],
   "source": [
    "# Show default configuration.\n",
    "nb.display_config()"
   ]
  },
  {
   "cell_type": "markdown",
   "id": "6525a0d2-e368-46dd-af21-eae3b14b2170",
   "metadata": {},
   "source": [
    "---\n",
    "\n",
    "The default configuration, \"list.yaml\" looks like this:"
   ]
  },
  {
   "cell_type": "code",
   "execution_count": 3,
   "id": "ee90092e-a183-4954-b192-40fa4e2bc1f9",
   "metadata": {},
   "outputs": [
    {
     "data": {
      "text/markdown": [
       "```yaml\n",
       "-- extends \"list_base.yaml\"\n",
       "\n",
       "## Override config name\n",
       "-- block project_meta\n",
       "    == super()\n",
       "    -- set ns.config_name = \"A short list\"\n",
       "<< endblock project_meta\n",
       "\n",
       "\n",
       "-- block list\n",
       "    - Alpha\n",
       "    - Bravo\n",
       "    - Charlie\n",
       "    - Delta\n",
       "<< endblock list\n",
       "\n",
       "```\n",
       "\n"
      ],
      "text/plain": [
       "<IPython.core.display.Markdown object>"
      ]
     },
     "metadata": {},
     "output_type": "display_data"
    }
   ],
   "source": [
    "with open(\"./templates/configs/list.yaml\", \"r\") as f:\n",
    "    nb.display_codeblock(\"yaml\", f.read())"
   ]
  },
  {
   "cell_type": "markdown",
   "id": "0d972308-7785-41c9-9f9e-f1210bf9e6ef",
   "metadata": {},
   "source": [
    "---\n",
    "\n",
    "If you are familiar with Jinja2, the first thing you may notice is that we are using \"[line-statements](https://jinja.palletsprojects.com/en/stable/templates/#line-statements),\" where the following are equivalent:\n",
    "\n",
    "```jinja2\n",
    "{% extends \"list_base.yaml\" %}\n",
    "{# Override config name #}\n",
    "```\n",
    "\n",
    "and this...\n",
    "\n",
    "```yaml\n",
    "-- extends \"list_base.yaml\"\n",
    "## Override config name\n",
    "```\n",
    "\n",
    "Both of the above are Jinja2 statements and comments, respectively. You can use either style.\n",
    "\n",
    "Jinja allows [template inheritance](https://jinja.palletsprojects.com/en/stable/templates/#template-inheritance), where the \"extends\" statements indicates that this file is a \"child\"  of \"list_base.yaml.\"\n",
    "\n",
    "A child template may override the \"blocks\" of its parent, which replaces the parent's definition. The parent's definition may be included in the child with \"super().\"\n",
    "\n",
    "```yaml\n",
    "-- block project_meta\n",
    "    == super()\n",
    "    -- set ns.config_name = \"A short list\"\n",
    "<< endblock project_meta\n",
    "```\n",
    "\n",
    "Here, we are overriding a block named \"project_meta\" by appending to the original definition.\n",
    "\n",
    "Let's take a look at the parent definition."
   ]
  },
  {
   "cell_type": "code",
   "execution_count": 4,
   "id": "c2cc0dbf-3d57-4a9f-8237-1d62f810b55d",
   "metadata": {},
   "outputs": [
    {
     "data": {
      "text/markdown": [
       "```yaml\n",
       "## Create a new namespace\n",
       "-- set ns = namespace()\n",
       "\n",
       "## Import formatting marcos\n",
       "-- from 'formatting.yaml' import h1, sep\n",
       "\n",
       "## Strip any whitespace generated by the definitions\n",
       "-- filter trim()\n",
       "\n",
       "\n",
       "## Define project meta-data\n",
       "-- block project_meta\n",
       "    -- set ns.config_name = \"Anonymous\"\n",
       "    -- set ns.config_description = \"Construct a list\"\n",
       "<< endblock project_meta\n",
       "\n",
       "\n",
       "-- endfilter ## filter trim() setup\n",
       "== h1(ns.config_name)\n",
       "-- block header\n",
       "# {{ utcisotime() }}\n",
       "# Description: {{ ns.config_description }}\n",
       "# Project Dir: {{ abspath(project_dir) }}\n",
       "<< endblock header\n",
       "== '\\n' + sep()\n",
       "\n",
       "\n",
       "meta:\n",
       "-- block meta\n",
       "    name: \"{{ ns.config_name }}\"\n",
       "    description: \"{{ ns.config_description }}\"\n",
       "<< endblock meta\n",
       "\n",
       "\n",
       "main:\n",
       "-- block list required\n",
       "## Define a list here\n",
       "<< endblock list\n",
       "\n",
       "```\n",
       "\n"
      ],
      "text/plain": [
       "<IPython.core.display.Markdown object>"
      ]
     },
     "metadata": {},
     "output_type": "display_data"
    }
   ],
   "source": [
    "with open(\"./templates/list_base.yaml\", \"r\") as f:\n",
    "    nb.display_codeblock(\"yaml\", f.read())"
   ]
  },
  {
   "cell_type": "markdown",
   "id": "628ba63c-62cb-43cc-a600-04f01e052a34",
   "metadata": {},
   "source": [
    "---\n",
    "\n",
    "Let's break some of this down...\n",
    "\n",
    "The first statement defines a [Jinja2 namespace](https://jinja.palletsprojects.com/en/stable/templates/#assignments):\n",
    "\n",
    "```yaml\n",
    "-- set ns = namespace()\n",
    "```\n",
    "\n",
    "What is the purpose of the namespace?\n",
    "\n",
    "> Please keep in mind that it is not possible to set variables inside a block and have them show up outside of it.\n",
    "\n",
    "A namespace allows us to side-step this restriction, thus if a block assigns a variable in a namepace, the change will be visisble outside of that block.\n",
    "\n",
    "```yaml\n",
    "-- from 'formatting.yaml' import h1, sep\n",
    "```\n",
    "\n",
    "In the above, we are importing macros from a template named 'formatting.yaml'\n",
    "\n",
    "```jinja2\n",
    "{%- macro h2(name='Heading 2') %}{{ \"{:#^40}\".format(' ' + name + ' ') }}{% endmacro %}\n",
    "{%- macro h3(name='Heading 3') %}{{ '# **' + name + '**' }}{% endmacro %}\n",
    "{%- macro h4(name='Heading 4') %}{{ '# ' + name }}{% endmacro %}\n",
    "{%- macro sep() %}{{ '#' + \"{:-^39}\".format('') }}{% endmacro %}\n",
    "{%- macro h1(name='Title') %}\n",
    "{{ sep() }}\n",
    "{{ '# ' + \"{:^39}\".format(' ' + name + ' ') }}\n",
    "{{ sep() }}\n",
    "{%- endmacro %}\n",
    "```\n",
    "\n",
    "Specifically, we are importing the macros named 'h1' and 'sep,' short for 'Heading-1' and 'separator,' which we will use for text formatting.\n",
    "\n",
    "```yaml\n",
    "-- filter trim()\n",
    "...\n",
    "-- endfilter\n",
    "```\n",
    "\n",
    "This pair of matched statements filters extra whitespace from the resulting output.\n",
    "\n",
    "```yaml\n",
    "-- block project_meta\n",
    "    -- set ns.config_name = \"Anonymous\"\n",
    "    -- set ns.config_description = \"Construct a list\"\n",
    "<< endblock project_meta\n",
    "```\n",
    "\n",
    "This defines a block of text, with the tag 'project_meta.' This block sets a couple of Jinja2 variables, which can be overriden by redefining them in a child template.\n",
    "\n",
    "Note the '<<' line-statement. This functions as a normal line-statement, except it also strips empty lines on the side where the \"arrows\" are pointing. This is not required, but can make the resulting output a bit cleaner.\n",
    "\n",
    "```yaml\n",
    "== h1(ns.config_name)\n",
    "-- block header\n",
    "# {{ utcisotime() }}\n",
    "# Description: {{ ns.config_description }}\n",
    "# Project Dir: {{ abspath(project_dir) }}\n",
    "<< endblock header\n",
    "```\n",
    "\n",
    "The first line uses the 'h1' macro. The '==' means that this replaces that line with the output of the statement. It is equivalent to:\n",
    "\n",
    "```jinja2\n",
    "{{ h1(ns.config_name) }}\n",
    "```\n",
    "\n",
    "In this case, the macro substitution will result in this output:\n",
    "\n",
    "```yaml\n",
    "#---------------------------------------\n",
    "#              A short list              \n",
    "#---------------------------------------\n",
    "```\n",
    "\n",
    "The remaiing lines in the block generate yaml comments, with the contents substitued by Jinja2 variables and functions.\n",
    "\n",
    "These following two lines are pure YAML. They define dictionary keys at the root of the configuration and correspond to the available output-targets of the configuration.\n",
    "\n",
    "```yaml\n",
    "meta:\n",
    "...\n",
    "\n",
    "main:\n",
    "```\n",
    "\n",
    "\n",
    "### A Small Digression\n",
    "\n",
    "In some of the examples, you may encouter encounter dictionary keys prefixed with a dot.\n",
    "\n",
    "```yaml\n",
    ".define: &something \"A string\"\n",
    "```\n",
    "\n",
    "The dot specifies that the key will be hidden from the list of output-targets. Even though it is no longer a target, it still has a purpose; it has a Yaml anchor, \"&something,\" which can be substituted elsewhere in the configuraiton. This is used to define something which may be used more than once in the output, but cannot be directly constructed e.g.\n",
    "\n",
    "```yaml\n",
    "my_list:\n",
    "    - *something\n",
    "\n",
    "my_dict:\n",
    "    something: *something\n",
    "```\n",
    "\n",
    "The above defines two output targets, my_list and my_dict, which both include the same instance of \"something,\" whatever than happens to be."
   ]
  },
  {
   "cell_type": "markdown",
   "id": "7fa0e750-d7e2-415f-a1b6-8c7068948a3c",
   "metadata": {},
   "source": [
    "---\n",
    "\n",
    "## The Project Class\n",
    "\n",
    "The high-level interface for constructing the objects defined by a project configuration is the 'Project' class. The project object has the following dataclass members:\n",
    "\n",
    "- config_name : The name of the selected configuration; automatically populated with the default, if unspecified.\n",
    "- project_dir : The absolute path to the project directory.\n",
    "- meta : The project's meta-config.\n",
    "- environment : The projects config envrionment.\n",
    "- config : The constructed node-graph, representing the configuration.\n",
    "- pp_config : The pre-processed configuration."
   ]
  },
  {
   "cell_type": "code",
   "execution_count": 5,
   "id": "279a5ece-b860-48a7-9b4b-102286292fef",
   "metadata": {},
   "outputs": [
    {
     "name": "stdout",
     "output_type": "stream",
     "text": [
      "Project(config_name='list.yaml',\n",
      "        project_dir='/home/dinalt/ai_assets/forgather/examples/tutorials/project_composition',\n",
      "        meta=MetaConfig(project_dir='/home/dinalt/ai_assets/forgather/examples/tutorials/project_composition',\n",
      "                        name='meta.yaml',\n",
      "                        meta_path='/home/dinalt/ai_assets/forgather/examples/tutorials/project_composition/meta.yaml',\n",
      "                        searchpath=['/home/dinalt/ai_assets/forgather/examples/tutorials/project_composition/templates'],\n",
      "                        system_path=None,\n",
      "                        config_prefix='configs',\n",
      "                        default_cfg='list.yaml',\n",
      "                        config_dict={'default_config': 'list.yaml'},\n",
      "                        workspace_root='/home/dinalt/ai_assets/forgather'),\n",
      "        environment=<forgather.config.ConfigEnvironment object at 0x7f16823365c0>,\n",
      "        config={'meta': {'name': 'A short list',\n",
      "                         'description': 'Construct a list'},\n",
      "                'main': ['Alpha', 'Bravo', 'Charlie', 'Delta']},\n",
      "        pp_config='\\n'\n",
      "                  '\\n'\n",
      "                  '#---------------------------------------\\n'\n",
      "                  '#              A short list              \\n'\n",
      "                  '#---------------------------------------\\n'\n",
      "                  '# 2025-06-19T23:10:36\\n'\n",
      "                  '# Description: Construct a list\\n'\n",
      "                  '# Project Dir: '\n",
      "                  '/home/dinalt/ai_assets/forgather/examples/tutorials/project_composition\\n'\n",
      "                  '#---------------------------------------\\n'\n",
      "                  '\\n'\n",
      "                  '\\n'\n",
      "                  'meta:\\n'\n",
      "                  '    name: \"A short list\"\\n'\n",
      "                  '    description: \"Construct a list\"\\n'\n",
      "                  '\\n'\n",
      "                  'main:\\n'\n",
      "                  '    - Alpha\\n'\n",
      "                  '    - Bravo\\n'\n",
      "                  '    - Charlie\\n'\n",
      "                  '    - Delta')\n"
     ]
    }
   ],
   "source": [
    "from forgather import Project\n",
    "from pprint import pp\n",
    "\n",
    "# This load the default configuration into the project object, but an actual instance has not yet been constructed.\n",
    "proj = Project()\n",
    "pp(proj)"
   ]
  },
  {
   "cell_type": "markdown",
   "id": "faf8cb26-11b4-42eb-b729-ec08a7f96ff9",
   "metadata": {},
   "source": [
    "### Display Project Attributes\n",
    "\n",
    "There are a number of helper functions in the Noteboot module which can help with rendering project attributes."
   ]
  },
  {
   "cell_type": "code",
   "execution_count": 6,
   "id": "40959e33-3bcd-4f97-a6fc-d8e44eb41ac3",
   "metadata": {},
   "outputs": [
    {
     "data": {
      "text/markdown": [
       "Meta Config: [/home/dinalt/ai_assets/forgather/examples/tutorials/project_composition/meta.yaml](meta.yaml)\n",
       "\n",
       "- [meta.yaml](meta.yaml)\n",
       "\n",
       "Template Search Paths:\n",
       "- [/home/dinalt/ai_assets/forgather/examples/tutorials/project_composition/templates](templates)\n",
       "\n"
      ],
      "text/plain": [
       "<IPython.core.display.Markdown object>"
      ]
     },
     "metadata": {},
     "output_type": "display_data"
    }
   ],
   "source": [
    "import forgather.nb.notebooks as nb\n",
    "\n",
    "nb.display_meta(proj.meta)"
   ]
  },
  {
   "cell_type": "code",
   "execution_count": 7,
   "id": "5e0dc4ec-3722-41f8-87fb-711a137b3b00",
   "metadata": {},
   "outputs": [
    {
     "data": {
      "text/markdown": [
       "```yaml\n",
       "\n",
       "\n",
       "#---------------------------------------\n",
       "#              A short list              \n",
       "#---------------------------------------\n",
       "# 2025-06-19T23:10:36\n",
       "# Description: Construct a list\n",
       "# Project Dir: /home/dinalt/ai_assets/forgather/examples/tutorials/project_composition\n",
       "#---------------------------------------\n",
       "\n",
       "\n",
       "meta:\n",
       "    name: \"A short list\"\n",
       "    description: \"Construct a list\"\n",
       "\n",
       "main:\n",
       "    - Alpha\n",
       "    - Bravo\n",
       "    - Charlie\n",
       "    - Delta\n",
       "\n",
       "```\n",
       "\n"
      ],
      "text/plain": [
       "<IPython.core.display.Markdown object>"
      ]
     },
     "metadata": {},
     "output_type": "display_data"
    }
   ],
   "source": [
    "nb.display_codeblock(\"yaml\", proj.pp_config)"
   ]
  },
  {
   "cell_type": "markdown",
   "id": "c3828982-8d6c-4fc2-9193-c096260ef8d2",
   "metadata": {},
   "source": [
    "## Display the Node Graph\n",
    "\n",
    "The node-graph (proj.config) defines how to construct the defined object.\n",
    "\n",
    "A simple config, like the one defined in this project, is easy enough to interpret by just printing it. It may make it a little easier, if we add Python syntax highlighting."
   ]
  },
  {
   "cell_type": "code",
   "execution_count": 8,
   "id": "8297bc21-c470-42fc-bee9-16d0e5c686f2",
   "metadata": {},
   "outputs": [
    {
     "data": {
      "text/markdown": [
       "```python\n",
       "{'meta': {'name': 'A short list', 'description': 'Construct a list'}, 'main': ['Alpha', 'Bravo', 'Charlie', 'Delta']}\n",
       "\n",
       "```\n",
       "\n"
      ],
      "text/plain": [
       "<IPython.core.display.Markdown object>"
      ]
     },
     "metadata": {},
     "output_type": "display_data"
    }
   ],
   "source": [
    "nb.display_codeblock(\"python\", proj.config)"
   ]
  },
  {
   "cell_type": "markdown",
   "id": "18553468-c5f1-41d9-833d-fc97d8daa87a",
   "metadata": {},
   "source": [
    "### Display as YAML\n",
    "\n",
    "The node-graph can be rendered as YAML, which may be helpful for more complex graphs."
   ]
  },
  {
   "cell_type": "code",
   "execution_count": 9,
   "id": "4e70d0e9-5b39-4d93-9961-44dc45b0e377",
   "metadata": {},
   "outputs": [
    {
     "data": {
      "text/markdown": [
       "```yaml\n",
       "meta: \n",
       "    name: 'A short list'\n",
       "    description: 'Construct a list'\n",
       "main: \n",
       "    - 'Alpha'\n",
       "    - 'Bravo'\n",
       "    - 'Charlie'\n",
       "    - 'Delta'\n",
       "\n",
       "```\n",
       "\n"
      ],
      "text/plain": [
       "<IPython.core.display.Markdown object>"
      ]
     },
     "metadata": {},
     "output_type": "display_data"
    }
   ],
   "source": [
    "from forgather.yaml_encoder import to_yaml\n",
    "\n",
    "nb.display_codeblock(\"yaml\", to_yaml(proj.config))"
   ]
  },
  {
   "cell_type": "markdown",
   "id": "067d4f83-1a0d-404d-9ef7-b6d6016c380c",
   "metadata": {},
   "source": [
    "### Display as Python Code\n",
    "\n",
    "Another option is to render the code graph as the equivalent Python code."
   ]
  },
  {
   "cell_type": "code",
   "execution_count": 10,
   "id": "dbc2f718-73e0-4649-b77f-1c0f048ebb84",
   "metadata": {},
   "outputs": [
    {
     "data": {
      "text/markdown": [
       "```python\n",
       "def construct(\n",
       "):\n",
       "    \n",
       "    \n",
       "    return {\n",
       "        'meta': {\n",
       "            'name': 'A short list',\n",
       "            'description': 'Construct a list',\n",
       "        },\n",
       "        'main': [\n",
       "            'Alpha',\n",
       "            'Bravo',\n",
       "            'Charlie',\n",
       "            'Delta',\n",
       "        ],\n",
       "    }\n",
       "\n",
       "```\n",
       "\n"
      ],
      "text/plain": [
       "<IPython.core.display.Markdown object>"
      ]
     },
     "metadata": {},
     "output_type": "display_data"
    }
   ],
   "source": [
    "from forgather.codegen import generate_code\n",
    "\n",
    "nb.display_codeblock(\"python\", generate_code(proj.config))"
   ]
  },
  {
   "cell_type": "markdown",
   "id": "ac2d3018-17c8-43b8-9a7e-cabf32b8027d",
   "metadata": {},
   "source": [
    "---\n",
    "\n",
    "## Object Construction\n",
    "Calling the project object, without arguments, will instantiate the 'main' target object."
   ]
  },
  {
   "cell_type": "code",
   "execution_count": 11,
   "id": "c0ea5fde-35e8-40d1-b506-131fe4b9b2cc",
   "metadata": {},
   "outputs": [
    {
     "name": "stdout",
     "output_type": "stream",
     "text": [
      "['Alpha', 'Bravo', 'Charlie', 'Delta']\n"
     ]
    }
   ],
   "source": [
    "phonetic_alphabet = proj()\n",
    "pp(phonetic_alphabet)"
   ]
  },
  {
   "cell_type": "markdown",
   "id": "064cde7d-3f2d-4f0a-8ca9-fb0b51c3848a",
   "metadata": {},
   "source": [
    "Calling the project object with a single positional string argument will construct and return the specified target."
   ]
  },
  {
   "cell_type": "code",
   "execution_count": 12,
   "id": "4a1c03ca-8c46-4aef-8525-8a19c036e9a0",
   "metadata": {},
   "outputs": [
    {
     "data": {
      "text/plain": [
       "{'name': 'A short list', 'description': 'Construct a list'}"
      ]
     },
     "execution_count": 12,
     "metadata": {},
     "output_type": "execute_result"
    }
   ],
   "source": [
    "proj(\"meta\")"
   ]
  },
  {
   "cell_type": "markdown",
   "id": "7644c4f2-64bd-4e9e-a749-8b14c82ac132",
   "metadata": {},
   "source": [
    "Calling the project object with an iterable of strings will return a dictionary of the specified targets."
   ]
  },
  {
   "cell_type": "code",
   "execution_count": 13,
   "id": "3ab6d93c-2106-4e92-8716-29ec74abcf3d",
   "metadata": {},
   "outputs": [
    {
     "data": {
      "text/plain": [
       "{'meta': {'name': 'A short list', 'description': 'Construct a list'},\n",
       " 'main': ['Alpha', 'Bravo', 'Charlie', 'Delta']}"
      ]
     },
     "execution_count": 13,
     "metadata": {},
     "output_type": "execute_result"
    }
   ],
   "source": [
    "proj([\"main\", \"meta\"])"
   ]
  },
  {
   "cell_type": "markdown",
   "id": "ec5d9f53-1997-4421-8b05-f14d19cf5a8d",
   "metadata": {},
   "source": [
    "If a target does not exist, the corresponding key will be absent from the output. "
   ]
  },
  {
   "cell_type": "code",
   "execution_count": 14,
   "id": "40b70ea8-42a5-4dcb-b46a-c4bc8f8f1584",
   "metadata": {},
   "outputs": [
    {
     "data": {
      "text/plain": [
       "{'main': ['Alpha', 'Bravo', 'Charlie', 'Delta']}"
      ]
     },
     "execution_count": 14,
     "metadata": {},
     "output_type": "execute_result"
    }
   ],
   "source": [
    "proj([\"main\", \"foo\"])"
   ]
  },
  {
   "cell_type": "markdown",
   "id": "905a9aff-c5e0-400d-a055-7e40bf3981a2",
   "metadata": {},
   "source": [
    "Calling the project with individual string arguments returns an iterable."
   ]
  },
  {
   "cell_type": "code",
   "execution_count": 17,
   "id": "7b59070c-2ff5-4c70-978b-5e1db03604a1",
   "metadata": {},
   "outputs": [
    {
     "data": {
      "text/plain": [
       "(['Alpha', 'Bravo', 'Charlie', 'Delta'],\n",
       " {'name': 'A short list', 'description': 'Construct a list'})"
      ]
     },
     "execution_count": 17,
     "metadata": {},
     "output_type": "execute_result"
    }
   ],
   "source": [
    "main, meta = proj(\"main\", \"meta\")\n",
    "main, meta"
   ]
  },
  {
   "cell_type": "markdown",
   "id": "8ef09f76-42b6-440c-a1a7-e6d188afe7c8",
   "metadata": {},
   "source": [
    "### Selecting a Project Configuration\n",
    "\n",
    "If there is more than one available configuration, the configuration can be passed as an argument."
   ]
  },
  {
   "cell_type": "code",
   "execution_count": 18,
   "id": "b2cb8fcb-585d-475f-8f3a-17512771fa7f",
   "metadata": {},
   "outputs": [
    {
     "data": {
      "text/plain": [
       "['Alpha', 'Bravo', 'Charlie', 'Delta']"
      ]
     },
     "execution_count": 18,
     "metadata": {},
     "output_type": "execute_result"
    }
   ],
   "source": [
    "proj = Project(\"list.yaml\")\n",
    "proj()"
   ]
  },
  {
   "cell_type": "markdown",
   "id": "8eeb8fc5-5c05-448a-ae74-67ba70b34efb",
   "metadata": {},
   "source": [
    "Alternatively, the configuraiton for ab existing project can be changed."
   ]
  },
  {
   "cell_type": "code",
   "execution_count": 19,
   "id": "1363178c-b240-48e5-b92c-8a8e71c297cc",
   "metadata": {},
   "outputs": [
    {
     "data": {
      "text/plain": [
       "['Alpha',\n",
       " 'Bravo',\n",
       " 'Charlie',\n",
       " 'Delta',\n",
       " 'Echo',\n",
       " 'Foxtrot',\n",
       " 'Golf',\n",
       " 'Hotel',\n",
       " 'India',\n",
       " 'Julliet',\n",
       " 'Kilo',\n",
       " 'Lima',\n",
       " 'Mike',\n",
       " 'November',\n",
       " 'Oscar',\n",
       " 'Papa',\n",
       " 'Quebec',\n",
       " 'Romeo',\n",
       " 'Sierra',\n",
       " 'Tango',\n",
       " 'Uniform',\n",
       " 'Victor',\n",
       " 'Whisky',\n",
       " 'X-Ray',\n",
       " 'Yankee',\n",
       " 'Zulu']"
      ]
     },
     "execution_count": 19,
     "metadata": {},
     "output_type": "execute_result"
    }
   ],
   "source": [
    "proj.load_config(\"full_list.yaml\")\n",
    "proj()"
   ]
  },
  {
   "cell_type": "markdown",
   "id": "59f2c70e-8f10-4766-8bc6-38e244748029",
   "metadata": {},
   "source": [
    "---\n",
    "## Code Execution\n",
    "\n",
    "How can I execute dynamically generated code?\n",
    "\n",
    "Please note that this is not how this works internally when constructing a configuration; the node graph is directly converted into the constructed object, without being first translated into code. There are still a few corner-cases where the generated code does not do exactly the same thing a directly constructing the configuration.\n",
    "\n",
    "The main known issue is that arguments passing arguments to lambdas does not work in generated code, but works when directly constructed."
   ]
  },
  {
   "cell_type": "code",
   "execution_count": 20,
   "id": "b6ba860e-437a-4c63-a1f1-016b097df507",
   "metadata": {},
   "outputs": [
    {
     "data": {
      "text/markdown": [
       "## Generated Code\n",
       "\n",
       "```python\n",
       "def construct(\n",
       "):\n",
       "    \n",
       "    \n",
       "    return [\n",
       "        'Alpha',\n",
       "        'Bravo',\n",
       "        'Charlie',\n",
       "        'Delta',\n",
       "        'Echo',\n",
       "        'Foxtrot',\n",
       "        'Golf',\n",
       "        'Hotel',\n",
       "        'India',\n",
       "        'Julliet',\n",
       "        'Kilo',\n",
       "        'Lima',\n",
       "        'Mike',\n",
       "        'November',\n",
       "        'Oscar',\n",
       "        'Papa',\n",
       "        'Quebec',\n",
       "        'Romeo',\n",
       "        'Sierra',\n",
       "        'Tango',\n",
       "        'Uniform',\n",
       "        'Victor',\n",
       "        'Whisky',\n",
       "        'X-Ray',\n",
       "        'Yankee',\n",
       "        'Zulu',\n",
       "    ]\n",
       "\n",
       "```\n",
       "\n"
      ],
      "text/plain": [
       "<IPython.core.display.Markdown object>"
      ]
     },
     "metadata": {},
     "output_type": "display_data"
    },
    {
     "data": {
      "text/markdown": [
       "## Code Output\n",
       "\n",
       "```python\n",
       "['Alpha', 'Bravo', 'Charlie', 'Delta', 'Echo', 'Foxtrot', 'Golf', 'Hotel', 'India', 'Julliet', 'Kilo', 'Lima', 'Mike', 'November', 'Oscar', 'Papa', 'Quebec', 'Romeo', 'Sierra', 'Tango', 'Uniform', 'Victor', 'Whisky', 'X-Ray', 'Yankee', 'Zulu']\n",
       "\n",
       "```\n",
       "\n"
      ],
      "text/plain": [
       "<IPython.core.display.Markdown object>"
      ]
     },
     "metadata": {},
     "output_type": "display_data"
    }
   ],
   "source": [
    "from forgather.codegen import generate_code\n",
    "\n",
    "# The 'config' attribute of the project is the raw configuration node-graph.\n",
    "# The graph can be converted to executable Python code with 'generate_code'\n",
    "# Note that we can independenlty generate code for any node in the graph.\n",
    "generated_code = generate_code(proj(\"main\"))\n",
    "nb.display_codeblock(\"python\", generated_code, \"## Generated Code\\n\")\n",
    "\n",
    "# Calling 'exec' on the code is roughly equivlant to pasting the code into a cell\n",
    "# and executing the cell. With this configuration, it outputs a function named\n",
    "# 'construct,' which can be called to construct the configuration.\n",
    "exec(generated_code)\n",
    "\n",
    "phonetic_alphabet = construct()\n",
    "\n",
    "nb.display_codeblock(\"python\", phonetic_alphabet, \"## Code Output\\n\")"
   ]
  },
  {
   "cell_type": "code",
   "execution_count": null,
   "id": "abcbca3e-b549-422e-8bc9-bc9af7601cb0",
   "metadata": {},
   "outputs": [],
   "source": []
  }
 ],
 "metadata": {
  "kernelspec": {
   "display_name": "Python 3 (ipykernel)",
   "language": "python",
   "name": "python3"
  },
  "language_info": {
   "codemirror_mode": {
    "name": "ipython",
    "version": 3
   },
   "file_extension": ".py",
   "mimetype": "text/x-python",
   "name": "python",
   "nbconvert_exporter": "python",
   "pygments_lexer": "ipython3",
   "version": "3.10.13"
  }
 },
 "nbformat": 4,
 "nbformat_minor": 5
}
