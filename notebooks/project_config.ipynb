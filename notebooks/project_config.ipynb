{
 "cells": [
  {
   "cell_type": "markdown",
   "id": "2e422f35-7a08-4a50-a075-51a68b5c3994",
   "metadata": {},
   "source": [
    "# Configuration Notebook\n",
    "Useful for debugging configurations and viewing project configuration details."
   ]
  },
  {
   "cell_type": "markdown",
   "id": "a1c5a90f-6386-4b8e-89ce-ec19195f7dff",
   "metadata": {},
   "source": [
    "## Setup\n",
    "Configure defaults and select a project."
   ]
  },
  {
   "cell_type": "code",
   "execution_count": null,
   "id": "26bffdcc-00ac-4adc-b3fd-974df44d09fd",
   "metadata": {},
   "outputs": [],
   "source": [
    "# Set defaults\n",
    "#default_projects_directory = '/home/dinalt/ai_assets/projects/experiments'\n",
    "default_projects_directory = '../examples/trainers'\n",
    "default_project = \"dynamic_models\"\n",
    "config_template = \"\"\n",
    "\n",
    "from ipyfilechooser import FileChooser\n",
    "import os\n",
    "fc = FileChooser(\n",
    "    os.path.join(default_projects_directory, default_project), show_only_dirs=True,\n",
    "    title=\"Select a Project Directory\", select_default=True)\n",
    "display(fc)"
   ]
  },
  {
   "cell_type": "markdown",
   "id": "b4681a4d-fc01-43f7-a28f-308d6f4869b8",
   "metadata": {},
   "source": [
    "## Project Info\n",
    "\n",
    "This cell loads the import dependencies and the project meta-data from the selected project directory."
   ]
  },
  {
   "cell_type": "code",
   "execution_count": null,
   "id": "966a8a33-55a2-4ff0-b364-bd0ddbad4675",
   "metadata": {},
   "outputs": [],
   "source": [
    "import sys, os\n",
    "modules_path = os.path.join('..', 'src')\n",
    "if modules_path not in sys.path: sys.path.insert(0, modules_path)\n",
    "from pprint import pformat, pp\n",
    "from IPython import display as ds\n",
    "from forgather import Latent\n",
    "from forgather.config import ConfigEnvironment\n",
    "from forgather.codegen import generate_code\n",
    "from forgather.yaml_encoder import to_yaml\n",
    "from aiws.config import preprocessor_globals, MetaConfig\n",
    "import aiws.notebooks as nb\n",
    "\n",
    "assert os.path.exists(fc.selected_path), \"Project directory does not exist.\"\n",
    "nb.show_project_readme(fc.selected_path)\n",
    "\n",
    "# Get meta-config for project\n",
    "meta = MetaConfig(fc.selected_path)\n",
    "\n",
    "nb.display_meta(meta, \"### Meta Config\\n\")\n",
    "nb.list_templates(meta.find_templates(meta.config_prefix), \"### Available Configurations\\n\")\n",
    "\n",
    "# Get default config for project\n",
    "default_config = meta.default_config()\n",
    "print('-' * 60)\n",
    "print(f\"Default Configuration: {default_config}\")\n",
    "\n",
    "# Get the full name of the selected config template in the template name-space.\n",
    "# If empty, meta.config_path() will return the default template path.\n",
    "config_template_path = meta.config_path(config_template)\n",
    "print(f\"Selected Template Name: {config_template_path}\")"
   ]
  },
  {
   "cell_type": "markdown",
   "id": "c442e6d6-dab8-4e3d-8fff-b6ee71ccfe33",
   "metadata": {},
   "source": [
    "## List Available Templates\n",
    "This will list all templates within the searchpath."
   ]
  },
  {
   "cell_type": "code",
   "execution_count": null,
   "id": "f7753ff3-d9fe-4812-899d-60c38ac5c179",
   "metadata": {},
   "outputs": [],
   "source": [
    "def list_templates(prefix):\n",
    "    nb.list_templates(meta.find_templates(prefix), \"### Templates\\n\")\n",
    "list_templates('')"
   ]
  },
  {
   "cell_type": "markdown",
   "id": "f72a55f2-cf33-4eab-8c86-3f69212d2bc7",
   "metadata": {},
   "source": [
    "### Show Referenced Templates"
   ]
  },
  {
   "cell_type": "code",
   "execution_count": null,
   "id": "8d8295f7-de68-4c86-bc5d-662ebae902f9",
   "metadata": {},
   "outputs": [],
   "source": [
    "nb.display_referenced_templates_tree(environment, config_template_path, \"### Included Templates\\n\")"
   ]
  },
  {
   "cell_type": "markdown",
   "id": "a5fc8010-1a0b-4b88-8d5b-0020d40ccf1d",
   "metadata": {},
   "source": [
    "## Init Config Envrionment"
   ]
  },
  {
   "cell_type": "code",
   "execution_count": null,
   "id": "04301bba-b40e-4f36-b0ad-2e07b6cfe79a",
   "metadata": {},
   "outputs": [],
   "source": [
    "# Create configuration envrionment\n",
    "environment = ConfigEnvironment(\n",
    "    searchpath=meta.searchpath,\n",
    "    global_vars=preprocessor_globals(fc.selected_path),\n",
    ")"
   ]
  },
  {
   "cell_type": "markdown",
   "id": "1a029b39-51c2-4eb2-96b0-55f7d9c8176b",
   "metadata": {},
   "source": [
    "## Preprocess Configiguration\n",
    "Not required, but can be useful for diagnostics prior to YAML parsing."
   ]
  },
  {
   "cell_type": "code",
   "execution_count": null,
   "id": "e25284dc-c3fc-4b0a-8d3d-3554d7ad20bf",
   "metadata": {},
   "outputs": [],
   "source": [
    "pp_config = environment.preprocess(config_template_path)\n",
    "display(ds.Markdown(f\"#### Preprocessed Config\\n\" f\"```yaml\\n{pp_config}\\n```\\n\"))"
   ]
  },
  {
   "cell_type": "markdown",
   "id": "41db7eba-83e6-4c0d-86fb-4228d61b5a98",
   "metadata": {},
   "source": [
    "## Load Configuration\n",
    "\n",
    "This will both preprocess and parse (YAML) the template in a single step, returning both the node-graph and the pre-processed config."
   ]
  },
  {
   "cell_type": "code",
   "execution_count": null,
   "id": "d14e8c87-10f7-4f27-a007-4525621a1ceb",
   "metadata": {},
   "outputs": [],
   "source": [
    "config, pp_config = environment.load(config_template_path).get()"
   ]
  },
  {
   "cell_type": "markdown",
   "id": "40c38b86-86f2-4e0a-b717-1af806a01023",
   "metadata": {},
   "source": [
    "### Show Referenced Source Files\n",
    "\n",
    "Show referenced sub-modules within the same package.  \n",
    "For accurate results, the configuration must be instantiated."
   ]
  },
  {
   "cell_type": "code",
   "execution_count": null,
   "id": "434174da-3de0-4567-84b9-0c8a18eb5661",
   "metadata": {},
   "outputs": [],
   "source": [
    "nb.display_referenced_source_list(config, \"### Included Sources\\n\")"
   ]
  },
  {
   "cell_type": "markdown",
   "id": "8a4c79d6-c79c-45f3-9c64-e558192a7d17",
   "metadata": {},
   "source": [
    "### Render Configuration as YAML\n",
    "\n",
    "Note: The configuration graph is language independent. This merely translates the graph to YAML."
   ]
  },
  {
   "cell_type": "code",
   "execution_count": null,
   "id": "f8bdf697-8745-47f7-9ab1-d3ffdbdfa910",
   "metadata": {},
   "outputs": [],
   "source": [
    "display(ds.Markdown(f\"### Loaded Configuration\\n```yaml\\n{to_yaml(config)}\\n```\"))"
   ]
  },
  {
   "cell_type": "markdown",
   "id": "f8090ae8-226b-4fd2-8b3c-16987b76a3fc",
   "metadata": {},
   "source": [
    "### Render Configuration as Python\n",
    "\n",
    "This will display the configuraiton graph as Python code. This even works correctly for recursively generated code.\n",
    "\n",
    "While the render tries to faithfully generate code which is identical to what Latent.materialize(config) would do, it's an interpretation and may not always produce identical results.\n",
    "\n",
    "One known issue is that LambdaNodes, which take arguments, are not rendered correctly. They work fine with 'materialize(),' but the lambdas in the generated code don't accept arguments from their caller. While fixable, doing so is fairly complicated, and the author lacks an infinite supply of time.\n"
   ]
  },
  {
   "cell_type": "code",
   "execution_count": null,
   "id": "ab6f6dd9-8bf8-44fb-8c33-9f3e9efe1556",
   "metadata": {},
   "outputs": [],
   "source": [
    "generated_code = generate_code(config)\n",
    "display(ds.Markdown(f\"### Generated Source Code\\n```python\\n{generated_code}\\n```\"))"
   ]
  },
  {
   "cell_type": "markdown",
   "id": "a4848270-6d49-412f-a3a2-b72222461140",
   "metadata": {},
   "source": [
    "## Materialized Configuration\n",
    "\n",
    "Instantiate the configuration from the definition.\n",
    "This loads all of the referenced modules and instantiates the main output. Some configurations will run preprocessing when loaded, so this can take a moment.\n",
    "\n",
    "And don't run this if you don't trust the source of the configuration!"
   ]
  },
  {
   "cell_type": "code",
   "execution_count": null,
   "id": "4ce4a60c-ce9b-4738-9eb1-4deb39d559ee",
   "metadata": {},
   "outputs": [],
   "source": [
    "#from loguru import logger\n",
    "#logger.enable(\"forgather.latent\")\n",
    "\n",
    "config, pp_config = environment.load(meta.config_path(config_template)).get()\n",
    "\n",
    "# Note: We inject the pre-processed config as an argument, which can then be used to log this information.\n",
    "main_output = Latent.materialize(config, pp_config=pp_config)['main']\n",
    "pp(main_output)"
   ]
  },
  {
   "cell_type": "markdown",
   "id": "1c0aabd1-41c4-4540-80fe-9a2057455cd9",
   "metadata": {},
   "source": [
    "## Execute Generate Code\n",
    "\n",
    "This executes the generated code and calls 'construct()', the default factory function, to instantiate the configuration.\n",
    "\n",
    "In theory, the output should be identitical to calling Latent.materialize(config), but there are know differences (see section on code generation for details). "
   ]
  },
  {
   "cell_type": "code",
   "execution_count": null,
   "id": "ff5ed4aa-be0f-45f5-ba3f-e206818e4e5d",
   "metadata": {},
   "outputs": [],
   "source": [
    "exec(generated_code)\n",
    "main_output = construct(pp_config=pp_config)['main']\n",
    "pp(main_output)"
   ]
  },
  {
   "cell_type": "markdown",
   "id": "ec21d135-1575-4684-a639-ce1c38162063",
   "metadata": {},
   "source": [
    "### Run Configuration\n",
    "\n",
    "Assuming that this the output object has a 'run' method (training scripts do), the following will run it.\n",
    "\n",
    "For a more robust approach, see: [train.ipynb](train.ipynb)"
   ]
  },
  {
   "cell_type": "code",
   "execution_count": null,
   "id": "d9ccce36-feda-4ba1-8fb9-31a5b3d7871c",
   "metadata": {},
   "outputs": [],
   "source": [
    "main_output.run()"
   ]
  },
  {
   "cell_type": "markdown",
   "id": "98a8337a-08a2-411f-8173-4946347bcc4b",
   "metadata": {},
   "source": [
    "### Cleanup\n",
    "Note: These will show the target directory and ask for confirmation before proceeding."
   ]
  },
  {
   "cell_type": "markdown",
   "id": "0d8f81bf-d882-42fe-915c-f52336a4e774",
   "metadata": {},
   "source": [
    "#### Delete All"
   ]
  },
  {
   "cell_type": "code",
   "execution_count": null,
   "id": "96252b4b-1b5e-4538-85e3-c4616a7c32ee",
   "metadata": {},
   "outputs": [],
   "source": [
    "nb.delete_dir(config.meta['models_dir'], \"Delete all models in project\")"
   ]
  },
  {
   "cell_type": "markdown",
   "id": "6ee7e0b2-b8c3-4d77-88d7-fe17f80541b4",
   "metadata": {},
   "source": [
    "#### Delete Configuration Output Directory\n",
    "This will delete the model and logs for the current configuration."
   ]
  },
  {
   "cell_type": "code",
   "execution_count": null,
   "id": "980be21d-b95d-4ef5-baf4-2378e5971a9c",
   "metadata": {},
   "outputs": [],
   "source": [
    "nb.delete_dir(config.meta['output_dir'], \"Delete output directory\")"
   ]
  },
  {
   "cell_type": "code",
   "execution_count": null,
   "id": "8000891f-950d-4ce5-b298-c8601d1fb9a4",
   "metadata": {},
   "outputs": [],
   "source": []
  }
 ],
 "metadata": {
  "kernelspec": {
   "display_name": "Python 3 (ipykernel)",
   "language": "python",
   "name": "python3"
  },
  "language_info": {
   "codemirror_mode": {
    "name": "ipython",
    "version": 3
   },
   "file_extension": ".py",
   "mimetype": "text/x-python",
   "name": "python",
   "nbconvert_exporter": "python",
   "pygments_lexer": "ipython3",
   "version": "3.10.13"
  }
 },
 "nbformat": 4,
 "nbformat_minor": 5
}
