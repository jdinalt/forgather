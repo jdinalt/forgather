{
 "cells": [
  {
   "cell_type": "markdown",
   "id": "2e422f35-7a08-4a50-a075-51a68b5c3994",
   "metadata": {},
   "source": [
    "# Configuration Notebook\n",
    "Useful for debugging configurations and viewing project configuration details."
   ]
  },
  {
   "cell_type": "markdown",
   "id": "a1c5a90f-6386-4b8e-89ce-ec19195f7dff",
   "metadata": {},
   "source": [
    "## Setup\n",
    "Configure defaults and select a project."
   ]
  },
  {
   "cell_type": "code",
   "execution_count": 1,
   "id": "26bffdcc-00ac-4adc-b3fd-974df44d09fd",
   "metadata": {},
   "outputs": [
    {
     "data": {
      "application/vnd.jupyter.widget-view+json": {
       "model_id": "4ac003aa809140b8ba1ec449d1ef8362",
       "version_major": 2,
       "version_minor": 0
      },
      "text/plain": [
       "FileChooser(path='/home/dinalt/ai_assets/projects/models/transformer', filename='', title='Select a Project Di…"
      ]
     },
     "metadata": {},
     "output_type": "display_data"
    }
   ],
   "source": [
    "# Set defaults\n",
    "default_projects_directory = '/home/dinalt/ai_assets/projects/models'\n",
    "#default_projects_directory = '../examples/trainers'\n",
    "default_project = \"transformer\"\n",
    "\n",
    "# Use default, if empty.\n",
    "config_template = \"\"\n",
    "\n",
    "from ipyfilechooser import FileChooser\n",
    "import os\n",
    "fc = FileChooser(\n",
    "    os.path.join(default_projects_directory, default_project), show_only_dirs=True,\n",
    "    title=\"Select a Project Directory\", select_default=True)\n",
    "display(fc)"
   ]
  },
  {
   "cell_type": "markdown",
   "id": "b4681a4d-fc01-43f7-a28f-308d6f4869b8",
   "metadata": {},
   "source": [
    "## Project Info"
   ]
  },
  {
   "cell_type": "code",
   "execution_count": 2,
   "id": "966a8a33-55a2-4ff0-b364-bd0ddbad4675",
   "metadata": {},
   "outputs": [
    {
     "data": {
      "text/markdown": [
       "## Train Custom Model\n",
       "\n",
       "This example project demonstrates how to train a custom model."
      ],
      "text/plain": [
       "<IPython.core.display.Markdown object>"
      ]
     },
     "metadata": {},
     "output_type": "display_data"
    },
    {
     "data": {
      "text/markdown": [
       "### Meta Config\n",
       "Project Directory: /home/dinalt/ai_assets/projects/models/transformer\n",
       "\n",
       "Meta Config: [/home/dinalt/ai_assets/projects/models/transformer/meta.yaml](../../projects/models/transformer/meta.yaml)\n",
       "\n",
       "Template Search Paths:\n",
       "- [/home/dinalt/ai_assets/projects/models/transformer/templates](../../projects/models/transformer/templates)\n",
       "- [/home/dinalt/ai_assets/projects/templates](../../projects/templates)\n",
       "- [/home/dinalt/.config/forgather/templates](../../../.config/forgather/templates)\n",
       "- [/home/dinalt/ai_assets/forgather/templates](../templates)\n"
      ],
      "text/plain": [
       "<IPython.core.display.Markdown object>"
      ]
     },
     "metadata": {},
     "output_type": "display_data"
    },
    {
     "data": {
      "text/markdown": [
       "### Available Configurations\n",
       "- [default.yaml](../../projects/models/transformer/templates/configs/default.yaml)\n"
      ],
      "text/plain": [
       "<IPython.core.display.Markdown object>"
      ]
     },
     "metadata": {},
     "output_type": "display_data"
    },
    {
     "name": "stdout",
     "output_type": "stream",
     "text": [
      "------------------------------------------------------------\n",
      "Default Configuration: default.yaml\n"
     ]
    }
   ],
   "source": [
    "import sys, os\n",
    "modules_path = os.path.join('..', 'src')\n",
    "if modules_path not in sys.path: sys.path.insert(0, modules_path)\n",
    "from pprint import pformat, pp\n",
    "from IPython import display as ds\n",
    "from forgather.config import (\n",
    "    ConfigEnvironment,\n",
    "    pconfig\n",
    ")\n",
    "from aiws.config import preprocessor_globals, MetaConfig\n",
    "import aiws.notebooks as nb\n",
    "\n",
    "assert os.path.exists(fc.selected_path), \"Project directory does not exist.\"\n",
    "nb.show_project_readme(fc.selected_path)\n",
    "meta = MetaConfig(fc.selected_path)\n",
    "nb.display_meta(meta, \"### Meta Config\\n\")\n",
    "nb.list_templates(meta.find_templates(meta.config_prefix), \"### Available Configurations\\n\")\n",
    "default_config = meta.default_config()\n",
    "print('-' * 60)\n",
    "print(f\"Default Configuration: {default_config}\")"
   ]
  },
  {
   "cell_type": "markdown",
   "id": "c442e6d6-dab8-4e3d-8fff-b6ee71ccfe33",
   "metadata": {},
   "source": [
    "## List Available Templates\n",
    "This will list all templates within the searchpath."
   ]
  },
  {
   "cell_type": "code",
   "execution_count": 3,
   "id": "f7753ff3-d9fe-4812-899d-60c38ac5c179",
   "metadata": {},
   "outputs": [
    {
     "data": {
      "text/markdown": [
       "### Templates\n",
       "- [project.yaml](../../projects/models/transformer/templates/project.yaml)\n",
       "- [configs/default.yaml](../../projects/models/transformer/templates/configs/default.yaml)\n",
       "- [models/attnonly_transformer.yaml](../../projects/models/transformer/templates/models/attnonly_transformer.yaml)\n",
       "- [models/attn_only.yaml](../../projects/templates/models/attn_only.yaml)\n",
       "- [meta_defaults.yaml](../../../.config/forgather/templates/meta_defaults.yaml)\n",
       "- [paths.yaml](../../../.config/forgather/templates/paths.yaml)\n",
       "- [trainers/accel_trainer.yaml](../templates/trainers/accel_trainer.yaml)\n",
       "- [trainers/trainer.yaml](../templates/trainers/trainer.yaml)\n",
       "- [trainers/hf_trainer.yaml](../templates/trainers/hf_trainer.yaml)\n",
       "- [trainers/base_trainer.yaml](../templates/trainers/base_trainer.yaml)\n",
       "- [model_ctor/args.yaml](../templates/model_ctor/args.yaml)\n",
       "- [projects/tiny.yaml](../templates/projects/tiny.yaml)\n",
       "- [datasets/abstract/pretokenized_dataset.yaml](../templates/datasets/abstract/pretokenized_dataset.yaml)\n",
       "- [datasets/abstract/base_datasets.yaml](../templates/datasets/abstract/base_datasets.yaml)\n",
       "- [datasets/tiny/tiny_stories.yaml](../templates/datasets/tiny/tiny_stories.yaml)\n",
       "- [datasets/tiny/tiny_stories_abridged.yaml](../templates/datasets/tiny/tiny_stories_abridged.yaml)\n",
       "- [models/causal_transformer.yaml](../templates/models/causal_transformer.yaml)\n",
       "- [models/gpt2.yaml](../templates/models/gpt2.yaml)\n",
       "- [models/llama.yaml](../templates/models/llama.yaml)\n",
       "- [models/abstract/causal_lm_from_config.yaml](../templates/models/abstract/causal_lm_from_config.yaml)\n",
       "- [models/abstract/base_language_model.yaml](../templates/models/abstract/base_language_model.yaml)\n",
       "- [models/abstract/custom_causal_lm.yaml](../templates/models/abstract/custom_causal_lm.yaml)\n",
       "- [models/abstract/causal_lm_from_pretrained.yaml](../templates/models/abstract/causal_lm_from_pretrained.yaml)\n",
       "- [models/abstract/load_model.yaml](../templates/models/abstract/load_model.yaml)\n",
       "- [models/tiny/tiny_causal.yaml](../templates/models/tiny/tiny_causal.yaml)\n",
       "- [models/tiny/tiny_gpt2.yaml](../templates/models/tiny/tiny_gpt2.yaml)\n",
       "- [models/tiny/tiny_llama.yaml](../templates/models/tiny/tiny_llama.yaml)\n",
       "- [models/tiny/tiny_d128_l2.yaml](../templates/models/tiny/tiny_d128_l2.yaml)\n",
       "- [prompts/tiny_stories.yaml](../templates/prompts/tiny_stories.yaml)\n",
       "- [callbacks/base_callbacks.yaml](../templates/callbacks/base_callbacks.yaml)\n",
       "- [callbacks/loggers.yaml](../templates/callbacks/loggers.yaml)\n",
       "- [types/meta_template.yaml](../templates/types/meta_template.yaml)\n",
       "- [types/type.yaml](../templates/types/type.yaml)\n",
       "- [types/tokenizer/tokenizer.yaml](../templates/types/tokenizer/tokenizer.yaml)\n",
       "- [types/tokenizer/bpe/bpe.yaml](../templates/types/tokenizer/bpe/bpe.yaml)\n",
       "- [types/model/model_type.yaml](../templates/types/model/model_type.yaml)\n",
       "- [types/training_script/training_script.yaml](../templates/types/training_script/training_script.yaml)\n",
       "- [types/training_script/causal_lm/causal_lm.yaml](../templates/types/training_script/causal_lm/causal_lm.yaml)\n",
       "- [paths/example_paths.yaml](../templates/paths/example_paths.yaml)\n",
       "- [tokenizers/tiny_2k.yaml](../templates/tokenizers/tiny_2k.yaml)\n"
      ],
      "text/plain": [
       "<IPython.core.display.Markdown object>"
      ]
     },
     "metadata": {},
     "output_type": "display_data"
    }
   ],
   "source": [
    "def list_templates(prefix):\n",
    "    nb.list_templates(meta.find_templates(prefix), \"### Templates\\n\")\n",
    "list_templates('')"
   ]
  },
  {
   "cell_type": "markdown",
   "id": "41db7eba-83e6-4c0d-86fb-4228d61b5a98",
   "metadata": {},
   "source": [
    "## Configuration\n",
    "Set 'config_template' to the name of a configuration template in the project. See: \"Available Configurations\"\n",
    "If unspecified, the first configuration in the project will be used."
   ]
  },
  {
   "cell_type": "code",
   "execution_count": 4,
   "id": "d14e8c87-10f7-4f27-a007-4525621a1ceb",
   "metadata": {},
   "outputs": [
    {
     "data": {
      "text/markdown": [
       "### Preprocessed Configuration\n",
       "```yaml\n",
       "#-- set ns.config_description = \"\"#---------------------------------------\n",
       "#       Attention Only Transformer       \n",
       "#---------------------------------------\n",
       "# 2024-07-27T02:43:21\n",
       "# Description: Undefined\n",
       "# Project Dir: /home/dinalt/ai_assets/projects/models/transformer\n",
       "# Current Working Dir: \"/home/dinalt/ai_assets/forgather/notebooks\"\n",
       "# Forgather Config Dir: \"/home/dinalt/.config/forgather\"\n",
       "# Model: attn_only\n",
       "\n",
       "############# Config Vars ##############\n",
       "\n",
       "# ns.models_dir: \"/home/dinalt/ai_assets/projects/models/transformer/output_models\"\n",
       "# ns.tokenizers_dir: \"/home/dinalt/ai_assets/forgather/tokenizers\"\n",
       "# ns.datasets_dir: \"/home/dinalt/ai_assets/datasets\"\n",
       "# ns.model_src_dir: \"/home/dinalt/ai_assets/projects/model_src\"\n",
       "# ns.output_dir: \"/home/dinalt/ai_assets/projects/models/transformer/output_models/attn_only\"\n",
       "\n",
       "################ Model #################\n",
       "\n",
       ".define: &model_constructor_args {}\n",
       "\n",
       "# Name: Attention Only Transformer\n",
       "# Description: A causal transformer model, without a feed-forward layer.\n",
       "# model_def.cls = \"CausalTransformer\"\n",
       "# model_def.cfg_cls = \"CausalTransformerConfig\"\n",
       "# model_def.config_path = \"/home/dinalt/ai_assets/projects/model_src/attn_only.py\"\n",
       "# model_def.model_path = \"/home/dinalt/ai_assets/projects/model_src/attn_only.py\"\n",
       "\n",
       "# **Tokenizer**\n",
       "\n",
       "# Load custom tokenizer from sub-project definition\n",
       ".define: &tokenizer !callable:aiws.construct:load_from_config\n",
       "    project_dir: \"/home/dinalt/ai_assets/forgather/examples/tokenizers/tiny_stories_bpe\"\n",
       "    config_template: \"2k.yaml\"\n",
       "\n",
       "# **Model Config**\n",
       "\n",
       ".define: &model_config\n",
       "    # Set auto-map for custom model; this ensures that the source code stays with the model.\n",
       "    auto_map:\n",
       "        AutoConfig: \"attn_only.CausalTransformerConfig\"\n",
       "        AutoModel: \"attn_only.CausalTransformer\"\n",
       "    # Get the vocab-size from the tokenizer definition.\n",
       "    vocab_size: !callable:forgather.construct:length [ *tokenizer ]\n",
       "    pad_token_id: !callable:forgather.construct:get_attr [ *tokenizer, 'pad_token_id' ]\n",
       "    bos_token_id: !callable:forgather.construct:get_attr [ *tokenizer, 'bos_token_id' ]\n",
       "    eos_token_id: !callable:forgather.construct:get_attr [ *tokenizer, 'eos_token_id' ]\n",
       "    max_sequence_length: !callable:forgather.construct:get_attr [ *tokenizer, 'model_max_length' ]\n",
       "# Add 'bits' to model's module.\n",
       ".define: &model_submodule_searchpath\n",
       "    - \"/home/dinalt/ai_assets/projects/model_src/bits/transformer\"\n",
       "    - \"/home/dinalt/ai_assets/forgather/model_src/bits/transformer\"\n",
       "\n",
       "# **Model Constructor**\n",
       "\n",
       "# Custom transformer model; registers for AutoClass and will save code with weights.\n",
       ".define: &model !callable:aiws.construct:copy_package_files\n",
       "    # Source files will be copied to model directory.\n",
       "    - \"/home/dinalt/ai_assets/projects/models/transformer/output_models/attn_only\"\n",
       "    # Construct model from configuration.\n",
       "    - !callable:/home/dinalt/ai_assets/projects/model_src/attn_only.py:CausalTransformer\n",
       "        args:\n",
       "            - !callable:aiws.construct:copy_package_files\n",
       "                # Source files will be copied to model directory.\n",
       "                - \"/home/dinalt/ai_assets/projects/models/transformer/output_models/attn_only\"\n",
       "                # Construct configuration from config-args.\n",
       "                - !callable:/home/dinalt/ai_assets/projects/model_src/attn_only.py:CausalTransformerConfig\n",
       "                    submodule_searchpath: *model_submodule_searchpath\n",
       "                    <<: *model_config\n",
       "        kwargs:\n",
       "            submodule_searchpath: *model_submodule_searchpath\n",
       "            # Constructor args specify things like flash-attention.\n",
       "            <<: *model_constructor_args\n",
       "\n",
       "#---------------------------------------\n",
       "#          Configuration Output          \n",
       "#---------------------------------------\n",
       "meta: &meta_output\n",
       "    config_name: \"Attention Only Transformer\"\n",
       "    config_description: \"Undefined\"\n",
       "    project_dir: \"/home/dinalt/ai_assets/projects/models/transformer\"\n",
       "    models_dir: \"/home/dinalt/ai_assets/projects/models/transformer/output_models\"\n",
       "    tokenizers_dir: \"/home/dinalt/ai_assets/forgather/tokenizers\"\n",
       "    datasets_dir: \"/home/dinalt/ai_assets/datasets\"\n",
       "    output_dir: \"/home/dinalt/ai_assets/projects/models/transformer/output_models/attn_only\"\n",
       "    model_src_dir: \"/home/dinalt/ai_assets/projects/model_src\"\n",
       "\n",
       "main: !callable:aiws.dotdict:DotDict\n",
       "    model: *model\n",
       "    tokenizer: *tokenizer\n",
       "```\n"
      ],
      "text/plain": [
       "<IPython.core.display.Markdown object>"
      ]
     },
     "metadata": {},
     "output_type": "display_data"
    },
    {
     "data": {
      "text/markdown": [
       "### Included Templates\n",
       "- [configs/default.yaml](../../projects/models/transformer/templates/configs/default.yaml)\n",
       "    - [project.yaml](../../projects/models/transformer/templates/project.yaml)\n",
       "        - [types/model/model_type.yaml](../templates/types/model/model_type.yaml)\n",
       "            - [types/type.yaml](../templates/types/type.yaml)\n",
       "                - [inc/formatting.jinja](../templates/inc/formatting.jinja)\n",
       "        - [paths.yaml](../../../.config/forgather/templates/paths.yaml)\n",
       "    - [models/attn_only.yaml](../../projects/templates/models/attn_only.yaml)\n",
       "        - [models/abstract/custom_causal_lm.yaml](../templates/models/abstract/custom_causal_lm.yaml)\n",
       "            - [models/abstract/base_language_model.yaml](../templates/models/abstract/base_language_model.yaml)\n",
       "                - [inc/formatting.jinja](../templates/inc/formatting.jinja)\n",
       "        - [tokenizers/tiny_2k.yaml](../templates/tokenizers/tiny_2k.yaml)\n"
      ],
      "text/plain": [
       "<IPython.core.display.Markdown object>"
      ]
     },
     "metadata": {},
     "output_type": "display_data"
    },
    {
     "data": {
      "text/markdown": [
       "### Included Sources\n",
       "- [/home/dinalt/ai_assets/projects/model_src/attn_only.py](../../projects/model_src/attn_only.py) : CausalTransformer\n",
       "- [/home/dinalt/ai_assets/projects/model_src/attn_only.py](../../projects/model_src/attn_only.py) : CausalTransformerConfig\n"
      ],
      "text/plain": [
       "<IPython.core.display.Markdown object>"
      ]
     },
     "metadata": {},
     "output_type": "display_data"
    },
    {
     "data": {
      "text/markdown": [
       "### Loaded Configuration\n"
      ],
      "text/plain": [
       "<IPython.core.display.Markdown object>"
      ]
     },
     "metadata": {},
     "output_type": "display_data"
    },
    {
     "name": "stdout",
     "output_type": "stream",
     "text": [
      "main:\n",
      "  Latent &140493817101088 'aiws.dotdict:DotDict'\n",
      "    model:\n",
      "      Latent &140493446089408 'aiws.construct:copy_package_files'\n",
      "        - '/home/dinalt/ai_assets/projects/models/transformer/output_models/attn_only'\n",
      "        - Latent &140493817100512 '/home/dinalt/ai_assets/projects/model_src/attn_only.py:CausalTransformer'\n",
      "          - Latent &140493446089120 'aiws.construct:copy_package_files'\n",
      "            - '/home/dinalt/ai_assets/projects/models/transformer/output_models/attn_only'\n",
      "            - Latent &140493817100608 '/home/dinalt/ai_assets/projects/model_src/attn_only.py:CausalTransformerConfig'\n",
      "              auto_map:\n",
      "                AutoConfig: 'attn_only.CausalTransformerConfig'\n",
      "                AutoModel: 'attn_only.CausalTransformer'\n",
      "              bos_token_id:\n",
      "                Latent &140493817619520 'forgather.construct:get_attr'\n",
      "                  - Latent &140493817613568 'aiws.construct:load_from_config'\n",
      "                    config_template: '2k.yaml'\n",
      "                    project_dir: '/home/dinalt/ai_assets/forgather/examples/tokenizers/tiny_stories_bpe'\n",
      "                  - 'bos_token_id'\n",
      "              eos_token_id:\n",
      "                Latent &140493817101280 'forgather.construct:get_attr'\n",
      "                  - Latent *140493817613568\n",
      "                  - 'eos_token_id'\n",
      "              max_sequence_length:\n",
      "                Latent &140493817101376 'forgather.construct:get_attr'\n",
      "                  - Latent *140493817613568\n",
      "                  - 'model_max_length'\n",
      "              pad_token_id:\n",
      "                Latent &140493817619328 'forgather.construct:get_attr'\n",
      "                  - Latent *140493817613568\n",
      "                  - 'pad_token_id'\n",
      "              vocab_size:\n",
      "                Latent &140493817614144 'forgather.construct:length'\n",
      "                  - Latent *140493817613568\n",
      "    tokenizer: Latent *140493817613568\n",
      "meta:\n",
      "  config_description: 'Undefined'\n",
      "  config_name: 'Attention Only Transformer'\n",
      "  datasets_dir: '/home/dinalt/ai_assets/datasets'\n",
      "  model_src_dir: '/home/dinalt/ai_assets/projects/model_src'\n",
      "  models_dir: '/home/dinalt/ai_assets/projects/models/transformer/output_models'\n",
      "  output_dir: '/home/dinalt/ai_assets/projects/models/transformer/output_models/attn_only'\n",
      "  project_dir: '/home/dinalt/ai_assets/projects/models/transformer'\n",
      "  tokenizers_dir: '/home/dinalt/ai_assets/forgather/tokenizers'\n"
     ]
    }
   ],
   "source": [
    "# Create configuration envrionment\n",
    "environment = ConfigEnvironment(\n",
    "    searchpath=meta.searchpath,\n",
    "    globals = preprocessor_globals(fc.selected_path),\n",
    ")\n",
    "\n",
    "config_template_path = meta.config_path(config_template)\n",
    "nb.display_preprocessed_template(environment, config_template_path, title=\"### Preprocessed Configuration\\n\")\n",
    "nb.display_referenced_templates_tree(environment, config_template_path, \"### Included Templates\\n\")\n",
    "config, pp_config = environment.load(config_template_path).get()\n",
    "nb.display_referenced_source_list(config, \"### Included Sources\\n\")\n",
    "display(ds.Markdown(\"### Loaded Configuration\\n\"))\n",
    "pconfig(config)"
   ]
  },
  {
   "cell_type": "markdown",
   "id": "eec11922-2ea5-4b21-9117-f79bf44369b1",
   "metadata": {},
   "source": [
    "## List Sub-Modules\n",
    "Show referenced sub-modules, within the same package, as the source files.\n",
    "This requires loading the module dependencies, which may take a moment.\n",
    "Don't run this, unless you trust the source."
   ]
  },
  {
   "cell_type": "code",
   "execution_count": 5,
   "id": "48ace26f-e182-4b90-938c-9c562970000b",
   "metadata": {},
   "outputs": [
    {
     "data": {
      "text/markdown": [
       "Sub-Modules\n",
       "- [/home/dinalt/ai_assets/projects/model_src/attn_only.py](../../projects/model_src/attn_only.py) : CausalTransformer\n",
       "    - [/home/dinalt/ai_assets/projects/model_src/attn_only.py](../../projects/model_src/attn_only.py) : attn_only\n",
       "        - [/home/dinalt/ai_assets/forgather/model_src/bits/transformer/causal_loss.py](../model_src/bits/transformer/causal_loss.py) : attn_only.causal_loss\n",
       "        - [/home/dinalt/ai_assets/forgather/model_src/bits/transformer/sinusoidal_pe.py](../model_src/bits/transformer/sinusoidal_pe.py) : attn_only.sinusoidal_pe\n",
       "        - [/home/dinalt/ai_assets/projects/model_src/bits/transformer/attn_only_layer.py](../../projects/model_src/bits/transformer/attn_only_layer.py) : attn_only.attn_only_layer\n",
       "        - [/home/dinalt/ai_assets/forgather/model_src/bits/transformer/causal_multihead_attn.py](../model_src/bits/transformer/causal_multihead_attn.py) : attn_only.causal_multihead_attn\n",
       "        - [/home/dinalt/ai_assets/forgather/model_src/bits/transformer/feedforward_layer.py](../model_src/bits/transformer/feedforward_layer.py) : attn_only.feedforward_layer\n",
       "- [/home/dinalt/ai_assets/projects/model_src/attn_only.py](../../projects/model_src/attn_only.py) : CausalTransformerConfig\n"
      ],
      "text/plain": [
       "<IPython.core.display.Markdown object>"
      ]
     },
     "metadata": {},
     "output_type": "display_data"
    }
   ],
   "source": [
    "nb.display_referenced_source_list(config, title=\"Sub-Modules\\n\", deep=True)"
   ]
  },
  {
   "cell_type": "markdown",
   "id": "a4848270-6d49-412f-a3a2-b72222461140",
   "metadata": {},
   "source": [
    "## Materialized Configuration\n",
    "\n",
    "Instantiate the configuration from the definition.\n",
    "This loads all of the referenced modules and instantiates the main output. Some configurations will run preprocessing when loaded, so this can take a moment.\n",
    "\n",
    "And don't run this if you don't trust the source of the configuration!"
   ]
  },
  {
   "cell_type": "code",
   "execution_count": 6,
   "id": "4ce4a60c-ce9b-4738-9eb1-4deb39d559ee",
   "metadata": {},
   "outputs": [
    {
     "name": "stdout",
     "output_type": "stream",
     "text": [
      "model:\n",
      "  CausalTransformer(\n",
      "    (embedding): Embedding(2000, 512)\n",
      "    (embedding_dropout): Dropout(p=0.1, inplace=False)\n",
      "    (decoder): Linear(in_features=512, out_features=2000, bias=True)\n",
      "    (positional_encoder): SinusoidalPE()\n",
      "    (layers): Sequential(\n",
      "      (0): AttnOnlyLayer(\n",
      "        (attention): CausalMultiheadAttn(\n",
      "          (query_linear): Linear(in_features=512, out_features=512, bias=True)\n",
      "          (key_linear): Linear(in_features=512, out_features=512, bias=True)\n",
      "          (value_linear): Linear(in_features=512, out_features=512, bias=True)\n",
      "          (output_linear): Linear(in_features=512, out_features=512, bias=True)\n",
      "          (dropout): Dropout(p=0.0, inplace=False)\n",
      "        )\n",
      "        (norm1): LayerNorm((512,), eps=1e-05, elementwise_affine=True)\n",
      "        (dropout): Dropout(p=0.1, inplace=False)\n",
      "        (residual_dropout): Dropout(p=0.0, inplace=False)\n",
      "      )\n",
      "      (1): AttnOnlyLayer(\n",
      "        (attention): CausalMultiheadAttn(\n",
      "          (query_linear): Linear(in_features=512, out_features=512, bias=True)\n",
      "          (key_linear): Linear(in_features=512, out_features=512, bias=True)\n",
      "          (value_linear): Linear(in_features=512, out_features=512, bias=True)\n",
      "          (output_linear): Linear(in_features=512, out_features=512, bias=True)\n",
      "          (dropout): Dropout(p=0.0, inplace=False)\n",
      "        )\n",
      "        (norm1): LayerNorm((512,), eps=1e-05, elementwise_affine=True)\n",
      "        (dropout): Dropout(p=0.1, inplace=False)\n",
      "        (residual_dropout): Dropout(p=0.0, inplace=False)\n",
      "      )\n",
      "      (2): AttnOnlyLayer(\n",
      "        (attention): CausalMultiheadAttn(\n",
      "          (query_linear): Linear(in_features=512, out_features=512, bias=True)\n",
      "          (key_linear): Linear(in_features=512, out_features=512, bias=True)\n",
      "          (value_linear): Linear(in_features=512, out_features=512, bias=True)\n",
      "          (output_linear): Linear(in_features=512, out_features=512, bias=True)\n",
      "          (dropout): Dropout(p=0.0, inplace=False)\n",
      "        )\n",
      "        (norm1): LayerNorm((512,), eps=1e-05, elementwise_affine=True)\n",
      "        (dropout): Dropout(p=0.1, inplace=False)\n",
      "        (residual_dropout): Dropout(p=0.0, inplace=False)\n",
      "      )\n",
      "      (3): AttnOnlyLayer(\n",
      "        (attention): CausalMultiheadAttn(\n",
      "          (query_linear): Linear(in_features=512, out_features=512, bias=True)\n",
      "          (key_linear): Linear(in_features=512, out_features=512, bias=True)\n",
      "          (value_linear): Linear(in_features=512, out_features=512, bias=True)\n",
      "          (output_linear): Linear(in_features=512, out_features=512, bias=True)\n",
      "          (dropout): Dropout(p=0.0, inplace=False)\n",
      "        )\n",
      "        (norm1): LayerNorm((512,), eps=1e-05, elementwise_affine=True)\n",
      "        (dropout): Dropout(p=0.1, inplace=False)\n",
      "        (residual_dropout): Dropout(p=0.0, inplace=False)\n",
      "      )\n",
      "      (4): AttnOnlyLayer(\n",
      "        (attention): CausalMultiheadAttn(\n",
      "          (query_linear): Linear(in_features=512, out_features=512, bias=True)\n",
      "          (key_linear): Linear(in_features=512, out_features=512, bias=True)\n",
      "          (value_linear): Linear(in_features=512, out_features=512, bias=True)\n",
      "          (output_linear): Linear(in_features=512, out_features=512, bias=True)\n",
      "          (dropout): Dropout(p=0.0, inplace=False)\n",
      "        )\n",
      "        (norm1): LayerNorm((512,), eps=1e-05, elementwise_affine=True)\n",
      "        (dropout): Dropout(p=0.1, inplace=False)\n",
      "        (residual_dropout): Dropout(p=0.0, inplace=False)\n",
      "      )\n",
      "      (5): AttnOnlyLayer(\n",
      "        (attention): CausalMultiheadAttn(\n",
      "          (query_linear): Linear(in_features=512, out_features=512, bias=True)\n",
      "          (key_linear): Linear(in_features=512, out_features=512, bias=True)\n",
      "          (value_linear): Linear(in_features=512, out_features=512, bias=True)\n",
      "          (output_linear): Linear(in_features=512, out_features=512, bias=True)\n",
      "          (dropout): Dropout(p=0.0, inplace=False)\n",
      "        )\n",
      "        (norm1): LayerNorm((512,), eps=1e-05, elementwise_affine=True)\n",
      "        (dropout): Dropout(p=0.1, inplace=False)\n",
      "        (residual_dropout): Dropout(p=0.0, inplace=False)\n",
      "      )\n",
      "    )\n",
      "  )\n",
      "tokenizer:\n",
      "  PreTrainedTokenizerFast(name_or_path='/home/dinalt/ai_assets/forgather/tokenizers/tiny_stories_2k', vocab_size=2000, model_max_length=2048, is_fast=True, padding_side='right', truncation_side='right', special_tokens={'bos_token': '<|BOS|>', 'eos_token': '<|EOS|>', 'unk_token': '<|UNK|>', 'pad_token': '<|PAD|>'}, clean_up_tokenization_spaces=True),  added_tokens_decoder={\n",
      "  \t0: AddedToken(\"<|BOS|>\", rstrip=False, lstrip=False, single_word=False, normalized=False, special=True),\n",
      "  \t1: AddedToken(\"<|PAD|>\", rstrip=False, lstrip=False, single_word=False, normalized=False, special=True),\n",
      "  \t2: AddedToken(\"<|EOS|>\", rstrip=False, lstrip=False, single_word=False, normalized=False, special=True),\n",
      "  \t3: AddedToken(\"<|UNK|>\", rstrip=False, lstrip=False, single_word=False, normalized=False, special=True),\n",
      "  }\n"
     ]
    }
   ],
   "source": [
    "config, pp_config = environment.load(config_template_path).get()\n",
    "\n",
    "# Note: We inject the pre-processed config as an argument, which can then be used to log this information.\n",
    "main_output = config.main(pp_config=pp_config)\n",
    "pconfig(main_output)"
   ]
  },
  {
   "cell_type": "markdown",
   "id": "ec21d135-1575-4684-a639-ce1c38162063",
   "metadata": {},
   "source": [
    "### Run Configuration\n",
    "\n",
    "Assuming that this the output object has a 'run' method (training scripts do), the following will run it.\n",
    "\n",
    "For a more robust approach, see: [train.ipynb](train.ipynb)"
   ]
  },
  {
   "cell_type": "code",
   "execution_count": null,
   "id": "280a0b57-8d3e-4cff-a22a-452297fe9626",
   "metadata": {},
   "outputs": [],
   "source": [
    "main_output.trainer.model"
   ]
  },
  {
   "cell_type": "code",
   "execution_count": null,
   "id": "d9ccce36-feda-4ba1-8fb9-31a5b3d7871c",
   "metadata": {},
   "outputs": [],
   "source": [
    "main_output.run()"
   ]
  },
  {
   "cell_type": "markdown",
   "id": "98a8337a-08a2-411f-8173-4946347bcc4b",
   "metadata": {},
   "source": [
    "### Cleanup\n",
    "Note: These will show the target directory and ask for confirmation before proceeding."
   ]
  },
  {
   "cell_type": "markdown",
   "id": "0d8f81bf-d882-42fe-915c-f52336a4e774",
   "metadata": {},
   "source": [
    "#### Delete All"
   ]
  },
  {
   "cell_type": "code",
   "execution_count": null,
   "id": "96252b4b-1b5e-4538-85e3-c4616a7c32ee",
   "metadata": {},
   "outputs": [],
   "source": [
    "nb.delete_dir(config.meta['models_dir'] \"Delete all models in project\")"
   ]
  },
  {
   "cell_type": "markdown",
   "id": "6ee7e0b2-b8c3-4d77-88d7-fe17f80541b4",
   "metadata": {},
   "source": [
    "#### Delete Configuration Output Directory\n",
    "This will delete the model and logs for the current configuration."
   ]
  },
  {
   "cell_type": "code",
   "execution_count": null,
   "id": "980be21d-b95d-4ef5-baf4-2378e5971a9c",
   "metadata": {},
   "outputs": [],
   "source": [
    "nb.delete_dir(config.meta['output_dir'], \"Delete output directory\")"
   ]
  },
  {
   "cell_type": "code",
   "execution_count": null,
   "id": "367bee82-bf70-4850-b433-d329a5a671ed",
   "metadata": {},
   "outputs": [],
   "source": []
  }
 ],
 "metadata": {
  "kernelspec": {
   "display_name": "Python 3 (ipykernel)",
   "language": "python",
   "name": "python3"
  },
  "language_info": {
   "codemirror_mode": {
    "name": "ipython",
    "version": 3
   },
   "file_extension": ".py",
   "mimetype": "text/x-python",
   "name": "python",
   "nbconvert_exporter": "python",
   "pygments_lexer": "ipython3",
   "version": "3.10.13"
  }
 },
 "nbformat": 4,
 "nbformat_minor": 5
}
