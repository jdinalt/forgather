{
 "cells": [
  {
   "cell_type": "markdown",
   "id": "2e422f35-7a08-4a50-a075-51a68b5c3994",
   "metadata": {},
   "source": [
    "# Configuration Notebook\n",
    "Useful for debugging configurations and viewing project configuration details."
   ]
  },
  {
   "cell_type": "markdown",
   "id": "a1c5a90f-6386-4b8e-89ce-ec19195f7dff",
   "metadata": {},
   "source": [
    "## Setup\n",
    "Configure defaults and select a project."
   ]
  },
  {
   "cell_type": "code",
   "execution_count": 2,
   "id": "26bffdcc-00ac-4adc-b3fd-974df44d09fd",
   "metadata": {},
   "outputs": [
    {
     "data": {
      "application/vnd.jupyter.widget-view+json": {
       "model_id": "0eacf31f7fbe4048b3f6685a1892eacb",
       "version_major": 2,
       "version_minor": 0
      },
      "text/plain": [
       "FileChooser(path='/home/dinalt/ai_assets/forgather/examples/trainers/compare_trainers', filename='', title='Se…"
      ]
     },
     "metadata": {},
     "output_type": "display_data"
    }
   ],
   "source": [
    "# Set defaults\n",
    "default_projects_directory = '../examples/trainers'\n",
    "default_project = \"compare_trainers\"\n",
    "\n",
    "# Use default, if empty.\n",
    "config_template = \"\"\n",
    "\n",
    "from ipyfilechooser import FileChooser\n",
    "import os\n",
    "fc = FileChooser(\n",
    "    os.path.join(default_projects_directory, default_project), show_only_dirs=True,\n",
    "    title=\"Select a Project Directory\", select_default=True)\n",
    "display(fc)"
   ]
  },
  {
   "cell_type": "markdown",
   "id": "b4681a4d-fc01-43f7-a28f-308d6f4869b8",
   "metadata": {},
   "source": [
    "## Project Info"
   ]
  },
  {
   "cell_type": "code",
   "execution_count": 3,
   "id": "966a8a33-55a2-4ff0-b364-bd0ddbad4675",
   "metadata": {},
   "outputs": [
    {
     "data": {
      "text/markdown": [
       "### Meta Config\n",
       "Project Directory: ../examples/trainers/compare_trainers\n",
       "\n",
       "Meta Config: [../examples/trainers/compare_trainers/meta.yaml](../examples/trainers/compare_trainers/meta.yaml)\n",
       "\n",
       "Template Search Paths:\n",
       "- [../examples/trainers/compare_trainers/templates](../examples/trainers/compare_trainers/templates)\n",
       "- [../templates](../templates)\n"
      ],
      "text/plain": [
       "<IPython.core.display.Markdown object>"
      ]
     },
     "metadata": {},
     "output_type": "display_data"
    },
    {
     "data": {
      "text/markdown": [
       "### Available Configurations\n",
       "- [accel_trainer.yaml](../examples/trainers/compare_trainers/templates/experiments/accel_trainer.yaml)\n",
       "- [trainer.yaml](../examples/trainers/compare_trainers/templates/experiments/trainer.yaml)\n",
       "- [hf_trainer.yaml](../examples/trainers/compare_trainers/templates/experiments/hf_trainer.yaml)\n"
      ],
      "text/plain": [
       "<IPython.core.display.Markdown object>"
      ]
     },
     "metadata": {},
     "output_type": "display_data"
    },
    {
     "name": "stdout",
     "output_type": "stream",
     "text": [
      "------------------------------------------------------------\n",
      "Default Configuration: trainer.yaml\n"
     ]
    }
   ],
   "source": [
    "import sys, os\n",
    "modules_path = os.path.join('..', 'src')\n",
    "if modules_path not in sys.path: sys.path.insert(0, modules_path)\n",
    "from pprint import pformat, pp\n",
    "from IPython import display as ds\n",
    "from forgather.config import (\n",
    "    ConfigEnvironment,\n",
    "    pconfig\n",
    ")\n",
    "from aiws.config import preprocessor_globals, MetaConfig\n",
    "import aiws.notebooks as nb\n",
    "\n",
    "assert os.path.exists(fc.selected_path), \"Project directory does not exist.\"\n",
    "nb.show_project_readme(fc.selected_path)\n",
    "meta = MetaConfig(fc.selected_path)\n",
    "nb.display_meta(meta, \"### Meta Config\\n\")\n",
    "nb.list_templates(meta.find_templates(meta.config_prefix), \"### Available Configurations\\n\")\n",
    "default_config = meta.default_config()\n",
    "print('-' * 60)\n",
    "print(f\"Default Configuration: {default_config}\")"
   ]
  },
  {
   "cell_type": "markdown",
   "id": "c442e6d6-dab8-4e3d-8fff-b6ee71ccfe33",
   "metadata": {},
   "source": [
    "## List Available Templates\n",
    "This will list all templates within the searchpath."
   ]
  },
  {
   "cell_type": "code",
   "execution_count": null,
   "id": "f7753ff3-d9fe-4812-899d-60c38ac5c179",
   "metadata": {},
   "outputs": [],
   "source": [
    "def list_templates(prefix):\n",
    "    nb.list_templates(meta.find_templates(prefix), \"### Templates\\n\")\n",
    "list_templates('')"
   ]
  },
  {
   "cell_type": "code",
   "execution_count": null,
   "id": "b0c8bd9f-bf34-4ecd-b89f-6897b887f486",
   "metadata": {},
   "outputs": [],
   "source": [
    "meta.config_path(config_template)"
   ]
  },
  {
   "cell_type": "markdown",
   "id": "41db7eba-83e6-4c0d-86fb-4228d61b5a98",
   "metadata": {},
   "source": [
    "## Configuration\n",
    "Set 'config_template' to the name of a configuration template in the project. See: \"Available Configurations\"\n",
    "If unspecified, the first configuration in the project will be used."
   ]
  },
  {
   "cell_type": "code",
   "execution_count": 4,
   "id": "d14e8c87-10f7-4f27-a007-4525621a1ceb",
   "metadata": {},
   "outputs": [
    {
     "data": {
      "text/markdown": [
       "### Preprocessed Configuration\n",
       "```yaml\n",
       "# Just use the tiny project defaults.\n",
       "#---------------------------------------\n",
       "#             Default Trainer            \n",
       "#---------------------------------------\n",
       "# 2024-07-24 04:54:13\n",
       "# Description: Train with aiws.trainer.Trainer implementation\n",
       "# Project Dir: /home/dinalt/ai_assets/forgather/examples/trainers/compare_trainers\n",
       "# Current Working Dir: \"/home/dinalt/ai_assets/forgather/notebooks\"\n",
       "# Forgather Config Dir: \"/home/dinalt/.config/forgather\"\n",
       "# Model: default_model\n",
       "# Hostname: hal9000\n",
       "# Versions:\n",
       "#     python: 3.10.13\n",
       "#     torch: 2.3.1\n",
       "#     transformers: 4.41.2\n",
       "#     accelerate: 0.31.0\n",
       "\n",
       "############# Config Vars ##############\n",
       "\n",
       "# ns.models_dir: \"/home/dinalt/ai_assets/forgather/examples/trainers/compare_trainers/output_models\"\n",
       "# ns.tokenizers_dir: \"/home/dinalt/ai_assets/forgather/tokenizers\"\n",
       "# ns.datasets_dir: \"/home/dinalt/ai_assets/forgather/datasets\"\n",
       "# ns.model_src_dir: \"/home/dinalt/ai_assets/forgather/model_src\"\n",
       "# ns.output_dir: \"/home/dinalt/ai_assets/forgather/examples/trainers/compare_trainers/output_models/default_model\"\n",
       "# ns.logging_dir: \"/home/dinalt/ai_assets/forgather/examples/trainers/compare_trainers/output_models/default_model/runs/default_trainer_1721796853009181271\"\n",
       "# ns.create_new_model: True\n",
       "# ns.save_model: False\n",
       "# ns.train: True\n",
       "# ns.eval: False\n",
       "\n",
       "####### Distributed Environment ########\n",
       "\n",
       ".define: &distributed_env !callable:aiws.distributed:DistributedEnvironment\n",
       "\n",
       "############# Dependencies #############\n",
       "\n",
       "\n",
       "\n",
       "################ Model #################\n",
       "\n",
       "# https://huggingface.co/docs/transformers/en/model_doc/auto\n",
       ".define: &model_constructor_args {}\n",
       "\n",
       "# Name: Tiny\n",
       "# Description: A Plain Vanilla Transformer.\n",
       "# model_def.cls = \"VanillaTransformer\"\n",
       "# model_def.cfg_cls = \"VanillaTransformerConfig\"\n",
       "# model_def.config_path = \"/home/dinalt/ai_assets/forgather/model_src/vanilla_transformer/vanilla_transformer.py\"\n",
       "# model_def.model_path = \"/home/dinalt/ai_assets/forgather/model_src/vanilla_transformer/vanilla_transformer.py\"\n",
       "\n",
       "# **Tokenizer**\n",
       "\n",
       "# Load custom tokenizer from sub-project definition\n",
       ".define: &tokenizer !callable:aiws.construct:load_from_config\n",
       "    project_dir: \"/home/dinalt/ai_assets/forgather/examples/tokenizers/tiny_stories_bpe\"\n",
       "    config_template: \"2k.yaml\"\n",
       "\n",
       "# **Model Config**\n",
       "\n",
       ".define: &model_config\n",
       "    vocab_size: !callable:forgather.construct:length [ *tokenizer ]\n",
       "    max_sequence_length: !callable:forgather.construct:get_attr [ *tokenizer, 'model_max_length' ]\n",
       "    hidden_size: 256\n",
       "    dim_feedforward: 1024\n",
       "    num_attention_heads: 2\n",
       "    num_hidden_layers: 4\n",
       "\n",
       "# **Model Constructor**\n",
       "\n",
       "# Custom transformer model; registers for AutoClass and will save code with weights.\n",
       ".define: &model !callable:aiws.construct:register_for_auto_class\n",
       "    - !callable:/home/dinalt/ai_assets/forgather/model_src/vanilla_transformer/vanilla_transformer.py:VanillaTransformer\n",
       "        args:\n",
       "            - !callable:aiws.construct:register_for_auto_class\n",
       "                - !callable:/home/dinalt/ai_assets/forgather/model_src/vanilla_transformer/vanilla_transformer.py:VanillaTransformerConfig\n",
       "                    <<: *model_config\n",
       "        kwargs:\n",
       "            <<: *model_constructor_args\n",
       "\n",
       "############### Datasets ###############\n",
       "\n",
       "# Name: TinyStories Abridged\n",
       "# Define: Abridged to 10% of original size; Dataset containing synthetically generated (by GPT-3.5 and GPT-4) short stories that only use a small vocabulary.\n",
       "# Source: https://arxiv.org/abs/2305.07759\n",
       "# Train Dataset: \"roneneldan/TinyStories\" : \"train\"\n",
       "# Eval Dataset: \"roneneldan/TinyStories\" : \"validation\"\n",
       "\n",
       "# **Source Datasets**\n",
       "\n",
       ".define: &train_source_dataset !callable:datasets:load_dataset\n",
       "    args:\n",
       "        - \"roneneldan/TinyStories\"\n",
       "\n",
       ".define: &eval_source_dataset !callable:datasets:load_dataset\n",
       "    args:\n",
       "        - \"roneneldan/TinyStories\"\n",
       "\n",
       "# **Dataset Splits**\n",
       "\n",
       ".define: &train_dataset_split !callable:forgather.construct:get_item\n",
       "    - *train_source_dataset\n",
       "    - \"train\"\n",
       "\n",
       ".define: &eval_dataset_split !callable:forgather.construct:get_item\n",
       "    - *train_source_dataset\n",
       "    - \"validation\"\n",
       "\n",
       "# **Tokenize Args**\n",
       "\n",
       ".define: &tokenize_args\n",
       "    truncation: True\n",
       "\n",
       "# **Tokenized Datasets**\n",
       "\n",
       ".define: &train_dataset !callable:aiws.datasets:tokenize_dataset\n",
       "    dataset: *train_dataset_split\n",
       "    tokenizer: *tokenizer\n",
       "    select_range: 0.1\n",
       "    desc: \"Tokenizing train\"\n",
       "    fn_kwargs:\n",
       "        <<: *tokenize_args\n",
       "\n",
       ".define: &eval_dataset !callable:aiws.datasets:tokenize_dataset\n",
       "    dataset: *eval_dataset_split\n",
       "    tokenizer: *tokenizer\n",
       "    select_range: 500\n",
       "    desc: \"Tokenizing validation split\"\n",
       "    fn_kwargs:\n",
       "        <<: *tokenize_args\n",
       "\n",
       "############ Data Collator #############\n",
       "\n",
       "# Data collator for causal model\n",
       "# Batches are dynamically padded to longest sequence\n",
       "# labels are set to input_ids, with pad tokens set to -100\n",
       "# https://huggingface.co/docs/transformers/en/main_classes/data_collator#transformers.DataCollatorForLanguageModeling\n",
       ".define: &data_collator !callable:transformers:DataCollatorForLanguageModeling\n",
       "    args:\n",
       "        - *tokenizer\n",
       "    kwargs:\n",
       "        mlm: False\n",
       "        return_tensors: pt\n",
       "\n",
       "########## Trainer Callbacks ###########\n",
       "\n",
       "# **Dependencies**\n",
       "\n",
       "# Experiment tracking: Tensorboard SummaryWriter\n",
       ".define: &summary_writer !callable:torch.utils.tensorboard:SummaryWriter\n",
       "    - \"/home/dinalt/ai_assets/forgather/examples/trainers/compare_trainers/output_models/default_model/runs/default_trainer_1721796853009181271\"\n",
       "\n",
       "# Additional data to record to experiment loggers\n",
       ".define: &experiment_info\n",
       "    date: \"2024-07-24 04:54:13\"\n",
       "    name: \"Default Trainer\"\n",
       "    description: \"Train with aiws.trainer.Trainer implementation\"\n",
       "    config: !callable:pp_config\n",
       "    versions: {'python': '3.10.13', 'torch': '2.3.1', 'transformers': '4.41.2', 'accelerate': '0.31.0'}\n",
       "\n",
       "# **Callback List**\n",
       "\n",
       ".define: &trainer_callbacks\n",
       "    - !callable:aiws.json_logger:JsonLogger\n",
       "        <<: *experiment_info\n",
       "    # Log configuration and metrics to Tensorboard file\n",
       "    - !callable:aiws.tb_logger:TBLogger\n",
       "        args: [ *summary_writer ]\n",
       "        kwargs:\n",
       "            <<: *experiment_info\n",
       "############### Trainer ################\n",
       "\n",
       "# Name: Custom aiws.trainer.Trainer\n",
       "# Description: A lightweight, extensible trainer; does not support multiple GPUs\n",
       "\n",
       "# **Trainer Args**\n",
       "\n",
       ".define: &trainer_args\n",
       "    # Base Trainer Defaults\n",
       "    # https://huggingface.co/docs/transformers/en/main_classes/trainer#transformers.TrainingArguments\n",
       "    output_dir: \"/home/dinalt/ai_assets/forgather/examples/trainers/compare_trainers/output_models/default_model\"\n",
       "    logging_dir: \"/home/dinalt/ai_assets/forgather/examples/trainers/compare_trainers/output_models/default_model/runs/default_trainer_1721796853009181271\"\n",
       "    overwrite_output_dir: True\n",
       "    per_device_train_batch_size: 16\n",
       "    per_device_eval_batch_size: 16\n",
       "    learning_rate: 1.0e-3\n",
       "    num_train_epochs: 1\n",
       "    eval_steps: 500\n",
       "    logging_steps: 500\n",
       "    eval_strategy: \"steps\"\n",
       "    save_strategy: \"no\"\n",
       "    logging_strategy: \"steps\"\n",
       "    lr_scheduler_type: \"constant\"\n",
       "\n",
       "    # Tiny Project Overrides\n",
       "    per_device_train_batch_size: 64\n",
       "    per_device_eval_batch_size: 64\n",
       "    logging_steps: 100\n",
       "    eval_steps: 500\n",
       "    dataloader_num_workers: 1\n",
       "\n",
       "# **Trainer Constructor**\n",
       "\n",
       ".define: &trainer !callable:aiws.trainer:Trainer\n",
       "    model: *model\n",
       "    args: !callable:aiws.trainer_types:TrainingArguments\n",
       "        <<: *trainer_args\n",
       "    data_collator: *data_collator\n",
       "    train_dataset: *train_dataset\n",
       "    eval_dataset: *eval_dataset\n",
       "    tokenizer: *tokenizer\n",
       "    callbacks: *trainer_callbacks\n",
       "\n",
       "#---------------------------------------\n",
       "#          Configuration Output          \n",
       "#---------------------------------------\n",
       "meta: &meta_output\n",
       "    config_name: \"Default Trainer\"\n",
       "    config_description: \"Train with aiws.trainer.Trainer implementation\"\n",
       "    project_dir: \"/home/dinalt/ai_assets/forgather/examples/trainers/compare_trainers\"\n",
       "    models_dir: \"/home/dinalt/ai_assets/forgather/examples/trainers/compare_trainers/output_models\"\n",
       "    tokenizers_dir: \"/home/dinalt/ai_assets/forgather/tokenizers\"\n",
       "    datasets_dir: \"/home/dinalt/ai_assets/forgather/datasets\"\n",
       "    output_dir: \"/home/dinalt/ai_assets/forgather/examples/trainers/compare_trainers/output_models/default_model\"\n",
       "    model_zoo_dir: \"/home/dinalt/ai_assets/forgather/model_src\"\n",
       "    logging_dir: \"/home/dinalt/ai_assets/forgather/examples/trainers/compare_trainers/output_models/default_model/runs/default_trainer_1721796853009181271\"\n",
       "\n",
       "main: !callable:aiws.training_script:TrainingScript\n",
       "    meta: *meta_output\n",
       "    do_save: False\n",
       "    do_train: True\n",
       "    do_eval: False\n",
       "    distributed_env: *distributed_env\n",
       "    trainer: *trainer\n",
       "```\n"
      ],
      "text/plain": [
       "<IPython.core.display.Markdown object>"
      ]
     },
     "metadata": {},
     "output_type": "display_data"
    },
    {
     "data": {
      "text/markdown": [
       "### Included Templates\n",
       "- [experiments/trainer.yaml](../examples/trainers/compare_trainers/templates/experiments/trainer.yaml)\n",
       "    - [project.yaml](../examples/trainers/compare_trainers/templates/project.yaml)\n",
       "        - [types/training_script/causal_lm/causal_lm.yaml](../templates/types/training_script/causal_lm/causal_lm.yaml)\n",
       "            - [types/training_script/training_script.yaml](../templates/types/training_script/training_script.yaml)\n",
       "                - [types/type.yaml](../templates/types/type.yaml)\n",
       "                    - [inc/formatting.jinja](../templates/inc/formatting.jinja)\n",
       "                - [inc/formatting.jinja](../templates/inc/formatting.jinja)\n",
       "            - [inc/formatting.jinja](../templates/inc/formatting.jinja)\n",
       "            - [models/abstract/load_model.yaml](../templates/models/abstract/load_model.yaml)\n",
       "                - [models/abstract/causal_lm_from_pretrained.yaml](../templates/models/abstract/causal_lm_from_pretrained.yaml)\n",
       "                    - [models/abstract/base_language_model.yaml](../templates/models/abstract/base_language_model.yaml)\n",
       "                        - [inc/formatting.jinja](../templates/inc/formatting.jinja)\n",
       "            - [callbacks/loggers.yaml](../templates/callbacks/loggers.yaml)\n",
       "                - [callbacks/base_callbacks.yaml](../templates/callbacks/base_callbacks.yaml)\n",
       "                    - [inc/formatting.jinja](../templates/inc/formatting.jinja)\n",
       "            - [trainers/trainer.yaml](../templates/trainers/trainer.yaml)\n",
       "                - [trainers/base_trainer.yaml](../templates/trainers/base_trainer.yaml)\n",
       "                    - [inc/formatting.jinja](../templates/inc/formatting.jinja)\n",
       "        - [paths/default_paths.yaml](../templates/paths/default_paths.yaml)\n",
       "        - [datasets/tiny/tiny_stories_abridged.yaml](../templates/datasets/tiny/tiny_stories_abridged.yaml)\n",
       "            - [datasets/tiny/tiny_stories.yaml](../templates/datasets/tiny/tiny_stories.yaml)\n",
       "                - [datasets/abstract/base_datasets.yaml](../templates/datasets/abstract/base_datasets.yaml)\n",
       "                    - [inc/formatting.jinja](../templates/inc/formatting.jinja)\n",
       "        - [project.trainer_config](../examples/trainers/compare_trainers/templates/project.yaml)\n",
       "        - [project.model_config](../examples/trainers/compare_trainers/templates/project.yaml)\n",
       "            - [models/tiny/tiny.yaml](../templates/models/tiny/tiny.yaml)\n",
       "                - [models/vanilla_transformer.yaml](../templates/models/vanilla_transformer.yaml)\n",
       "                    - [models/abstract/custom_causal_lm.yaml](../templates/models/abstract/custom_causal_lm.yaml)\n",
       "                        - [models/abstract/base_language_model.yaml](../templates/models/abstract/base_language_model.yaml)\n",
       "                            - [inc/formatting.jinja](../templates/inc/formatting.jinja)\n",
       "                - [tokenizers/tiny_2k.yaml](../templates/tokenizers/tiny_2k.yaml)\n",
       "        - [callbacks/loggers.yaml](../templates/callbacks/loggers.yaml)\n",
       "            - [callbacks/base_callbacks.yaml](../templates/callbacks/base_callbacks.yaml)\n",
       "                - [inc/formatting.jinja](../templates/inc/formatting.jinja)\n"
      ],
      "text/plain": [
       "<IPython.core.display.Markdown object>"
      ]
     },
     "metadata": {},
     "output_type": "display_data"
    },
    {
     "data": {
      "text/markdown": [
       "### Included Sources\n",
       "- [/home/dinalt/ai_assets/forgather/model_src/vanilla_transformer/vanilla_transformer.py](/home/dinalt/ai_assets/forgather/model_src/vanilla_transformer/vanilla_transformer.py) : VanillaTransformer\n",
       "- [/home/dinalt/ai_assets/forgather/model_src/vanilla_transformer/vanilla_transformer.py](/home/dinalt/ai_assets/forgather/model_src/vanilla_transformer/vanilla_transformer.py) : VanillaTransformerConfig\n"
      ],
      "text/plain": [
       "<IPython.core.display.Markdown object>"
      ]
     },
     "metadata": {},
     "output_type": "display_data"
    },
    {
     "data": {
      "text/markdown": [
       "### Loaded Configuration\n"
      ],
      "text/plain": [
       "<IPython.core.display.Markdown object>"
      ]
     },
     "metadata": {},
     "output_type": "display_data"
    },
    {
     "name": "stdout",
     "output_type": "stream",
     "text": [
      "main:\n",
      "  Latent &139808407668832 'aiws.training_script:TrainingScript'\n",
      "    distributed_env: Latent &139808407738848 'aiws.distributed:DistributedEnvironment'\n",
      "    do_eval: False\n",
      "    do_save: False\n",
      "    do_train: True\n",
      "    meta:\n",
      "      config_description: 'Train with aiws.trainer.Trainer implementation'\n",
      "      config_name: 'Default Trainer'\n",
      "      datasets_dir: '/home/dinalt/ai_assets/forgather/datasets'\n",
      "      logging_dir:\n",
      "        '/home/dinalt/ai_assets/forgather/examples/trainers/compare_trainers/output_models/default_model/runs/default_trainer_1721796853082838051'\n",
      "      model_zoo_dir: '/home/dinalt/ai_assets/forgather/model_src'\n",
      "      models_dir:\n",
      "        '/home/dinalt/ai_assets/forgather/examples/trainers/compare_trainers/output_models'\n",
      "      output_dir:\n",
      "        '/home/dinalt/ai_assets/forgather/examples/trainers/compare_trainers/output_models/default_model'\n",
      "      project_dir: '/home/dinalt/ai_assets/forgather/examples/trainers/compare_trainers'\n",
      "      tokenizers_dir: '/home/dinalt/ai_assets/forgather/tokenizers'\n",
      "    trainer:\n",
      "      Latent &139808407668752 'aiws.trainer:Trainer'\n",
      "        args:\n",
      "          Latent &139808407891664 'aiws.trainer_types:TrainingArguments'\n",
      "            dataloader_num_workers: 1\n",
      "            eval_steps: 500\n",
      "            eval_strategy: 'steps'\n",
      "            learning_rate: 0.001\n",
      "            logging_dir:\n",
      "              '/home/dinalt/ai_assets/forgather/examples/trainers/compare_trainers/output_models/default_model/runs/default_trainer_1721796853082838051'\n",
      "            logging_steps: 100\n",
      "            logging_strategy: 'steps'\n",
      "            lr_scheduler_type: 'constant'\n",
      "            num_train_epochs: 1\n",
      "            output_dir:\n",
      "              '/home/dinalt/ai_assets/forgather/examples/trainers/compare_trainers/output_models/default_model'\n",
      "            overwrite_output_dir: True\n",
      "            per_device_eval_batch_size: 64\n",
      "            per_device_train_batch_size: 64\n",
      "            save_strategy: 'no'\n",
      "        callbacks:\n",
      "          - Latent &139808407882784 'aiws.json_logger:JsonLogger'\n",
      "            config: Latent &139808407668672 'pp_config'\n",
      "            date: '2024-07-24 04:54:13'\n",
      "            description: 'Train with aiws.trainer.Trainer implementation'\n",
      "            name: 'Default Trainer'\n",
      "            versions:\n",
      "              accelerate: '0.31.0'\n",
      "              python: '3.10.13'\n",
      "              torch: '2.3.1'\n",
      "              transformers: '4.41.2'\n",
      "          - Latent &139808407883024 'aiws.tb_logger:TBLogger'\n",
      "            - Latent &139808407668592 'torch.utils.tensorboard:SummaryWriter'\n",
      "              - '/home/dinalt/ai_assets/forgather/examples/trainers/compare_trainers/output_models/default_model/runs/default_trainer_1721796853082838051'\n",
      "            config: Latent *139808407668672\n",
      "            date: '2024-07-24 04:54:13'\n",
      "            description: 'Train with aiws.trainer.Trainer implementation'\n",
      "            name: 'Default Trainer'\n",
      "            versions:\n",
      "              accelerate: '0.31.0'\n",
      "              python: '3.10.13'\n",
      "              torch: '2.3.1'\n",
      "              transformers: '4.41.2'\n",
      "        data_collator:\n",
      "          Latent &139808407668432 'transformers:DataCollatorForLanguageModeling'\n",
      "            - Latent &139808407744928 'aiws.construct:load_from_config'\n",
      "              config_template: '2k.yaml'\n",
      "              project_dir: '/home/dinalt/ai_assets/forgather/examples/tokenizers/tiny_stories_bpe'\n",
      "            mlm: False\n",
      "            return_tensors: 'pt'\n",
      "        eval_dataset:\n",
      "          Latent &139808407744368 'aiws.datasets:tokenize_dataset'\n",
      "            dataset:\n",
      "              Latent &139808407668512 'forgather.construct:get_item'\n",
      "                - Latent &139808407895504 'datasets:load_dataset'\n",
      "                  - 'roneneldan/TinyStories'\n",
      "                - 'validation'\n",
      "            desc: 'Tokenizing validation split'\n",
      "            fn_kwargs: truncation: True\n",
      "            select_range: 500\n",
      "            tokenizer: Latent *139808407744928\n",
      "        model:\n",
      "          Latent &139808407648864 'aiws.construct:register_for_auto_class'\n",
      "            - Latent &139808407741248 '/home/dinalt/ai_assets/forgather/model_src/vanilla_transformer/vanilla_transformer.py:VanillaTransformer'\n",
      "              - Latent &139808407738608 'aiws.construct:register_for_auto_class'\n",
      "                - Latent &139808407735568 '/home/dinalt/ai_assets/forgather/model_src/vanilla_transformer/vanilla_transformer.py:VanillaTransformerConfig'\n",
      "                  dim_feedforward: 1024\n",
      "                  hidden_size: 256\n",
      "                  max_sequence_length:\n",
      "                    Latent &139808407880464 'forgather.construct:get_attr'\n",
      "                      - Latent *139808407744928\n",
      "                      - 'model_max_length'\n",
      "                  num_attention_heads: 2\n",
      "                  num_hidden_layers: 4\n",
      "                  vocab_size:\n",
      "                    Latent &139808409099680 'forgather.construct:length'\n",
      "                      - Latent *139808407744928\n",
      "        tokenizer: Latent *139808407744928\n",
      "        train_dataset:\n",
      "          Latent &139808407742288 'aiws.datasets:tokenize_dataset'\n",
      "            dataset:\n",
      "              Latent &139808407668352 'forgather.construct:get_item'\n",
      "                - Latent *139808407895504\n",
      "                - 'train'\n",
      "            desc: 'Tokenizing train'\n",
      "            fn_kwargs: truncation: True\n",
      "            select_range: 0.1\n",
      "            tokenizer: Latent *139808407744928\n",
      "meta:\n",
      "  config_description: 'Train with aiws.trainer.Trainer implementation'\n",
      "  config_name: 'Default Trainer'\n",
      "  datasets_dir: '/home/dinalt/ai_assets/forgather/datasets'\n",
      "  logging_dir:\n",
      "    '/home/dinalt/ai_assets/forgather/examples/trainers/compare_trainers/output_models/default_model/runs/default_trainer_1721796853082838051'\n",
      "  model_zoo_dir: '/home/dinalt/ai_assets/forgather/model_src'\n",
      "  models_dir:\n",
      "    '/home/dinalt/ai_assets/forgather/examples/trainers/compare_trainers/output_models'\n",
      "  output_dir:\n",
      "    '/home/dinalt/ai_assets/forgather/examples/trainers/compare_trainers/output_models/default_model'\n",
      "  project_dir: '/home/dinalt/ai_assets/forgather/examples/trainers/compare_trainers'\n",
      "  tokenizers_dir: '/home/dinalt/ai_assets/forgather/tokenizers'\n"
     ]
    }
   ],
   "source": [
    "# Create configuration envrionment\n",
    "environment = ConfigEnvironment(\n",
    "    searchpath=meta.searchpath,\n",
    "    globals = preprocessor_globals(fc.selected_path),\n",
    ")\n",
    "\n",
    "config_template_path = meta.config_path(config_template)\n",
    "nb.display_preprocessed_template(environment, config_template_path, title=\"### Preprocessed Configuration\\n\")\n",
    "nb.display_referenced_templates_tree(environment, config_template_path, \"### Included Templates\\n\")\n",
    "config, pp_config = environment.load(config_template_path).get()\n",
    "nb.display_referenced_source_list(config, \"### Included Sources\\n\")\n",
    "display(ds.Markdown(\"### Loaded Configuration\\n\"))\n",
    "pconfig(config)"
   ]
  },
  {
   "cell_type": "markdown",
   "id": "a4848270-6d49-412f-a3a2-b72222461140",
   "metadata": {},
   "source": [
    "## Materialized Configuration\n",
    "\n",
    "Instantiate the configuration from the definition."
   ]
  },
  {
   "cell_type": "code",
   "execution_count": null,
   "id": "4ce4a60c-ce9b-4738-9eb1-4deb39d559ee",
   "metadata": {},
   "outputs": [],
   "source": [
    "config, pp_config = environment.load(config_template_path).get()\n",
    "\n",
    "# Note: We inject the pre-processed config as an argument, which can then be used to log this information.\n",
    "main_output = config.main(pp_config=pp_config)\n",
    "pconfig(main_output)"
   ]
  },
  {
   "cell_type": "markdown",
   "id": "ec21d135-1575-4684-a639-ce1c38162063",
   "metadata": {},
   "source": [
    "### Run Configuration\n",
    "\n",
    "Assuming that this the output object has a 'run' method (training scripts do), the following will run it.\n",
    "\n",
    "For a more robust approach, see: [train.ipynb](train.ipynb)"
   ]
  },
  {
   "cell_type": "code",
   "execution_count": null,
   "id": "d9ccce36-feda-4ba1-8fb9-31a5b3d7871c",
   "metadata": {},
   "outputs": [],
   "source": [
    "main_output.run()"
   ]
  },
  {
   "cell_type": "markdown",
   "id": "98a8337a-08a2-411f-8173-4946347bcc4b",
   "metadata": {},
   "source": [
    "### Cleanup\n",
    "Note: These will show the target directory and ask for confirmation before proceeding."
   ]
  },
  {
   "cell_type": "markdown",
   "id": "0d8f81bf-d882-42fe-915c-f52336a4e774",
   "metadata": {},
   "source": [
    "#### Delete All"
   ]
  },
  {
   "cell_type": "code",
   "execution_count": null,
   "id": "96252b4b-1b5e-4538-85e3-c4616a7c32ee",
   "metadata": {},
   "outputs": [],
   "source": [
    "nb.delete_dir(config.meta['models_dir'] \"Delete all models in project\")"
   ]
  },
  {
   "cell_type": "markdown",
   "id": "6ee7e0b2-b8c3-4d77-88d7-fe17f80541b4",
   "metadata": {},
   "source": [
    "#### Delete Configuration Output Directory\n",
    "This will delete the model and logs for the current configuration."
   ]
  },
  {
   "cell_type": "code",
   "execution_count": null,
   "id": "980be21d-b95d-4ef5-baf4-2378e5971a9c",
   "metadata": {},
   "outputs": [],
   "source": [
    "nb.delete_dir(config.meta['output_dir'], \"Delete output directory\")"
   ]
  }
 ],
 "metadata": {
  "kernelspec": {
   "display_name": "Python 3 (ipykernel)",
   "language": "python",
   "name": "python3"
  },
  "language_info": {
   "codemirror_mode": {
    "name": "ipython",
    "version": 3
   },
   "file_extension": ".py",
   "mimetype": "text/x-python",
   "name": "python",
   "nbconvert_exporter": "python",
   "pygments_lexer": "ipython3",
   "version": "3.10.13"
  }
 },
 "nbformat": 4,
 "nbformat_minor": 5
}
