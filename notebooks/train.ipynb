{
 "cells": [
  {
   "cell_type": "markdown",
   "id": "5862a8b9-ea0b-4fec-b150-8cbb3218e8bb",
   "metadata": {},
   "source": [
    "# Training Notebook\n",
    "Configuration details: [Configuration Notebook](project_config.ipynb)\n",
    "\n",
    "Run project training configurations and generate training scripts from project meta-data."
   ]
  },
  {
   "cell_type": "markdown",
   "id": "0c580dde-ff81-449e-b719-914a6501d7ce",
   "metadata": {},
   "source": [
    "## Setup"
   ]
  },
  {
   "cell_type": "code",
   "execution_count": null,
   "id": "7715292a-61c8-4be5-9cfd-72530c25e72f",
   "metadata": {},
   "outputs": [],
   "source": [
    "# Set defaults\n",
    "#default_projects_directory = '/home/dinalt/ai_assets/projects/experiments'\n",
    "default_projects_directory = '../examples/trainers'\n",
    "default_project = \"dynamic_models\"\n",
    "config_template = \"swi-glu.yaml\"\n",
    "# swi-glu.yaml\n",
    "from ipyfilechooser import FileChooser\n",
    "import os\n",
    "fc = FileChooser(\n",
    "    os.path.join(default_projects_directory, default_project), show_only_dirs=True,\n",
    "    title=\"Select a Project Directory\", select_default=True)\n",
    "display(fc)"
   ]
  },
  {
   "cell_type": "markdown",
   "id": "f2ef2f76-28e2-4c76-b540-ae211b00fe87",
   "metadata": {},
   "source": [
    "## Project Info"
   ]
  },
  {
   "cell_type": "code",
   "execution_count": null,
   "id": "d5f19b24-2954-438d-a79c-e8a86e5cbb6f",
   "metadata": {},
   "outputs": [],
   "source": [
    "import sys, os\n",
    "modules_path = os.path.join('..', 'src')\n",
    "from IPython import display as ds\n",
    "if modules_path not in sys.path: sys.path.insert(0, modules_path)\n",
    "from forgather.latent import Latent\n",
    "from forgather.config import ConfigEnvironment, pconfig\n",
    "from forgather.ml.notebooks import get_train_cmdline, make_train_script\n",
    "from forgather.meta_config import preprocessor_globals, MetaConfig\n",
    "from forgather.ml.training_script import TrainingScript\n",
    "import forgather.ml.notebooks as nb\n",
    "\n",
    "# Define location of commopn train-script\n",
    "train_script_path = os.path.join('..', 'scripts', 'train_script.py')\n",
    "\n",
    "nb.show_project_readme(fc.selected_path)\n",
    "meta = MetaConfig(fc.selected_path)\n",
    "nb.display_meta(meta, \"### Meta Config\\n\")\n",
    "nb.list_templates(meta.find_templates(meta.config_prefix), \"### Available Configurations\\n\")\n",
    "environment = ConfigEnvironment(\n",
    "    searchpath=meta.searchpath,\n",
    "    global_vars = preprocessor_globals(fc.selected_path),\n",
    ")\n",
    "\n",
    "config = environment.load(meta.config_path(config_template)).config\n",
    "config_meta = config.meta()\n",
    "print(f\"{' ' + config_meta['config_name'] + ' ':-^60}\")\n",
    "pconfig(config.meta)\n",
    "if len(config_template) == 0:\n",
    "    config_template = meta.default_config()"
   ]
  },
  {
   "cell_type": "markdown",
   "id": "da62d15b-9479-4ee0-a5d0-e148e45572e9",
   "metadata": {},
   "source": [
    "### Launch Notebook Trainer"
   ]
  },
  {
   "cell_type": "code",
   "execution_count": null,
   "id": "ff957464-78cc-48c0-a6e3-7a68cc9df5bb",
   "metadata": {},
   "outputs": [],
   "source": [
    "from accelerate import notebook_launcher\n",
    "from forgather.ml.training_script import training_loop\n",
    "\n",
    "notebook_launcher(\n",
    "    training_loop,\n",
    "    args=(fc.selected_path, config_template),\n",
    "    num_processes=1\n",
    ")"
   ]
  },
  {
   "cell_type": "markdown",
   "id": "7f1b276e-ec55-4180-ba5b-df7e4b231bf9",
   "metadata": {},
   "source": [
    "### Run All Configurations"
   ]
  },
  {
   "cell_type": "code",
   "execution_count": null,
   "id": "0e4924c5-e45b-4d26-9370-1745774a2c3c",
   "metadata": {},
   "outputs": [],
   "source": [
    "from accelerate import notebook_launcher\n",
    "from forgather.ml.training_script import training_loop\n",
    "\n",
    "#os.environ['CUDA_VISIBLE_DEVICES'] = str(3)\n",
    "def run_all_configurations():\n",
    "    for config_template, _ in meta.find_templates(meta.config_prefix):\n",
    "        print(f\"{ ' Starting ' + config_template + ' ':-^60}\")\n",
    "        notebook_launcher(\n",
    "            training_loop,\n",
    "            args=(fc.selected_path, config_template,),\n",
    "            num_processes=1\n",
    "        )\n",
    "\n",
    "run_all_configurations()"
   ]
  },
  {
   "cell_type": "markdown",
   "id": "7ba86cc3-734d-46b4-8813-d8494cbc41b1",
   "metadata": {},
   "source": [
    "### Generate Training Script\n",
    "\n",
    "```python\n",
    "def make_train_script(\n",
    "    project_directory,\n",
    "    config_template=None,\n",
    "    script_name='train.sh',\n",
    "    nproc='gpu',\n",
    "    cuda_devices=None\n",
    "):\n",
    "```\n",
    "Generate a bash training script from a project meta-config\n",
    "\n",
    "The generated script will be written to 'project_directory' and all paths will be\n",
    "relative to this location.\n",
    "\n",
    "- project_directory: The project directory. Assumes meta-config is 'meta_config.yaml'\n",
    "- script_name: The name of the output script. If none, the script can be specified on the command-line.\n",
    "- nproc: Number of processes; 'gpu' is number of available GPUs\n",
    "- cuda_devices: List of CUDA devices to limit training to.  "
   ]
  },
  {
   "cell_type": "code",
   "execution_count": null,
   "id": "fbec75bc-20e7-49d5-a7c2-8a3af0c8f4c1",
   "metadata": {},
   "outputs": [],
   "source": [
    "def generate_script(cuda_devices=None):\n",
    "    script_name = os.path.splitext(os.path.basename(config_template))[0] + \".sh\"\n",
    "    make_train_script(\n",
    "        train_script_path=os.path.abspath(train_script_path),\n",
    "        project_directory=fc.selected_path,\n",
    "        config_template=config_template,\n",
    "        script_name=script_name,\n",
    "        cuda_devices=cuda_devices)\n",
    "\n",
    "    # Read back to verify\n",
    "    script_path = os.path.join(fc.selected_path, script_name)\n",
    "    with open(script_path, 'r') as f:\n",
    "        md = (\n",
    "            f\"#### Generated Shell Script\\n\"\n",
    "            f\"[{script_name}]({os.path.relpath(script_path)})\\n\"\n",
    "            f\"```bash\\n{f.read()}\\n```\"\n",
    "        )\n",
    "        display(ds.Markdown(md))\n",
    "generate_script(\"3\")"
   ]
  },
  {
   "cell_type": "code",
   "execution_count": null,
   "id": "27958aa1-fc70-4401-9f2a-55e2ef14f469",
   "metadata": {},
   "outputs": [],
   "source": [
    "# Assign sequential GPUs to each configuration\n",
    "def sequential_devices(i=0):\n",
    "    while True:\n",
    "        yield str(i)\n",
    "        i += 1\n",
    "\n",
    "# Assign the same fixed set of GPUs to each config\n",
    "def same_devices(devices=\"0,1\"):\n",
    "    while True:\n",
    "        yield devices\n",
    "\n",
    "# Assign all GPUs to all configs\n",
    "def all_devices():\n",
    "    while True:\n",
    "        yield None\n",
    "\n",
    "def generate_all_scripts(device_iter=all_devices()):\n",
    "    for devices, (config_template, _) in zip(device_iter, meta.find_templates(meta.config_prefix)):\n",
    "        script_name = os.path.splitext(config_template)[0] + \".sh\"\n",
    "        make_train_script(\n",
    "            train_script_path=os.path.abspath(train_script_path),\n",
    "            project_directory=fc.selected_path,\n",
    "            config_template=config_template,\n",
    "            script_name=script_name,\n",
    "            cuda_devices=devices)\n",
    "        script_path = os.path.join(fc.selected_path, script_name)\n",
    "        with open(script_path, 'r') as f:\n",
    "            \n",
    "            md = (\n",
    "                f\"[{script_name}]({os.path.relpath(script_path)})\\n\"\n",
    "                f\"```bash\\n{f.read()}\\n```\"\n",
    "            )\n",
    "            display(ds.Markdown(md))\n",
    "\n",
    "generate_all_scripts(same_devices(\"3\"))"
   ]
  },
  {
   "cell_type": "markdown",
   "id": "f94085b9-a00a-4bda-914c-9de37c7c92a4",
   "metadata": {},
   "source": [
    "### Run Script from Notebook\n",
    "Lauch the training script from the notebook.\n",
    "\n",
    "Note: The terminal emulation of the notebook is lacking, thus rendering of progress bars may be broken."
   ]
  },
  {
   "cell_type": "code",
   "execution_count": null,
   "id": "f8ba880a-18c2-4e5e-b845-985d29d95972",
   "metadata": {},
   "outputs": [],
   "source": [
    "print(f\"{get_train_cmdline(train_script_path, meta, cuda_devices='0')} '{config_template}'\")"
   ]
  },
  {
   "cell_type": "code",
   "execution_count": null,
   "id": "a66c0e8f-aa96-4547-8239-bb4404556b3f",
   "metadata": {},
   "outputs": [],
   "source": [
    "!{get_train_cmdline(train_script_path, meta, cuda_devices=\"0\")} '{config_template}'"
   ]
  },
  {
   "cell_type": "markdown",
   "id": "0855f14c-92d4-4adc-804a-f3ff17eedeb8",
   "metadata": {},
   "source": [
    "### View in Tensorboard\n",
    "Note: If the notebook is running on the same machine as the trainer, remove \"--bind_all\""
   ]
  },
  {
   "cell_type": "code",
   "execution_count": null,
   "id": "363765bf-dcf7-4f07-8dc5-38a1ac0121d2",
   "metadata": {},
   "outputs": [],
   "source": [
    "# All models\n",
    "!tensorboard --bind_all --logdir \"{config.models_dir}\""
   ]
  },
  {
   "cell_type": "code",
   "execution_count": null,
   "id": "73ba51dd-1914-4f24-a785-ff31e56f07af",
   "metadata": {},
   "outputs": [],
   "source": [
    "# Current model only\n",
    "!tensorboard --bind_all --logdir \"{config.output_dir}\""
   ]
  },
  {
   "cell_type": "markdown",
   "id": "98a8337a-08a2-411f-8173-4946347bcc4b",
   "metadata": {},
   "source": [
    "### Cleanup\n",
    "Note: These will show the target directory and ask for confirmation before proceeding."
   ]
  },
  {
   "cell_type": "markdown",
   "id": "0d8f81bf-d882-42fe-915c-f52336a4e774",
   "metadata": {},
   "source": [
    "#### Delete All"
   ]
  },
  {
   "cell_type": "code",
   "execution_count": null,
   "id": "96252b4b-1b5e-4538-85e3-c4616a7c32ee",
   "metadata": {},
   "outputs": [],
   "source": [
    "nb.delete_dir(config.meta['models_dir'], \"Delete all models in project\")"
   ]
  },
  {
   "cell_type": "markdown",
   "id": "6ee7e0b2-b8c3-4d77-88d7-fe17f80541b4",
   "metadata": {},
   "source": [
    "#### Delete Configuration Output Directory"
   ]
  },
  {
   "cell_type": "code",
   "execution_count": null,
   "id": "980be21d-b95d-4ef5-baf4-2378e5971a9c",
   "metadata": {},
   "outputs": [],
   "source": [
    "nb.delete_dir(config.training_script['output_dir'], \"Delete output directory\")"
   ]
  }
 ],
 "metadata": {
  "kernelspec": {
   "display_name": "Python 3 (ipykernel)",
   "language": "python",
   "name": "python3"
  },
  "language_info": {
   "codemirror_mode": {
    "name": "ipython",
    "version": 3
   },
   "file_extension": ".py",
   "mimetype": "text/x-python",
   "name": "python",
   "nbconvert_exporter": "python",
   "pygments_lexer": "ipython3",
   "version": "3.10.13"
  }
 },
 "nbformat": 4,
 "nbformat_minor": 5
}
