{
 "cells": [
  {
   "cell_type": "markdown",
   "id": "173c6fe4-0561-4294-9fca-10eb3ad26c2c",
   "metadata": {},
   "source": [
    "# Forgather\n",
    "\n",
    "A notebook for experimenting with Forgather's syntax."
   ]
  },
  {
   "cell_type": "code",
   "execution_count": null,
   "id": "576f49ed-6e78-4a86-ae9f-494d2a41fa07",
   "metadata": {},
   "outputs": [],
   "source": [
    "import sys, os\n",
    "modules_path = os.path.join('..', 'src')\n",
    "if modules_path not in sys.path: sys.path.insert(0, modules_path)\n",
    "\n",
    "from pprint import pp, pformat\n",
    "\n",
    "from IPython import display as ds\n",
    "\n",
    "from forgather import Latent\n",
    "from forgather.config import ConfigEnvironment\n",
    "from forgather.preprocess import PPEnvironment\n",
    "from aiws.construct import generate_code\n",
    "\n",
    "# Render code via Markdown render\n",
    "def render_codeblock(language, source, header=None):\n",
    "    if header is None:\n",
    "        header = \"\"\n",
    "    else:\n",
    "        header = header + '\\n'\n",
    "    display(ds.Markdown(f\"{header}```{language}\\n{source}\\n\\n```\"))\n",
    "\n",
    "# Show common syntax definition.\n",
    "with open(os.path.join('..', 'syntax.md'), 'r') as f:\n",
    "    display(ds.Markdown(f.read()))"
   ]
  },
  {
   "cell_type": "markdown",
   "id": "3bf3ba8d-52b5-4c82-a31e-f73998f0b72f",
   "metadata": {},
   "source": [
    "---\n",
    "## Create Config Environment\n",
    "\n",
    "```python\n",
    "ConfigEnvironment(\n",
    "    searchpath: Iterable[str | os.PathLike] | str | os.PathLike = tuple(\".\"),\n",
    "    pp_environment: Environment = None,\n",
    "    global_vars: Dict[str, Any] = None,\n",
    "):\n",
    "```\n",
    "\n",
    "- searchpath: A list of directories to search for templates in.\n",
    "- pp_environment: Override the default Jinja2 environment class with another implementation.\n",
    "- global_vars: Jinja2 global variables visible to all templates."
   ]
  },
  {
   "cell_type": "code",
   "execution_count": null,
   "id": "0c3f3930-a245-4472-801a-3ff683af52a8",
   "metadata": {},
   "outputs": [],
   "source": [
    "env = ConfigEnvironment()"
   ]
  },
  {
   "cell_type": "markdown",
   "id": "e759ad6e-d40d-4ffb-b910-bdcccce279b2",
   "metadata": {},
   "source": [
    "## Define Input Document"
   ]
  },
  {
   "cell_type": "code",
   "execution_count": null,
   "id": "3192fe49-192e-4870-ae0c-c59a5edb2fdb",
   "metadata": {},
   "outputs": [],
   "source": [
    "document = \"\"\"\n",
    "# Compute powers-of-two in a list, returning a list.\n",
    "!singleton:list\n",
    "    - !singleton:map\n",
    "        - !lambda:pow [ !var \"arg0\", 2 ]\n",
    "        - [ 1, 2, 3, 4 ]\n",
    "\"\"\""
   ]
  },
  {
   "cell_type": "markdown",
   "id": "d9829df3-8c7d-4f3a-adff-ee39614be410",
   "metadata": {},
   "source": [
    "## Convert Document to Graph\n",
    "\n",
    "```python\n",
    "class ConfigEnvironment:\n",
    "... \n",
    "    def load(\n",
    "        self,\n",
    "        config_path: os.PathLike | str,\n",
    "        /,\n",
    "        **kwargs,\n",
    "    ) -> Config:\n",
    "...\n",
    "    def load_from_string(\n",
    "        self,\n",
    "        config: str,\n",
    "        /,\n",
    "        **kwargs,\n",
    "    ) -> Config:\n",
    "```\n",
    "\n",
    "- load: Load a template from a path; all paths relative to 'searchpaths' are searched for the template.\n",
    "    - config_path: The relative (to searchpaths) template path.\n",
    "    - kwargs: These are passed into the context of the template.\n",
    "- load_from_string: As with load, but a Python string defines the template body; Note that this bypasses the template loader.\n",
    "    - config: A Python string with a Jinja2 template.\n",
    "    - kwargs: Passed to the template."
   ]
  },
  {
   "cell_type": "code",
   "execution_count": null,
   "id": "0956c00c-5950-45fd-b35c-932b2d141591",
   "metadata": {},
   "outputs": [],
   "source": [
    "graph = env.load_from_string(document).config\n",
    "render_codeblock(\"python\", pformat(graph), \"### Node Graph\")"
   ]
  },
  {
   "cell_type": "markdown",
   "id": "693c95e8-a4d0-4d8d-b1cb-407a7979e57b",
   "metadata": {},
   "source": [
    "## Convert Graph to YAML\n",
    "\n",
    "Convert the node-graph to a YAML representation. This may not be exactly the same as it was in the source template, but should be symantically equivalent."
   ]
  },
  {
   "cell_type": "code",
   "execution_count": null,
   "id": "0f0d0c1b-abb3-47bc-aad8-f0d857f15e4d",
   "metadata": {},
   "outputs": [],
   "source": [
    "render_codeblock(\"yaml\", Latent.to_yaml(graph))"
   ]
  },
  {
   "cell_type": "markdown",
   "id": "58ff35ae-be94-444b-bf90-0791bb9af0a3",
   "metadata": {},
   "source": [
    "## Materialize Graph\n",
    "\n",
    "Construct the objects in the graph."
   ]
  },
  {
   "cell_type": "code",
   "execution_count": null,
   "id": "cb6c0d7f-d476-4f9e-aceb-046c2d6e698f",
   "metadata": {},
   "outputs": [],
   "source": [
    "obj = Latent.materialize(graph)\n",
    "render_codeblock(\"python\", pformat(obj), \"### Objects\")"
   ]
  },
  {
   "cell_type": "markdown",
   "id": "c87c25f9-3151-4a75-a344-86a2508cfc8d",
   "metadata": {},
   "source": [
    "## Convert Graph to Python\n",
    "\n",
    "Convert the graph into the equivalent Python code.\n",
    "\n",
    "The output is a dictionary containing the following:\n",
    "\n",
    "- imports: A list of tuples describing the required imports.\n",
    "- dynamic_imports: A list of tuples describing the required dynamic imports.\n",
    "- variables: A list of tuples describing all of the variables.\n",
    "- main_body: The main-body of the generated Python code.\n",
    "\n",
    "Note: Forgather does not use the intermediary step of converting the graph to code as part of Latent.materialize(); the normal execution path directly interprets the node-graph when constructing objects."
   ]
  },
  {
   "cell_type": "code",
   "execution_count": null,
   "id": "1882f0fe-5bf1-48f3-878e-ec9af31a2d76",
   "metadata": {},
   "outputs": [],
   "source": [
    "generated_code = Latent.to_py(graph)\n",
    "\n",
    "def render_to_py(generated_code):\n",
    "    # Normal imports\n",
    "    # \n",
    "    if len(generated_code['imports']):\n",
    "        print(\"imports: list[tuple[module: str, symbol_name: str]]\")\n",
    "        pp(generated_code['imports'])\n",
    "\n",
    "    # The dynamic imports (imports, where a python file is specified)\n",
    "    # list[tuple[module: str, symbol: str, searchpath: list[str]]]\n",
    "    if len(generated_code['dynamic_imports']):\n",
    "        print(\"\\ndynamic-imports: list[tuple[module: str, symbol_name: str, searchpath: list[str]]]\")\n",
    "        pp(generated_code['dynamic_imports'])\n",
    "\n",
    "    # Variable substitutions\n",
    "    if len(generated_code['variables']):\n",
    "        print(\"\\nvariables: list[tuple[name: str, is_undefined: bool, default: Any]]\")\n",
    "        pp(generated_code['variables'])\n",
    "    \n",
    "    render_codeblock(\"python\", generated_code['main_body'], \"#### Main Body:\")\n",
    "\n",
    "render_to_py(generated_code)"
   ]
  },
  {
   "cell_type": "markdown",
   "id": "08ad4788-09fc-46ca-b6ce-9e604a3b3ea7",
   "metadata": {},
   "source": [
    "## Convert Graph to Python with Jinja2 Template\n",
    "\n",
    "This function takes the output from Latent.to_py(graph) and uses it to render Pyhon code using a Jinja2 template. If the template is unspecified, an implicit \"built-in\" template is used, which will generate appropriate import and dynamic import statements, where required.\n",
    "\n",
    "```python\n",
    "def generate_code(\n",
    "    obj,\n",
    "    template_name: Optional[str] = None,\n",
    "    template_str: Optional[str] = None,\n",
    "    searchpath: Optional[List[str | os.PathLike] | str | os.PathLike] = \".\",\n",
    "    env=None,  # jinja2 environment or compatible API\n",
    "    output_file: Optional[str | os.PathLike] = None,\n",
    "    return_value: Optional[Any] = Undefined,\n",
    "    **kwargs,\n",
    ") -> Any:\n",
    "```\n",
    "\n",
    "See 'help(generate_code)' for details."
   ]
  },
  {
   "cell_type": "code",
   "execution_count": null,
   "id": "0ec86456-4baa-4395-b005-6e5e768bff9a",
   "metadata": {},
   "outputs": [],
   "source": [
    "generated_code = generate_code(graph)\n",
    "render_codeblock(\"python\", generated_code, \"### Generated Code\", )"
   ]
  },
  {
   "cell_type": "markdown",
   "id": "e01d4314-7137-4424-b711-38a80003a13f",
   "metadata": {},
   "source": [
    "## Execute Generated Code\n",
    "\n",
    "Execute the generated code, then call the generated 'construct' function to construct the object.\n",
    "\n",
    "Note: Lambda nodes with args are not working at present (although Latent.materialize() works)"
   ]
  },
  {
   "cell_type": "code",
   "execution_count": null,
   "id": "44dc50cb-1111-4e1d-ab6e-ace13da13fc5",
   "metadata": {},
   "outputs": [],
   "source": [
    "exec(generated_code)\n",
    "obj = construct()\n",
    "render_codeblock(\"python\", obj, \"### Construct Object\", )"
   ]
  }
 ],
 "metadata": {
  "kernelspec": {
   "display_name": "Python 3 (ipykernel)",
   "language": "python",
   "name": "python3"
  },
  "language_info": {
   "codemirror_mode": {
    "name": "ipython",
    "version": 3
   },
   "file_extension": ".py",
   "mimetype": "text/x-python",
   "name": "python",
   "nbconvert_exporter": "python",
   "pygments_lexer": "ipython3",
   "version": "3.10.13"
  }
 },
 "nbformat": 4,
 "nbformat_minor": 5
}
