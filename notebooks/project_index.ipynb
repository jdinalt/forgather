{
 "cells": [
  {
   "cell_type": "markdown",
   "id": "2e422f35-7a08-4a50-a075-51a68b5c3994",
   "metadata": {},
   "source": [
    "# Project Index\n",
    "Useful for debugging configurations and viewing project configuration details."
   ]
  },
  {
   "cell_type": "code",
   "execution_count": null,
   "id": "26bffdcc-00ac-4adc-b3fd-974df44d09fd",
   "metadata": {},
   "outputs": [],
   "source": [
    "# Set defaults\n",
    "default_projects_directory = '/home/dinalt/ai_assets/projects/experiments'\n",
    "#default_projects_directory = '../examples/trainers'\n",
    "default_project = \"transformers\"\n",
    "config_template = \"train/attn_only.yaml\"\n",
    "\n",
    "from ipyfilechooser import FileChooser\n",
    "import os\n",
    "fc = FileChooser(\n",
    "    os.path.join(default_projects_directory, default_project), show_only_dirs=True,\n",
    "    title=\"Select a Project Directory\", select_default=True)\n",
    "display(fc)"
   ]
  },
  {
   "cell_type": "markdown",
   "id": "b4681a4d-fc01-43f7-a28f-308d6f4869b8",
   "metadata": {},
   "source": [
    "## Project Info"
   ]
  },
  {
   "cell_type": "code",
   "execution_count": null,
   "id": "966a8a33-55a2-4ff0-b364-bd0ddbad4675",
   "metadata": {
    "editable": true,
    "slideshow": {
     "slide_type": ""
    },
    "tags": []
   },
   "outputs": [],
   "source": [
    "import sys, os\n",
    "modules_path = os.path.join('..', 'src')\n",
    "if modules_path not in sys.path: sys.path.insert(0, modules_path)\n",
    "from pprint import pformat, pp\n",
    "from IPython import display as ds\n",
    "from forgather.config import (\n",
    "    ConfigEnvironment,\n",
    "    pconfig\n",
    ")\n",
    "from aiws.config import preprocessor_globals, MetaConfig\n",
    "import aiws.notebooks as nb\n",
    "\n",
    "assert os.path.exists(fc.selected_path), \"Project directory does not exist.\"\n",
    "nb.show_project_readme(fc.selected_path)\n",
    "meta = MetaConfig(fc.selected_path)\n",
    "nb.display_meta(meta, \"### Meta Config\\n\")\n",
    "nb.list_templates(meta.find_templates(meta.config_prefix), \"### Available Configurations\\n\")\n",
    "default_config = meta.default_config()\n",
    "print('-' * 60)\n",
    "print(f\"Default Configuration: {default_config}\")\n",
    "def list_templates(prefix):\n",
    "    nb.list_templates(meta.find_templates(prefix), \"### Templates\\n\")\n",
    "list_templates('')\n",
    "# Create configuration envrionment\n",
    "environment = ConfigEnvironment(\n",
    "    searchpath=meta.searchpath,\n",
    "    globals = preprocessor_globals(fc.selected_path),\n",
    ")\n",
    "\n",
    "config_template_path = meta.config_path(config_template)\n",
    "nb.display_referenced_templates_tree(environment, config_template_path, \"### Included Templates\\n\")\n",
    "config, pp_config = environment.load(config_template_path).get()\n",
    "nb.display_referenced_source_list(config, title=\"### Sub-Modules\\n\", deep=True)"
   ]
  },
  {
   "cell_type": "code",
   "execution_count": null,
   "id": "0c0e078b-6103-48e3-9e19-0e02dadbf5a0",
   "metadata": {},
   "outputs": [],
   "source": [
    "nb.display_preprocessed_template(environment, config_template_path, title=\"### Preprocessed Configuration\\n\")"
   ]
  },
  {
   "cell_type": "code",
   "execution_count": null,
   "id": "bc89373a-da4a-402a-a9c8-bd39431a9887",
   "metadata": {},
   "outputs": [],
   "source": []
  }
 ],
 "metadata": {
  "kernelspec": {
   "display_name": "Python 3 (ipykernel)",
   "language": "python",
   "name": "python3"
  },
  "language_info": {
   "codemirror_mode": {
    "name": "ipython",
    "version": 3
   },
   "file_extension": ".py",
   "mimetype": "text/x-python",
   "name": "python",
   "nbconvert_exporter": "python",
   "pygments_lexer": "ipython3",
   "version": "3.10.13"
  }
 },
 "nbformat": 4,
 "nbformat_minor": 5
}
