{
 "cells": [
  {
   "cell_type": "markdown",
   "id": "2e422f35-7a08-4a50-a075-51a68b5c3994",
   "metadata": {},
   "source": [
    "# Project Index\n",
    "\n",
    "[Custom Model Notebook](../../notebooks/custom_model.ipynb)  \n",
    "[Training Notebook](../../notebooks/train.ipynb)  \n",
    "[Project Config Notebook](../../notebooks/project_config.ipynb)  \n",
    "[Forgather Notebook](../../notebooks/forgather.ipynb)  "
   ]
  },
  {
   "cell_type": "code",
   "execution_count": 1,
   "id": "26bffdcc-00ac-4adc-b3fd-974df44d09fd",
   "metadata": {},
   "outputs": [
    {
     "data": {
      "text/markdown": [
       "# Template Inheritance\n",
       "\n",
       "This example demostrates the use of [Jinja2 template inheritance](https://jinja.palletsprojects.com/en/3.1.x/templates/#template-inheritance).\n",
       "\n",
       "---\n",
       "\n",
       "In addition to YAML, there is a Jinja2 preprocessing stage which allows for things like template inheritance. This can help eliminate unnecessary repition by factoring out the common elements in a set of configurtions.\n",
       "\n",
       "In this example, we define a base-template (\"list_base.yaml\") for defining a list and extend the definition for the first configuration, \"list.yaml.\" In the second configuration, \"full_list.yaml,\" we extend the definition of \"list.yaml.\"\n",
       "\n",
       "We use a list in the example as to not distract from the main subject of this example, but this technique is used extensively in the main Forgather template library for much more complex use-cases.\n",
       "\n",
       "## Project Setup\n",
       "\n",
       "The project meta-config is much the same as the first example project, although we only specify the default config this time, as the other defaults will work.\n",
       "\n",
       "## Configurations\n",
       "\n",
       "Under \"Available Configurations,\" there are two configs listed:\n",
       "- list.yaml : A short list, derived from base_list.yaml\n",
       "- full_list.yaml : Alonger list, derived from list.yaml\n",
       "\n",
       "## Included Templates\n",
       "\n",
       "Note the hierarchical template listing for the selected configuration. You can examine the referenced templates by clicking on the links in the index.\n",
       "\n",
       "---\n",
       "\n",
       "\n",
       "\n",
       "#### Project Directory: \"/home/dinalt/ai_assets/forgather/tutorials/templates\"\n",
       "\n",
       "## Meta Config\n",
       "Meta Config: [/home/dinalt/ai_assets/forgather/tutorials/templates/meta.yaml](meta.yaml)\n",
       "\n",
       "- [meta.yaml](meta.yaml)\n",
       "\n",
       "Template Search Paths:\n",
       "- [/home/dinalt/ai_assets/forgather/tutorials/templates/templates](templates)\n",
       "\n",
       "## Available Configurations\n",
       "- [full_list.yaml](templates/configs/full_list.yaml)\n",
       "- [list.yaml](templates/configs/list.yaml)\n",
       "\n",
       "Default Configuration: list.yaml\n",
       "\n",
       "Active Configuration: list.yaml\n",
       "\n",
       "## Included Templates\n",
       "- [configs/list.yaml](templates/configs/list.yaml)\n",
       "    - [list_base.yaml](templates/list_base.yaml)\n",
       "        - [formatting.yaml](templates/formatting.yaml)\n",
       "### Config Metadata:\n",
       "\n",
       "```python\n",
       "{'description': 'Construct a list', 'name': 'A short list'}\n",
       "\n",
       "```\n",
       "\n",
       "## Modules\n",
       "## Output Targets\n",
       "- meta\n",
       "- main\n",
       "\n",
       "## Preprocessed Config\n",
       "\n",
       "```yaml\n",
       "\n",
       "\n",
       "#---------------------------------------\n",
       "#              A short list              \n",
       "#---------------------------------------\n",
       "# 2024-08-17T02:28:45\n",
       "# Description: Construct a list\n",
       "# Project Dir: /home/dinalt/ai_assets/forgather/tutorials/templates\n",
       "#---------------------------------------\n",
       "\n",
       "\n",
       "meta:\n",
       "    name: \"A short list\"\n",
       "    description: \"Construct a list\"\n",
       "\n",
       "main:\n",
       "    - Alpha\n",
       "    - Bravo\n",
       "    - Charlie\n",
       "    - Delta\n",
       "\n",
       "```\n",
       "\n",
       "## Generated Code\n",
       "\n",
       "```python\n",
       "def construct(\n",
       "):\n",
       "    \n",
       "    \n",
       "    return [\n",
       "        'Alpha',\n",
       "        'Bravo',\n",
       "        'Charlie',\n",
       "        'Delta',\n",
       "    ]\n",
       "\n",
       "```\n",
       "\n"
      ],
      "text/plain": [
       "<IPython.core.display.Markdown object>"
      ]
     },
     "metadata": {},
     "output_type": "display_data"
    }
   ],
   "source": [
    "import forgather.nb.notebooks as nb\n",
    "\n",
    "\n",
    "nb.display_project_index(config_template=\"\", show_pp_config=True, show_generated_code=True,)"
   ]
  },
  {
   "cell_type": "markdown",
   "id": "7fa0e750-d7e2-415f-a1b6-8c7068948a3c",
   "metadata": {},
   "source": [
    "---\n",
    "\n",
    "## The Project Class\n",
    "\n",
    "The high-level interface for constructing the objects defined by a project configuration is the 'Project' class. The project object has the following dataclass members:\n",
    "\n",
    "- config_name : The name of the selected configuration; automatically populated with the default, if unspecified.\n",
    "- project_dir : The absolute path to the project directory.\n",
    "- meta : The project's meta-config.\n",
    "- environment : The projects config envrionment.\n",
    "- config : The constructed node-graph, representing the configuration.\n",
    "- pp_config : The pre-processed configuration."
   ]
  },
  {
   "cell_type": "code",
   "execution_count": 1,
   "id": "279a5ece-b860-48a7-9b4b-102286292fef",
   "metadata": {},
   "outputs": [
    {
     "name": "stdout",
     "output_type": "stream",
     "text": [
      "Project(config_name='list.yaml',\n",
      "        project_dir='/home/dinalt/ai_assets/forgather/tutorials/project_beta',\n",
      "        meta=MetaConfig(project_dir='/home/dinalt/ai_assets/forgather/tutorials/project_beta',\n",
      "                        name='meta.yaml',\n",
      "                        meta_path='/home/dinalt/ai_assets/forgather/tutorials/project_beta/meta.yaml',\n",
      "                        searchpath=['/home/dinalt/ai_assets/forgather/tutorials/project_beta/templates'],\n",
      "                        system_path=None,\n",
      "                        config_prefix='configs',\n",
      "                        default_cfg='list.yaml',\n",
      "                        config_dict={'default_config': 'list.yaml'},\n",
      "                        workspace_root='/home/dinalt/ai_assets/forgather'),\n",
      "        environment=<forgather.config.ConfigEnvironment object at 0x7fe3341bb400>,\n",
      "        config={'meta': {'name': 'A short list',\n",
      "                         'description': 'Construct a list'},\n",
      "                'main': ['Alpha', 'Bravo', 'Charlie', 'Delta']},\n",
      "        pp_config='\\n'\n",
      "                  '\\n'\n",
      "                  '#---------------------------------------\\n'\n",
      "                  '#              A short list              \\n'\n",
      "                  '#---------------------------------------\\n'\n",
      "                  '# 2024-08-15T06:32:47\\n'\n",
      "                  '# Description: Construct a list\\n'\n",
      "                  '# Project Dir: '\n",
      "                  '/home/dinalt/ai_assets/forgather/tutorials/project_beta\\n'\n",
      "                  '#---------------------------------------\\n'\n",
      "                  '\\n'\n",
      "                  '\\n'\n",
      "                  'meta:\\n'\n",
      "                  '    name: \"A short list\"\\n'\n",
      "                  '    description: \"Construct a list\"\\n'\n",
      "                  '\\n'\n",
      "                  'main:\\n'\n",
      "                  '    - Alpha\\n'\n",
      "                  '    - Bravo\\n'\n",
      "                  '    - Charlie\\n'\n",
      "                  '    - Delta')\n"
     ]
    }
   ],
   "source": [
    "from forgather import Project\n",
    "from pprint import pp\n",
    "\n",
    "# This load the configuration into the project object, but an actual instance has not yet been constructed.\n",
    "proj = Project(config_name=\"list.yaml\")\n",
    "pp(proj)"
   ]
  },
  {
   "cell_type": "markdown",
   "id": "faf8cb26-11b4-42eb-b729-ec08a7f96ff9",
   "metadata": {},
   "source": [
    "### Rendering Project Attributes\n",
    "\n",
    "There are a number of helper functions in the Noteboot module which can help with rendering project attributes."
   ]
  },
  {
   "cell_type": "code",
   "execution_count": 2,
   "id": "40959e33-3bcd-4f97-a6fc-d8e44eb41ac3",
   "metadata": {},
   "outputs": [
    {
     "data": {
      "text/markdown": [
       "Meta Config: [/home/dinalt/ai_assets/forgather/tutorials/project_beta/meta.yaml](meta.yaml)\n",
       "\n",
       "- [meta.yaml](meta.yaml)\n",
       "\n",
       "Template Search Paths:\n",
       "- [/home/dinalt/ai_assets/forgather/tutorials/project_beta/templates](templates)\n",
       "\n"
      ],
      "text/plain": [
       "<IPython.core.display.Markdown object>"
      ]
     },
     "metadata": {},
     "output_type": "display_data"
    }
   ],
   "source": [
    "import forgather.nb.notebooks as nb\n",
    "\n",
    "nb.display_meta(proj.meta)"
   ]
  },
  {
   "cell_type": "code",
   "execution_count": 3,
   "id": "5e0dc4ec-3722-41f8-87fb-711a137b3b00",
   "metadata": {},
   "outputs": [
    {
     "data": {
      "text/markdown": [
       "```yaml\n",
       "\n",
       "\n",
       "#---------------------------------------\n",
       "#              A short list              \n",
       "#---------------------------------------\n",
       "# 2024-08-15T06:32:47\n",
       "# Description: Construct a list\n",
       "# Project Dir: /home/dinalt/ai_assets/forgather/tutorials/project_beta\n",
       "#---------------------------------------\n",
       "\n",
       "\n",
       "meta:\n",
       "    name: \"A short list\"\n",
       "    description: \"Construct a list\"\n",
       "\n",
       "main:\n",
       "    - Alpha\n",
       "    - Bravo\n",
       "    - Charlie\n",
       "    - Delta\n",
       "\n",
       "```\n",
       "\n"
      ],
      "text/plain": [
       "<IPython.core.display.Markdown object>"
      ]
     },
     "metadata": {},
     "output_type": "display_data"
    }
   ],
   "source": [
    "nb.display_codeblock(\"yaml\", proj.pp_config)"
   ]
  },
  {
   "cell_type": "markdown",
   "id": "c3828982-8d6c-4fc2-9193-c096260ef8d2",
   "metadata": {},
   "source": [
    "## Rendering the Node Graph\n",
    "\n",
    "The node-graph (proj.config) defines how to construct the defined object.\n",
    "\n",
    "A simple config, like the one defined in this project, is easy enough to interpret by just printing it. It may make it a little easier, if we add Python syntax highlighting."
   ]
  },
  {
   "cell_type": "code",
   "execution_count": 11,
   "id": "8297bc21-c470-42fc-bee9-16d0e5c686f2",
   "metadata": {},
   "outputs": [
    {
     "data": {
      "text/markdown": [
       "```python\n",
       "{'meta': {'name': 'A short list', 'description': 'Construct a list'}, 'main': ['Alpha', 'Bravo', 'Charlie', 'Delta']}\n",
       "\n",
       "```\n",
       "\n"
      ],
      "text/plain": [
       "<IPython.core.display.Markdown object>"
      ]
     },
     "metadata": {},
     "output_type": "display_data"
    }
   ],
   "source": [
    "nb.display_codeblock(\"python\", proj.config)"
   ]
  },
  {
   "cell_type": "markdown",
   "id": "18553468-c5f1-41d9-833d-fc97d8daa87a",
   "metadata": {},
   "source": [
    "### Rendering as YAML\n",
    "\n",
    "The node-graph can be rendered as YAML, which may be helpful for more complex graphs."
   ]
  },
  {
   "cell_type": "code",
   "execution_count": 5,
   "id": "4e70d0e9-5b39-4d93-9961-44dc45b0e377",
   "metadata": {},
   "outputs": [
    {
     "data": {
      "text/markdown": [
       "```yaml\n",
       "meta: \n",
       "    name: 'A short list'\n",
       "    description: 'Construct a list'\n",
       "main: \n",
       "    - 'Alpha'\n",
       "    - 'Bravo'\n",
       "    - 'Charlie'\n",
       "    - 'Delta'\n",
       "\n",
       "```\n",
       "\n"
      ],
      "text/plain": [
       "<IPython.core.display.Markdown object>"
      ]
     },
     "metadata": {},
     "output_type": "display_data"
    }
   ],
   "source": [
    "from forgather.yaml_encoder import to_yaml\n",
    "\n",
    "nb.display_codeblock(\"yaml\", to_yaml(proj.config))"
   ]
  },
  {
   "cell_type": "markdown",
   "id": "067d4f83-1a0d-404d-9ef7-b6d6016c380c",
   "metadata": {},
   "source": [
    "### Rendering as Python Code\n",
    "\n",
    "Another option is to render the code graph as the equivalent Python code."
   ]
  },
  {
   "cell_type": "code",
   "execution_count": 6,
   "id": "dbc2f718-73e0-4649-b77f-1c0f048ebb84",
   "metadata": {},
   "outputs": [
    {
     "data": {
      "text/markdown": [
       "```yaml\n",
       "def construct(\n",
       "):\n",
       "    \n",
       "    \n",
       "    return {\n",
       "        'meta': {\n",
       "            'name': 'A short list',\n",
       "            'description': 'Construct a list',\n",
       "        },\n",
       "        'main': [\n",
       "            'Alpha',\n",
       "            'Bravo',\n",
       "            'Charlie',\n",
       "            'Delta',\n",
       "        ],\n",
       "    }\n",
       "\n",
       "```\n",
       "\n"
      ],
      "text/plain": [
       "<IPython.core.display.Markdown object>"
      ]
     },
     "metadata": {},
     "output_type": "display_data"
    }
   ],
   "source": [
    "from forgather.codegen import generate_code\n",
    "\n",
    "nb.display_codeblock(\"yaml\", generate_code(proj.config))"
   ]
  },
  {
   "cell_type": "markdown",
   "id": "ac2d3018-17c8-43b8-9a7e-cabf32b8027d",
   "metadata": {},
   "source": [
    "---\n",
    "\n",
    "## Object Construction\n",
    "Calling the project object, without arguments, will instantiate the 'main' target object."
   ]
  },
  {
   "cell_type": "code",
   "execution_count": 7,
   "id": "c0ea5fde-35e8-40d1-b506-131fe4b9b2cc",
   "metadata": {},
   "outputs": [
    {
     "name": "stdout",
     "output_type": "stream",
     "text": [
      "['Alpha', 'Bravo', 'Charlie', 'Delta']\n"
     ]
    }
   ],
   "source": [
    "phonetic_alphabet = proj()\n",
    "pp(phonetic_alphabet)"
   ]
  },
  {
   "cell_type": "markdown",
   "id": "064cde7d-3f2d-4f0a-8ca9-fb0b51c3848a",
   "metadata": {},
   "source": [
    "Calling the project object with a single positional string argument will construct and return the specified target."
   ]
  },
  {
   "cell_type": "code",
   "execution_count": 8,
   "id": "4a1c03ca-8c46-4aef-8525-8a19c036e9a0",
   "metadata": {},
   "outputs": [
    {
     "data": {
      "text/plain": [
       "{'name': 'A short list', 'description': 'Construct a list'}"
      ]
     },
     "execution_count": 8,
     "metadata": {},
     "output_type": "execute_result"
    }
   ],
   "source": [
    "proj(\"meta\")"
   ]
  },
  {
   "cell_type": "markdown",
   "id": "7644c4f2-64bd-4e9e-a749-8b14c82ac132",
   "metadata": {},
   "source": [
    "Calling the project object with an iterable of strings will return a dictionary of the specified targets."
   ]
  },
  {
   "cell_type": "code",
   "execution_count": 9,
   "id": "3ab6d93c-2106-4e92-8716-29ec74abcf3d",
   "metadata": {},
   "outputs": [
    {
     "data": {
      "text/plain": [
       "{'meta': {'name': 'A short list', 'description': 'Construct a list'},\n",
       " 'main': ['Alpha', 'Bravo', 'Charlie', 'Delta']}"
      ]
     },
     "execution_count": 9,
     "metadata": {},
     "output_type": "execute_result"
    }
   ],
   "source": [
    "proj([\"main\", \"meta\"])"
   ]
  },
  {
   "cell_type": "markdown",
   "id": "ec5d9f53-1997-4421-8b05-f14d19cf5a8d",
   "metadata": {},
   "source": [
    "If a target does not exist, the corresponding key will be absent from the output. "
   ]
  },
  {
   "cell_type": "code",
   "execution_count": 10,
   "id": "40b70ea8-42a5-4dcb-b46a-c4bc8f8f1584",
   "metadata": {},
   "outputs": [
    {
     "data": {
      "text/plain": [
       "{'main': ['Alpha', 'Bravo', 'Charlie', 'Delta']}"
      ]
     },
     "execution_count": 10,
     "metadata": {},
     "output_type": "execute_result"
    }
   ],
   "source": [
    "proj([\"main\", \"foo\"])"
   ]
  },
  {
   "cell_type": "markdown",
   "id": "8ef09f76-42b6-440c-a1a7-e6d188afe7c8",
   "metadata": {},
   "source": [
    "### Selecting a Project Configuration\n",
    "\n",
    "If there is more than one available configuration, the configuration can be passed as an argument."
   ]
  },
  {
   "cell_type": "code",
   "execution_count": 15,
   "id": "b2cb8fcb-585d-475f-8f3a-17512771fa7f",
   "metadata": {},
   "outputs": [
    {
     "data": {
      "text/plain": [
       "['Alpha',\n",
       " 'Bravo',\n",
       " 'Charlie',\n",
       " 'Delta',\n",
       " 'Echo',\n",
       " 'Foxtrot',\n",
       " 'Golf',\n",
       " 'Hotel',\n",
       " 'India',\n",
       " 'Julliet',\n",
       " 'Kilo',\n",
       " 'Lima',\n",
       " 'Mike',\n",
       " 'November',\n",
       " 'Oscar',\n",
       " 'Papa',\n",
       " 'Quebec',\n",
       " 'Romeo',\n",
       " 'Sierra',\n",
       " 'Tango',\n",
       " 'Uniform',\n",
       " 'Victor',\n",
       " 'Whisky',\n",
       " 'X-Ray',\n",
       " 'Yankee',\n",
       " 'Zulu']"
      ]
     },
     "execution_count": 15,
     "metadata": {},
     "output_type": "execute_result"
    }
   ],
   "source": [
    "proj = Project(config_name=\"full_list.yaml\")\n",
    "proj()"
   ]
  },
  {
   "cell_type": "markdown",
   "id": "59f2c70e-8f10-4766-8bc6-38e244748029",
   "metadata": {},
   "source": [
    "---\n",
    "## Code Execution\n",
    "\n",
    "How can I execute dynamically generated code?\n",
    "\n",
    "Please note that this is not how this works internally when constructing a configuration; the node graph is directly converted into the constructed object, without being first translated into code. There are still a few corner-cases where the generated code does not do exactly the same thing a directly constructing the configuration.\n",
    "\n",
    "The main known issue is that arguments passing arguments to lambdas does not work in generated code, but works when directly constructed."
   ]
  },
  {
   "cell_type": "code",
   "execution_count": 18,
   "id": "b6ba860e-437a-4c63-a1f1-016b097df507",
   "metadata": {},
   "outputs": [
    {
     "data": {
      "text/markdown": [
       "## Generated Code\n",
       "\n",
       "```python\n",
       "def construct(\n",
       "):\n",
       "    \n",
       "    \n",
       "    return [\n",
       "        'Alpha',\n",
       "        'Bravo',\n",
       "        'Charlie',\n",
       "        'Delta',\n",
       "        'Echo',\n",
       "        'Foxtrot',\n",
       "        'Golf',\n",
       "        'Hotel',\n",
       "        'India',\n",
       "        'Julliet',\n",
       "        'Kilo',\n",
       "        'Lima',\n",
       "        'Mike',\n",
       "        'November',\n",
       "        'Oscar',\n",
       "        'Papa',\n",
       "        'Quebec',\n",
       "        'Romeo',\n",
       "        'Sierra',\n",
       "        'Tango',\n",
       "        'Uniform',\n",
       "        'Victor',\n",
       "        'Whisky',\n",
       "        'X-Ray',\n",
       "        'Yankee',\n",
       "        'Zulu',\n",
       "    ]\n",
       "\n",
       "```\n",
       "\n"
      ],
      "text/plain": [
       "<IPython.core.display.Markdown object>"
      ]
     },
     "metadata": {},
     "output_type": "display_data"
    },
    {
     "data": {
      "text/markdown": [
       "## Code Output\n",
       "\n",
       "```python\n",
       "['Alpha', 'Bravo', 'Charlie', 'Delta', 'Echo', 'Foxtrot', 'Golf', 'Hotel', 'India', 'Julliet', 'Kilo', 'Lima', 'Mike', 'November', 'Oscar', 'Papa', 'Quebec', 'Romeo', 'Sierra', 'Tango', 'Uniform', 'Victor', 'Whisky', 'X-Ray', 'Yankee', 'Zulu']\n",
       "\n",
       "```\n",
       "\n"
      ],
      "text/plain": [
       "<IPython.core.display.Markdown object>"
      ]
     },
     "metadata": {},
     "output_type": "display_data"
    }
   ],
   "source": [
    "from forgather.codegen import generate_code\n",
    "\n",
    "# The 'config' attribute of the project is the raw configuration node-graph.\n",
    "# The graph can be converted to executable Python code with 'generate_code'\n",
    "# Note that we can independenlty generate code for any node in the graph.\n",
    "generated_code = generate_code(proj.config['main'])\n",
    "nb.display_codeblock(\"python\", generated_code, \"## Generated Code\\n\")\n",
    "\n",
    "# Calling 'exec' on the code is roughly equivlant to pasting the code into a cell\n",
    "# and executing the cell. With this configuration, it outputs a function named\n",
    "# 'construct,' which can be called to construct the configuration.\n",
    "exec(generated_code)\n",
    "\n",
    "phonetic_alphabet = construct()\n",
    "\n",
    "nb.display_codeblock(\"python\", phonetic_alphabet, \"## Code Output\\n\")"
   ]
  },
  {
   "cell_type": "code",
   "execution_count": null,
   "id": "abcbca3e-b549-422e-8bc9-bc9af7601cb0",
   "metadata": {},
   "outputs": [],
   "source": []
  }
 ],
 "metadata": {
  "kernelspec": {
   "display_name": "Python 3 (ipykernel)",
   "language": "python",
   "name": "python3"
  },
  "language_info": {
   "codemirror_mode": {
    "name": "ipython",
    "version": 3
   },
   "file_extension": ".py",
   "mimetype": "text/x-python",
   "name": "python",
   "nbconvert_exporter": "python",
   "pygments_lexer": "ipython3",
   "version": "3.10.13"
  }
 },
 "nbformat": 4,
 "nbformat_minor": 5
}
