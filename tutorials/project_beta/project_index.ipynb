{
 "cells": [
  {
   "cell_type": "markdown",
   "id": "2e422f35-7a08-4a50-a075-51a68b5c3994",
   "metadata": {},
   "source": [
    "# Project Index\n",
    "\n",
    "[Custom Model Notebook](../../notebooks/custom_model.ipynb)  \n",
    "[Training Notebook](../../notebooks/train.ipynb)  \n",
    "[Project Config Notebook](../../notebooks/project_config.ipynb)  \n",
    "[Forgather Notebook](../../notebooks/forgather.ipynb)  "
   ]
  },
  {
   "cell_type": "code",
   "execution_count": 1,
   "id": "26bffdcc-00ac-4adc-b3fd-974df44d09fd",
   "metadata": {},
   "outputs": [
    {
     "data": {
      "text/markdown": [
       "# Template Inheritance\n",
       "\n",
       "This example demostrates the use of [Jinja2 template inheritance](https://jinja.palletsprojects.com/en/3.1.x/templates/#template-inheritance).\n",
       "\n",
       "---\n",
       "\n",
       "In addition to YAML, there is a Jinja2 preprocessing stage which allows for things like template inheritance. This can help eliminate unnecessary repition by factoring out the common elements in a set of configurtions.\n",
       "\n",
       "In this example, we define a base-template (\"list_base.yaml\") for defining a list and extend the definition for the first configuration, \"list.yaml.\" In the second configuration, \"full_list.yaml,\" we extend the definition of \"list.yaml.\"\n",
       "\n",
       "We use a list in the example as to not distract from the main subject of this example, but this technique is used extensively in the main Forgather template library for much more complex use-cases.\n",
       "\n",
       "## Project Setup\n",
       "\n",
       "The project meta-config is much the same as the first example project, although we only specify the default config this time, as the other defaults will work.\n",
       "\n",
       "## Configurations\n",
       "\n",
       "Under \"Available Configurations,\" there are two configs listed:\n",
       "- list.yaml : A short list, derived from base_list.yaml\n",
       "- full_list.yaml : Alonger list, derived from list.yaml\n",
       "\n",
       "## Included Templates\n",
       "\n",
       "Note the hierarchical template listing for the selected configuration. You can examine the referenced templates by clicking on the links in the index.\n",
       "\n",
       "## Preprocessed Config\n",
       "\n",
       "This is more interesting than the first example, as the preprocessed config was generated from multiple template files. We have also automatically generated a project header in the output.\n",
       "\n",
       "## Wrapping Up\n",
       "\n",
       "If you followed the first example, the rest should be pretty self-explanatory. Try loading the alternate configuration, \"full_list.yaml.\"\n",
       "\n",
       "```python\n",
       "nb.display_project_index(config_template=\"full_list.yaml\", materialize=True, pp_first=False)\n",
       "```\n",
       "\n",
       "Once you are comfortable with your understanding of how this works, the last part of this notebook demonstrates how to obtain the constructed object and the generated code.\n",
       "\n",
       "---\n",
       "\n",
       "\n",
       "\n",
       "#### Project Directory: \"/home/dinalt/ai_assets/forgather/tutorials/project_beta\"\n",
       "\n",
       "## Meta Config\n",
       "Meta Config: [/home/dinalt/ai_assets/forgather/tutorials/project_beta/meta.yaml](meta.yaml)\n",
       "\n",
       "- [meta.yaml](meta.yaml)\n",
       "\n",
       "Template Search Paths:\n",
       "- [/home/dinalt/ai_assets/forgather/tutorials/project_beta/templates](templates)\n",
       "\n",
       "## Available Configurations\n",
       "- [full_list.yaml](templates/configs/full_list.yaml)\n",
       "- [list.yaml](templates/configs/list.yaml)\n",
       "\n",
       "Default Configuration: list.yaml\n",
       "\n",
       "Active Configuration: list.yaml\n",
       "\n",
       "## Available Templates\n",
       "- [configs/full_list.yaml](templates/configs/full_list.yaml)\n",
       "- [configs/list.yaml](templates/configs/list.yaml)\n",
       "- [formatting.yaml](templates/formatting.yaml)\n",
       "- [list_base.yaml](templates/list_base.yaml)\n",
       "\n",
       "## Included Templates\n",
       "- [configs/list.yaml](templates/configs/list.yaml)\n",
       "    - [list_base.yaml](templates/list_base.yaml)\n",
       "        - [formatting.yaml](templates/formatting.yaml)\n",
       "### Config Metadata:\n",
       "\n",
       "```python\n",
       "{'description': 'Construct a list', 'name': 'A short list'}\n",
       "\n",
       "```\n",
       "\n",
       "## Modules\n",
       "## Preprocessed Config\n",
       "\n",
       "```yaml\n",
       "\n",
       "\n",
       "#---------------------------------------\n",
       "#              A short list              \n",
       "#---------------------------------------\n",
       "# 2024-08-14T08:18:13\n",
       "# Description: Construct a list\n",
       "# Project Dir: /home/dinalt/ai_assets/forgather/tutorials/project_beta\n",
       "#---------------------------------------\n",
       "\n",
       "\n",
       "meta:\n",
       "    name: \"A short list\"\n",
       "    description: \"Construct a list\"\n",
       "\n",
       "main:\n",
       "    - Alpha\n",
       "    - Bravo\n",
       "    - Charlie\n",
       "    - Delta\n",
       "\n",
       "```\n",
       "\n",
       "## Loaded Configuration\n",
       "\n",
       "```yaml\n",
       "meta: \n",
       "    name: 'A short list'\n",
       "    description: 'Construct a list'\n",
       "main: \n",
       "    - 'Alpha'\n",
       "    - 'Bravo'\n",
       "    - 'Charlie'\n",
       "    - 'Delta'\n",
       "\n",
       "```\n",
       "\n",
       "## Generated Code\n",
       "\n",
       "```python\n",
       "def construct(\n",
       "):\n",
       "    \n",
       "    \n",
       "    return {\n",
       "        'meta': {\n",
       "            'name': 'A short list',\n",
       "            'description': 'Construct a list',\n",
       "        },\n",
       "        'main': [\n",
       "            'Alpha',\n",
       "            'Bravo',\n",
       "            'Charlie',\n",
       "            'Delta',\n",
       "        ],\n",
       "    }\n",
       "\n",
       "```\n",
       "\n",
       "## Constructed Project\n",
       "\n",
       "```python\n",
       "{'main': ['Alpha', 'Bravo', 'Charlie', 'Delta'],\n",
       " 'meta': {'description': 'Construct a list', 'name': 'A short list'}}\n",
       "\n",
       "```\n",
       "\n"
      ],
      "text/plain": [
       "<IPython.core.display.Markdown object>"
      ]
     },
     "metadata": {},
     "output_type": "display_data"
    }
   ],
   "source": [
    "import forgather.nb.notebooks as nb\n",
    "\n",
    "nb.display_project_index(config_template=\"\", materialize=True, pp_first=False)"
   ]
  },
  {
   "cell_type": "markdown",
   "id": "7fa0e750-d7e2-415f-a1b6-8c7068948a3c",
   "metadata": {},
   "source": [
    "---\n",
    "\n",
    "## Project Class and Object Construction\n",
    "\n",
    "The above show what the project is, but how do I do something with it?\n",
    "\n",
    "The high-level interface for constructing the objects defined by a project configuration is the 'Project' class:"
   ]
  },
  {
   "cell_type": "code",
   "execution_count": 40,
   "id": "279a5ece-b860-48a7-9b4b-102286292fef",
   "metadata": {},
   "outputs": [
    {
     "name": "stdout",
     "output_type": "stream",
     "text": [
      "['Alpha', 'Bravo', 'Charlie', 'Delta']\n"
     ]
    }
   ],
   "source": [
    "from forgather import Project\n",
    "from pprint import pp\n",
    "\n",
    "# This load the configuration into the project object, but an actual instance has not yet been constructed.\n",
    "proj = Project(config_name=\"list.yaml\")\n",
    "\n",
    "# Calling the project object will instantiate the defined object.\n",
    "# We get the 'main' object from the dictionary and print it.\n",
    "phonetic_alphabet = proj()['main']\n",
    "\n",
    "pp(phonetic_alphabet)"
   ]
  },
  {
   "cell_type": "markdown",
   "id": "cb33554a-57c6-4fb7-8a88-9c2f75900b70",
   "metadata": {},
   "source": [
    "---\n",
    "## Code Generation\n",
    "\n",
    "How do I get the generated code?"
   ]
  },
  {
   "cell_type": "code",
   "execution_count": 41,
   "id": "a293db3a-8a25-4e81-af58-17556a75bf6a",
   "metadata": {},
   "outputs": [
    {
     "name": "stdout",
     "output_type": "stream",
     "text": [
      "def construct(\n",
      "):\n",
      "    \n",
      "    \n",
      "    return [\n",
      "        'Alpha',\n",
      "        'Bravo',\n",
      "        'Charlie',\n",
      "        'Delta',\n",
      "    ]\n"
     ]
    }
   ],
   "source": [
    "from forgather.codegen import generate_code\n",
    "\n",
    "# The 'config' attribute of the project is the raw configuration node-graph.\n",
    "# The graph can be converted to executable Python code with 'generate_code'\n",
    "# Note that we can independenlty generate code for any node in the graph.\n",
    "generated_code = generate_code(proj.config['main'])\n",
    "print(generated_code)"
   ]
  },
  {
   "cell_type": "markdown",
   "id": "59f2c70e-8f10-4766-8bc6-38e244748029",
   "metadata": {},
   "source": [
    "---\n",
    "## Code Execution\n",
    "\n",
    "How can I execute dynamically generated code?\n",
    "\n",
    "Please note that this is not how this works internally when constructing a configuration; the node graph is directly converted into the constructed object, without being first translated into code. There are still a few corner-cases where the generated code does not do exactly the same thing a directly constructing the configuration.\n",
    "\n",
    "The main known issue is that arguments passing arguments to lambdas does not work in generated code, but works when directly constructed."
   ]
  },
  {
   "cell_type": "code",
   "execution_count": 42,
   "id": "b6ba860e-437a-4c63-a1f1-016b097df507",
   "metadata": {},
   "outputs": [
    {
     "name": "stdout",
     "output_type": "stream",
     "text": [
      "['Alpha', 'Bravo', 'Charlie', 'Delta']\n"
     ]
    }
   ],
   "source": [
    "# Calling 'exec' on the code is roughly equivlant to pasting the code into a cell\n",
    "# and executing the cell. With this configuration, it outputs a function named\n",
    "# 'construct,' which can be called to construct the configuration.\n",
    "exec(generated_code)\n",
    "\n",
    "phonetic_alphabet = construct()\n",
    "pp(phonetic_alphabet)"
   ]
  },
  {
   "cell_type": "code",
   "execution_count": null,
   "id": "abcbca3e-b549-422e-8bc9-bc9af7601cb0",
   "metadata": {},
   "outputs": [],
   "source": []
  }
 ],
 "metadata": {
  "kernelspec": {
   "display_name": "Python 3 (ipykernel)",
   "language": "python",
   "name": "python3"
  },
  "language_info": {
   "codemirror_mode": {
    "name": "ipython",
    "version": 3
   },
   "file_extension": ".py",
   "mimetype": "text/x-python",
   "name": "python",
   "nbconvert_exporter": "python",
   "pygments_lexer": "ipython3",
   "version": "3.10.13"
  }
 },
 "nbformat": 4,
 "nbformat_minor": 5
}
