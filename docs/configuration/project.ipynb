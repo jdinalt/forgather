{
 "cells": [
  {
   "cell_type": "markdown",
   "id": "058b2324-8161-46a6-934a-cd6f305dc768",
   "metadata": {},
   "source": [
    "# Forgather Project API\n",
    "\n",
    "The main Forgather API abstraction is the \"Project,\" which defines a collection of related configurations. A project is defined by a directory with a \"[meta.yaml](meta.yaml)\" file, which defines the project meta-data, like the name and description, as well as which directories to search for templates and a special \"configurations\" directory, which is searched when specifing a configuration by name."
   ]
  },
  {
   "cell_type": "code",
   "execution_count": 1,
   "id": "64a3417d-a48d-41d8-98f3-8ab9016bc86b",
   "metadata": {},
   "outputs": [],
   "source": [
    "from forgather import Project\n",
    "from forgather.nb.notebooks import display_codeblock"
   ]
  },
  {
   "cell_type": "markdown",
   "id": "ef0f3120-499b-44bc-a2d6-d55d54dfb0f9",
   "metadata": {},
   "source": [
    "## Create a Project\n",
    "\n",
    "When unspecified, the [default configuration](templates/configs/default.yaml) is selected"
   ]
  },
  {
   "cell_type": "code",
   "execution_count": 2,
   "id": "7919a8eb-1921-4950-8991-bd3d5bc9cf2f",
   "metadata": {},
   "outputs": [
    {
     "name": "stdout",
     "output_type": "stream",
     "text": [
      "Project Name: Example\n",
      "Description: Example Project\n",
      "Default Config: default.yaml\n",
      "Project Directory: /home/dinalt/ai_assets/forgather/docs/configuration\n",
      "Workspace Root: /home/dinalt/ai_assets/forgather\n",
      "Config Prefix: configs\n",
      "Search Path: ['/home/dinalt/ai_assets/forgather/docs/configuration/templates', '/home/dinalt/ai_assets/forgather/forgather_workspace', '/home/dinalt/ai_assets/forgather/templatelib/modellib', '/home/dinalt/ai_assets/forgather/templatelib/examples', '/home/dinalt/ai_assets/forgather/templatelib/base']\n",
      "\n"
     ]
    }
   ],
   "source": [
    "# When unspecified, the default configuration is selected\n",
    "proj = Project()\n",
    "\n",
    "# Show project meta-data\n",
    "print(proj.meta)"
   ]
  },
  {
   "cell_type": "code",
   "execution_count": 3,
   "id": "460e4652-5008-4a7f-bccc-44f882520a96",
   "metadata": {},
   "outputs": [
    {
     "data": {
      "text/markdown": [
       "```yaml\n",
       "\n",
       "\n",
       "\n",
       "\n",
       "meta: &meta_output !dict:@meta\n",
       "    config_name: \"Default\"\n",
       "    config_description: \"Default Config\"\n",
       "    config_class: \"none\"\n",
       "    project_dir: \".\"\n",
       "    workspace_root: \"/home/dinalt/ai_assets/forgather\"\n",
       "    forgather_dir: \"/home/dinalt/ai_assets/forgather\"\n",
       "\n",
       "dynamic_args: []\n",
       "\n",
       "main: \"Main Output\"\n",
       "\n",
       "```\n",
       "\n"
      ],
      "text/plain": [
       "<IPython.core.display.Markdown object>"
      ]
     },
     "metadata": {},
     "output_type": "display_data"
    }
   ],
   "source": [
    "# The pre-processed config can be accessed like this\n",
    "display_codeblock(\"yaml\", proj.pp_config)"
   ]
  },
  {
   "cell_type": "markdown",
   "id": "1bc65fa5-0ceb-4380-9c4d-7fe81530498e",
   "metadata": {},
   "source": [
    "## Construct Main Target"
   ]
  },
  {
   "cell_type": "code",
   "execution_count": 4,
   "id": "330f227a-3e39-4be0-b379-c6b12474e163",
   "metadata": {},
   "outputs": [
    {
     "data": {
      "text/plain": [
       "'Main Output'"
      ]
     },
     "execution_count": 4,
     "metadata": {},
     "output_type": "execute_result"
    }
   ],
   "source": [
    "# Calling a configuration, without specifying a target, constructs the \"main\" target\n",
    "proj()"
   ]
  },
  {
   "cell_type": "markdown",
   "id": "36f497f4-0507-4ad6-9e6c-1c11791d0738",
   "metadata": {},
   "source": [
    "## Add a Template\n",
    "\n",
    "We can directly inject a named template definition into the project and construct it.\n",
    "\n",
    "Note that the added template does not have a file associated with it. It's entirely in-memory, thus is not persistent. This API is primarily for testing and programatic generation of configurations."
   ]
  },
  {
   "cell_type": "code",
   "execution_count": 5,
   "id": "06ab0d5a-33e2-48e1-917c-14160c5ac670",
   "metadata": {},
   "outputs": [
    {
     "data": {
      "text/plain": [
       "tensor([[-0.4501, -0.3461],\n",
       "        [ 0.6856, -0.0761]])"
      ]
     },
     "execution_count": 5,
     "metadata": {},
     "output_type": "execute_result"
    }
   ],
   "source": [
    "template_data = \"\"\"\n",
    "# A \"factory\" node will construct a new instance of the object each time it is referenced.\n",
    "random_tensor: &random_tensor !factory:torch:randn [2, 2]\n",
    "main:\n",
    "    - *random_tensor\n",
    "    - *random_tensor\n",
    "\"\"\"\n",
    "\n",
    "# Note that a template must be under the project's config-prefix, \"configs/,\" for it to be considered a configuration.\n",
    "proj.add_template(\"configs/example\", template_data)\n",
    "\n",
    "# Load configuration by name (without config-prefix)\n",
    "proj.load_config(\"example\")\n",
    "\n",
    "# Construct a target\n",
    "proj(\"random_tensor\")"
   ]
  },
  {
   "cell_type": "code",
   "execution_count": 6,
   "id": "7c6265ce-4b14-4f8c-9390-15464e591478",
   "metadata": {},
   "outputs": [
    {
     "data": {
      "text/plain": [
       "[tensor([[ 1.0278,  0.1670],\n",
       "         [ 0.1356, -2.9135]]),\n",
       " tensor([[-0.6356, -0.5444],\n",
       "         [ 0.9567,  0.2811]])]"
      ]
     },
     "execution_count": 6,
     "metadata": {},
     "output_type": "execute_result"
    }
   ],
   "source": [
    "# Construct the default target, \"main\" \n",
    "proj()"
   ]
  },
  {
   "cell_type": "code",
   "execution_count": null,
   "id": "fcf0168d-e86e-4171-8892-0924854e3cfa",
   "metadata": {},
   "outputs": [],
   "source": []
  }
 ],
 "metadata": {
  "kernelspec": {
   "display_name": "Python 3 (ipykernel)",
   "language": "python",
   "name": "python3"
  },
  "language_info": {
   "codemirror_mode": {
    "name": "ipython",
    "version": 3
   },
   "file_extension": ".py",
   "mimetype": "text/x-python",
   "name": "python",
   "nbconvert_exporter": "python",
   "pygments_lexer": "ipython3",
   "version": "3.10.13"
  }
 },
 "nbformat": 4,
 "nbformat_minor": 5
}
