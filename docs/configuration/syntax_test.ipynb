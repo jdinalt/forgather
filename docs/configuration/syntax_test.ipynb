{
 "cells": [
  {
   "cell_type": "markdown",
   "id": "72d1d58c-cfe8-4bc5-982f-8fd9cc7a18c0",
   "metadata": {},
   "source": [
    "# Syntax Test\n",
    "\n",
    "This is a simple notebook for experimenting with Forgather's syntax using the low-level API\n",
    "\n",
    "See: [Low-level API](low-level-api.md)"
   ]
  },
  {
   "cell_type": "code",
   "execution_count": 1,
   "id": "66e1571d-51a8-46a3-b89f-2b75dd278bf9",
   "metadata": {},
   "outputs": [],
   "source": [
    "from forgather.config import ConfigEnvironment\n",
    "from forgather.latent import Latent\n",
    "from forgather.codegen import generate_code\n",
    "from forgather.nb.notebooks import display_codeblock\n",
    "from pprint import pp\n",
    "\n",
    "# Construct a configuration environment\n",
    "env = ConfigEnvironment()"
   ]
  },
  {
   "cell_type": "markdown",
   "id": "02b01e05-470d-457d-9996-e72e41384a70",
   "metadata": {},
   "source": [
    "## Define a configuration"
   ]
  },
  {
   "cell_type": "code",
   "execution_count": 2,
   "id": "65614882-2884-4a6d-baa5-1c889f683ed2",
   "metadata": {},
   "outputs": [
    {
     "name": "stdout",
     "output_type": "stream",
     "text": [
      "{'random_tensor': SingletonNode('torch:randn', *(2, 2), identity=139888396855632, **{})}\n"
     ]
    }
   ],
   "source": [
    "# Define a configuration\n",
    "document = \"\"\"\n",
    "random_tensor: !call:torch:randn [ 2, 2 ]\n",
    "\"\"\"\n",
    "\n",
    "# Convert the configuration to a graph\n",
    "config = env.load_from_string(document).config\n",
    "pp(config)"
   ]
  },
  {
   "cell_type": "markdown",
   "id": "9517df33-a872-4ba1-acf1-1cf8d1b89cef",
   "metadata": {},
   "source": [
    "## Materialize the \"random_tensor\" target"
   ]
  },
  {
   "cell_type": "code",
   "execution_count": 3,
   "id": "74e2266c-58db-477f-9ea3-ac2825d7fce2",
   "metadata": {},
   "outputs": [
    {
     "data": {
      "text/plain": [
       "tensor([[ 0.7128, -0.5204],\n",
       "        [ 1.4749,  0.8098]])"
      ]
     },
     "execution_count": 3,
     "metadata": {},
     "output_type": "execute_result"
    }
   ],
   "source": [
    "Latent.materialize(config, mtargets=\"random_tensor\")"
   ]
  },
  {
   "cell_type": "markdown",
   "id": "2c4ddf3a-a4d1-4c53-ac10-dc0144da7087",
   "metadata": {},
   "source": [
    "## Convert a configuraiton into executable Python code\n",
    "\n",
    "Note that generate_code() takes an optional Jinja2 template as an arguemnt, which can be used to customize the output."
   ]
  },
  {
   "cell_type": "code",
   "execution_count": 4,
   "id": "a28a0468-d31a-478f-adf0-e0e1643d8527",
   "metadata": {},
   "outputs": [
    {
     "data": {
      "text/markdown": [
       "```python\n",
       "from torch import randn\n",
       "\n",
       "def construct(\n",
       "):\n",
       "    \n",
       "    \n",
       "    return {\n",
       "        'random_tensor': randn(\n",
       "            2,\n",
       "            2,\n",
       "        ),\n",
       "    }\n",
       "\n",
       "```\n",
       "\n"
      ],
      "text/plain": [
       "<IPython.core.display.Markdown object>"
      ]
     },
     "metadata": {},
     "output_type": "display_data"
    }
   ],
   "source": [
    "code = generate_code(config)\n",
    "display_codeblock(\"python\", code)"
   ]
  },
  {
   "cell_type": "markdown",
   "id": "c8026a24-85fa-4aa3-bee2-13bb08e01115",
   "metadata": {},
   "source": [
    "## Run generated code"
   ]
  },
  {
   "cell_type": "code",
   "execution_count": 5,
   "id": "362b154a-e923-477d-9b9a-a7390f194724",
   "metadata": {},
   "outputs": [
    {
     "data": {
      "text/plain": [
       "{'random_tensor': tensor([[-0.7962,  0.5893],\n",
       "         [ 0.8036, -0.2863]])}"
      ]
     },
     "execution_count": 5,
     "metadata": {},
     "output_type": "execute_result"
    }
   ],
   "source": [
    "exec(code)\n",
    "construct()"
   ]
  },
  {
   "cell_type": "code",
   "execution_count": null,
   "id": "54e9ef4b-cbbb-43a3-a76e-03de8e09e81b",
   "metadata": {},
   "outputs": [],
   "source": []
  }
 ],
 "metadata": {
  "kernelspec": {
   "display_name": "Python 3 (ipykernel)",
   "language": "python",
   "name": "python3"
  },
  "language_info": {
   "codemirror_mode": {
    "name": "ipython",
    "version": 3
   },
   "file_extension": ".py",
   "mimetype": "text/x-python",
   "name": "python",
   "nbconvert_exporter": "python",
   "pygments_lexer": "ipython3",
   "version": "3.10.13"
  }
 },
 "nbformat": 4,
 "nbformat_minor": 5
}
