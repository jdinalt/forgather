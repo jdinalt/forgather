{
 "cells": [
  {
   "cell_type": "markdown",
   "id": "2e422f35-7a08-4a50-a075-51a68b5c3994",
   "metadata": {},
   "source": [
    "# Project\n",
    "\n",
    "### Project Resources\n",
    "**Experiment Template**  \n",
    "\n",
    "[templates/experiments/example/experiment.yaml](templates/experiments/example/experiment.yaml) \n",
    "    [templates/project.yaml](templates/project.yaml) \n",
    "    \n",
    "[templates/experiments/example/model_config.yaml](templates/experiments/example/model_config.yaml)  \n",
    "[templates/experiments/example/trainer_config.yaml](templates/experiments/example/trainer_config.yaml)  \n",
    "\n",
    "**Project Templates**  \n",
    "\n",
    "[meta_config.yaml](meta_config.yaml)  \n",
    "[templates/directories.yaml](templates/directories.yaml)  \n",
    " \n",
    "\n",
    "**Library Templates**  \n",
    "\n",
    "Config Templates  \n",
    "[../../templates/configs/default_train_script.yaml](../../templates/configs/default_train_script.yaml)  \n",
    "[../../templates/configs/base_train_config.yaml](../../templates/configs/base_train_config.yaml)  \n",
    "\n",
    "Model Templates  \n",
    "[../../templates/models/tiny_d128_l2.yaml](../../templates/models/tiny_d128_l2.yaml)  \n",
    "[../../templates/models/vanilla_transformer.yaml](../../templates/models/vanilla_transformer.yaml)  \n",
    "[../../templates/models/custom_model.yaml](../../templates/models/custom_model.yaml)  \n",
    "[../../templates/models/load_custom_model.yaml](../../templates/models/load_custom_model.yaml)  \n",
    "\n",
    "Dataset Templates  \n",
    "[../../templates/datasets/tiny_stories_pretokenized_2k.yaml](../../templates/datasets/tiny_stories_pretokenized_2k.yaml)  \n",
    "[../../templates/datasets/base_dataset_loader.yaml](../../templates/datasets/base_dataset_loader.yaml)  \n",
    "\n",
    "Trainer Templates  \n",
    "[../../templates/trainers/base_trainer.yaml](../../templates/trainers/base_trainer.yaml)  \n",
    "[../../templates/trainers/trainer.yaml](../../templates/trainers/trainer.yaml)  \n",
    "[../../templates/trainers/accel_trainer.yaml](../../templates/trainers/accel_trainer.yaml)  \n",
    "[../../templates/trainers/hf_trainer.yaml](../../templates/trainers/hf_trainer.yaml)  \n",
    "\n",
    "**Whitelists**  \n",
    "[templates/whitelist.yaml](templates/whitelist.yaml)  \n",
    "[../../templates/whitelists/global_whitelist.yaml](../../templates/whitelists/global_whitelist.yaml)  \n",
    "[../../templates/whitelists/model_zoo_whitelist.yaml](../../templates/whitelists/model_zoo_whitelist.yaml)  \n",
    "\n",
    "**Model Code**  \n",
    "\n",
    "[model_zoo/vanilla_transformer/vanilla_transformer.py](../../model_zoo/vanilla_transformer/vanilla_transformer.py)  "
   ]
  },
  {
   "cell_type": "markdown",
   "id": "a1c5a90f-6386-4b8e-89ce-ec19195f7dff",
   "metadata": {},
   "source": [
    "## Setup"
   ]
  },
  {
   "cell_type": "code",
   "execution_count": 1,
   "id": "26bffdcc-00ac-4adc-b3fd-974df44d09fd",
   "metadata": {},
   "outputs": [
    {
     "name": "stdout",
     "output_type": "stream",
     "text": [
      "----------- meta_config.yaml -----------\n",
      "assets_dir: '../..'\n",
      "datasets_dir: '../../datasets'\n",
      "experiment_dir: './templates/experiments'\n",
      "model_dir: './output_models'\n",
      "model_src_dir: '../../model_zoo'\n",
      "project_dir: '.'\n",
      "project_templates: './templates'\n",
      "scripts_dir: '../../scripts'\n",
      "search_paths:\n",
      "  - '../../templates'\n",
      "  - './templates'\n",
      "src_dir: '../../src'\n",
      "templates: '../../templates'\n",
      "tokenizer_dir: '../../tokenizers'\n",
      "train_script_path: '../../scripts/train_script.py'\n",
      "whitelist_path: './templates/whitelist.yaml'\n",
      "-------------- Experiment --------------\n",
      "./templates/experiments/example_experiment.yaml\n"
     ]
    }
   ],
   "source": [
    "import sys, os\n",
    "modules_path = os.path.join('..', '..', 'src')\n",
    "if modules_path not in sys.path: sys.path.insert(0, modules_path)\n",
    "import shutil\n",
    "\n",
    "from pprint import pformat, pp\n",
    "from transformers import set_seed\n",
    "\n",
    "from forgather.config import (\n",
    "    load_config,\n",
    "    ConfigEnvironment,\n",
    "    default_pp_globals,\n",
    "    pconfig,\n",
    ")\n",
    "from forgather.preprocess import LineStatementProcessor\n",
    "from forgather import Latent\n",
    "\n",
    "# Path to your project meta-config\n",
    "meta_config_path = 'meta_config.yaml'\n",
    "experiment_definition_file = 'example_experiment.yaml'\n",
    "\n",
    "# Load meta-config\n",
    "metacfg = load_config(meta_config_path)\n",
    "print(f\"{' '+meta_config_path+' ':-^40}\")\n",
    "pconfig(metacfg)\n",
    "\n",
    "# Create a configuration envrionment from the meta-config data\n",
    "config_environ = ConfigEnvironment(searchpath=metacfg.search_paths, globals=default_pp_globals())\n",
    "\n",
    "# Get path to selected experiment\n",
    "experiment_path = os.path.join(metacfg.experiment_dir, experiment_definition_file)\n",
    "print(f\"{' Experiment ':-^40}\\n{experiment_path}\")"
   ]
  },
  {
   "cell_type": "markdown",
   "id": "b0835a75-8ac2-4e9a-9937-d9c260cdc211",
   "metadata": {},
   "source": [
    "### Preprocess Configuration\n",
    "Run the cell and click the link to open the preprocessed file in the notebook.  \n",
    "[preprocessed_config.yaml](preprocessed_config.yaml)"
   ]
  },
  {
   "cell_type": "code",
   "execution_count": null,
   "id": "fd9c21cd-877d-4544-a16b-7aeb7606f577",
   "metadata": {},
   "outputs": [],
   "source": [
    "# Setting 'preserve_line_numbers' to True preserves line numbers; without this, the reported lines in exceptions may be incorrect.\n",
    "# Setting 'pp_verbose' dumpts all pre-pre-processed templates for diagnostics.\n",
    "def debug_preprocess(preserve_line_numbers=False, pp_verbose=False):\n",
    "    # These are class-level attributes which control dianostics on this class.\n",
    "    LineStatementProcessor.preserve_line_numbers = preserve_line_numbers\n",
    "    LineStatementProcessor.pp_verbose = pp_verbose\n",
    "\n",
    "    # Preprocess and print with line numbers\n",
    "    pp_config = config_environ.preprocess(experiment_path)\n",
    "    print(pp_config.with_line_numbers())\n",
    "        \n",
    "    LineStatementProcessor.preserve_line_numbers = False\n",
    "    LineStatementProcessor.pp_verbose = False\n",
    "    \n",
    "debug_preprocess(preserve_line_numbers=False, pp_verbose=False)\n",
    "with open('preprocessed_config.yaml', 'w') as f:\n",
    "    f.write(config_environ.preprocess(experiment_path))"
   ]
  },
  {
   "cell_type": "markdown",
   "id": "7317db1b-174b-493f-9694-28d52e229ce6",
   "metadata": {},
   "source": [
    "### Load Configuration\n",
    "\n",
    "In addtion to preprocessing, this will parse the YAML file, but will not try to instantite the configuration."
   ]
  },
  {
   "cell_type": "code",
   "execution_count": null,
   "id": "e428d614-49fe-4442-8cb7-bb9889bc57be",
   "metadata": {},
   "outputs": [],
   "source": [
    "loaded_config = config_environ.load(experiment_path)\n",
    "\n",
    "# Print parsed config\n",
    "pconfig(loaded_config.config)"
   ]
  },
  {
   "cell_type": "markdown",
   "id": "a4848270-6d49-412f-a3a2-b72222461140",
   "metadata": {},
   "source": [
    "### Materialize the Configuration\n",
    "\n",
    "Preprocess, parse, and instantiate the objects defined in the configuration."
   ]
  },
  {
   "cell_type": "code",
   "execution_count": null,
   "id": "4ce4a60c-ce9b-4738-9eb1-4deb39d559ee",
   "metadata": {},
   "outputs": [],
   "source": [
    "# Set the seed, if this is to be completely deterministic.\n",
    "# set_seed(42)\n",
    "config = config_environ.load(experiment_path).materialize()\n",
    "pconfig(config)"
   ]
  },
  {
   "cell_type": "markdown",
   "id": "ec21d135-1575-4684-a639-ce1c38162063",
   "metadata": {},
   "source": [
    "### Run Trainer\n",
    "\n",
    "Note: This is not a complete training implementation. Use the code below for that."
   ]
  },
  {
   "cell_type": "code",
   "execution_count": null,
   "id": "d9ccce36-feda-4ba1-8fb9-31a5b3d7871c",
   "metadata": {},
   "outputs": [],
   "source": [
    "config = config_environ.load(experiment_path).materialize()\n",
    "config.trainer.train()"
   ]
  },
  {
   "cell_type": "markdown",
   "id": "78a29692-aab9-44d6-b089-bf97e6f81d90",
   "metadata": {},
   "source": [
    "### Training Loop"
   ]
  },
  {
   "cell_type": "code",
   "execution_count": 2,
   "id": "2565208e-5df9-41f6-afc0-dd9d18d22d53",
   "metadata": {},
   "outputs": [],
   "source": [
    "from accelerate import notebook_launcher\n",
    "\n",
    "# This is the entry-point for the spawned procceses.\n",
    "def training_loop(meta_config, experiment_name):\n",
    "    # Ensure that initialization is deterministic.\n",
    "    set_seed(42)\n",
    "    metacfg = load_config(meta_config)\n",
    "\n",
    "    # Get Torch Distributed parameters from environ.\n",
    "    world_size = int(os.environ.get('WORLD_SIZE', 1))\n",
    "    rank = int(os.environ.get('RANK', 0))\n",
    "    local_rank = int(os.environ.get('LOCAL_RANK', 0))\n",
    "\n",
    "    # Initialize the pre-processor globals\n",
    "    env_globals = default_pp_globals() | dict(\n",
    "        world_size=world_size,\n",
    "        rank=rank,\n",
    "        local_rank=local_rank,\n",
    "    )\n",
    "    \n",
    "    # Construct config environment and inject the distributed config env vars.\n",
    "    config_environ = ConfigEnvironment(\n",
    "        searchpath=metacfg.search_paths,\n",
    "        globals=env_globals,\n",
    "    )\n",
    "\n",
    "    # Materialize the configuration\n",
    "    config = config_environ.load(experiment_path).materialize()\n",
    "\n",
    "    # In a distriubted environment, we only want one process to print messages\n",
    "    is_main_process = (local_rank == 0)\n",
    "    \n",
    "    if is_main_process:\n",
    "        print(\"**** Training Started *****\")\n",
    "        print(f\"experiment_name: {config.experiment_name}\")\n",
    "        print(f\"experiment_description: {config.experiment_description}\")\n",
    "        print(f\"output_dir: {config.output_dir}\")\n",
    "        print(f\"logging_dir: {config.logging_dir}\")\n",
    "\n",
    "    # This is where the actual 'loop' is.\n",
    "    metrics = config.trainer.train().metrics\n",
    "    \n",
    "    if is_main_process:\n",
    "        print(\"**** Training Completed *****\")\n",
    "        print(metrics)\n",
    "\n",
    "    metrics = config.trainer.evaluate()\n",
    "\n",
    "    if is_main_process:\n",
    "        print(\"**** Evaluation Completed *****\")\n",
    "        print(metrics)\n",
    "    \n",
    "    if config.do_save:\n",
    "        config.trainer.save_model()\n",
    "        if is_main_process:\n",
    "            print(f\"Model saved to: {config.trainer.args.output_dir}\")"
   ]
  },
  {
   "cell_type": "markdown",
   "id": "5709fd93-5a27-487a-8aeb-166b8cd2274e",
   "metadata": {},
   "source": [
    "#### Run Training Loop Directly"
   ]
  },
  {
   "cell_type": "code",
   "execution_count": null,
   "id": "cdbf0acd-89c0-423c-bb6f-f2b98b6d82e4",
   "metadata": {},
   "outputs": [],
   "source": [
    "training_loop(meta_config_path, experiment_path)"
   ]
  },
  {
   "cell_type": "markdown",
   "id": "28fa3351-96d7-4769-8b45-99d103e1b941",
   "metadata": {},
   "source": [
    "#### Launch with Notebook Launcher\n",
    "\n",
    "Note: If CUDA has been initialized, this will fail! Reset the notebook first."
   ]
  },
  {
   "cell_type": "code",
   "execution_count": null,
   "id": "fd87183a-dbec-420e-ad2f-796384eb9c22",
   "metadata": {},
   "outputs": [],
   "source": [
    "notebook_launcher(\n",
    "    training_loop,\n",
    "    args=(meta_config_path, experiment_path,),\n",
    "    num_processes=2\n",
    ")"
   ]
  },
  {
   "cell_type": "markdown",
   "id": "1ece555d-aa15-4b5e-a80e-20cb9fa9db52",
   "metadata": {},
   "source": [
    "### Train from a Training Script\n",
    "\n",
    "This cell defines code for generate a bash command-line for running this configuration from the sell."
   ]
  },
  {
   "cell_type": "code",
   "execution_count": 28,
   "id": "3a399e7a-6220-426f-affa-f9bfba4b9a5a",
   "metadata": {},
   "outputs": [],
   "source": [
    "import stat\n",
    "# Output train-script command line as a string\n",
    "def train_cmdline(metacfg, nproc='gpu', cuda_devices=None):\n",
    "    includes = ''.join(f\"-I '{inc}' \" for inc in metacfg.search_paths)\n",
    "    s = (f\"torchrun --standalone --nproc-per-node '{nproc}' '{metacfg.train_script_path}'\"\n",
    "        + f\" -w '{metacfg.whitelist_path}' {includes} -s '{metacfg.src_dir}'\"\n",
    "    )\n",
    "    if cuda_devices is not None:\n",
    "        s = f\"CUDA_VISIBLE_DEVICES='{cuda_devices}' \" + s\n",
    "    return s\n",
    "\n",
    "# Output train-script as command line as a bash-script\n",
    "# ./train.sh [<other-sli-args] <experiment-config-file>\n",
    "def make_bash_script(metacfg, script_path='train.sh', nproc='gpu', cuda_devices=None):\n",
    "    with open(script_path, 'w') as f:\n",
    "        f.write('#!/bin/bash\\n' + train_cmdline(metacfg, nproc, cuda_devices) + ' \"${@}\"\\n')\n",
    "        os.chmod(f.fileno(), stat.S_IREAD|stat.S_IRUSR|stat.S_IWUSR|stat.S_IXUSR)"
   ]
  },
  {
   "cell_type": "markdown",
   "id": "b4ae89f3-11cb-45d9-b4ec-6ac2ae35a5be",
   "metadata": {},
   "source": [
    "#### Generate Bash Script\n",
    "\n",
    "This will output a shell-script which will invoke the training script with the arguments for this project.\n",
    "\n",
    "```bash\n",
    "./train.sh path/to/experiment.yaml\n",
    "```\n",
    "\n",
    "If 'cuda_devices' is not None, this can restrict execution to a sub-set of available GPUs.\n",
    "```python\n",
    "# Restrict training to GPU's 0 and 1\n",
    "make_bash_script(metacfg, cuda_devices=\"0,1\")\n",
    "```"
   ]
  },
  {
   "cell_type": "code",
   "execution_count": 21,
   "id": "61e3cdc6-925d-4b28-ae59-778c011dcd5d",
   "metadata": {},
   "outputs": [
    {
     "name": "stdout",
     "output_type": "stream",
     "text": [
      "#!/bin/bash\n",
      "CUDA_VISIBLE_DEVICES='0' torchrun --standalone --nproc-per-node 'gpu' '../../scripts/train_script.py' -w './templates/whitelist.yaml' -I '.' -I './templates' -I '../../templates'  -s '../../src' \"${@}\"\n",
      "\n"
     ]
    }
   ],
   "source": [
    "make_bash_script(metacfg, cuda_devices=\"0\")\n",
    "\n",
    "# Read back to verify\n",
    "with open('train.sh', 'r') as f:\n",
    "    print(f.read())"
   ]
  },
  {
   "cell_type": "markdown",
   "id": "3a6a3131-a09e-46de-8f60-6699f758630c",
   "metadata": {},
   "source": [
    "#### Run Script from Notebook"
   ]
  },
  {
   "cell_type": "code",
   "execution_count": null,
   "id": "108a0cf4-1c93-47cf-8888-ffb806df684a",
   "metadata": {},
   "outputs": [],
   "source": [
    "!{train_cmdline(metacfg, cuda_devices=\"0,1\")} '{experiment_path}'"
   ]
  },
  {
   "cell_type": "markdown",
   "id": "2a7e49f3-d22c-4130-934b-460c0cf2e080",
   "metadata": {},
   "source": [
    "### View in Tensorboard"
   ]
  },
  {
   "cell_type": "code",
   "execution_count": 11,
   "id": "fafbb8c8-8f81-4eb2-a574-cd7999ec77ce",
   "metadata": {},
   "outputs": [
    {
     "name": "stdout",
     "output_type": "stream",
     "text": [
      "TensorFlow installation not found - running with reduced feature set.\n",
      "\n",
      "NOTE: Using experimental fast data loading logic. To disable, pass\n",
      "    \"--load_fast=false\" and report issues on GitHub. More details:\n",
      "    https://github.com/tensorflow/tensorboard/issues/4784\n",
      "\n",
      "TensorBoard 2.16.2 at http://hal9000:6006/ (Press CTRL+C to quit)\n",
      "^C\n"
     ]
    }
   ],
   "source": [
    "!tensorboard --bind_all --logdir \"{metacfg.model_dir}\""
   ]
  },
  {
   "cell_type": "markdown",
   "id": "14b3c45a-d962-4316-8146-afd0a1024614",
   "metadata": {},
   "source": [
    "### Cleanup\n",
    "\n",
    "Delete all of the output models produced by the demo and start over."
   ]
  },
  {
   "cell_type": "code",
   "execution_count": 24,
   "id": "073be4ea-bebc-4f64-8248-3818d8717863",
   "metadata": {},
   "outputs": [
    {
     "name": "stdout",
     "output_type": "stream",
     "text": [
      "Removing './output_models'\n"
     ]
    }
   ],
   "source": [
    "print(f\"Removing '{metacfg.model_dir}'\")\n",
    "shutil.rmtree(metacfg.model_dir, ignore_errors=True)"
   ]
  }
 ],
 "metadata": {
  "kernelspec": {
   "display_name": "Python 3 (ipykernel)",
   "language": "python",
   "name": "python3"
  },
  "language_info": {
   "codemirror_mode": {
    "name": "ipython",
    "version": 3
   },
   "file_extension": ".py",
   "mimetype": "text/x-python",
   "name": "python",
   "nbconvert_exporter": "python",
   "pygments_lexer": "ipython3",
   "version": "3.10.13"
  }
 },
 "nbformat": 4,
 "nbformat_minor": 5
}
