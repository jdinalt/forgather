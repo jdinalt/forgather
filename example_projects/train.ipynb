{
 "cells": [
  {
   "cell_type": "markdown",
   "id": "5862a8b9-ea0b-4fec-b150-8cbb3218e8bb",
   "metadata": {},
   "source": [
    "# Training Notebook\n",
    "\n",
    "Configuration details: [Configuration Notebook](project_config.ipynb)\n",
    "\n",
    "Run project training configurations and generate training scripts from project meta-data.\n",
    "\n",
    "https://huggingface.co/blog/codeparrot"
   ]
  },
  {
   "cell_type": "code",
   "execution_count": 6,
   "id": "7715292a-61c8-4be5-9cfd-72530c25e72f",
   "metadata": {},
   "outputs": [
    {
     "data": {
      "text/markdown": [
       "## Example Project\n",
       "\n",
       "This is a simple example project which can be used as a template."
      ],
      "text/plain": [
       "<IPython.core.display.Markdown object>"
      ]
     },
     "metadata": {},
     "output_type": "display_data"
    },
    {
     "data": {
      "text/markdown": [
       "### Meta Config\n",
       "Project Directory: example\n",
       "\n",
       "Meta Config: [example/meta.yaml](example/meta.yaml)\n",
       "\n",
       "Template Search Paths:\n",
       "- [example/templates](example/templates)\n",
       "- [../templates](../templates)\n"
      ],
      "text/plain": [
       "<IPython.core.display.Markdown object>"
      ]
     },
     "metadata": {},
     "output_type": "display_data"
    },
    {
     "data": {
      "text/markdown": [
       "### Available Configurations\n",
       "- [example_experiment.yaml](example/templates/experiments/example_experiment.yaml)\n"
      ],
      "text/plain": [
       "<IPython.core.display.Markdown object>"
      ]
     },
     "metadata": {},
     "output_type": "display_data"
    },
    {
     "name": "stdout",
     "output_type": "stream",
     "text": [
      "------------------- Active Configuration -------------------\n",
      "Project: example\n",
      "Configuration: experiments/example_experiment.yaml\n",
      "Name: My ML Science Project\n",
      "Description: It's not supid, it's advanced!\n",
      "Output Directory: example/output_models/default_model\n",
      "Logging Directory: example/output_models/default_model/runs/My ML Science Project_1721342344546780567\n",
      "Save Model: True\n"
     ]
    }
   ],
   "source": [
    "import sys, os\n",
    "modules_path = os.path.join('..', 'src')\n",
    "if modules_path not in sys.path: sys.path.insert(0, modules_path)\n",
    "from IPython import display\n",
    "\n",
    "from forgather.config import load_config, ConfigEnvironment\n",
    "from aiws.notebooks import get_train_cmdline, make_train_script\n",
    "from aiws.config import base_preprocessor_globals, MetaConfig\n",
    "from aiws.training_loop import TrainingScriptConfig\n",
    "import aiws.notebooks as nb\n",
    "\n",
    "# Set project:\n",
    "project_directory = \"example\"\n",
    "\n",
    "# Set configuration:\n",
    "config_template = \"example_experiment.yaml\"\n",
    "\n",
    "\n",
    "nb.show_project_readme(project_directory)\n",
    "meta = MetaConfig(project_directory)\n",
    "nb.display_meta(meta, \"### Meta Config\\n\")\n",
    "nb.list_templates(meta.find_templates(meta.config_prefix), \"### Available Configurations\\n\")\n",
    "config_template_path = os.path.join(meta.config_prefix, config_template)\n",
    "environment = ConfigEnvironment(\n",
    "    searchpath=meta.searchpath,\n",
    "    globals = base_preprocessor_globals() | dict(project_directory=project_directory)\n",
    ")\n",
    "\n",
    "config = environment.load(config_template_path).config\n",
    "print(f\"{' Active Configuration ':-^60}\")\n",
    "print(f\"Project: {project_directory}\")\n",
    "print(f\"Configuration: {config_template_path}\")\n",
    "print(f\"Name: {config.experiment_name}\")\n",
    "print(f\"Description: {config.experiment_description}\")\n",
    "print(f\"Output Directory: {config.output_dir}\")\n",
    "print(f\"Logging Directory: {config.logging_dir}\")\n",
    "print(f\"Save Model: {config.do_save}\")"
   ]
  },
  {
   "cell_type": "markdown",
   "id": "da62d15b-9479-4ee0-a5d0-e148e45572e9",
   "metadata": {},
   "source": [
    "### Launch Notebook Trainer"
   ]
  },
  {
   "cell_type": "code",
   "execution_count": 7,
   "id": "ff957464-78cc-48c0-a6e3-7a68cc9df5bb",
   "metadata": {},
   "outputs": [
    {
     "name": "stdout",
     "output_type": "stream",
     "text": [
      "Launching training on one GPU.\n",
      "Creating directory: example/output_models/default_model\n",
      "Creating directory: example/output_models/default_model/runs/My ML Science Project_1721342358550527490\n",
      "**** Training Started *****\n",
      "experiment_name: My ML Science Project\n",
      "experiment_description: It's not supid, it's advanced!\n",
      "output_dir: example/output_models/default_model\n",
      "logging_dir: example/output_models/default_model/runs/My ML Science Project_1721342358550527490\n"
     ]
    },
    {
     "name": "stderr",
     "output_type": "stream",
     "text": [
      "Repo card metadata block was not found. Setting CardData to empty.\n"
     ]
    },
    {
     "data": {
      "application/vnd.jupyter.widget-view+json": {
       "model_id": "3478b8373f834e27aeff3d4af237d142",
       "version_major": 2,
       "version_minor": 0
      },
      "text/plain": [
       "Map:   0%|          | 0/2119719 [00:00<?, ? examples/s]"
      ]
     },
     "metadata": {},
     "output_type": "display_data"
    },
    {
     "data": {
      "application/vnd.jupyter.widget-view+json": {
       "model_id": "0dff369a2ada412baf357c17af7e046a",
       "version_major": 2,
       "version_minor": 0
      },
      "text/plain": [
       "Map:   0%|          | 0/500 [00:00<?, ? examples/s]"
      ]
     },
     "metadata": {},
     "output_type": "display_data"
    },
    {
     "data": {
      "application/vnd.jupyter.widget-view+json": {
       "model_id": "b4a459fd5b094aa596be0f645fe5f938",
       "version_major": 2,
       "version_minor": 0
      },
      "text/plain": [
       "  0%|                                                                                                         …"
      ]
     },
     "metadata": {},
     "output_type": "display_data"
    },
    {
     "name": "stdout",
     "output_type": "stream",
     "text": [
      "total_examples: 2,119,680\n",
      "total_train_samples: 2,119,680\n",
      "per_device_train_batch_size: 64\n",
      "actual_per_device_batch_size: 64\n",
      "total_train_batch_size: 64\n",
      "max_steps: 1,000\n",
      "total_parameters: 2.4M\n",
      "trainable_parameters: 2.4M\n",
      "model:\n",
      "VanillaTransformer(\n",
      "  (embedding): Embedding(2000, 256)\n",
      "  (positional_encoder): PositionalEncoder()\n",
      "  (layers): ModuleList(\n",
      "    (0-2): 3 x TransformerLayer(\n",
      "      (attention): MultiheadAttention(\n",
      "        (query_linear): Linear(in_features=256, out_features=256, bias=True)\n",
      "        (key_linear): Linear(in_features=256, out_features=256, bias=True)\n",
      "        (value_linear): Linear(in_features=256, out_features=256, bias=True)\n",
      "      )\n",
      "      (feedforward): FeedforwardLayer(\n",
      "        (linear1): Linear(in_features=256, out_features=512, bias=True)\n",
      "        (activation): ReLU()\n",
      "        (linear2): Linear(in_features=512, out_features=256, bias=True)\n",
      "      )\n",
      "      (norm1): LayerNorm((256,), eps=1e-05, elementwise_affine=True)\n",
      "      (norm2): LayerNorm((256,), eps=1e-05, elementwise_affine=True)\n",
      "    )\n",
      "  )\n",
      "  (output_projection): Linear(in_features=256, out_features=2000, bias=True)\n",
      ")\n",
      "\n",
      "\n",
      "2024-07-18 22:42:27          100  0.0   train-loss: 4.73117   learning-rate: 1.00e-03\n",
      "2024-07-18 22:42:30          200  0.01  train-loss: 3.64421   learning-rate: 1.00e-03\n",
      "2024-07-18 22:42:33          300  0.01  train-loss: 3.31243   learning-rate: 1.00e-03\n",
      "2024-07-18 22:42:37          400  0.01  train-loss: 3.09138   learning-rate: 1.00e-03\n",
      "2024-07-18 22:42:40          500  0.02  train-loss: 2.84788   learning-rate: 1.00e-03\n"
     ]
    },
    {
     "data": {
      "application/vnd.jupyter.widget-view+json": {
       "model_id": "1914277f5c7a4b3da5dfdfda3912fe16",
       "version_major": 2,
       "version_minor": 0
      },
      "text/plain": [
       "  0%|                                                                                                         …"
      ]
     },
     "metadata": {},
     "output_type": "display_data"
    },
    {
     "name": "stdout",
     "output_type": "stream",
     "text": [
      "2024-07-18 22:42:40          500  0.02  eval-loss:  3.00351   \n",
      "2024-07-18 22:42:43          600  0.02  train-loss: 2.74256   learning-rate: 1.00e-03\n",
      "2024-07-18 22:42:46          700  0.02  train-loss: 2.64946   learning-rate: 1.00e-03\n",
      "2024-07-18 22:42:49          800  0.02  train-loss: 2.56928   learning-rate: 1.00e-03\n",
      "2024-07-18 22:42:52          900  0.03  train-loss: 2.4667    learning-rate: 1.00e-03\n",
      "2024-07-18 22:42:55        1,000  0.03  train-loss: 2.44162   learning-rate: 1.00e-03\n"
     ]
    },
    {
     "data": {
      "application/vnd.jupyter.widget-view+json": {
       "model_id": "5690c4f7e2204abfac0bb05820040997",
       "version_major": 2,
       "version_minor": 0
      },
      "text/plain": [
       "  0%|                                                                                                         …"
      ]
     },
     "metadata": {},
     "output_type": "display_data"
    },
    {
     "name": "stdout",
     "output_type": "stream",
     "text": [
      "2024-07-18 22:42:55        1,000  0.03  eval-loss:  2.52315   \n",
      "train_runtime: 31.13\n",
      "train_samples: 64,000\n",
      "step: 1,000\n",
      "train_samples_per_second: 2.056e+03\n",
      "train_steps_per_second: 32.12\n",
      "train_loss: 3.019\n",
      "epoch: 0.03019\n",
      "\n",
      "**** Training Completed *****\n",
      "{'train_runtime': 31.131957054138184, 'train_samples': 64000, 'step': 1000, 'train_samples_per_second': 2055.765, 'train_steps_per_second': 32.121, 'train_loss': 3.0191736221313477, 'epoch': 0.030193236714975844}\n",
      "[2024-07-18 22:42:55,744] [INFO] [real_accelerator.py:191:get_accelerator] Setting ds_accelerator to cuda (auto detect)\n",
      "Model saved to: example/output_models/default_model\n"
     ]
    }
   ],
   "source": [
    "from accelerate import notebook_launcher\n",
    "from aiws.training_loop import training_loop\n",
    "\n",
    "notebook_launcher(\n",
    "    training_loop,\n",
    "    args=(project_directory, config_template,),\n",
    "    num_processes=1\n",
    ")"
   ]
  },
  {
   "cell_type": "markdown",
   "id": "7ba86cc3-734d-46b4-8813-d8494cbc41b1",
   "metadata": {},
   "source": [
    "### Generate Training Script\n",
    "\n",
    "```python\n",
    "def make_train_script(\n",
    "    project_directory,\n",
    "    config_template=None,\n",
    "    script_name='train.sh',\n",
    "    nproc='gpu',\n",
    "    cuda_devices=None\n",
    "):\n",
    "```\n",
    "Generate a bash training script from a project meta-config\n",
    "\n",
    "The generated script will be written to 'project_directory' and all paths will be\n",
    "relative to this location.\n",
    "\n",
    "- project_directory: The project directory. Assumes meta-config is 'meta_config.yaml'\n",
    "- script_name: The name of the output script. If none, the script can be specified on the command-line.\n",
    "- nproc: Number of processes; 'gpu' is number of available GPUs\n",
    "- cuda_devices: List of CUDA devices to limit training to.  \n",
    "\n",
    "i.e. If you wish to only CUDA 0 and 1, then \"0,1\"\n",
    "\n",
    "```\n",
    ".../my_project$ ./train.sh\n",
    "```"
   ]
  },
  {
   "cell_type": "code",
   "execution_count": 4,
   "id": "fbec75bc-20e7-49d5-a7c2-8a3af0c8f4c1",
   "metadata": {},
   "outputs": [
    {
     "data": {
      "text/markdown": [
       "#### Generated Shell Script\n",
       "[train.sh](train.sh)\n",
       "```bash\n",
       "#!/bin/bash\n",
       "CUDA_VISIBLE_DEVICES='0,1' torchrun --standalone --nproc-per-node 'gpu' '../../scripts/train_script.py' -p '.' -s '../../src' \"base_config.yaml\"\n",
       "\n",
       "```"
      ],
      "text/plain": [
       "<IPython.core.display.Markdown object>"
      ]
     },
     "metadata": {},
     "output_type": "display_data"
    }
   ],
   "source": [
    "# Select name of generaed script.\n",
    "script_name = 'base_2gpu.sh'\n",
    "\n",
    "make_train_script(\n",
    "    project_directory=project_directory,\n",
    "    config_template=config_template,\n",
    "    script_name=script_name,\n",
    "    cuda_devices=\"0,1\")\n",
    "\n",
    "# Read back to verify\n",
    "with open(os.path.join(project_directory, script_name), 'r') as f:\n",
    "    md = (\n",
    "        f\"#### Generated Shell Script\\n\"\n",
    "        f\"[train.sh](train.sh)\\n\"\n",
    "        f\"```bash\\n{f.read()}\\n```\"\n",
    "    )\n",
    "    display.display(display.Markdown(md))"
   ]
  },
  {
   "cell_type": "markdown",
   "id": "f94085b9-a00a-4bda-914c-9de37c7c92a4",
   "metadata": {},
   "source": [
    "### Run Script from Notebook\n",
    "Lauch the training script from the notebook.\n",
    "\n",
    "Note: The terminal emulation of the notebook is lacking, thus rendering of progress bars may be broken."
   ]
  },
  {
   "cell_type": "code",
   "execution_count": null,
   "id": "f8ba880a-18c2-4e5e-b845-985d29d95972",
   "metadata": {},
   "outputs": [],
   "source": [
    "print(f\"{get_train_cmdline(meta, cuda_devices='0')} '{config_template}'\")"
   ]
  },
  {
   "cell_type": "code",
   "execution_count": null,
   "id": "a66c0e8f-aa96-4547-8239-bb4404556b3f",
   "metadata": {},
   "outputs": [],
   "source": [
    "!{get_train_cmdline(meta, cuda_devices=\"0\")} '{config_template}'"
   ]
  },
  {
   "cell_type": "markdown",
   "id": "0855f14c-92d4-4adc-804a-f3ff17eedeb8",
   "metadata": {},
   "source": [
    "### View in Tensorboard\n",
    "Note: If the notebook is running on the same machine as the trainer, remove \"--bind_all\""
   ]
  },
  {
   "cell_type": "code",
   "execution_count": null,
   "id": "73ba51dd-1914-4f24-a785-ff31e56f07af",
   "metadata": {},
   "outputs": [],
   "source": [
    "!tensorboard --bind_all --logdir \"{config.output_dir}\""
   ]
  },
  {
   "cell_type": "markdown",
   "id": "64a75244-f9f6-44d9-9eea-81055b1f7f68",
   "metadata": {},
   "source": [
    "#### Generate Bash Script\n",
    "\n",
    "This will output a shell-script which will invoke the training script with the arguments for this project.\n",
    "\n",
    "```bash\n",
    "./train.sh path/to/experiment.yaml\n",
    "```\n",
    "\n",
    "If 'cuda_devices' is not None, this can restrict execution to a sub-set of available GPUs.\n",
    "```python\n",
    "# Restrict training to GPU's 0 and 1\n",
    "make_bash_script(metacfg, cuda_devices=\"0,1\")\n",
    "```"
   ]
  },
  {
   "cell_type": "code",
   "execution_count": null,
   "id": "53c0efd5-d7be-4afd-9a10-87d51edf2e08",
   "metadata": {},
   "outputs": [],
   "source": [
    "make_bash_script(metacfg, cuda_devices=\"0\")\n",
    "\n",
    "# Read back to verify\n",
    "with open('train.sh', 'r') as f:\n",
    "    md = (\n",
    "        f\"#### Generated Shell Script\\n\"\n",
    "        f\"[train.sh](train.sh)\\n\"\n",
    "        f\"```bash\\n{f.read()}\\n```\"\n",
    "    )\n",
    "    display.display(display.Markdown(md))"
   ]
  },
  {
   "cell_type": "markdown",
   "id": "98a8337a-08a2-411f-8173-4946347bcc4b",
   "metadata": {},
   "source": [
    "### Cleanup\n",
    "Note: These will show the target directory and ask for confirmation before proceeding."
   ]
  },
  {
   "cell_type": "markdown",
   "id": "0d8f81bf-d882-42fe-915c-f52336a4e774",
   "metadata": {},
   "source": [
    "#### Delete All"
   ]
  },
  {
   "cell_type": "code",
   "execution_count": null,
   "id": "96252b4b-1b5e-4538-85e3-c4616a7c32ee",
   "metadata": {},
   "outputs": [],
   "source": [
    "nb.delete_dir(metacfg.model_dir, \"Delete all models in project\")"
   ]
  },
  {
   "cell_type": "markdown",
   "id": "6ee7e0b2-b8c3-4d77-88d7-fe17f80541b4",
   "metadata": {},
   "source": [
    "#### Delete Configuration Output Directory"
   ]
  },
  {
   "cell_type": "code",
   "execution_count": null,
   "id": "980be21d-b95d-4ef5-baf4-2378e5971a9c",
   "metadata": {},
   "outputs": [],
   "source": [
    "nb.delete_dir(config.output_dir, \"Delete output directory\")"
   ]
  }
 ],
 "metadata": {
  "kernelspec": {
   "display_name": "Python 3 (ipykernel)",
   "language": "python",
   "name": "python3"
  },
  "language_info": {
   "codemirror_mode": {
    "name": "ipython",
    "version": 3
   },
   "file_extension": ".py",
   "mimetype": "text/x-python",
   "name": "python",
   "nbconvert_exporter": "python",
   "pygments_lexer": "ipython3",
   "version": "3.10.13"
  }
 },
 "nbformat": 4,
 "nbformat_minor": 5
}
