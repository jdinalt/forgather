{
 "cells": [
  {
   "cell_type": "markdown",
   "id": "5862a8b9-ea0b-4fec-b150-8cbb3218e8bb",
   "metadata": {},
   "source": [
    "# Training Notebook\n",
    "\n",
    "Configuration details: [Configuration Notebook](project_config.ipynb)\n",
    "\n",
    "Run project training configurations and generate training scripts from project meta-data."
   ]
  },
  {
   "cell_type": "code",
   "execution_count": null,
   "id": "7715292a-61c8-4be5-9cfd-72530c25e72f",
   "metadata": {},
   "outputs": [],
   "source": [
    "import sys, os\n",
    "# Adjust this to match the relative location of the notebook to the 'src' directory\n",
    "modules_path = os.path.join('..', 'src')\n",
    "if modules_path not in sys.path: sys.path.insert(0, modules_path)\n",
    "from IPython import display\n",
    "\n",
    "from forgather.config import load_config, ConfigEnvironment\n",
    "from aiws.notebooks import training_loop, get_train_cmdline, make_train_script\n",
    "from aiws.config import base_preprocessor_globals\n",
    "import aiws.notebooks as nb\n",
    "\n",
    "# Defaults\n",
    "project_directory = \"compare_trainers\"\n",
    "config_template = \"project.yaml\"\n",
    "\n",
    "fc_project_directory = None\n",
    "fc_config_template = None"
   ]
  },
  {
   "cell_type": "markdown",
   "id": "dee536ce-0522-4276-acdc-fef561ba9ecf",
   "metadata": {},
   "source": [
    "### Load Project Meta-config"
   ]
  },
  {
   "cell_type": "code",
   "execution_count": null,
   "id": "bb20d21f-a42e-4f3e-a6fc-e8ae86c5865b",
   "metadata": {},
   "outputs": [],
   "source": [
    "# Optional: override default project directory with widget file selector\n",
    "from ipyfilechooser import FileChooser\n",
    "\n",
    "fc_project_directory = FileChooser(\n",
    "    show_only_dirs=True,\n",
    "    select_desc=\"Select project directory\",\n",
    ")\n",
    "display.display(fc_project_directory)"
   ]
  },
  {
   "cell_type": "code",
   "execution_count": null,
   "id": "c99af7e0-9315-4c91-a96e-159b3ffedc1f",
   "metadata": {},
   "outputs": [],
   "source": [
    "# Load project meta-configuration\n",
    "if fc_project_directory is not None:\n",
    "    project_directory = os.path.relpath(fc_project_directory.selected)\n",
    "meta_config_path = os.path.join(project_directory, 'meta_config.yaml')\n",
    "metacfg = load_config(meta_config_path, project_directory=project_directory)\n",
    "nb.display_meta_config(meta_config_path, metacfg, \"### Meta Config\\n\")"
   ]
  },
  {
   "cell_type": "markdown",
   "id": "fab944e8-a961-4f2a-9f49-0dd81d06efb2",
   "metadata": {},
   "source": [
    "### Load Project Configuration"
   ]
  },
  {
   "cell_type": "code",
   "execution_count": null,
   "id": "c884928a-edfe-4ef3-9069-ecdc1a95a467",
   "metadata": {},
   "outputs": [],
   "source": [
    "# Optional: override default configuration with widget file selector\n",
    "fc_config_template = FileChooser(\n",
    "    path=project_directory,\n",
    "    filter_pattern=[\"*.yaml\"],\n",
    "    sandbox_path=project_directory,\n",
    "    select_desc=\"Select a configuration to load\",\n",
    ")\n",
    "display.display(fc_config_template)"
   ]
  },
  {
   "cell_type": "code",
   "execution_count": null,
   "id": "5e81ec51-8831-468d-9103-cbb650556e6c",
   "metadata": {},
   "outputs": [],
   "source": [
    "# Optional: Load and display experiment information.\n",
    "if fc_project_directory is not None:\n",
    "    config_template_path = os.path.relpath(fc_config_template.selected)\n",
    "else:\n",
    "    config_template_path = os.path.join(metacfg.project_templates, config_template)\n",
    "\n",
    "cfg_environment = ConfigEnvironment(\n",
    "    searchpath=metacfg.search_paths,\n",
    "    # Add project directory to base globals\n",
    "    globals=base_preprocessor_globals() | dict(project_directory=project_directory)\n",
    ")\n",
    "loaded_config = cfg_environment.load(config_template_path).config\n",
    "print(f\"Project: {project_directory}\")\n",
    "print(f\"Configuration: {config_template_path}\")\n",
    "print(f\"Name: {loaded_config.experiment_name}\")\n",
    "print(f\"Description: {loaded_config.experiment_description}\")\n",
    "print(f\"Output Directory: {loaded_config.output_dir}\")\n",
    "print(f\"Logging Directory: {loaded_config.logging_dir}\")\n",
    "print(f\"Save Model: {loaded_config.do_save}\")"
   ]
  },
  {
   "cell_type": "markdown",
   "id": "2cd0353e-ff9e-4291-bfcf-8ef844ab34b8",
   "metadata": {},
   "source": [
    "### Train in Notebook\n",
    "This will train directly in the notebook using Accelerate's '[notebook_launcher](https://huggingface.co/docs/accelerate/basic_tutorials/notebook)'"
   ]
  },
  {
   "cell_type": "code",
   "execution_count": null,
   "id": "ff957464-78cc-48c0-a6e3-7a68cc9df5bb",
   "metadata": {},
   "outputs": [],
   "source": [
    "from accelerate import notebook_launcher\n",
    "\n",
    "notebook_launcher(\n",
    "    training_loop,\n",
    "    args=(project_directory, config_template_path,),\n",
    "    num_processes=1\n",
    ")"
   ]
  },
  {
   "cell_type": "markdown",
   "id": "7ba86cc3-734d-46b4-8813-d8494cbc41b1",
   "metadata": {},
   "source": [
    "### Generate Training Script\n",
    "\n",
    "```python\n",
    "def make_train_script(\n",
    "    project_directory,\n",
    "    config_template=None,\n",
    "    script_name='train.sh',\n",
    "    nproc='gpu',\n",
    "    cuda_devices=None\n",
    "):\n",
    "```\n",
    "Generate a bash training script from a project meta-config\n",
    "\n",
    "The generated script will be written to 'project_directory' and all paths will be\n",
    "relative to this location.\n",
    "\n",
    "- project_directory: The project directory. Assumes meta-config is 'meta_config.yaml'\n",
    "- script_name: The name of the output script. If none, the script can be specified on the command-line.\n",
    "- nproc: Number of processes; 'gpu' is number of available GPUs\n",
    "- cuda_devices: List of CUDA devices to limit training to.  \n",
    "\n",
    "i.e. If you wish to only CUDA 0 and 1, then \"0,1\"\n",
    "\n",
    "```\n",
    ".../my_project$ ./train.sh\n",
    "```"
   ]
  },
  {
   "cell_type": "code",
   "execution_count": null,
   "id": "fbec75bc-20e7-49d5-a7c2-8a3af0c8f4c1",
   "metadata": {},
   "outputs": [],
   "source": [
    "# Select name of generaed script.\n",
    "script_name = 'train.sh'\n",
    "\n",
    "make_train_script(\n",
    "    project_directory=project_directory,\n",
    "    config_template=config_template,\n",
    "    script_name=script_name,\n",
    "    cuda_devices=\"0\")\n",
    "\n",
    "# Read back to verify\n",
    "with open(os.path.join(project_directory, script_name), 'r') as f:\n",
    "    md = (\n",
    "        f\"#### Generated Shell Script\\n\"\n",
    "        f\"[train.sh](train.sh)\\n\"\n",
    "        f\"```bash\\n{f.read()}\\n```\"\n",
    "    )\n",
    "    display.display(display.Markdown(md))"
   ]
  },
  {
   "cell_type": "markdown",
   "id": "f94085b9-a00a-4bda-914c-9de37c7c92a4",
   "metadata": {},
   "source": [
    "### Run Script from Notebook\n",
    "Lauch the training script from the notebook.\n",
    "\n",
    "Note: The terminal emulation of the notebook is lacking, thus rendering of progress bars may be broken."
   ]
  },
  {
   "cell_type": "code",
   "execution_count": null,
   "id": "a66c0e8f-aa96-4547-8239-bb4404556b3f",
   "metadata": {},
   "outputs": [],
   "source": [
    "!{train_cmdline(metacfg, cuda_devices=\"0,1\")} '{experiment_path}'"
   ]
  },
  {
   "cell_type": "markdown",
   "id": "0855f14c-92d4-4adc-804a-f3ff17eedeb8",
   "metadata": {},
   "source": [
    "### View in Tensorboard\n",
    "Note: If the notebook is running on the same machine as the trainer, remove \"--bind_all\""
   ]
  },
  {
   "cell_type": "code",
   "execution_count": null,
   "id": "73ba51dd-1914-4f24-a785-ff31e56f07af",
   "metadata": {},
   "outputs": [],
   "source": [
    "!tensorboard --bind_all --logdir \"{loaded_config.output_dir}\""
   ]
  }
 ],
 "metadata": {
  "kernelspec": {
   "display_name": "Python 3 (ipykernel)",
   "language": "python",
   "name": "python3"
  },
  "language_info": {
   "codemirror_mode": {
    "name": "ipython",
    "version": 3
   },
   "file_extension": ".py",
   "mimetype": "text/x-python",
   "name": "python",
   "nbconvert_exporter": "python",
   "pygments_lexer": "ipython3",
   "version": "3.10.13"
  }
 },
 "nbformat": 4,
 "nbformat_minor": 5
}
