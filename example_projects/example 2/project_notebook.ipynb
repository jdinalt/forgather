{
 "cells": [
  {
   "cell_type": "markdown",
   "id": "2e422f35-7a08-4a50-a075-51a68b5c3994",
   "metadata": {},
   "source": [
    "# Project\n",
    "\n",
    "[forgather/config.py](../../forgather/config.py)  \n",
    "[forgather/latent.py](../../forgather/latent.py)  \n",
    "[forgather/dynamic.py](../../forgather/dynamic.py)  \n",
    "\n",
    "**Experiments Definitions**  \n",
    "[meta_config.yaml](meta_config.yaml)\n",
    "\n",
    "[templates/experiment.yaml](forgather_demo/experiment%201.yaml)  \n",
    "[templates/paths.yaml](templates/paths.yaml)  \n",
    "[templates/whitelist.yaml](templates/whitelist.yaml)  \n",
    "[templates/trainer_config.yaml](templates/trainer_config.yaml)    \n",
    "\n",
    "[templates/common/whitelist.yaml](../../templates/common/whitelist.yaml)  \n",
    "[templates/common/defaults.yaml](../../templates/common/defaults.yaml)  \n",
    "[templates/common/helpers.yaml](../../templates/common/helpers.yaml)  \n",
    "[templates/common/trainer/base_trainer.yaml](../../templates/common/trainer/base_trainer.yaml)  \n",
    "[templates/common/causal_lm/base_train.yaml](../../templates/common/causal_lm/base_train.yaml)  \n",
    "[model_zoo/models/vanilla_transformer/vanilla_transformer.yaml](../../model_zoo/models/vanilla_transformer/vanilla_transformer.yaml)  \n",
    "[model_zoo/models/model_zoo_whitelist.yaml](../../model_zoo/models/model_zoo_whitelist.yaml)  \n",
    "\n",
    "**Model Code**  \n",
    "\n",
    "[model_zoo/models/vanilla_transformer/vanilla_transformer.py](../../model_zoo/models/vanilla_transformer/vanilla_transformer.py)  \n",
    "\n"
   ]
  },
  {
   "cell_type": "markdown",
   "id": "a1c5a90f-6386-4b8e-89ce-ec19195f7dff",
   "metadata": {},
   "source": [
    "## Setup"
   ]
  },
  {
   "cell_type": "code",
   "execution_count": 1,
   "id": "26bffdcc-00ac-4adc-b3fd-974df44d09fd",
   "metadata": {},
   "outputs": [
    {
     "name": "stdout",
     "output_type": "stream",
     "text": [
      "Meta Config: meta_config.yaml\n",
      "Experiment: templates/experiment.yaml\n",
      "****************************************\n",
      "project_templates: 'templates'\n",
      "templates: '../../templates'\n",
      "tokenizer_dir: '../../tokenizers'\n",
      "datasets_dir: '../../datasets'\n",
      "assets_dir: '../..'\n",
      "search_paths:\n",
      "  - 'templates'\n",
      "  - '../../templates'\n",
      "  - '../../model_zoo'\n",
      "whitelist_path: 'templates/whitelist.yaml'\n",
      "model_src_dir: '../../model_zoo'\n",
      "script_dir: '../../scripts'\n",
      "train_script_path: '../../scripts/train_script.py'\n",
      "models_dir: 'output_models'\n",
      "dataset_id: 'roneneldan/TinyStories'\n",
      "tokenizer_def: '../../templates/common/tokenizers/tiny_2k_bpe.yaml'\n",
      "tokenizer_path: '../../tokenizers/tiny_stories_2k'\n",
      "tokenizers_whitelist: '../../templates/common/tokenizers/whitelist.yaml'\n"
     ]
    }
   ],
   "source": [
    "import sys, os\n",
    "modules_path = os.path.join('..', '..')\n",
    "if modules_path not in sys.path: sys.path.insert(0, modules_path)\n",
    "import shutil\n",
    "\n",
    "from pprint import pformat, pp\n",
    "from transformers import set_seed\n",
    "\n",
    "from forgather.config import (\n",
    "    preprocess_config,\n",
    "    load_config,\n",
    "    load_whitelist_as_set,\n",
    "    materialize_config,\n",
    "    enumerate_whitelist_exceptions,\n",
    "    pconfig,\n",
    ")\n",
    "from forgather import Latent\n",
    "from aiws.dotdict import DotDict\n",
    "\n",
    "# Path to your project meta-config\n",
    "meta_config_path = 'meta_config.yaml'\n",
    "\n",
    "# Path to an experiment config to run.\n",
    "experiment_path = os.path.join(\"templates\", 'experiment.yaml')\n",
    "\n",
    "print(f'Meta Config: {meta_config_path}')\n",
    "print(f'Experiment: {experiment_path}')\n",
    "print('*' * 40)\n",
    "metacfg = DotDict(load_config(meta_config_path).config)\n",
    "pconfig(metacfg)"
   ]
  },
  {
   "cell_type": "markdown",
   "id": "b0835a75-8ac2-4e9a-9937-d9c260cdc211",
   "metadata": {},
   "source": [
    "### Preprocess Configuration\n",
    "\n",
    "#### preprocess_config() : Preprocess a configuration file.\n",
    "\n",
    "```python\n",
    "def preprocess_config(\n",
    "    config:  os.PathLike | str, *,\n",
    "    search_path: str | List[str] = '.',\n",
    "    load_method: LoadMethod = DEFAULT_LOAD_METHOD,\n",
    "    **kwargs,\n",
    ") -> str:\n",
    "```\n",
    "\n",
    "Run the cell and click the link to open the preprocessed file in the notebook.  \n",
    "[preprocessed_config.yaml](preprocessed_config.yaml)"
   ]
  },
  {
   "cell_type": "code",
   "execution_count": 8,
   "id": "46bd1cab-66a4-4784-96ce-8514890291bb",
   "metadata": {},
   "outputs": [],
   "source": [
    "# Only preprocess the experiment template\n",
    "pp_config = preprocess_config(experiment_path, search_path=metacfg.search_paths)\n",
    "\n",
    "with open('preprocessed_config.yaml', 'w') as f:\n",
    "    f.write(pp_config.with_line_numbers(False))"
   ]
  },
  {
   "cell_type": "markdown",
   "id": "2f6f72ba-670d-46fb-87c3-f9ce5f2c58b4",
   "metadata": {},
   "source": [
    "#### Check Whitelist Requirements\n",
    "\n",
    "If you would like to see which import-specs are used in a configuraiton (or which are missing), you can use enumerate_whitelist_exceptions()."
   ]
  },
  {
   "cell_type": "code",
   "execution_count": 4,
   "id": "630c7929-da58-40db-b430-a8687e0a0541",
   "metadata": {},
   "outputs": [
    {
     "name": "stdout",
     "output_type": "stream",
     "text": [
      "- 'aiws.accel_trainer:AccelTrainer'\n",
      "- 'aiws.construct:register_for_auto_class'\n",
      "- 'transformers:DataCollatorForLanguageModeling'\n",
      "- 'torch.utils.tensorboard:SummaryWriter'\n",
      "- '/home/dinalt/ai_assets/aiworkshop/model_zoo/vanilla_transformer/vanilla_transformer.py:VanillaTransformerConfig'\n",
      "- 'aiws.default_callbacks:JsonLogger'\n",
      "- 'aiws.accel_trainer:AccelTrainingArguments'\n",
      "- 'accelerate:DataLoaderConfiguration'\n",
      "- 'aiws.tb_logger:TBLogger'\n",
      "- 'transformers:AutoTokenizer.from_pretrained'\n",
      "- 'forgather.construct:get_attr'\n",
      "- '/home/dinalt/ai_assets/aiworkshop/model_zoo/vanilla_transformer/vanilla_transformer.py:VanillaTransformer'\n",
      "- 'forgather.construct:get_item'\n",
      "- 'datasets:load_from_disk'\n"
     ]
    }
   ],
   "source": [
    "enumerate_whitelist_exceptions(load_config(experiment_path, search_path=metacfg.search_paths).config)"
   ]
  },
  {
   "cell_type": "markdown",
   "id": "a4848270-6d49-412f-a3a2-b72222461140",
   "metadata": {},
   "source": [
    "### Materialize the Configuration\n",
    "\n",
    "#### materialize_config() : Materialize the Latent objects in the configuration\n",
    "```python\n",
    "def materialize_config(\n",
    "    config: Any,\n",
    "    whitelist: Container | os.PathLike | str = None,\n",
    "    preprocess: bool = True,\n",
    "    search_path: str | List[str] = '.',\n",
    "    load_method: LoadMethod=DEFAULT_LOAD_METHOD,\n",
    "    pp_kwargs: Dict[str, Any] = {},\n",
    "    kwargs: Dict[str, Callable] = {},\n",
    ") -> MaterializedOutput:\n",
    "```\n",
    "- config: An instantiated, but Latent, configuration; a preprocessed configuration string; or a path to a configuraiton file.  \n",
    "- whitelist: A Container type, which means any object which supports 'str is in container'  \n",
    "- preprocess: Preprocess the string or file. Only applies if input is a path or string.  \n",
    "- load_method: One of \"from_file\", \"from_string\", \"from_file_search\"  \n",
    "- search_path: A str or List\\[str\\] paths to search for templates; also applies to \"from_file_search\" load method.  \n",
    "- pp_kwargs: Arguments to pass to the template, if preprocessing is to be performed.  \n",
    "- kwargs: A mapping str -> Callable to substitute when materializing the final config. This allows passing already instantiated objects into the config."
   ]
  },
  {
   "cell_type": "code",
   "execution_count": 9,
   "id": "4ce4a60c-ce9b-4738-9eb1-4deb39d559ee",
   "metadata": {},
   "outputs": [],
   "source": [
    "set_seed(42)\n",
    "\n",
    "config_output = materialize_config(experiment_path, search_path=metacfg.search_paths)\n",
    "config = DotDict(config_output.config)\n",
    "#pconfig(config)"
   ]
  },
  {
   "cell_type": "markdown",
   "id": "ec21d135-1575-4684-a639-ce1c38162063",
   "metadata": {},
   "source": [
    "### Run Trainer"
   ]
  },
  {
   "cell_type": "code",
   "execution_count": null,
   "id": "d9ccce36-feda-4ba1-8fb9-31a5b3d7871c",
   "metadata": {},
   "outputs": [],
   "source": [
    "set_seed(42)\n",
    "config.trainer.train()"
   ]
  },
  {
   "cell_type": "markdown",
   "id": "78a29692-aab9-44d6-b089-bf97e6f81d90",
   "metadata": {},
   "source": [
    "### Training Loop"
   ]
  },
  {
   "cell_type": "code",
   "execution_count": 4,
   "id": "2565208e-5df9-41f6-afc0-dd9d18d22d53",
   "metadata": {},
   "outputs": [],
   "source": [
    "# This is the entry-point for the spawned procceses.\n",
    "def training_loop(meta_config, experiment_name):\n",
    "    set_seed(42)\n",
    "    metacfg = DotDict(load_config(meta_config).config)\n",
    "    config_output = materialize_config(os.path.join(metacfg.project_templates, experiment_name),\n",
    "        metacfg.whitelist_path, search_path=metacfg.search_paths)\n",
    "    config = DotDict(config_output.config)\n",
    "    \n",
    "    # If you don't want all processes to print to the console...\n",
    "    if config.trainer.accelerator.is_main_process:\n",
    "        print(\"**** Training Started *****\")\n",
    "        print(f\"experiment_name: {config.experiment_name}\")\n",
    "        print(f\"experiment_description: {config.experiment_description}\")\n",
    "        print(f\"output_dir: {config.output_dir}\")\n",
    "        print(f\"logging_dir: {config.logging_dir}\")\n",
    "\n",
    "    # This is where the actual 'loop' is.\n",
    "    metrics = config.trainer.train().metrics\n",
    "    \n",
    "    if config.trainer.accelerator.is_main_process:\n",
    "        print(\"**** Training Completed *****\")\n",
    "        print(metrics)\n",
    "\n",
    "    metrics = config.trainer.evaluate()\n",
    "\n",
    "    if config.trainer.accelerator.is_main_process:\n",
    "        print(\"**** Evaluation Completed *****\")\n",
    "        print(metrics)\n",
    "    \n",
    "    if config.save:\n",
    "        config.trainer.save_model()\n",
    "        if config.trainer.accelerator.is_main_process:\n",
    "            print(f\"Model saved to: {config.trainer.args.output_dir}\")"
   ]
  },
  {
   "cell_type": "markdown",
   "id": "5709fd93-5a27-487a-8aeb-166b8cd2274e",
   "metadata": {},
   "source": [
    "#### Run Training Loop Directly"
   ]
  },
  {
   "cell_type": "code",
   "execution_count": 5,
   "id": "cdbf0acd-89c0-423c-bb6f-f2b98b6d82e4",
   "metadata": {},
   "outputs": [
    {
     "name": "stdout",
     "output_type": "stream",
     "text": [
      "**** Training Started *****\n",
      "experiment_name: Multi-GPU\n",
      "experiment_description: Try training on multiple GPUs\n",
      "output_dir: output_models/test_model\n",
      "logging_dir: output_models/test_model/runs/Multi-GPU_1720460385137788484\n"
     ]
    },
    {
     "data": {
      "application/vnd.jupyter.widget-view+json": {
       "model_id": "3c026c13259946a79ac22c1bc8bbb46f",
       "version_major": 2,
       "version_minor": 0
      },
      "text/plain": [
       "  0%|                                                                                                         …"
      ]
     },
     "metadata": {},
     "output_type": "display_data"
    },
    {
     "name": "stdout",
     "output_type": "stream",
     "text": [
      "total_examples: 2,119,712\n",
      "total_train_samples: 2,119,712\n",
      "per_device_train_batch_size: 32\n",
      "actual_per_device_batch_size: 32\n",
      "total_train_batch_size: 32\n",
      "max_steps: 2,000\n",
      "total_parameters: 0.9M\n",
      "trainable_parameters: 0.9M\n",
      "model:\n",
      "VanillaTransformer(\n",
      "  (embedding): Embedding(2000, 128)\n",
      "  (positional_encoder): PositionalEncoder()\n",
      "  (layers): ModuleList(\n",
      "    (0-1): 2 x TransformerLayer(\n",
      "      (attention): MultiheadAttention(\n",
      "        (query_linear): Linear(in_features=128, out_features=128, bias=True)\n",
      "        (key_linear): Linear(in_features=128, out_features=128, bias=True)\n",
      "        (value_linear): Linear(in_features=128, out_features=128, bias=True)\n",
      "      )\n",
      "      (feedforward): FeedforwardLayer(\n",
      "        (linear1): Linear(in_features=128, out_features=512, bias=True)\n",
      "        (activation): ReLU()\n",
      "        (linear2): Linear(in_features=512, out_features=128, bias=True)\n",
      "      )\n",
      "      (norm1): LayerNorm((128,), eps=1e-05, elementwise_affine=True)\n",
      "      (norm2): LayerNorm((128,), eps=1e-05, elementwise_affine=True)\n",
      "    )\n",
      "  )\n",
      "  (output_projection): Linear(in_features=128, out_features=2000, bias=True)\n",
      ")\n",
      "\n",
      "\n",
      "2024-07-08 17:39:47          100  0.0   train-loss: 5.35587   learning-rate: 1.00e-03\n",
      "2024-07-08 17:39:48          200  0.0   train-loss: 4.10965   learning-rate: 1.00e-03\n"
     ]
    },
    {
     "data": {
      "application/vnd.jupyter.widget-view+json": {
       "model_id": "5e8208cc0b5f41b98f53ba0b657987f0",
       "version_major": 2,
       "version_minor": 0
      },
      "text/plain": [
       "  0%|                                                                                                         …"
      ]
     },
     "metadata": {},
     "output_type": "display_data"
    },
    {
     "name": "stdout",
     "output_type": "stream",
     "text": [
      "2024-07-08 17:39:49          200  0.0   eval-loss:  3.90324   \n",
      "2024-07-08 17:39:50          300  0.0   train-loss: 3.74679   learning-rate: 1.00e-03\n",
      "2024-07-08 17:39:51          400  0.01  train-loss: 3.62816   learning-rate: 1.00e-03\n"
     ]
    },
    {
     "data": {
      "application/vnd.jupyter.widget-view+json": {
       "model_id": "dc8279a66b5241ccbfa5a364cd25778f",
       "version_major": 2,
       "version_minor": 0
      },
      "text/plain": [
       "  0%|                                                                                                         …"
      ]
     },
     "metadata": {},
     "output_type": "display_data"
    },
    {
     "name": "stdout",
     "output_type": "stream",
     "text": [
      "2024-07-08 17:39:52          400  0.01  eval-loss:  3.56554   \n",
      "2024-07-08 17:39:53          500  0.01  train-loss: 3.45819   learning-rate: 1.00e-03\n",
      "2024-07-08 17:39:55          600  0.01  train-loss: 3.38539   learning-rate: 1.00e-03\n"
     ]
    },
    {
     "data": {
      "application/vnd.jupyter.widget-view+json": {
       "model_id": "92d5a3d651164e49b72e1b1d192b977d",
       "version_major": 2,
       "version_minor": 0
      },
      "text/plain": [
       "  0%|                                                                                                         …"
      ]
     },
     "metadata": {},
     "output_type": "display_data"
    },
    {
     "name": "stdout",
     "output_type": "stream",
     "text": [
      "2024-07-08 17:39:55          600  0.01  eval-loss:  3.36802   \n",
      "2024-07-08 17:39:56          700  0.01  train-loss: 3.28423   learning-rate: 1.00e-03\n",
      "2024-07-08 17:39:58          800  0.01  train-loss: 3.28043   learning-rate: 1.00e-03\n"
     ]
    },
    {
     "data": {
      "application/vnd.jupyter.widget-view+json": {
       "model_id": "6707811be31b4a47b52072e3a5cb7ee2",
       "version_major": 2,
       "version_minor": 0
      },
      "text/plain": [
       "  0%|                                                                                                         …"
      ]
     },
     "metadata": {},
     "output_type": "display_data"
    },
    {
     "name": "stdout",
     "output_type": "stream",
     "text": [
      "2024-07-08 17:39:58          800  0.01  eval-loss:  3.22433   \n",
      "2024-07-08 17:39:59          900  0.01  train-loss: 3.16703   learning-rate: 1.00e-03\n",
      "2024-07-08 17:40:01        1,000  0.02  train-loss: 3.03671   learning-rate: 1.00e-03\n"
     ]
    },
    {
     "data": {
      "application/vnd.jupyter.widget-view+json": {
       "model_id": "201ec9141c5c49558360530993255093",
       "version_major": 2,
       "version_minor": 0
      },
      "text/plain": [
       "  0%|                                                                                                         …"
      ]
     },
     "metadata": {},
     "output_type": "display_data"
    },
    {
     "name": "stdout",
     "output_type": "stream",
     "text": [
      "2024-07-08 17:40:01        1,000  0.02  eval-loss:  3.10673   \n",
      "2024-07-08 17:40:03        1,100  0.02  train-loss: 3.06074   learning-rate: 1.00e-03\n",
      "2024-07-08 17:40:04        1,200  0.02  train-loss: 3.01994   learning-rate: 1.00e-03\n"
     ]
    },
    {
     "data": {
      "application/vnd.jupyter.widget-view+json": {
       "model_id": "a35c147a83e64624ab7ae59c2fa41f02",
       "version_major": 2,
       "version_minor": 0
      },
      "text/plain": [
       "  0%|                                                                                                         …"
      ]
     },
     "metadata": {},
     "output_type": "display_data"
    },
    {
     "name": "stdout",
     "output_type": "stream",
     "text": [
      "2024-07-08 17:40:04        1,200  0.02  eval-loss:  3.0159    \n",
      "2024-07-08 17:40:06        1,300  0.02  train-loss: 2.97168   learning-rate: 1.00e-03\n",
      "2024-07-08 17:40:07        1,400  0.02  train-loss: 2.93187   learning-rate: 1.00e-03\n"
     ]
    },
    {
     "data": {
      "application/vnd.jupyter.widget-view+json": {
       "model_id": "8f9ade3b56c9488399dd49fe4adf38ff",
       "version_major": 2,
       "version_minor": 0
      },
      "text/plain": [
       "  0%|                                                                                                         …"
      ]
     },
     "metadata": {},
     "output_type": "display_data"
    },
    {
     "name": "stdout",
     "output_type": "stream",
     "text": [
      "2024-07-08 17:40:07        1,400  0.02  eval-loss:  2.90429   \n",
      "2024-07-08 17:40:09        1,500  0.02  train-loss: 2.91681   learning-rate: 1.00e-03\n",
      "2024-07-08 17:40:10        1,600  0.02  train-loss: 2.86761   learning-rate: 1.00e-03\n"
     ]
    },
    {
     "data": {
      "application/vnd.jupyter.widget-view+json": {
       "model_id": "879dc84134cb4568b40fed167d749f52",
       "version_major": 2,
       "version_minor": 0
      },
      "text/plain": [
       "  0%|                                                                                                         …"
      ]
     },
     "metadata": {},
     "output_type": "display_data"
    },
    {
     "name": "stdout",
     "output_type": "stream",
     "text": [
      "2024-07-08 17:40:10        1,600  0.02  eval-loss:  2.82027   \n",
      "2024-07-08 17:40:12        1,700  0.03  train-loss: 2.82465   learning-rate: 1.00e-03\n",
      "2024-07-08 17:40:13        1,800  0.03  train-loss: 2.77523   learning-rate: 1.00e-03\n"
     ]
    },
    {
     "data": {
      "application/vnd.jupyter.widget-view+json": {
       "model_id": "5845f13c1c2c4b4397624bc7e6d045e2",
       "version_major": 2,
       "version_minor": 0
      },
      "text/plain": [
       "  0%|                                                                                                         …"
      ]
     },
     "metadata": {},
     "output_type": "display_data"
    },
    {
     "name": "stdout",
     "output_type": "stream",
     "text": [
      "2024-07-08 17:40:14        1,800  0.03  eval-loss:  2.78279   \n",
      "2024-07-08 17:40:15        1,900  0.03  train-loss: 2.75825   learning-rate: 1.00e-03\n",
      "2024-07-08 17:40:16        2,000  0.03  train-loss: 2.77675   learning-rate: 1.00e-03\n"
     ]
    },
    {
     "data": {
      "application/vnd.jupyter.widget-view+json": {
       "model_id": "293d491127f84868bed183a819ceea45",
       "version_major": 2,
       "version_minor": 0
      },
      "text/plain": [
       "  0%|                                                                                                         …"
      ]
     },
     "metadata": {},
     "output_type": "display_data"
    },
    {
     "name": "stdout",
     "output_type": "stream",
     "text": [
      "2024-07-08 17:40:17        2,000  0.03  eval-loss:  2.7029    \n",
      "train_runtime: 31.09\n",
      "train_samples: 64,000\n",
      "step: 2,000\n",
      "train_samples_per_second: 2.059e+03\n",
      "train_steps_per_second: 64.34\n",
      "train_loss: 3.235\n",
      "epoch: 0.03019\n",
      "\n",
      "**** Training Completed *****\n",
      "{'train_runtime': 31.086211919784546, 'train_samples': 64000, 'step': 2000, 'train_samples_per_second': 2058.791, 'train_steps_per_second': 64.337, 'train_loss': 3.2351248264312744, 'epoch': 0.030192780906085355}\n"
     ]
    },
    {
     "data": {
      "application/vnd.jupyter.widget-view+json": {
       "model_id": "a3f2f5958ba04965962c3daa83e51baa",
       "version_major": 2,
       "version_minor": 0
      },
      "text/plain": [
       "  0%|                                                                                                         …"
      ]
     },
     "metadata": {},
     "output_type": "display_data"
    },
    {
     "name": "stdout",
     "output_type": "stream",
     "text": [
      "2024-07-08 17:40:17        2,000  0.03  eval-loss:  2.7029    \n",
      "**** Evaluation Completed *****\n",
      "{'eval_loss': 2.7028963565826416}\n"
     ]
    }
   ],
   "source": [
    "training_loop(meta_config_path, experiment_path)"
   ]
  },
  {
   "cell_type": "markdown",
   "id": "28fa3351-96d7-4769-8b45-99d103e1b941",
   "metadata": {},
   "source": [
    "#### Launch with Notebook Launcher"
   ]
  },
  {
   "cell_type": "code",
   "execution_count": null,
   "id": "fd87183a-dbec-420e-ad2f-796384eb9c22",
   "metadata": {},
   "outputs": [],
   "source": [
    "notebook_launcher(\n",
    "    training_loop,\n",
    "    args=(meta_config_path, experiment_path,),\n",
    "    num_processes=2\n",
    ")"
   ]
  },
  {
   "cell_type": "markdown",
   "id": "1ece555d-aa15-4b5e-a80e-20cb9fa9db52",
   "metadata": {},
   "source": [
    "### Train from a Training Script"
   ]
  },
  {
   "cell_type": "code",
   "execution_count": 7,
   "id": "3a399e7a-6220-426f-affa-f9bfba4b9a5a",
   "metadata": {},
   "outputs": [
    {
     "name": "stdout",
     "output_type": "stream",
     "text": [
      "project_templates: 'templates'\n",
      "templates: '../../templates'\n",
      "tokenizer_dir: '../../tokenizers'\n",
      "datasets_dir: '../../datasets'\n",
      "assets_dir: '../..'\n",
      "search_paths:\n",
      "  - 'templates'\n",
      "  - '../../templates'\n",
      "  - '../../model_zoo'\n",
      "whitelist_path: 'templates/whitelist.yaml'\n",
      "model_src_dir: '../../model_zoo'\n",
      "script_dir: '../../scripts'\n",
      "train_script_path: '../../scripts/train_script.py'\n",
      "models_dir: 'output_models'\n",
      "dataset_id: 'roneneldan/TinyStories'\n",
      "tokenizer_def: '../../templates/common/tokenizers/tiny_2k_bpe.yaml'\n",
      "tokenizer_path: '../../tokenizers/tiny_stories_2k'\n",
      "tokenizers_whitelist: '../../templates/common/tokenizers/whitelist.yaml'\n"
     ]
    }
   ],
   "source": [
    "# Output train-script command line as a string\n",
    "def train_cmdline(metacfg, nproc='gpu'):\n",
    "    includes = ''.join(f\"-I '{inc}' \" for inc in metacfg.search_paths)\n",
    "    return f\"torchrun --standalone --nproc-per-node {nproc} '{metacfg.train_script_path}' -w '{metacfg.whitelist_path}' {includes} -s '{metacfg.assets_dir}'\"\n",
    "\n",
    "# Output train-script as command line as a bash-script\n",
    "# ./train.sh [<other-sli-args] <experiment-config-file>\n",
    "def make_bash_script(metacfg, script_path='train.sh', nproc='gpu'):\n",
    "    with open(script_path, 'w') as f:\n",
    "        f.write('#!/bin/bash\\n' + train_cmdline(metacfg) + ' \"${@}\"\\n')\n",
    "        os.chmod(f.fileno(), stat.S_IREAD|stat.S_IRUSR|stat.S_IWUSR|stat.S_IXUSR)"
   ]
  },
  {
   "cell_type": "markdown",
   "id": "b4ae89f3-11cb-45d9-b4ec-6ac2ae35a5be",
   "metadata": {},
   "source": [
    "#### Generate Bash Script\n",
    "\n",
    "This will output a shell-script which will invoke the training script with the arguments for this project.\n",
    "\n",
    "```bash\n",
    "# Optional: Restrict the GPUs to use to a sub-set of those avialable.\n",
    "export CUDA_VISIBLE_DEVICES=\"0,1\"\n",
    "\n",
    "./train path_to_experiment.yaml\n",
    "```"
   ]
  },
  {
   "cell_type": "code",
   "execution_count": 5,
   "id": "61e3cdc6-925d-4b28-ae59-778c011dcd5d",
   "metadata": {},
   "outputs": [
    {
     "name": "stdout",
     "output_type": "stream",
     "text": [
      "#!/bin/bash\n",
      "torchrun --standalone --nproc-per-node gpu '../scripts/train_script.py' -w 'forgather_demo/whitelist.yaml' -I 'forgather_demo' -I '../templates' -I '../model_zoo'  -s '..' \"${@}\"\n",
      "\n"
     ]
    }
   ],
   "source": [
    "make_bash_script(metacfg)\n",
    "\n",
    "# Read back to verify\n",
    "with open('train.sh', 'r') as f:\n",
    "    print(f.read())"
   ]
  },
  {
   "cell_type": "markdown",
   "id": "3a6a3131-a09e-46de-8f60-6699f758630c",
   "metadata": {},
   "source": [
    "#### Run Training Script from Notebook"
   ]
  },
  {
   "cell_type": "code",
   "execution_count": null,
   "id": "108a0cf4-1c93-47cf-8888-ffb806df684a",
   "metadata": {},
   "outputs": [],
   "source": [
    "# By default, this will run on all available GPUs. To restrict it to a sub-set, you can use this envrionment variable.\n",
    "os.environ['CUDA_VISIBLE_DEVICES'] = '0,1'\n",
    "\n",
    "!{train_cmdline(metacfg)} 'forgather_demo/hf_trainer_experiment.yaml'"
   ]
  },
  {
   "cell_type": "markdown",
   "id": "2a7e49f3-d22c-4130-934b-460c0cf2e080",
   "metadata": {},
   "source": [
    "### View in Tensorboard"
   ]
  },
  {
   "cell_type": "code",
   "execution_count": 11,
   "id": "fafbb8c8-8f81-4eb2-a574-cd7999ec77ce",
   "metadata": {},
   "outputs": [
    {
     "name": "stdout",
     "output_type": "stream",
     "text": [
      "TensorFlow installation not found - running with reduced feature set.\n",
      "\n",
      "NOTE: Using experimental fast data loading logic. To disable, pass\n",
      "    \"--load_fast=false\" and report issues on GitHub. More details:\n",
      "    https://github.com/tensorflow/tensorboard/issues/4784\n",
      "\n",
      "TensorBoard 2.16.2 at http://hal9000:6006/ (Press CTRL+C to quit)\n",
      "^C\n"
     ]
    }
   ],
   "source": [
    "!tensorboard --bind_all --logdir output_models/test_model/runs/"
   ]
  },
  {
   "cell_type": "markdown",
   "id": "14b3c45a-d962-4316-8146-afd0a1024614",
   "metadata": {},
   "source": [
    "### Cleanup\n",
    "\n",
    "Delete all of the output models produced by the demo and start over."
   ]
  },
  {
   "cell_type": "code",
   "execution_count": 25,
   "id": "073be4ea-bebc-4f64-8248-3818d8717863",
   "metadata": {},
   "outputs": [
    {
     "name": "stdout",
     "output_type": "stream",
     "text": [
      "Removing 'forgather_demo/output_models'\n"
     ]
    }
   ],
   "source": [
    "print(f\"Removing '{metacfg.models_dir}'\")\n",
    "shutil.rmtree(metacfg.models_dir, ignore_errors=True)"
   ]
  },
  {
   "cell_type": "code",
   "execution_count": null,
   "id": "66ed775b-a63b-4dd0-adbe-1c3d78de8898",
   "metadata": {},
   "outputs": [],
   "source": []
  }
 ],
 "metadata": {
  "kernelspec": {
   "display_name": "Python 3 (ipykernel)",
   "language": "python",
   "name": "python3"
  },
  "language_info": {
   "codemirror_mode": {
    "name": "ipython",
    "version": 3
   },
   "file_extension": ".py",
   "mimetype": "text/x-python",
   "name": "python",
   "nbconvert_exporter": "python",
   "pygments_lexer": "ipython3",
   "version": "3.10.13"
  }
 },
 "nbformat": 4,
 "nbformat_minor": 5
}
