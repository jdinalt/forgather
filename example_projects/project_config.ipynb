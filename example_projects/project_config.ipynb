{
 "cells": [
  {
   "cell_type": "markdown",
   "id": "2e422f35-7a08-4a50-a075-51a68b5c3994",
   "metadata": {},
   "source": [
    "# Configuration Notebook\n",
    "Useful for debugging configurations and viewing configuration details."
   ]
  },
  {
   "cell_type": "markdown",
   "id": "a1c5a90f-6386-4b8e-89ce-ec19195f7dff",
   "metadata": {},
   "source": [
    "## Setup"
   ]
  },
  {
   "cell_type": "code",
   "execution_count": null,
   "id": "26bffdcc-00ac-4adc-b3fd-974df44d09fd",
   "metadata": {},
   "outputs": [],
   "source": [
    "import sys, os\n",
    "# Adjust this to match the relative location of the notebook to the 'src' directory\n",
    "modules_path = os.path.join('..', 'src')\n",
    "if modules_path not in sys.path: sys.path.insert(0, modules_path)\n",
    "\n",
    "from pprint import pformat, pp\n",
    "from IPython import display\n",
    "\n",
    "from forgather.config import (\n",
    "    load_config,\n",
    "    ConfigEnvironment,\n",
    "    fconfig,\n",
    "    pconfig\n",
    ")\n",
    "\n",
    "from aiws.config import base_preprocessor_globals\n",
    "import aiws.notebooks as nb\n",
    "\n",
    "# Defaults\n",
    "project_directory = \"example\"\n",
    "config_template = \"example_experiment.yaml\"\n",
    "\n",
    "fc_project_directory = None\n",
    "fc_config_template = None"
   ]
  },
  {
   "cell_type": "markdown",
   "id": "b4681a4d-fc01-43f7-a28f-308d6f4869b8",
   "metadata": {},
   "source": [
    "## Project\n",
    "Set 'project_directory' to the path of the project directory."
   ]
  },
  {
   "cell_type": "code",
   "execution_count": null,
   "id": "4866cb4f-a90f-451a-aa7c-aba80a948699",
   "metadata": {},
   "outputs": [],
   "source": [
    "# Optional: override default with widget file selector\n",
    "from ipyfilechooser import FileChooser\n",
    "\n",
    "fc_project_directory = FileChooser(\n",
    "    show_only_dirs=True,\n",
    "    select_desc=\"Select project directory\",\n",
    ")\n",
    "display.display(fc_project_directory)"
   ]
  },
  {
   "cell_type": "code",
   "execution_count": null,
   "id": "54893f19-26c0-4566-aada-e3b6ddb08b89",
   "metadata": {},
   "outputs": [],
   "source": [
    "# Load project meta-configuration\n",
    "if fc_project_directory is not None:\n",
    "    project_directory = os.path.relpath(fc_project_directory.selected)\n",
    "meta_config_path = os.path.join(project_directory, 'meta_config.yaml')\n",
    "metacfg = load_config(meta_config_path, project_directory=project_directory)\n",
    "nb.show_project_readme(metacfg)\n",
    "nb.display_meta_config(meta_config_path, metacfg, \"### Meta Config\\n\")\n",
    "nb.list_templates(metacfg.experiment_dir, \"### Available Configurations\\n\")"
   ]
  },
  {
   "cell_type": "markdown",
   "id": "41db7eba-83e6-4c0d-86fb-4228d61b5a98",
   "metadata": {},
   "source": [
    "## Configuration\n",
    "Set 'config_template' to the name of a configuration template in the project."
   ]
  },
  {
   "cell_type": "code",
   "execution_count": null,
   "id": "1501dec5-0709-4131-b013-e8e7141885b7",
   "metadata": {},
   "outputs": [],
   "source": [
    "# Optional: override default with widget file selector\n",
    "from ipyfilechooser import FileChooser\n",
    "fc_config_template = FileChooser(\n",
    "    path=project_directory,\n",
    "    filter_pattern=[\"*.yaml\"],\n",
    "    sandbox_path=project_directory,\n",
    "    select_desc=\"Select a configuration to load\",\n",
    ")\n",
    "display.display(fc_config_template)"
   ]
  },
  {
   "cell_type": "code",
   "execution_count": null,
   "id": "d14e8c87-10f7-4f27-a007-4525621a1ceb",
   "metadata": {},
   "outputs": [],
   "source": [
    "# Load configuration\n",
    "if fc_config_template is not None:\n",
    "    config_template_path = os.path.relpath(fc_config_template.selected)\n",
    "else:\n",
    "    config_template_path = os.path.join(metacfg.experiment_dir, config_template)\n",
    "nb.display_filelink(config_template_path, \"### Configuration File\\n\")\n",
    "\n",
    "# Create configuration envrionment\n",
    "cfg_environment = ConfigEnvironment(\n",
    "    searchpath=metacfg.search_paths,\n",
    "    # Add project directory to base globals\n",
    "    globals=base_preprocessor_globals() | dict(project_directory=project_directory)\n",
    ")\n",
    "nb.display_preprocessed_template(cfg_environment, config_template_path, title=\"### Preprocessed Configuration\\n\")\n",
    "nb.display_referenced_templates_tree(cfg_environment, config_template_path, \"### Included Templates\\n\")\n",
    "\n",
    "# Load the configuration\n",
    "loaded_config = cfg_environment.load(config_template_path)\n",
    "nb.display_referenced_source_list(loaded_config.config, \"### Included Sources\\n\")\n",
    "display.display(display.Markdown(\"### Loaded Configuration\\n\"))\n",
    "pconfig(loaded_config.config)"
   ]
  },
  {
   "cell_type": "markdown",
   "id": "a4848270-6d49-412f-a3a2-b72222461140",
   "metadata": {},
   "source": [
    "## Materialized Configuration\n",
    "\n",
    "Instantiate the configuration from the definition."
   ]
  },
  {
   "cell_type": "code",
   "execution_count": null,
   "id": "4ce4a60c-ce9b-4738-9eb1-4deb39d559ee",
   "metadata": {},
   "outputs": [],
   "source": [
    "from aiws.training_loop import TrainingScriptConfig\n",
    "\n",
    "# Wrap the data in a TrainingScriptConfig\n",
    "config = TrainingScriptConfig(**loaded_config.config)\n",
    "\n",
    "# Materialize the trainer\n",
    "# This config format expects the pre-processed config to be injected, as this\n",
    "# can be used to log the configuration.\n",
    "config.trainer = config.trainer(pp_config=loaded_config.pp_config)\n",
    "pconfig(config)"
   ]
  },
  {
   "cell_type": "markdown",
   "id": "ec21d135-1575-4684-a639-ce1c38162063",
   "metadata": {},
   "source": [
    "### Test Configuration\n",
    "\n",
    "Run the trainer in the notebook.\n",
    "Note: Running directly from the notebook may have issues.\n",
    "\n",
    "For a more robust approach, see: [train.ipynb](train.ipynb)"
   ]
  },
  {
   "cell_type": "code",
   "execution_count": null,
   "id": "d9ccce36-feda-4ba1-8fb9-31a5b3d7871c",
   "metadata": {},
   "outputs": [],
   "source": [
    "config.trainer.train()"
   ]
  },
  {
   "cell_type": "markdown",
   "id": "98a8337a-08a2-411f-8173-4946347bcc4b",
   "metadata": {},
   "source": [
    "### Cleanup\n",
    "Note: These will show the target directory and ask for confirmation before proceeding."
   ]
  },
  {
   "cell_type": "markdown",
   "id": "0d8f81bf-d882-42fe-915c-f52336a4e774",
   "metadata": {},
   "source": [
    "#### Delete All\n",
    "This will delete all models and logs for the project."
   ]
  },
  {
   "cell_type": "code",
   "execution_count": null,
   "id": "96252b4b-1b5e-4538-85e3-c4616a7c32ee",
   "metadata": {},
   "outputs": [],
   "source": [
    "nb.delete_dir(metacfg.model_dir, \"Delete all models in project\")"
   ]
  },
  {
   "cell_type": "markdown",
   "id": "6ee7e0b2-b8c3-4d77-88d7-fe17f80541b4",
   "metadata": {},
   "source": [
    "#### Delete Configuration Output Directory\n",
    "This will delete the model and logs for the current configuration."
   ]
  },
  {
   "cell_type": "code",
   "execution_count": null,
   "id": "980be21d-b95d-4ef5-baf4-2378e5971a9c",
   "metadata": {},
   "outputs": [],
   "source": [
    "nb.delete_dir(config.output_dir, \"Delete output directory\")"
   ]
  }
 ],
 "metadata": {
  "kernelspec": {
   "display_name": "Python 3 (ipykernel)",
   "language": "python",
   "name": "python3"
  },
  "language_info": {
   "codemirror_mode": {
    "name": "ipython",
    "version": 3
   },
   "file_extension": ".py",
   "mimetype": "text/x-python",
   "name": "python",
   "nbconvert_exporter": "python",
   "pygments_lexer": "ipython3",
   "version": "3.10.13"
  }
 },
 "nbformat": 4,
 "nbformat_minor": 5
}
