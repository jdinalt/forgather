{
 "cells": [
  {
   "cell_type": "code",
   "execution_count": 2,
   "id": "28bc74ec-58e2-4c6f-93a5-5b2a8814cc91",
   "metadata": {},
   "outputs": [],
   "source": [
    "import sys, os\n",
    "modules_path = os.path.join('..', '..')\n",
    "if modules_path not in sys.path: sys.path.insert(0, modules_path)\n",
    "\n",
    "from pprint import pformat, pp\n",
    "\n",
    "from forgather.config import (\n",
    "    preprocess_config,\n",
    "    load_config,\n",
    "    load_whitelist_as_set,\n",
    "    materialize_config,\n",
    "    enumerate_whitelist_exceptions,\n",
    "    pconfig,\n",
    ")\n",
    "\n",
    "from forgather import Latent\n",
    "from aiws.dotdict import DotDict"
   ]
  },
  {
   "cell_type": "code",
   "execution_count": 77,
   "id": "9ec28e6c-10c4-481d-a9b7-adc240c7be5f",
   "metadata": {},
   "outputs": [],
   "source": [
    "from typing import Callable, List, Any\n",
    "import os\n",
    "\n",
    "def build_rule(\n",
    "    target: str | os.PathLike,\n",
    "    recipe: Callable,\n",
    "    prerequisites: List[str | os.PathLike],\n",
    "    loader: Callable,\n",
    ") -> Any:\n",
    "    print('build_rule')\n",
    "\n",
    "    assert isinstance(recipe, Callable)\n",
    "    assert isinstance(loader, Callable)\n",
    "    \n",
    "    if os.path.exists(target):\n",
    "        build_target = False\n",
    "        target_mtime = os.path.getmtime(target)\n",
    "        print(f\"t {target} mtime: {target_mtime}\")\n",
    "        for dependency in prerequisites:\n",
    "            dep_mtime = os.path.getmtime(dependency)\n",
    "            print(f\"d {dependency} mtime: {dep_mtime}\")\n",
    "            if target_mtime < dep_mtime:\n",
    "                build_target = True\n",
    "                break\n",
    "    else:\n",
    "        build_target = True\n",
    "        \n",
    "    if build_target:\n",
    "        output = recipe()\n",
    "        if output is not None:\n",
    "            return output\n",
    "    return loader()\n"
   ]
  },
  {
   "cell_type": "code",
   "execution_count": 71,
   "id": "01e5fd38-6f5f-4b12-b4b8-0c99b29cb7ee",
   "metadata": {},
   "outputs": [],
   "source": [
    "import jinja2\n",
    "from jinja2.sandbox import SandboxedEnvironment\n",
    "\n",
    "def loader(file_name):\n",
    "    print(\"load\")\n",
    "    with open(file_name, 'r') as f:\n",
    "        return f.read()\n",
    "\n",
    "def recipe(input_file, output_file):\n",
    "    print(\"build\")\n",
    "    environment = SandboxedEnvironment(\n",
    "        loader = jinja2.FileSystemLoader(searchpath='.'),\n",
    "        auto_reload=True,\n",
    "        undefined=jinja2.StrictUndefined,\n",
    "    )\n",
    "    \n",
    "    template = environment.get_template(input_file)\n",
    "    output = template.render()\n",
    "    with open(output_file, 'w') as f:\n",
    "        f.write(output)\n",
    "    #return output"
   ]
  },
  {
   "cell_type": "code",
   "execution_count": 78,
   "id": "5bcc4d58-e94b-4bba-aa8c-97b55d979d2b",
   "metadata": {},
   "outputs": [
    {
     "name": "stdout",
     "output_type": "stream",
     "text": [
      "build_rule\n",
      "t rendered.txt mtime: 1720631053.2752779\n",
      "d template.jinja mtime: 1720631050.1272845\n",
      "load\n"
     ]
    },
    {
     "data": {
      "text/plain": [
       "'Foobarff'"
      ]
     },
     "execution_count": 78,
     "metadata": {},
     "output_type": "execute_result"
    }
   ],
   "source": [
    "input_file = 'template.jinja'\n",
    "output_file = 'rendered.txt'\n",
    "\n",
    "latent_loader = Latent(loader, output_file, as_callable=True)\n",
    "latent_builder = Latent(recipe, input_file, output_file, as_callable=True)\n",
    "latent_builder = Latent(build_rule, target=output_file, recipe=latent_builder, loader=latent_loader, prerequisites=[input_file])\n",
    "\n",
    "latent_builder()"
   ]
  },
  {
   "cell_type": "code",
   "execution_count": 85,
   "id": "1e7b233d-346e-42f8-bb72-118c2b22a843",
   "metadata": {},
   "outputs": [
    {
     "name": "stdout",
     "output_type": "stream",
     "text": [
      "build_rule\n",
      "t rendered.txt mtime: 1720631053.2752779\n",
      "d template.jinja mtime: 1720631050.1272845\n",
      "load\n",
      "config: rendered: 'Foobarff'\n",
      "pp_config:\n",
      "       1: .define: &loader !callable:__main__:loader\n",
      "       2:         file_name: \"rendered.txt\"\n",
      "       3:         as_callable: True\n",
      "       4: \n",
      "       5: .define: &builder !callable:__main__:recipe\n",
      "       6:     input_file: \"template.jinja\"\n",
      "       7:     output_file: \"rendered.txt\"\n",
      "       8:     as_callable: True\n",
      "       9: \n",
      "      10: rendered: !callable:__main__:build_rule\n",
      "      11:     target: \"rendered.txt\"\n",
      "      12:     recipe: *builder\n",
      "      13:     loader: *loader\n",
      "      14:     prerequisites: [ \"template.jinja\" ]\n",
      "  \n",
      "pp_whitelist: None\n",
      "whitelist: None\n"
     ]
    }
   ],
   "source": [
    "config_src = \"\"\"\n",
    "-- set input_file = 'template.jinja'\n",
    "-- set output_file = 'rendered.txt'\n",
    "\n",
    ".define: &loader !callable:__main__:loader\n",
    "        file_name: \"{{ output_file }}\"\n",
    "        as_callable: True\n",
    "\n",
    ".define: &builder !callable:__main__:recipe\n",
    "    input_file: \"{{ input_file }}\"\n",
    "    output_file: \"{{ output_file }}\"\n",
    "    as_callable: True\n",
    "\n",
    "rendered: !callable:__main__:build_rule\n",
    "    target: \"{{ output_file }}\"\n",
    "    recipe: *builder\n",
    "    loader: *loader\n",
    "    prerequisites: [ \"{{ input_file }}\" ]\n",
    "\"\"\"\n",
    "\n",
    "config = materialize_config(config_src, load_method='from_string')\n",
    "pconfig(config)"
   ]
  },
  {
   "cell_type": "code",
   "execution_count": 88,
   "id": "645fd453-1f04-4483-8820-af2b756316ec",
   "metadata": {},
   "outputs": [
    {
     "data": {
      "text/plain": [
       "4"
      ]
     },
     "execution_count": 88,
     "metadata": {},
     "output_type": "execute_result"
    }
   ],
   "source": [
    "config_def = \"\"\"\n",
    "!callable:__main__:squared [2]\n",
    "\"\"\"\n",
    "\n",
    "def squared(x):\n",
    "    return x**2\n",
    "\n",
    "materialize_config(config_def, load_method='from_string').config"
   ]
  },
  {
   "cell_type": "code",
   "execution_count": null,
   "id": "d1c8bf5e-bc87-49c5-9b53-8ba8245b7afc",
   "metadata": {},
   "outputs": [],
   "source": []
  }
 ],
 "metadata": {
  "kernelspec": {
   "display_name": "Python 3 (ipykernel)",
   "language": "python",
   "name": "python3"
  },
  "language_info": {
   "codemirror_mode": {
    "name": "ipython",
    "version": 3
   },
   "file_extension": ".py",
   "mimetype": "text/x-python",
   "name": "python",
   "nbconvert_exporter": "python",
   "pygments_lexer": "ipython3",
   "version": "3.10.13"
  }
 },
 "nbformat": 4,
 "nbformat_minor": 5
}
